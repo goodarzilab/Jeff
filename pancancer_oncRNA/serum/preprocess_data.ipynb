{
 "cells": [
  {
   "cell_type": "markdown",
   "metadata": {},
   "source": [
    "# Preprocess Serum Data\n",
    "Here we preprocess the serum data. Here we will also explore two different methods: using fractions and without using fractions"
   ]
  },
  {
   "cell_type": "code",
   "execution_count": 1,
   "metadata": {},
   "outputs": [],
   "source": [
    "import pandas as pd\n",
    "import numpy as np\n",
    "import os\n",
    "import pysam\n",
    "import re\n",
    "import json as js\n",
    "from scipy import stats\n",
    "from joblib import  Parallel, delayed\n",
    "from multiprocessing import cpu_count\n",
    "import seaborn as sns\n",
    "import random\n",
    "import matplotlib.pyplot as plt\n",
    "import matplotlib\n",
    "matplotlib.rcParams['pdf.fonttype'] = 42\n",
    "matplotlib.rcParams['ps.fonttype'] = 42"
   ]
  },
  {
   "cell_type": "markdown",
   "metadata": {},
   "source": [
    "# PRAD Serum"
   ]
  },
  {
   "cell_type": "code",
   "execution_count": 2,
   "metadata": {},
   "outputs": [
    {
     "data": {
      "text/plain": [
       "72"
      ]
     },
     "execution_count": 2,
     "metadata": {},
     "output_type": "execute_result"
    }
   ],
   "source": [
    "cell_lines = [f for f in os.scandir(\"data/prad_serum/\") if f.name.endswith(\".srt.dd.bam\")]\n",
    "len(cell_lines)"
   ]
  },
  {
   "cell_type": "code",
   "execution_count": 5,
   "metadata": {},
   "outputs": [],
   "source": [
    "%%bash\n",
    "for f in data/prad_serum/*.srt.dd.bam;\n",
    "do \n",
    "base=$(basename $f)\n",
    "out=${base/.bam/.bed}\n",
    "echo \"$bedtools bamtobed -i $f > data/prad_serum/$out\"\n",
    "bedtools bamtobed -i $f > data/prad_serum/$out\n",
    "done &> log/prad_cell_lines_bamtobed.out"
   ]
  },
  {
   "cell_type": "code",
   "execution_count": 6,
   "metadata": {},
   "outputs": [],
   "source": [
    "for f in os.scandir(\"data/prad_serum\"):\n",
    "    if f.name.endswith(\".srt.dd.bed\"):\n",
    "        name = f.name.split(\".\")[0]\n",
    "        outfile = f\"data/prad_serum/{name}.filter.bed\"\n",
    "        with open(outfile, \"wt\") as out, open(f, \"rt\") as file:\n",
    "            for line in file:\n",
    "                if re.match(\"chr[\\d+,X,Y]\", line) and \"None\" not in line:\n",
    "                    out.write(line) "
   ]
  },
  {
   "cell_type": "markdown",
   "metadata": {},
   "source": [
    "## Test Frac vs no Frac\n",
    "Here we test the difference in using fractions to assign oncRNA calls, as opposed to our previous method of just using most number of overlaps. This may help improve suprious calls (primarily RNAs that only had 1~5 bp overlap with our oncRNA locus annotations."
   ]
  },
  {
   "cell_type": "markdown",
   "metadata": {},
   "source": [
    "## No Fraction Version\n",
    "This would just be straight up any intersects."
   ]
  },
  {
   "cell_type": "code",
   "execution_count": 17,
   "metadata": {
    "collapsed": true,
    "jupyter": {
     "outputs_hidden": true
    }
   },
   "outputs": [
    {
     "name": "stdout",
     "output_type": "stream",
     "text": [
      "intersectBed -s -wo -a data/prad_serum/12557-06-T1_S14.filter.bed  -b data/pancancer_filter_oncRNAs.bed > no_frac/prad_serum/12557-06-T1_S14.oncRNA.bed\n",
      "intersectBed -s -wo -a data/prad_serum/12557-06-T4_S15.filter.bed  -b data/pancancer_filter_oncRNAs.bed > no_frac/prad_serum/12557-06-T4_S15.oncRNA.bed\n",
      "intersectBed -s -wo -a data/prad_serum/12557-11-T1_S16.filter.bed  -b data/pancancer_filter_oncRNAs.bed > no_frac/prad_serum/12557-11-T1_S16.oncRNA.bed\n",
      "intersectBed -s -wo -a data/prad_serum/12557-11-T4_S17.filter.bed  -b data/pancancer_filter_oncRNAs.bed > no_frac/prad_serum/12557-11-T4_S17.oncRNA.bed\n",
      "intersectBed -s -wo -a data/prad_serum/12557-13-T1_S18.filter.bed  -b data/pancancer_filter_oncRNAs.bed > no_frac/prad_serum/12557-13-T1_S18.oncRNA.bed\n",
      "intersectBed -s -wo -a data/prad_serum/12557-13-T4_S19.filter.bed  -b data/pancancer_filter_oncRNAs.bed > no_frac/prad_serum/12557-13-T4_S19.oncRNA.bed\n",
      "intersectBed -s -wo -a data/prad_serum/12557-17-T1_S20.filter.bed  -b data/pancancer_filter_oncRNAs.bed > no_frac/prad_serum/12557-17-T1_S20.oncRNA.bed\n",
      "intersectBed -s -wo -a data/prad_serum/12557-17-T4_S21.filter.bed  -b data/pancancer_filter_oncRNAs.bed > no_frac/prad_serum/12557-17-T4_S21.oncRNA.bed\n",
      "intersectBed -s -wo -a data/prad_serum/12557-19-T1_S22.filter.bed  -b data/pancancer_filter_oncRNAs.bed > no_frac/prad_serum/12557-19-T1_S22.oncRNA.bed\n",
      "intersectBed -s -wo -a data/prad_serum/12557-19-T4_S23.filter.bed  -b data/pancancer_filter_oncRNAs.bed > no_frac/prad_serum/12557-19-T4_S23.oncRNA.bed\n",
      "intersectBed -s -wo -a data/prad_serum/12557-21-T1_S24.filter.bed  -b data/pancancer_filter_oncRNAs.bed > no_frac/prad_serum/12557-21-T1_S24.oncRNA.bed\n",
      "intersectBed -s -wo -a data/prad_serum/12557-21-T4_S25.filter.bed  -b data/pancancer_filter_oncRNAs.bed > no_frac/prad_serum/12557-21-T4_S25.oncRNA.bed\n",
      "intersectBed -s -wo -a data/prad_serum/12557-23-T1_S26.filter.bed  -b data/pancancer_filter_oncRNAs.bed > no_frac/prad_serum/12557-23-T1_S26.oncRNA.bed\n",
      "intersectBed -s -wo -a data/prad_serum/12557-24-T1_S27.filter.bed  -b data/pancancer_filter_oncRNAs.bed > no_frac/prad_serum/12557-24-T1_S27.oncRNA.bed\n",
      "intersectBed -s -wo -a data/prad_serum/12557-24-T4_S28.filter.bed  -b data/pancancer_filter_oncRNAs.bed > no_frac/prad_serum/12557-24-T4_S28.oncRNA.bed\n",
      "intersectBed -s -wo -a data/prad_serum/12557-25-T1_S29.filter.bed  -b data/pancancer_filter_oncRNAs.bed > no_frac/prad_serum/12557-25-T1_S29.oncRNA.bed\n",
      "intersectBed -s -wo -a data/prad_serum/12557-25-T4_S30.filter.bed  -b data/pancancer_filter_oncRNAs.bed > no_frac/prad_serum/12557-25-T4_S30.oncRNA.bed\n",
      "intersectBed -s -wo -a data/prad_serum/12557-27-T1_S31.filter.bed  -b data/pancancer_filter_oncRNAs.bed > no_frac/prad_serum/12557-27-T1_S31.oncRNA.bed\n",
      "intersectBed -s -wo -a data/prad_serum/12557-27-T4_S32.filter.bed  -b data/pancancer_filter_oncRNAs.bed > no_frac/prad_serum/12557-27-T4_S32.oncRNA.bed\n",
      "intersectBed -s -wo -a data/prad_serum/12557-28-T1_S33.filter.bed  -b data/pancancer_filter_oncRNAs.bed > no_frac/prad_serum/12557-28-T1_S33.oncRNA.bed\n",
      "intersectBed -s -wo -a data/prad_serum/12557-28-T4_S34.filter.bed  -b data/pancancer_filter_oncRNAs.bed > no_frac/prad_serum/12557-28-T4_S34.oncRNA.bed\n",
      "intersectBed -s -wo -a data/prad_serum/12557-29-T1_S35.filter.bed  -b data/pancancer_filter_oncRNAs.bed > no_frac/prad_serum/12557-29-T1_S35.oncRNA.bed\n",
      "intersectBed -s -wo -a data/prad_serum/12557-29-T4_S36.filter.bed  -b data/pancancer_filter_oncRNAs.bed > no_frac/prad_serum/12557-29-T4_S36.oncRNA.bed\n",
      "intersectBed -s -wo -a data/prad_serum/12557-30-T1_S37.filter.bed  -b data/pancancer_filter_oncRNAs.bed > no_frac/prad_serum/12557-30-T1_S37.oncRNA.bed\n",
      "intersectBed -s -wo -a data/prad_serum/12557-30-T4_S38.filter.bed  -b data/pancancer_filter_oncRNAs.bed > no_frac/prad_serum/12557-30-T4_S38.oncRNA.bed\n",
      "intersectBed -s -wo -a data/prad_serum/12557-31-T1_S39.filter.bed  -b data/pancancer_filter_oncRNAs.bed > no_frac/prad_serum/12557-31-T1_S39.oncRNA.bed\n",
      "intersectBed -s -wo -a data/prad_serum/12557-31-T4_S40.filter.bed  -b data/pancancer_filter_oncRNAs.bed > no_frac/prad_serum/12557-31-T4_S40.oncRNA.bed\n",
      "intersectBed -s -wo -a data/prad_serum/12557-32-T1_S41.filter.bed  -b data/pancancer_filter_oncRNAs.bed > no_frac/prad_serum/12557-32-T1_S41.oncRNA.bed\n",
      "intersectBed -s -wo -a data/prad_serum/12557-32-T4_S42.filter.bed  -b data/pancancer_filter_oncRNAs.bed > no_frac/prad_serum/12557-32-T4_S42.oncRNA.bed\n",
      "intersectBed -s -wo -a data/prad_serum/12557-34-T1_S43.filter.bed  -b data/pancancer_filter_oncRNAs.bed > no_frac/prad_serum/12557-34-T1_S43.oncRNA.bed\n",
      "intersectBed -s -wo -a data/prad_serum/12557-34-T4_S44.filter.bed  -b data/pancancer_filter_oncRNAs.bed > no_frac/prad_serum/12557-34-T4_S44.oncRNA.bed\n",
      "intersectBed -s -wo -a data/prad_serum/12557-35-T1_S45.filter.bed  -b data/pancancer_filter_oncRNAs.bed > no_frac/prad_serum/12557-35-T1_S45.oncRNA.bed\n",
      "intersectBed -s -wo -a data/prad_serum/12557-35-T4_S46.filter.bed  -b data/pancancer_filter_oncRNAs.bed > no_frac/prad_serum/12557-35-T4_S46.oncRNA.bed\n",
      "intersectBed -s -wo -a data/prad_serum/12557-36-T1_S47.filter.bed  -b data/pancancer_filter_oncRNAs.bed > no_frac/prad_serum/12557-36-T1_S47.oncRNA.bed\n",
      "intersectBed -s -wo -a data/prad_serum/12557-36-T4_S48.filter.bed  -b data/pancancer_filter_oncRNAs.bed > no_frac/prad_serum/12557-36-T4_S48.oncRNA.bed\n",
      "intersectBed -s -wo -a data/prad_serum/12557-37-T1_S49.filter.bed  -b data/pancancer_filter_oncRNAs.bed > no_frac/prad_serum/12557-37-T1_S49.oncRNA.bed\n",
      "intersectBed -s -wo -a data/prad_serum/12557-37-T4_S50.filter.bed  -b data/pancancer_filter_oncRNAs.bed > no_frac/prad_serum/12557-37-T4_S50.oncRNA.bed\n",
      "intersectBed -s -wo -a data/prad_serum/12557-39-T1_S51.filter.bed  -b data/pancancer_filter_oncRNAs.bed > no_frac/prad_serum/12557-39-T1_S51.oncRNA.bed\n",
      "intersectBed -s -wo -a data/prad_serum/12557-39-T4_S52.filter.bed  -b data/pancancer_filter_oncRNAs.bed > no_frac/prad_serum/12557-39-T4_S52.oncRNA.bed\n",
      "intersectBed -s -wo -a data/prad_serum/12557-42-T1_S53.filter.bed  -b data/pancancer_filter_oncRNAs.bed > no_frac/prad_serum/12557-42-T1_S53.oncRNA.bed\n",
      "intersectBed -s -wo -a data/prad_serum/12557-42-T4_S54.filter.bed  -b data/pancancer_filter_oncRNAs.bed > no_frac/prad_serum/12557-42-T4_S54.oncRNA.bed\n",
      "intersectBed -s -wo -a data/prad_serum/12557-43-T1_S55.filter.bed  -b data/pancancer_filter_oncRNAs.bed > no_frac/prad_serum/12557-43-T1_S55.oncRNA.bed\n",
      "intersectBed -s -wo -a data/prad_serum/12557-43-T4_S56.filter.bed  -b data/pancancer_filter_oncRNAs.bed > no_frac/prad_serum/12557-43-T4_S56.oncRNA.bed\n",
      "intersectBed -s -wo -a data/prad_serum/12557-44-T1_S57.filter.bed  -b data/pancancer_filter_oncRNAs.bed > no_frac/prad_serum/12557-44-T1_S57.oncRNA.bed\n",
      "intersectBed -s -wo -a data/prad_serum/12557-44-T4_S58.filter.bed  -b data/pancancer_filter_oncRNAs.bed > no_frac/prad_serum/12557-44-T4_S58.oncRNA.bed\n",
      "intersectBed -s -wo -a data/prad_serum/12557-46-T1_S59.filter.bed  -b data/pancancer_filter_oncRNAs.bed > no_frac/prad_serum/12557-46-T1_S59.oncRNA.bed\n",
      "intersectBed -s -wo -a data/prad_serum/12557-46-T4_S60.filter.bed  -b data/pancancer_filter_oncRNAs.bed > no_frac/prad_serum/12557-46-T4_S60.oncRNA.bed\n",
      "intersectBed -s -wo -a data/prad_serum/12557-48-T1_S61.filter.bed  -b data/pancancer_filter_oncRNAs.bed > no_frac/prad_serum/12557-48-T1_S61.oncRNA.bed\n",
      "intersectBed -s -wo -a data/prad_serum/12557-48-T4_S62.filter.bed  -b data/pancancer_filter_oncRNAs.bed > no_frac/prad_serum/12557-48-T4_S62.oncRNA.bed\n",
      "intersectBed -s -wo -a data/prad_serum/12557-49-T1_S63.filter.bed  -b data/pancancer_filter_oncRNAs.bed > no_frac/prad_serum/12557-49-T1_S63.oncRNA.bed\n",
      "intersectBed -s -wo -a data/prad_serum/12557-49-T4_S64.filter.bed  -b data/pancancer_filter_oncRNAs.bed > no_frac/prad_serum/12557-49-T4_S64.oncRNA.bed\n",
      "intersectBed -s -wo -a data/prad_serum/12557-50-T1_S65.filter.bed  -b data/pancancer_filter_oncRNAs.bed > no_frac/prad_serum/12557-50-T1_S65.oncRNA.bed\n",
      "intersectBed -s -wo -a data/prad_serum/12557-50-T4_S66.filter.bed  -b data/pancancer_filter_oncRNAs.bed > no_frac/prad_serum/12557-50-T4_S66.oncRNA.bed\n",
      "intersectBed -s -wo -a data/prad_serum/12557-51-T1_S67.filter.bed  -b data/pancancer_filter_oncRNAs.bed > no_frac/prad_serum/12557-51-T1_S67.oncRNA.bed\n",
      "intersectBed -s -wo -a data/prad_serum/12557-51-T4_S68.filter.bed  -b data/pancancer_filter_oncRNAs.bed > no_frac/prad_serum/12557-51-T4_S68.oncRNA.bed\n",
      "intersectBed -s -wo -a data/prad_serum/12557-55-T1_S71.filter.bed  -b data/pancancer_filter_oncRNAs.bed > no_frac/prad_serum/12557-55-T1_S71.oncRNA.bed\n",
      "intersectBed -s -wo -a data/prad_serum/12557-57-T1_S72.filter.bed  -b data/pancancer_filter_oncRNAs.bed > no_frac/prad_serum/12557-57-T1_S72.oncRNA.bed\n",
      "intersectBed -s -wo -a data/prad_serum/12557-57-T4_S73.filter.bed  -b data/pancancer_filter_oncRNAs.bed > no_frac/prad_serum/12557-57-T4_S73.oncRNA.bed\n",
      "intersectBed -s -wo -a data/prad_serum/12557-59-T1_S74.filter.bed  -b data/pancancer_filter_oncRNAs.bed > no_frac/prad_serum/12557-59-T1_S74.oncRNA.bed\n",
      "intersectBed -s -wo -a data/prad_serum/12557-59-T4_S75.filter.bed  -b data/pancancer_filter_oncRNAs.bed > no_frac/prad_serum/12557-59-T4_S75.oncRNA.bed\n",
      "intersectBed -s -wo -a data/prad_serum/12557-60-T1_S76.filter.bed  -b data/pancancer_filter_oncRNAs.bed > no_frac/prad_serum/12557-60-T1_S76.oncRNA.bed\n",
      "intersectBed -s -wo -a data/prad_serum/12557-60-T4_S77.filter.bed  -b data/pancancer_filter_oncRNAs.bed > no_frac/prad_serum/12557-60-T4_S77.oncRNA.bed\n",
      "intersectBed -s -wo -a data/prad_serum/12557-62-T1_S78.filter.bed  -b data/pancancer_filter_oncRNAs.bed > no_frac/prad_serum/12557-62-T1_S78.oncRNA.bed\n",
      "intersectBed -s -wo -a data/prad_serum/12557-62-T4_S79.filter.bed  -b data/pancancer_filter_oncRNAs.bed > no_frac/prad_serum/12557-62-T4_S79.oncRNA.bed\n",
      "intersectBed -s -wo -a data/prad_serum/12557-63-T1_S80.filter.bed  -b data/pancancer_filter_oncRNAs.bed > no_frac/prad_serum/12557-63-T1_S80.oncRNA.bed\n",
      "intersectBed -s -wo -a data/prad_serum/12557-63-T4_S81.filter.bed  -b data/pancancer_filter_oncRNAs.bed > no_frac/prad_serum/12557-63-T4_S81.oncRNA.bed\n",
      "intersectBed -s -wo -a data/prad_serum/12557-65-T1_S82.filter.bed  -b data/pancancer_filter_oncRNAs.bed > no_frac/prad_serum/12557-65-T1_S82.oncRNA.bed\n",
      "intersectBed -s -wo -a data/prad_serum/12557-65-T4_S83.filter.bed  -b data/pancancer_filter_oncRNAs.bed > no_frac/prad_serum/12557-65-T4_S83.oncRNA.bed\n",
      "intersectBed -s -wo -a data/prad_serum/12557-66-T1_S84.filter.bed  -b data/pancancer_filter_oncRNAs.bed > no_frac/prad_serum/12557-66-T1_S84.oncRNA.bed\n",
      "intersectBed -s -wo -a data/prad_serum/12557-66-T4_S85.filter.bed  -b data/pancancer_filter_oncRNAs.bed > no_frac/prad_serum/12557-66-T4_S85.oncRNA.bed\n",
      "intersectBed -s -wo -a data/prad_serum/12558-53-T1_S69.filter.bed  -b data/pancancer_filter_oncRNAs.bed > no_frac/prad_serum/12558-53-T1_S69.oncRNA.bed\n",
      "intersectBed -s -wo -a data/prad_serum/12558-53-T4_S70.filter.bed  -b data/pancancer_filter_oncRNAs.bed > no_frac/prad_serum/12558-53-T4_S70.oncRNA.bed\n"
     ]
    }
   ],
   "source": [
    "%%bash\n",
    "for f in data/prad_serum/*.filter.bed; do\n",
    "out=$(basename $f)\n",
    "out=${out/.filter.bed/.oncRNA.bed}\n",
    "echo \"intersectBed -s -wo -a $f  -b data/pancancer_filter_oncRNAs.bed > no_frac/prad_serum/$out\"\n",
    "intersectBed -s -wo -a $f  -b data/pancancer_filter_oncRNAs.bed > no_frac/prad_serum/$out\n",
    "done"
   ]
  },
  {
   "cell_type": "markdown",
   "metadata": {},
   "source": [
    "## Fraction Version\n"
   ]
  },
  {
   "cell_type": "code",
   "execution_count": 18,
   "metadata": {},
   "outputs": [],
   "source": [
    "%%bash\n",
    "for f in data/prad_serum/*.filter.bed; do\n",
    "out=$(basename $f)\n",
    "out=${out/.filter.bed/.oncRNA.bed}\n",
    "echo \"intersectBed -s -wo -f 0.9 -a $f  -b data/pancancer_filter_oncRNAs.bed > frac/prad_serum/$out\"\n",
    "intersectBed -s -wo -f 0.9 -a $f  -b data/pancancer_filter_oncRNAs.bed > frac/prad_serum/$out\n",
    "done &> log/frac_prad_intersect.out"
   ]
  },
  {
   "cell_type": "markdown",
   "metadata": {},
   "source": [
    "The `-f` option would be akin to the ratio heurstic used in COMPRSA paper to assign reads to smRNA annotations. https://www.nature.com/articles/s41598-020-61495-0"
   ]
  },
  {
   "cell_type": "markdown",
   "metadata": {},
   "source": [
    "# PDAC Serum"
   ]
  },
  {
   "cell_type": "code",
   "execution_count": 19,
   "metadata": {},
   "outputs": [
    {
     "data": {
      "text/plain": [
       "9"
      ]
     },
     "execution_count": 19,
     "metadata": {},
     "output_type": "execute_result"
    }
   ],
   "source": [
    "cell_lines = [f for f in os.scandir(\"data/pdac_serum/\") if f.name.endswith(\".srt.dd.bed\")]\n",
    "len(cell_lines)"
   ]
  },
  {
   "cell_type": "code",
   "execution_count": 20,
   "metadata": {},
   "outputs": [],
   "source": [
    "for f in os.scandir(\"data/pdac_serum\"):\n",
    "    if f.name.endswith(\".srt.dd.bed\"):\n",
    "        name = f.name.split(\".\")[0]\n",
    "        outfile = f\"data/pdac_serum/{name}.filter.bed\"\n",
    "        with open(outfile, \"wt\") as out, open(f, \"rt\") as file:\n",
    "            for line in file:\n",
    "                if re.match(\"chr[\\d+,X,Y]\", line) and \"None\" not in line:\n",
    "                    out.write(line) "
   ]
  },
  {
   "cell_type": "code",
   "execution_count": 23,
   "metadata": {},
   "outputs": [],
   "source": [
    "%%bash\n",
    "#No frac version\n",
    "for f in data/pdac_serum/*.filter.bed; do\n",
    "out=$(basename $f)\n",
    "out=${out/.filter.bed/.oncRNA.bed}\n",
    "echo \"intersectBed -s -wo -a $f -b data/pancancer_filter_oncRNAs.bed > no_frac/pdac_serum/$out\"\n",
    "intersectBed -s -wo -a $f -b data/pancancer_filter_oncRNAs.bed > no_frac/pdac_serum/$out\n",
    "done &> log/no_frac_pdac_intersect.out"
   ]
  },
  {
   "cell_type": "code",
   "execution_count": 24,
   "metadata": {},
   "outputs": [],
   "source": [
    "%%bash\n",
    "#Frac version\n",
    "for f in data/pdac_serum/*.filter.bed; do\n",
    "out=$(basename $f)\n",
    "out=${out/.filter.bed/.oncRNA.bed}\n",
    "echo \"intersectBed -s -wo -f 0.9 -a $f -b data/pancancer_filter_oncRNAs.bed > frac/pdac_serum/$out\"\n",
    "intersectBed -s -wo -f 0.9 -a $f -b data/pancancer_filter_oncRNAs.bed > frac/pdac_serum/$out\n",
    "done &> log/frac_pdac_intersect.out"
   ]
  },
  {
   "cell_type": "markdown",
   "metadata": {},
   "source": [
    "# BRCA"
   ]
  },
  {
   "cell_type": "code",
   "execution_count": 31,
   "metadata": {},
   "outputs": [],
   "source": [
    "%%bash\n",
    "#No frac version\n",
    "for f in /rumi/shams/jwang/ISPY/data/bedfiles/*.filter.bed; do\n",
    "out=$(basename $f)\n",
    "out=${out/.filter.bed/.oncRNA.bed}\n",
    "echo \"intersectBed -s -wo -a $f -b data/pancancer_filter_oncRNAs.bed > no_frac/brca_serum/$out\"\n",
    "intersectBed -s -wo -a $f -b data/pancancer_filter_oncRNAs.bed > no_frac/brca_serum/$out\n",
    "done &> log/no_frac_brca_intersect.out"
   ]
  },
  {
   "cell_type": "code",
   "execution_count": 32,
   "metadata": {},
   "outputs": [],
   "source": [
    "%%bash\n",
    "#Frac version\n",
    "for f in /rumi/shams/jwang/ISPY/data/bedfiles/*.filter.bed; do\n",
    "out=$(basename $f)\n",
    "out=${out/.filter.bed/.oncRNA.bed}\n",
    "echo \"intersectBed -s -wo -f 0.9 -a $f -b data/pancancer_filter_oncRNAs.bed > frac/brca_serum/$out\"\n",
    "intersectBed -s -wo -f 0.9 -a $f -b data/pancancer_filter_oncRNAs.bed > frac/brca_serum/$out\n",
    "done &> log/frac_brca_intersect.out"
   ]
  },
  {
   "cell_type": "markdown",
   "metadata": {},
   "source": [
    "# Create Count Matrix"
   ]
  },
  {
   "cell_type": "code",
   "execution_count": 56,
   "metadata": {},
   "outputs": [
    {
     "data": {
      "text/plain": [
       "3"
      ]
     },
     "execution_count": 56,
     "metadata": {},
     "output_type": "execute_result"
    }
   ],
   "source": [
    "frac_directories = [d for d in os.scandir(\"frac\") if d.name.endswith(\"serum\")]\n",
    "len(frac_directories)"
   ]
  },
  {
   "cell_type": "code",
   "execution_count": 57,
   "metadata": {},
   "outputs": [],
   "source": [
    "frac_sample_loci = {}\n",
    "frac_empty = []\n",
    "for cancer in frac_directories:\n",
    "    cell_lines = [f for f in os.scandir(cancer) if f.name.endswith(\".oncRNA.bed\")]\n",
    "    for f in cell_lines:\n",
    "        sample = f.name.split(\".\")[0]\n",
    "        if \"CRC\" in sample or \"H\" in sample:\n",
    "            continue\n",
    "        elif \"T\" in sample:\n",
    "            splits = sample.split(\"_\")\n",
    "            sample = f\"PRAD_{splits[0]}\"\n",
    "        elif \"PNC\" in sample:\n",
    "            splits = sample.split(\"_\")\n",
    "            sample = splits[0]\n",
    "        else:\n",
    "            sample = f\"ISPY_{sample}\"\n",
    "            \n",
    "        if os.path.getsize(f) == 0:\n",
    "            frac_empty.append(sample)\n",
    "            continue\n",
    "        oncRNA_bed = pd.read_csv(f, header=None, sep=\"\\t\")\n",
    "        loci_features = oncRNA_bed[9] #Locus annotation as a feature.\n",
    "        loci_bp_overlaps = oncRNA_bed[12] #Number of bp overlaps between read and locus annotation.\n",
    "        read_ids = oncRNA_bed[3] #Query ID from original bamfile for each read.\n",
    "        \n",
    "        #First create read_id map\n",
    "        read_id_locus_map = {}\n",
    "        for i in range(len(read_ids)):\n",
    "            _id = read_ids.iloc[i]\n",
    "            num_bp_match = loci_bp_overlaps.iloc[i]\n",
    "            locus = loci_features.iloc[i]\n",
    "\n",
    "            if _id in read_id_locus_map: #Indicates multiple hits/overlaps for one read.\n",
    "                if num_bp_match > read_id_locus_map[_id][\"bp\"]: #Update locus count if more number of bp matched. This is our simple binning procedure.\n",
    "                    read_id_locus_map[_id] = {\"locus\":locus, \"bp\":num_bp_match}\n",
    "            else:\n",
    "                read_id_locus_map[_id] = {\"locus\":locus, \"bp\":num_bp_match}\n",
    "\n",
    "        assert len(read_id_locus_map) == len(oncRNA_bed[3].unique()) #Ensures we do not overcount reads  \n",
    "        #Counts of loci\n",
    "        frac_sample_loci[sample] = {}\n",
    "        for _id in read_id_locus_map: \n",
    "            locus = read_id_locus_map[_id][\"locus\"] \n",
    "            if locus in frac_sample_loci[sample]:\n",
    "                frac_sample_loci[sample][locus] += 1\n",
    "            else:\n",
    "                frac_sample_loci[sample][locus] = 1\n",
    "                "
   ]
  },
  {
   "cell_type": "code",
   "execution_count": 58,
   "metadata": {},
   "outputs": [
    {
     "data": {
      "text/plain": [
       "3"
      ]
     },
     "execution_count": 58,
     "metadata": {},
     "output_type": "execute_result"
    }
   ],
   "source": [
    "no_frac_directories = [d for d in os.scandir(\"no_frac\") if d.name.endswith(\"serum\")]\n",
    "len(no_frac_directories)"
   ]
  },
  {
   "cell_type": "code",
   "execution_count": 59,
   "metadata": {},
   "outputs": [],
   "source": [
    "sample_loci = {}\n",
    "empty = []\n",
    "for cancer in no_frac_directories:\n",
    "    cell_lines = [f for f in os.scandir(cancer) if f.name.endswith(\".oncRNA.bed\")]\n",
    "    for f in cell_lines:\n",
    "        sample = f.name.split(\".\")[0]\n",
    "        if \"CRC\" in sample or \"H\" in sample:\n",
    "            continue\n",
    "        elif \"T\" in sample:\n",
    "            splits = sample.split(\"_\")\n",
    "            sample = f\"PRAD_{splits[0]}\"\n",
    "        elif \"PNC\" in sample:\n",
    "            splits = sample.split(\"_\")\n",
    "            sample = splits[0]\n",
    "        else:\n",
    "            sample = f\"ISPY_{sample}\"\n",
    "            \n",
    "        if os.path.getsize(f) == 0:\n",
    "            empty.append(sample)\n",
    "            continue\n",
    "            \n",
    "        oncRNA_bed = pd.read_csv(f, header=None, sep=\"\\t\")\n",
    "        loci_features = oncRNA_bed[9] #Locus annotation as a feature.\n",
    "        loci_bp_overlaps = oncRNA_bed[12] #Number of bp overlaps between read and locus annotation.\n",
    "        read_ids = oncRNA_bed[3] #Query ID from original bamfile for each read.\n",
    "        \n",
    "        #First create read_id map\n",
    "        read_id_locus_map = {}\n",
    "        for i in range(len(read_ids)):\n",
    "            _id = read_ids.iloc[i]\n",
    "            num_bp_match = loci_bp_overlaps.iloc[i]\n",
    "            locus = loci_features.iloc[i]\n",
    "\n",
    "            if _id in read_id_locus_map: #Indicates multiple hits/overlaps for one read.\n",
    "                if num_bp_match > read_id_locus_map[_id][\"bp\"]: #Update locus count if more number of bp matched. This is our simple binning procedure.\n",
    "                    read_id_locus_map[_id] = {\"locus\":locus, \"bp\":num_bp_match}\n",
    "            else:\n",
    "                read_id_locus_map[_id] = {\"locus\":locus, \"bp\":num_bp_match}\n",
    "\n",
    "        assert len(read_id_locus_map) == len(oncRNA_bed[3].unique()) #Ensures we do not overcount reads  \n",
    "        #Counts of loci\n",
    "        sample_loci[sample] = {}\n",
    "        for _id in read_id_locus_map: \n",
    "            locus = read_id_locus_map[_id][\"locus\"] \n",
    "            if locus in sample_loci[sample]:\n",
    "                sample_loci[sample][locus] += 1\n",
    "            else:\n",
    "                sample_loci[sample][locus] = 1\n",
    "                "
   ]
  },
  {
   "cell_type": "code",
   "execution_count": 60,
   "metadata": {},
   "outputs": [
    {
     "data": {
      "text/plain": [
       "(1, 1)"
      ]
     },
     "execution_count": 60,
     "metadata": {},
     "output_type": "execute_result"
    }
   ],
   "source": [
    "len(empty), len(frac_empty)"
   ]
  },
  {
   "cell_type": "code",
   "execution_count": 61,
   "metadata": {},
   "outputs": [
    {
     "data": {
      "text/plain": [
       "(['ISPY_S90'], ['ISPY_S90'])"
      ]
     },
     "execution_count": 61,
     "metadata": {},
     "output_type": "execute_result"
    }
   ],
   "source": [
    "empty, frac_empty"
   ]
  },
  {
   "cell_type": "code",
   "execution_count": 62,
   "metadata": {},
   "outputs": [],
   "source": [
    "with open(f'data/counts/frac_sample_loci.json', 'w') as f:\n",
    "    js.dump(frac_sample_loci, f)\n",
    "    f.close()"
   ]
  },
  {
   "cell_type": "code",
   "execution_count": 63,
   "metadata": {},
   "outputs": [],
   "source": [
    "with open(f'data/counts/sample_loci.json', 'w') as f:\n",
    "    js.dump(sample_loci, f)\n",
    "    f.close()"
   ]
  },
  {
   "cell_type": "markdown",
   "metadata": {},
   "source": [
    "# Done\n",
    "Finished preprocessing"
   ]
  }
 ],
 "metadata": {
  "kernelspec": {
   "display_name": "Python [conda env:smRNA]",
   "language": "python",
   "name": "conda-env-smRNA-py"
  },
  "language_info": {
   "codemirror_mode": {
    "name": "ipython",
    "version": 3
   },
   "file_extension": ".py",
   "mimetype": "text/x-python",
   "name": "python",
   "nbconvert_exporter": "python",
   "pygments_lexer": "ipython3",
   "version": "3.7.4"
  }
 },
 "nbformat": 4,
 "nbformat_minor": 4
}
