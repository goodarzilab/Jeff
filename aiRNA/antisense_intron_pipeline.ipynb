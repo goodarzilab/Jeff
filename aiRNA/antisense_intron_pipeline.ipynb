{
 "cells": [
  {
   "cell_type": "markdown",
   "metadata": {},
   "source": [
    "# Antisense Intron Pipeline\n",
    "Here we demonstrate how to follow our workflow to identifying antisense intronic smRNAs.\n",
    "Here we assume that users have already downloaded the raw sequencing data in fastq format or in already aligned data. We use data from GSE 113301 as an example. The code here can be easily written in script form to run in parallel when working with large datasets."
   ]
  },
  {
   "cell_type": "code",
   "execution_count": 1,
   "metadata": {},
   "outputs": [],
   "source": [
    "import pandas as pd\n",
    "import numpy as np"
   ]
  },
  {
   "cell_type": "markdown",
   "metadata": {},
   "source": [
    "### Util"
   ]
  },
  {
   "cell_type": "code",
   "execution_count": null,
   "metadata": {},
   "outputs": [],
   "source": [
    "def simpleDustScore(seq):\n",
    "    assert len(seq) > 2\n",
    "    if len(seq) == 3:\n",
    "        return 0\n",
    "    else:\n",
    "        triplets = {}\n",
    "        num_trip = len(seq) - 2\n",
    "        for i in range(num_trip):\n",
    "            subseq = seq[i:i+3]\n",
    "            if subseq in triplets:\n",
    "                triplets[subseq] += 1\n",
    "            else:\n",
    "                triplets[subseq] = 1\n",
    "        sum_triplet = 0\n",
    "        for triplet, count in triplets.items():\n",
    "            sum_triplet += count * (count - 1) / 2\n",
    "        return sum_triplet/(num_trip - 1)"
   ]
  },
  {
   "cell_type": "markdown",
   "metadata": {},
   "source": [
    "### Step 1: Alignment\n",
    "We align the files using bowtie2, end-toend, sensitive, with no mismatch allowed. "
   ]
  },
  {
   "cell_type": "code",
   "execution_count": null,
   "metadata": {},
   "outputs": [],
   "source": [
    "%%bash\n",
    "for f in data/GSE113301/*.fastq.gz; do\n",
    "out=${f/.fastq.gz/.bam}\n",
    "echo \"bowtie2 --sensitive --end-to-end -p 12 -x /rumi/shams/jwang/Noelle_Lab/genomes/ws253/ws253 -U $f | samtools view -S -b -h -t /rumi/shams/jwang/Noelle_Lab/genomes/ws253/ws253.fa.fai -o $out\";\n",
    "bowtie2 --sensitive --end-to-end -p 12 -x /rumi/shams/jwang/Noelle_Lab/genomes/ws253/ws253 -U $f | samtools view -S -b -h -t /rumi/shams/jwang/Noelle_Lab/genomes/ws253/ws253.fa.fai -o $out\n",
    "done &> log/GSE113301/GSE113301.bowtie2.out"
   ]
  },
  {
   "cell_type": "code",
   "execution_count": null,
   "metadata": {},
   "outputs": [],
   "source": [
    "%%bash\n",
    "#Sort and index our alignment files.\n",
    "for f in data/GSE113301/*.bam; do\n",
    "out=${f/.bam/.srt.bam};\n",
    "echo \"samtools sort -@ 4 -m 2G -o $out $f\";\n",
    "samtools sort -@ 4 -m 2G -o $out $f\n",
    "echo \"samtools index $out\";\n",
    "samtools index $out;\n",
    "done &> log/GSE113301/GSE113301.sort_index.out"
   ]
  },
  {
   "cell_type": "markdown",
   "metadata": {},
   "source": [
    "### Step 2: Filter Reads\n",
    "Our filter requirements include:\n",
    "* MapQ cutoff of 40 to eliminate multimapping reads\n",
    "* Dust score cutoff of 3 to eliminate low-complexity sequences\n",
    "* Min read length of 15 (which can also be enforced in the adapter trimming step)."
   ]
  },
  {
   "cell_type": "code",
   "execution_count": null,
   "metadata": {},
   "outputs": [],
   "source": [
    "inputs = [f for f in os.scandir(\"data/GSE113301\") if f.name.endswith(\"srt.bam\")]\n",
    "len(inputs)"
   ]
  },
  {
   "cell_type": "code",
   "execution_count": null,
   "metadata": {},
   "outputs": [],
   "source": [
    "for f in inputs:\n",
    "    name = f.name.split(\".\")[0]\n",
    "    out = f\"data/GSE113301/{name}.srt.fil.bam\"\n",
    "    infile = pysam.AlignmentFile(f, \"rb\")\n",
    "    outfile = pysam.AlignmentFile(out, \"wb\", template=infile)   \n",
    "    for read in infile.fetch():\n",
    "        if read.mapq >=40 and simpleDustScore(read.get_forward_sequence()) < 3 and len(read.get_forward_sequence()) >= 15:\n",
    "            outfile.write(read)\n",
    "    outfile.close()\n",
    "    infile.close()"
   ]
  },
  {
   "cell_type": "markdown",
   "metadata": {},
   "source": [
    "### Step 3: Convert Reads to BED format"
   ]
  },
  {
   "cell_type": "code",
   "execution_count": null,
   "metadata": {},
   "outputs": [],
   "source": [
    "%%bash\n",
    "proj=GSE113301\n",
    "for f in data/$proj/*srt.fil.bam; do \n",
    "base=$(basename $f)\n",
    "out=${base/.bam/.bed}\n",
    "echo \"$bedtools bamtobed -i $f > data/bedfiles/$out\"\n",
    "bedtools bamtobed -i $f > data/bedfiles/$out\n",
    "done &> log/$proj/$proj.bamtobed.out"
   ]
  },
  {
   "cell_type": "markdown",
   "metadata": {},
   "source": [
    "### Step 4: Antisense Intron Mapping\n",
    "Using the intron annotation file that we created (in `prepare_intron_map.ipynb`, we then use bedtools intersect to identify reads that map antisense to introns. <br>\n",
    "The `-S` option enforces overlaps that map to the oppposite/antisense strand."
   ]
  },
  {
   "cell_type": "code",
   "execution_count": null,
   "metadata": {},
   "outputs": [],
   "source": [
    "%%bash\n",
    "#Temp for just GSE113301\n",
    "for f in /rumi/shams/jwang/Noelle_Lab/data/bedfiles/*.srt.fil.bed; do\n",
    "    out=${f/.srt.fil.bed/.intron.bed}\n",
    "    bedtools intersect -S -wo -a $f -b genomes/ws253/ws253.intron.filter.bed > $out\n",
    "done"
   ]
  },
  {
   "cell_type": "markdown",
   "metadata": {},
   "source": [
    "# Done"
   ]
  }
 ],
 "metadata": {
  "kernelspec": {
   "display_name": "Python [conda env:smRNA]",
   "language": "python",
   "name": "conda-env-smRNA-py"
  },
  "language_info": {
   "codemirror_mode": {
    "name": "ipython",
    "version": 3
   },
   "file_extension": ".py",
   "mimetype": "text/x-python",
   "name": "python",
   "nbconvert_exporter": "python",
   "pygments_lexer": "ipython3",
   "version": "3.7.4"
  }
 },
 "nbformat": 4,
 "nbformat_minor": 4
}
