{
 "cells": [
  {
   "cell_type": "markdown",
   "metadata": {},
   "source": [
    "# Preparing Intron Map\n",
    "For this prepatory step, we extract intron information from gff3 annotations and convert the intron loci into BED format for easy overlap detection.\n",
    "<br>\n",
    "For our purposes in studying C. elegans, we used the WS253 genome build for all of our analysis. Following these steps, one can easily adapt this pipeline to use for other species.\n",
    "\n"
   ]
  },
  {
   "cell_type": "code",
   "execution_count": 1,
   "metadata": {},
   "outputs": [],
   "source": [
    "import pandas as pd\n",
    "import numpy as np"
   ]
  },
  {
   "cell_type": "markdown",
   "metadata": {},
   "source": [
    "## Load Genome Annotations\n",
    "Note that gff3 format is 1 based and end inclusive, while bed is 0 based and end exclusive. So a gff3 format start:end of 1:100 would be equivalent to bed format start:end of 0:100."
   ]
  },
  {
   "cell_type": "code",
   "execution_count": 2,
   "metadata": {},
   "outputs": [
    {
     "data": {
      "text/html": [
       "<div>\n",
       "<style scoped>\n",
       "    .dataframe tbody tr th:only-of-type {\n",
       "        vertical-align: middle;\n",
       "    }\n",
       "\n",
       "    .dataframe tbody tr th {\n",
       "        vertical-align: top;\n",
       "    }\n",
       "\n",
       "    .dataframe thead th {\n",
       "        text-align: right;\n",
       "    }\n",
       "</style>\n",
       "<table border=\"1\" class=\"dataframe\">\n",
       "  <thead>\n",
       "    <tr style=\"text-align: right;\">\n",
       "      <th></th>\n",
       "      <th>0</th>\n",
       "      <th>1</th>\n",
       "      <th>2</th>\n",
       "      <th>3</th>\n",
       "      <th>4</th>\n",
       "      <th>5</th>\n",
       "      <th>6</th>\n",
       "      <th>7</th>\n",
       "      <th>8</th>\n",
       "    </tr>\n",
       "  </thead>\n",
       "  <tbody>\n",
       "    <tr>\n",
       "      <th>0</th>\n",
       "      <td>I</td>\n",
       "      <td>BLAT_EST_OTHER</td>\n",
       "      <td>expressed_sequence_match</td>\n",
       "      <td>1</td>\n",
       "      <td>50</td>\n",
       "      <td>12.8</td>\n",
       "      <td>-</td>\n",
       "      <td>.</td>\n",
       "      <td>ID=yk585b5.5.6;Target=yk585b5.5 119 168 +</td>\n",
       "    </tr>\n",
       "    <tr>\n",
       "      <th>1</th>\n",
       "      <td>I</td>\n",
       "      <td>BLAT_Trinity_OTHER</td>\n",
       "      <td>expressed_sequence_match</td>\n",
       "      <td>1</td>\n",
       "      <td>52</td>\n",
       "      <td>20.4</td>\n",
       "      <td>+</td>\n",
       "      <td>.</td>\n",
       "      <td>ID=elegans_PE_SS_GG6116|c0_g1_i1.2;Target=eleg...</td>\n",
       "    </tr>\n",
       "    <tr>\n",
       "      <th>2</th>\n",
       "      <td>I</td>\n",
       "      <td>inverted</td>\n",
       "      <td>inverted_repeat</td>\n",
       "      <td>1</td>\n",
       "      <td>212</td>\n",
       "      <td>66</td>\n",
       "      <td>.</td>\n",
       "      <td>.</td>\n",
       "      <td>Note=loop 426</td>\n",
       "    </tr>\n",
       "  </tbody>\n",
       "</table>\n",
       "</div>"
      ],
      "text/plain": [
       "   0                   1                         2  3    4     5  6  7  \\\n",
       "0  I      BLAT_EST_OTHER  expressed_sequence_match  1   50  12.8  -  .   \n",
       "1  I  BLAT_Trinity_OTHER  expressed_sequence_match  1   52  20.4  +  .   \n",
       "2  I            inverted           inverted_repeat  1  212    66  .  .   \n",
       "\n",
       "                                                   8  \n",
       "0          ID=yk585b5.5.6;Target=yk585b5.5 119 168 +  \n",
       "1  ID=elegans_PE_SS_GG6116|c0_g1_i1.2;Target=eleg...  \n",
       "2                                      Note=loop 426  "
      ]
     },
     "execution_count": 2,
     "metadata": {},
     "output_type": "execute_result"
    }
   ],
   "source": [
    "ws253_annotations = pd.read_csv(\"genomes/ws253/ws253.annotations.gff3\", skiprows=8, sep=\"\\t\", header=None)\n",
    "ws253_annotations.head(3)"
   ]
  },
  {
   "cell_type": "markdown",
   "metadata": {},
   "source": [
    "Here we have the additional requirement of only using introns with known parent transcripts."
   ]
  },
  {
   "cell_type": "code",
   "execution_count": 3,
   "metadata": {},
   "outputs": [
    {
     "name": "stdout",
     "output_type": "stream",
     "text": [
      "(196886, 9)\n"
     ]
    },
    {
     "data": {
      "text/html": [
       "<div>\n",
       "<style scoped>\n",
       "    .dataframe tbody tr th:only-of-type {\n",
       "        vertical-align: middle;\n",
       "    }\n",
       "\n",
       "    .dataframe tbody tr th {\n",
       "        vertical-align: top;\n",
       "    }\n",
       "\n",
       "    .dataframe thead th {\n",
       "        text-align: right;\n",
       "    }\n",
       "</style>\n",
       "<table border=\"1\" class=\"dataframe\">\n",
       "  <thead>\n",
       "    <tr style=\"text-align: right;\">\n",
       "      <th></th>\n",
       "      <th>0</th>\n",
       "      <th>1</th>\n",
       "      <th>2</th>\n",
       "      <th>3</th>\n",
       "      <th>4</th>\n",
       "      <th>5</th>\n",
       "      <th>6</th>\n",
       "      <th>7</th>\n",
       "      <th>8</th>\n",
       "    </tr>\n",
       "  </thead>\n",
       "  <tbody>\n",
       "    <tr>\n",
       "      <th>849</th>\n",
       "      <td>I</td>\n",
       "      <td>WormBase</td>\n",
       "      <td>intron</td>\n",
       "      <td>4359</td>\n",
       "      <td>5194</td>\n",
       "      <td>.</td>\n",
       "      <td>-</td>\n",
       "      <td>.</td>\n",
       "      <td>Parent=Transcript:Y74C9A.3;Note=Confirmed_EST ...</td>\n",
       "    </tr>\n",
       "    <tr>\n",
       "      <th>1033</th>\n",
       "      <td>I</td>\n",
       "      <td>WormBase</td>\n",
       "      <td>intron</td>\n",
       "      <td>5297</td>\n",
       "      <td>6036</td>\n",
       "      <td>.</td>\n",
       "      <td>-</td>\n",
       "      <td>.</td>\n",
       "      <td>Parent=Transcript:Y74C9A.3;Note=Confirmed_EST ...</td>\n",
       "    </tr>\n",
       "    <tr>\n",
       "      <th>1274</th>\n",
       "      <td>I</td>\n",
       "      <td>WormBase</td>\n",
       "      <td>intron</td>\n",
       "      <td>6328</td>\n",
       "      <td>9726</td>\n",
       "      <td>.</td>\n",
       "      <td>-</td>\n",
       "      <td>.</td>\n",
       "      <td>Parent=Transcript:Y74C9A.3;Note=Confirmed_EST ...</td>\n",
       "    </tr>\n",
       "  </tbody>\n",
       "</table>\n",
       "</div>"
      ],
      "text/plain": [
       "      0         1       2     3     4  5  6  7  \\\n",
       "849   I  WormBase  intron  4359  5194  .  -  .   \n",
       "1033  I  WormBase  intron  5297  6036  .  -  .   \n",
       "1274  I  WormBase  intron  6328  9726  .  -  .   \n",
       "\n",
       "                                                      8  \n",
       "849   Parent=Transcript:Y74C9A.3;Note=Confirmed_EST ...  \n",
       "1033  Parent=Transcript:Y74C9A.3;Note=Confirmed_EST ...  \n",
       "1274  Parent=Transcript:Y74C9A.3;Note=Confirmed_EST ...  "
      ]
     },
     "execution_count": 3,
     "metadata": {},
     "output_type": "execute_result"
    }
   ],
   "source": [
    "intron_annotations = ws253_annotations[(ws253_annotations[2].str.contains(\"intron\")) & (ws253_annotations[8].str.contains(\"Transcript\"))]\n",
    "print(intron_annotations.shape)\n",
    "intron_annotations.head(3)"
   ]
  },
  {
   "cell_type": "code",
   "execution_count": 4,
   "metadata": {},
   "outputs": [],
   "source": [
    "intron_annotations.to_csv(\"genomes/c_elegans.WS253.introns.gff3\")"
   ]
  },
  {
   "cell_type": "code",
   "execution_count": 5,
   "metadata": {},
   "outputs": [],
   "source": [
    "\"\"\"Converts locus from gff3 to bed. Note that gff3 format is 1 based and end inclusive, while bed is 0 based and end \n",
    "exclusive. So a gff3 format start:end of 1:100 would be equivalent to bed format start:end of 0:100. Here we substract\n",
    "from each of the start position.\"\"\"\n",
    "def convert_bed(row):\n",
    "    return f\"{row[0]}\\t{row[3]-1}\\t{row[4]}\\t{row[8]}\\t.\\t{row[6]}\""
   ]
  },
  {
   "cell_type": "code",
   "execution_count": 6,
   "metadata": {},
   "outputs": [],
   "source": [
    "intron_bed = intron_annotations.apply(convert_bed, axis=1)"
   ]
  },
  {
   "cell_type": "code",
   "execution_count": 7,
   "metadata": {},
   "outputs": [],
   "source": [
    "with open(\"genomes/ws253/ws253.intron.bed\", \"w\") as out:\n",
    "    for bed in intron_bed:\n",
    "        bed = bed.strip('\"') #Earlier had issue with extra quotations, this is just precautionary measure\n",
    "        out.write(bed + \"\\n\")"
   ]
  },
  {
   "cell_type": "markdown",
   "metadata": {},
   "source": [
    "## Filter Introns\n",
    "Here we filter out all the introns that overlap with known smRNAs and repeat regions/transposable elements."
   ]
  },
  {
   "cell_type": "code",
   "execution_count": 8,
   "metadata": {},
   "outputs": [],
   "source": [
    "filter_req = [\"inverted_repeat\",\"repeat_region\", \"snoRNA\", \"transposable_element_insertion_site\",\n",
    "            \"piRNA\", \"transposable_element\", \"pseudogenic_tRNA\", \"pre_miRNA\",\"snRNA\", \n",
    "            \"miRNA_primary_transcript\", \"pseudogenic_rRNA\", \"miRNA\", \"rRNA\", \"tRNA\"]"
   ]
  },
  {
   "cell_type": "code",
   "execution_count": 9,
   "metadata": {},
   "outputs": [],
   "source": [
    "filter_annot = ws253_annotations[np.isin(ws253_annotations, filter_req).any(axis=1)]"
   ]
  },
  {
   "cell_type": "code",
   "execution_count": 10,
   "metadata": {},
   "outputs": [],
   "source": [
    "filter_bed = filter_annot.apply(convert_bed, axis=1)\n",
    "with open(\"genomes/ws253/ws253.filter.bed\", \"w\") as out:\n",
    "    for bed in filter_bed:\n",
    "        bed = bed.strip('\"') #Earlier had issue with extra quotations.\n",
    "        out.write(bed + \"\\n\")"
   ]
  },
  {
   "cell_type": "markdown",
   "metadata": {},
   "source": [
    "For this step we use bedtools intersect `-v` option to only keep loci in our intron bedfile that had no overlaps with our filter bedfile. We do not use stranded option here, so that as long as the coordinates match we will omit the locus."
   ]
  },
  {
   "cell_type": "code",
   "execution_count": 11,
   "metadata": {},
   "outputs": [],
   "source": [
    "%%bash\n",
    "bedtools intersect -v -a genomes/ws253/ws253.intron.bed -b genomes/ws253/ws253.smRNA.bed > genomes/ws253/ws253.intron.filter.bed"
   ]
  },
  {
   "cell_type": "markdown",
   "metadata": {},
   "source": [
    "# Done\n",
    "Now that we prepared our filtered intron map, we can proceed with our anti-sense intron pipeline."
   ]
  }
 ],
 "metadata": {
  "kernelspec": {
   "display_name": "Python [conda env:smRNA]",
   "language": "python",
   "name": "conda-env-smRNA-py"
  },
  "language_info": {
   "codemirror_mode": {
    "name": "ipython",
    "version": 3
   },
   "file_extension": ".py",
   "mimetype": "text/x-python",
   "name": "python",
   "nbconvert_exporter": "python",
   "pygments_lexer": "ipython3",
   "version": "3.7.4"
  }
 },
 "nbformat": 4,
 "nbformat_minor": 4
}
