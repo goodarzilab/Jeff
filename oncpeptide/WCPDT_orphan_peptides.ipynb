{
 "cells": [
  {
   "cell_type": "markdown",
   "metadata": {},
   "source": [
    "# WCPDT Orphan Peptide Analysis\n",
    "Here we run the analysis to identify orphan transcripts."
   ]
  },
  {
   "cell_type": "code",
   "execution_count": 1,
   "metadata": {},
   "outputs": [],
   "source": [
    "from Bio import SeqIO\n",
    "import pandas as pd\n",
    "import numpy as np\n",
    "import re\n",
    "import os\n",
    "import json as js\n",
    "import seaborn as sns\n",
    "import matplotlib.pyplot as plt\n",
    "import matplotlib\n",
    "#Set figure configurations\n",
    "matplotlib.rcParams['pdf.fonttype'] = 42\n",
    "matplotlib.rcParams['ps.fonttype'] = 42"
   ]
  },
  {
   "cell_type": "markdown",
   "metadata": {},
   "source": [
    "# Compile Data"
   ]
  },
  {
   "cell_type": "code",
   "execution_count": 2,
   "metadata": {},
   "outputs": [
    {
     "data": {
      "text/plain": [
       "145"
      ]
     },
     "execution_count": 2,
     "metadata": {},
     "output_type": "execute_result"
    }
   ],
   "source": [
    "quant_files = [f for f in os.scandir(\"/flash/jwang/DeRisi/salmon/\") if f.name.endswith(\"quant\")]\n",
    "len(quant_files)"
   ]
  },
  {
   "cell_type": "code",
   "execution_count": 3,
   "metadata": {},
   "outputs": [
    {
     "data": {
      "text/plain": [
       "(935948, 0)"
      ]
     },
     "execution_count": 3,
     "metadata": {},
     "output_type": "execute_result"
    }
   ],
   "source": [
    "tx_sample_dict = {}\n",
    "no_hits = []\n",
    "for f in quant_files:\n",
    "    sample_name = f.name[:-6]\n",
    "    path = f.path + \"/quant.sf\"\n",
    "    quant = pd.read_csv(path, sep=\"\\t\")\n",
    "    if np.sum(quant[\"TPM\"] > 0) == 0:\n",
    "        no_hits.append(sample_name)\n",
    "        continue  \n",
    "    for tx, tpm in zip(quant[\"Name\"], quant[\"TPM\"]):\n",
    "        if tx in tx_sample_dict:\n",
    "            tx_sample_dict[tx][sample_name] = tpm\n",
    "        else:\n",
    "            tx_sample_dict[tx] = {sample_name : tpm}\n",
    "len(tx_sample_dict), len(no_hits)"
   ]
  },
  {
   "cell_type": "markdown",
   "metadata": {},
   "source": [
    "### Save Data\n"
   ]
  },
  {
   "cell_type": "code",
   "execution_count": 4,
   "metadata": {},
   "outputs": [],
   "source": [
    "with open(\"results/tx_sample_tpm_dict.json\", \"w\") as out:\n",
    "    js.dump(tx_sample_dict, out)"
   ]
  },
  {
   "cell_type": "markdown",
   "metadata": {},
   "source": [
    "# Identify ORFs and Kozak Sequences\n",
    "Kozak sequence is based on this original 1987 paper: https://www.ncbi.nlm.nih.gov/pmc/articles/PMC306349/\n",
    "<br>\n",
    "The below code was written by Aidan."
   ]
  },
  {
   "cell_type": "code",
   "execution_count": 5,
   "metadata": {},
   "outputs": [
    {
     "data": {
      "text/html": [
       "<div>\n",
       "<style scoped>\n",
       "    .dataframe tbody tr th:only-of-type {\n",
       "        vertical-align: middle;\n",
       "    }\n",
       "\n",
       "    .dataframe tbody tr th {\n",
       "        vertical-align: top;\n",
       "    }\n",
       "\n",
       "    .dataframe thead th {\n",
       "        text-align: right;\n",
       "    }\n",
       "</style>\n",
       "<table border=\"1\" class=\"dataframe\">\n",
       "  <thead>\n",
       "    <tr style=\"text-align: right;\">\n",
       "      <th></th>\n",
       "      <th>A</th>\n",
       "      <th>C</th>\n",
       "      <th>G</th>\n",
       "      <th>T</th>\n",
       "    </tr>\n",
       "  </thead>\n",
       "  <tbody>\n",
       "    <tr>\n",
       "      <th>0</th>\n",
       "      <td>0.000000</td>\n",
       "      <td>1.084064</td>\n",
       "      <td>-0.736966</td>\n",
       "      <td>-1.836501</td>\n",
       "    </tr>\n",
       "    <tr>\n",
       "      <th>1</th>\n",
       "      <td>1.286881</td>\n",
       "      <td>-3.643856</td>\n",
       "      <td>0.526069</td>\n",
       "      <td>-4.643856</td>\n",
       "    </tr>\n",
       "    <tr>\n",
       "      <th>2</th>\n",
       "      <td>0.111031</td>\n",
       "      <td>0.970854</td>\n",
       "      <td>-0.943416</td>\n",
       "      <td>-1.184425</td>\n",
       "    </tr>\n",
       "    <tr>\n",
       "      <th>3</th>\n",
       "      <td>-0.736966</td>\n",
       "      <td>1.137504</td>\n",
       "      <td>-0.251539</td>\n",
       "      <td>-1.473931</td>\n",
       "    </tr>\n",
       "    <tr>\n",
       "      <th>4</th>\n",
       "      <td>1.956057</td>\n",
       "      <td>-4.643856</td>\n",
       "      <td>-4.643856</td>\n",
       "      <td>-4.643856</td>\n",
       "    </tr>\n",
       "    <tr>\n",
       "      <th>5</th>\n",
       "      <td>-4.643856</td>\n",
       "      <td>-4.643856</td>\n",
       "      <td>-4.643856</td>\n",
       "      <td>1.956057</td>\n",
       "    </tr>\n",
       "    <tr>\n",
       "      <th>6</th>\n",
       "      <td>-4.643856</td>\n",
       "      <td>-4.643856</td>\n",
       "      <td>1.956057</td>\n",
       "      <td>-4.643856</td>\n",
       "    </tr>\n",
       "    <tr>\n",
       "      <th>7</th>\n",
       "      <td>-0.120294</td>\n",
       "      <td>-0.643856</td>\n",
       "      <td>0.879706</td>\n",
       "      <td>-0.736966</td>\n",
       "    </tr>\n",
       "  </tbody>\n",
       "</table>\n",
       "</div>"
      ],
      "text/plain": [
       "          A         C         G         T\n",
       "0  0.000000  1.084064 -0.736966 -1.836501\n",
       "1  1.286881 -3.643856  0.526069 -4.643856\n",
       "2  0.111031  0.970854 -0.943416 -1.184425\n",
       "3 -0.736966  1.137504 -0.251539 -1.473931\n",
       "4  1.956057 -4.643856 -4.643856 -4.643856\n",
       "5 -4.643856 -4.643856 -4.643856  1.956057\n",
       "6 -4.643856 -4.643856  1.956057 -4.643856\n",
       "7 -0.120294 -0.643856  0.879706 -0.736966"
      ]
     },
     "execution_count": 5,
     "metadata": {},
     "output_type": "execute_result"
    }
   ],
   "source": [
    "\"\"\"These were from Aidan's notebook (might want to find the exact paper to verify)\n",
    "KOZAK_PWM refers to the positioned based percentages of nucleotide appearance. For instance in \n",
    "at position -4 (first row) A appears at rate of 25% C at 53% and so on. Note that start codon (ATG) \n",
    "is included in this Kozak sequence.\"\"\"\n",
    "kozak_pwm = pd.DataFrame({'A' :[25, 61, 27, 15, 97, 1, 1, 23],\n",
    "                          'C' :[53, 2, 49, 55, 1, 1, 1, 16],\n",
    "                          'G' :[15, 36, 13, 21, 1, 1, 97, 46],\n",
    "                          'T' :[ 7, 1, 11, 9, 1, 97, 1, 15]})\n",
    "#log likelihood: calculated with the probability of a base at a given position divided by \n",
    "#              the probability of that base randomly (0.25 since there are 4 bases)\n",
    "pwm_log = np.log2((kozak_pwm/100)/0.25)\n",
    "pwm_log"
   ]
  },
  {
   "cell_type": "code",
   "execution_count": 6,
   "metadata": {},
   "outputs": [],
   "source": [
    "def getKozak(read, log_pwm = pwm_log, min_AA=20):\n",
    "    full_regex = \"[ACG][AG][ACGT][ACG]ATG(?:[ATGC]{3})*?(?:TAA|TAG|TGA)\" \n",
    "    #This pattern removes any base with a frequency of < 10 at that position \n",
    "    kozak  = re.compile(full_regex)\n",
    "    \n",
    "    scores = []\n",
    "    seqs = []\n",
    "    #I eliminated the reversal version, because the transcripts should already be in the stranded form and rev comped if on opposite strand\n",
    "    #If we want to check the reverse strand, we can reverse the read, but need to add rev comp.\n",
    "    for m in kozak.finditer(read):\n",
    "        if (len(m.group()) - 4) >= (min_AA) * 3:\n",
    "            scores.append(sum([log_pwm.loc[x,m.group()[x]] for x in range(len(log_pwm))]))\n",
    "            seqs.append(m.group())\n",
    "    \n",
    "    return scores, seqs"
   ]
  },
  {
   "cell_type": "code",
   "execution_count": 7,
   "metadata": {},
   "outputs": [],
   "source": [
    "#identify ORFs within transcripts and get kozak score\n",
    "#results are saved to a file for downstream analysis\n",
    "meta_file = \"results/orphan_peptide_ORFs_meta.csv\"\n",
    "seq_file = \"results/orphan_peptide_ORFs.fa\"\n",
    "with open(meta_file, \"w\") as meta, open(seq_file, 'w') as fa:\n",
    "    #Write out header\n",
    "    meta.write(\"kozak_id,score,ORFlength,ORFIDinTranscript,totalNumORFinTranscript\\n\")\n",
    "    \n",
    "    for seq_record in SeqIO.parse(\"WCPDT_data/final_merged_cancer.transcripts.fa\", \"fasta\"):\n",
    "        if seq_record.id not in tx_sample_dict: #Only check \n",
    "            continue\n",
    "        ks, seqs = getKozak(str(seq_record.seq), pwm_log)\n",
    "        for k in range(len(ks)):\n",
    "            name = seq_record.id + '_kozak_' + str(k)\n",
    "            #This is to split the string with newlines so that the fasta reads are not super long in a line\n",
    "            split_seq = re.sub(\"(.{60})\", \"\\\\1\\n\", seqs[k], count=0, flags=re.DOTALL)\n",
    "            fa.write('>' + name + '\\n')\n",
    "            fa.write(split_seq + '\\n')\n",
    "            meta.write(','.join([name, str(round(ks[k], 3)), str(len(seqs[k]) - 4), str(k), str(len(ks))]) + '\\n')"
   ]
  },
  {
   "cell_type": "code",
   "execution_count": 8,
   "metadata": {},
   "outputs": [
    {
     "data": {
      "text/html": [
       "<div>\n",
       "<style scoped>\n",
       "    .dataframe tbody tr th:only-of-type {\n",
       "        vertical-align: middle;\n",
       "    }\n",
       "\n",
       "    .dataframe tbody tr th {\n",
       "        vertical-align: top;\n",
       "    }\n",
       "\n",
       "    .dataframe thead th {\n",
       "        text-align: right;\n",
       "    }\n",
       "</style>\n",
       "<table border=\"1\" class=\"dataframe\">\n",
       "  <thead>\n",
       "    <tr style=\"text-align: right;\">\n",
       "      <th></th>\n",
       "      <th>score</th>\n",
       "      <th>ORFlength</th>\n",
       "      <th>ORFIDinTranscript</th>\n",
       "      <th>totalNumORFinTranscript</th>\n",
       "    </tr>\n",
       "    <tr>\n",
       "      <th>kozak_id</th>\n",
       "      <th></th>\n",
       "      <th></th>\n",
       "      <th></th>\n",
       "      <th></th>\n",
       "    </tr>\n",
       "  </thead>\n",
       "  <tbody>\n",
       "    <tr>\n",
       "      <th>gene.1.0.1-x2-24_kozak_0</th>\n",
       "      <td>5.490</td>\n",
       "      <td>147</td>\n",
       "      <td>0</td>\n",
       "      <td>1</td>\n",
       "    </tr>\n",
       "    <tr>\n",
       "      <th>gene.2.0.2-x0-23_kozak_0</th>\n",
       "      <td>6.079</td>\n",
       "      <td>294</td>\n",
       "      <td>0</td>\n",
       "      <td>2</td>\n",
       "    </tr>\n",
       "    <tr>\n",
       "      <th>gene.2.0.2-x0-23_kozak_1</th>\n",
       "      <td>5.610</td>\n",
       "      <td>159</td>\n",
       "      <td>1</td>\n",
       "      <td>2</td>\n",
       "    </tr>\n",
       "  </tbody>\n",
       "</table>\n",
       "</div>"
      ],
      "text/plain": [
       "                          score  ORFlength  ORFIDinTranscript  \\\n",
       "kozak_id                                                        \n",
       "gene.1.0.1-x2-24_kozak_0  5.490        147                  0   \n",
       "gene.2.0.2-x0-23_kozak_0  6.079        294                  0   \n",
       "gene.2.0.2-x0-23_kozak_1  5.610        159                  1   \n",
       "\n",
       "                          totalNumORFinTranscript  \n",
       "kozak_id                                           \n",
       "gene.1.0.1-x2-24_kozak_0                        1  \n",
       "gene.2.0.2-x0-23_kozak_0                        2  \n",
       "gene.2.0.2-x0-23_kozak_1                        2  "
      ]
     },
     "execution_count": 8,
     "metadata": {},
     "output_type": "execute_result"
    }
   ],
   "source": [
    "orf_kozak_meta = pd.read_csv(\"results/orphan_peptide_ORFs_meta.csv\", index_col=0)\n",
    "orf_kozak_meta.head(3)"
   ]
  },
  {
   "cell_type": "code",
   "execution_count": 9,
   "metadata": {},
   "outputs": [
    {
     "data": {
      "image/png": "[encoded data removed]",
      "text/plain": [
       "<Figure size 360x360 with 1 Axes>"
      ]
     },
     "metadata": {
      "needs_background": "light"
     },
     "output_type": "display_data"
    }
   ],
   "source": [
    "sns.displot(orf_kozak_meta[\"score\"], bins=40, label='scallop')\n",
    "plt.xlabel('Kozak Score (log likelihood)')\n",
    "plt.legend()\n",
    "plt.show()"
   ]
  },
  {
   "cell_type": "code",
   "execution_count": 10,
   "metadata": {},
   "outputs": [
    {
     "data": {
      "text/plain": [
       "9.313"
      ]
     },
     "execution_count": 10,
     "metadata": {},
     "output_type": "execute_result"
    }
   ],
   "source": [
    "# Set kozak cutoff score to be the 95th percentile.\n",
    "kozak_th = np.percentile(orf_kozak_meta[\"score\"], 95) \n",
    "kozak_th"
   ]
  },
  {
   "cell_type": "code",
   "execution_count": 11,
   "metadata": {},
   "outputs": [
    {
     "data": {
      "image/png": "[encoded data removed]",
      "text/plain": [
       "<Figure size 360x360 with 1 Axes>"
      ]
     },
     "metadata": {
      "needs_background": "light"
     },
     "output_type": "display_data"
    }
   ],
   "source": [
    "sns.displot(orf_kozak_meta[\"score\"], bins=40, label='scallop')\n",
    "plt.xlabel('Kozak Score (log likelihood)')\n",
    "plt.axvline(kozak_th, linestyle='--', c='orange')\n",
    "plt.legend()\n",
    "plt.savefig(\"figures/peptides_kozak_distrib.pdf\")\n",
    "plt.show()"
   ]
  },
  {
   "cell_type": "code",
   "execution_count": 12,
   "metadata": {},
   "outputs": [
    {
     "name": "stdout",
     "output_type": "stream",
     "text": [
      "(80758, 4)\n"
     ]
    },
    {
     "data": {
      "text/html": [
       "<div>\n",
       "<style scoped>\n",
       "    .dataframe tbody tr th:only-of-type {\n",
       "        vertical-align: middle;\n",
       "    }\n",
       "\n",
       "    .dataframe tbody tr th {\n",
       "        vertical-align: top;\n",
       "    }\n",
       "\n",
       "    .dataframe thead th {\n",
       "        text-align: right;\n",
       "    }\n",
       "</style>\n",
       "<table border=\"1\" class=\"dataframe\">\n",
       "  <thead>\n",
       "    <tr style=\"text-align: right;\">\n",
       "      <th></th>\n",
       "      <th>score</th>\n",
       "      <th>ORFlength</th>\n",
       "      <th>ORFIDinTranscript</th>\n",
       "      <th>totalNumORFinTranscript</th>\n",
       "    </tr>\n",
       "    <tr>\n",
       "      <th>kozak_id</th>\n",
       "      <th></th>\n",
       "      <th></th>\n",
       "      <th></th>\n",
       "      <th></th>\n",
       "    </tr>\n",
       "  </thead>\n",
       "  <tbody>\n",
       "    <tr>\n",
       "      <th>gene.7.0.1-x0-30_kozak_0</th>\n",
       "      <td>10.227</td>\n",
       "      <td>153</td>\n",
       "      <td>0</td>\n",
       "      <td>2</td>\n",
       "    </tr>\n",
       "    <tr>\n",
       "      <th>gene.17.0.1-x2-3_kozak_0</th>\n",
       "      <td>10.227</td>\n",
       "      <td>153</td>\n",
       "      <td>0</td>\n",
       "      <td>2</td>\n",
       "    </tr>\n",
       "    <tr>\n",
       "      <th>gene.5.0.0-x0-3_kozak_0</th>\n",
       "      <td>10.227</td>\n",
       "      <td>153</td>\n",
       "      <td>0</td>\n",
       "      <td>2</td>\n",
       "    </tr>\n",
       "  </tbody>\n",
       "</table>\n",
       "</div>"
      ],
      "text/plain": [
       "                           score  ORFlength  ORFIDinTranscript  \\\n",
       "kozak_id                                                         \n",
       "gene.7.0.1-x0-30_kozak_0  10.227        153                  0   \n",
       "gene.17.0.1-x2-3_kozak_0  10.227        153                  0   \n",
       "gene.5.0.0-x0-3_kozak_0   10.227        153                  0   \n",
       "\n",
       "                          totalNumORFinTranscript  \n",
       "kozak_id                                           \n",
       "gene.7.0.1-x0-30_kozak_0                        2  \n",
       "gene.17.0.1-x2-3_kozak_0                        2  \n",
       "gene.5.0.0-x0-3_kozak_0                         2  "
      ]
     },
     "execution_count": 12,
     "metadata": {},
     "output_type": "execute_result"
    }
   ],
   "source": [
    "top_kozak_orfs = orf_kozak_meta[(orf_kozak_meta[\"score\"] >= kozak_th)]\n",
    "print(top_kozak_orfs.shape)\n",
    "top_kozak_orfs.head(3)"
   ]
  },
  {
   "cell_type": "markdown",
   "metadata": {},
   "source": [
    "# Size Filter\n",
    "Here we select a threshold for our peptide lengths."
   ]
  },
  {
   "cell_type": "code",
   "execution_count": 13,
   "metadata": {},
   "outputs": [
    {
     "data": {
      "text/plain": [
       "60"
      ]
     },
     "execution_count": 13,
     "metadata": {},
     "output_type": "execute_result"
    }
   ],
   "source": [
    "np.min(orf_kozak_meta[\"ORFlength\"])"
   ]
  },
  {
   "cell_type": "markdown",
   "metadata": {},
   "source": [
    "So the minimum ORF length is 60 nt."
   ]
  },
  {
   "cell_type": "code",
   "execution_count": 14,
   "metadata": {},
   "outputs": [
    {
     "data": {
      "image/png": "[encoded data removed]",
      "text/plain": [
       "<Figure size 360x360 with 1 Axes>"
      ]
     },
     "metadata": {
      "needs_background": "light"
     },
     "output_type": "display_data"
    }
   ],
   "source": [
    "sns.displot(np.log10(orf_kozak_meta[\"ORFlength\"]), bins=40, label='scallop')\n",
    "plt.xlabel('log10 ORF length')\n",
    "plt.axvline(np.log10(500), linestyle='--', c='orange')\n",
    "plt.legend()\n",
    "plt.savefig(\"figures/peptides_length_distrib.pdf\")\n",
    "plt.show()"
   ]
  },
  {
   "cell_type": "markdown",
   "metadata": {},
   "source": [
    "A 500 ORF cutoff makes sense here."
   ]
  },
  {
   "cell_type": "code",
   "execution_count": 15,
   "metadata": {},
   "outputs": [
    {
     "name": "stdout",
     "output_type": "stream",
     "text": [
      "(1393669, 4)\n"
     ]
    },
    {
     "data": {
      "text/html": [
       "<div>\n",
       "<style scoped>\n",
       "    .dataframe tbody tr th:only-of-type {\n",
       "        vertical-align: middle;\n",
       "    }\n",
       "\n",
       "    .dataframe tbody tr th {\n",
       "        vertical-align: top;\n",
       "    }\n",
       "\n",
       "    .dataframe thead th {\n",
       "        text-align: right;\n",
       "    }\n",
       "</style>\n",
       "<table border=\"1\" class=\"dataframe\">\n",
       "  <thead>\n",
       "    <tr style=\"text-align: right;\">\n",
       "      <th></th>\n",
       "      <th>score</th>\n",
       "      <th>ORFlength</th>\n",
       "      <th>ORFIDinTranscript</th>\n",
       "      <th>totalNumORFinTranscript</th>\n",
       "    </tr>\n",
       "    <tr>\n",
       "      <th>kozak_id</th>\n",
       "      <th></th>\n",
       "      <th></th>\n",
       "      <th></th>\n",
       "      <th></th>\n",
       "    </tr>\n",
       "  </thead>\n",
       "  <tbody>\n",
       "    <tr>\n",
       "      <th>gene.1.0.1-x2-24_kozak_0</th>\n",
       "      <td>5.490</td>\n",
       "      <td>147</td>\n",
       "      <td>0</td>\n",
       "      <td>1</td>\n",
       "    </tr>\n",
       "    <tr>\n",
       "      <th>gene.2.0.2-x0-23_kozak_0</th>\n",
       "      <td>6.079</td>\n",
       "      <td>294</td>\n",
       "      <td>0</td>\n",
       "      <td>2</td>\n",
       "    </tr>\n",
       "    <tr>\n",
       "      <th>gene.2.0.2-x0-23_kozak_1</th>\n",
       "      <td>5.610</td>\n",
       "      <td>159</td>\n",
       "      <td>1</td>\n",
       "      <td>2</td>\n",
       "    </tr>\n",
       "  </tbody>\n",
       "</table>\n",
       "</div>"
      ],
      "text/plain": [
       "                          score  ORFlength  ORFIDinTranscript  \\\n",
       "kozak_id                                                        \n",
       "gene.1.0.1-x2-24_kozak_0  5.490        147                  0   \n",
       "gene.2.0.2-x0-23_kozak_0  6.079        294                  0   \n",
       "gene.2.0.2-x0-23_kozak_1  5.610        159                  1   \n",
       "\n",
       "                          totalNumORFinTranscript  \n",
       "kozak_id                                           \n",
       "gene.1.0.1-x2-24_kozak_0                        1  \n",
       "gene.2.0.2-x0-23_kozak_0                        2  \n",
       "gene.2.0.2-x0-23_kozak_1                        2  "
      ]
     },
     "execution_count": 15,
     "metadata": {},
     "output_type": "execute_result"
    }
   ],
   "source": [
    "size_filtered_orfs = orf_kozak_meta[orf_kozak_meta[\"ORFlength\"] <= 500]\n",
    "print(size_filtered_orfs.shape)\n",
    "size_filtered_orfs.head(3)"
   ]
  },
  {
   "cell_type": "markdown",
   "metadata": {},
   "source": [
    "# TPM Filter\n",
    "Here we want to select for peptides that have relatively high expressions levels across the cancer samples."
   ]
  },
  {
   "cell_type": "code",
   "execution_count": 16,
   "metadata": {},
   "outputs": [],
   "source": [
    "transcripts = []\n",
    "median_exp = []\n",
    "mean_exp = []\n",
    "for tx, sample_dict in tx_sample_dict.items():\n",
    "    tpm_array = []\n",
    "    for sample, tpm in sample_dict.items():\n",
    "        tpm_array.append(tpm)\n",
    "    assert len(tpm_array) == 145\n",
    "    transcripts.append(tx)\n",
    "    median_exp.append(np.median(tpm_array))\n",
    "    mean_exp.append(np.mean(tpm_array))\n",
    "    \n",
    "tx_exp_df = pd.DataFrame({\"tx\":transcripts, \"median_tpm\": median_exp, \"mean_tpm\":mean_exp})"
   ]
  },
  {
   "cell_type": "code",
   "execution_count": 17,
   "metadata": {},
   "outputs": [
    {
     "data": {
      "text/html": [
       "<div>\n",
       "<style scoped>\n",
       "    .dataframe tbody tr th:only-of-type {\n",
       "        vertical-align: middle;\n",
       "    }\n",
       "\n",
       "    .dataframe tbody tr th {\n",
       "        vertical-align: top;\n",
       "    }\n",
       "\n",
       "    .dataframe thead th {\n",
       "        text-align: right;\n",
       "    }\n",
       "</style>\n",
       "<table border=\"1\" class=\"dataframe\">\n",
       "  <thead>\n",
       "    <tr style=\"text-align: right;\">\n",
       "      <th></th>\n",
       "      <th>tx</th>\n",
       "      <th>median_tpm</th>\n",
       "      <th>mean_tpm</th>\n",
       "    </tr>\n",
       "  </thead>\n",
       "  <tbody>\n",
       "    <tr>\n",
       "      <th>1</th>\n",
       "      <td>gene.2.2.0-x0-11</td>\n",
       "      <td>0.087538</td>\n",
       "      <td>0.163984</td>\n",
       "    </tr>\n",
       "    <tr>\n",
       "      <th>2</th>\n",
       "      <td>gene.1.0.1-x2-24</td>\n",
       "      <td>1.015092</td>\n",
       "      <td>1.143669</td>\n",
       "    </tr>\n",
       "    <tr>\n",
       "      <th>3</th>\n",
       "      <td>gene.2.0.2-x0-23</td>\n",
       "      <td>1.906066</td>\n",
       "      <td>2.253746</td>\n",
       "    </tr>\n",
       "  </tbody>\n",
       "</table>\n",
       "</div>"
      ],
      "text/plain": [
       "                 tx  median_tpm  mean_tpm\n",
       "1  gene.2.2.0-x0-11    0.087538  0.163984\n",
       "2  gene.1.0.1-x2-24    1.015092  1.143669\n",
       "3  gene.2.0.2-x0-23    1.906066  2.253746"
      ]
     },
     "execution_count": 17,
     "metadata": {},
     "output_type": "execute_result"
    }
   ],
   "source": [
    "non_zero_median = tx_exp_df[tx_exp_df[\"median_tpm\"] > 0]\n",
    "non_zero_median.head(3)"
   ]
  },
  {
   "cell_type": "code",
   "execution_count": 18,
   "metadata": {},
   "outputs": [
    {
     "data": {
      "image/png": "[encoded data removed]",
      "text/plain": [
       "<Figure size 360x360 with 1 Axes>"
      ]
     },
     "metadata": {
      "needs_background": "light"
     },
     "output_type": "display_data"
    }
   ],
   "source": [
    "sns.displot(np.log10(non_zero_median[\"median_tpm\"]), bins=40, label='scallop')\n",
    "plt.xlabel('Log10 Median TPM')\n",
    "plt.axvline(np.log10(0.7), linestyle='--', c='orange')\n",
    "plt.legend()\n",
    "plt.savefig(\"figures/peptides_median_tpm_distrib.pdf\")\n",
    "plt.show()"
   ]
  },
  {
   "cell_type": "code",
   "execution_count": 19,
   "metadata": {},
   "outputs": [],
   "source": [
    "non_zero_mean = tx_exp_df[tx_exp_df[\"mean_tpm\"] > 0]"
   ]
  },
  {
   "cell_type": "code",
   "execution_count": 20,
   "metadata": {},
   "outputs": [
    {
     "data": {
      "image/png": "[encoded data removed]",
      "text/plain": [
       "<Figure size 360x360 with 1 Axes>"
      ]
     },
     "metadata": {
      "needs_background": "light"
     },
     "output_type": "display_data"
    }
   ],
   "source": [
    "sns.displot(np.log10(non_zero_mean[\"mean_tpm\"]), bins=40, label='scallop')\n",
    "plt.xlabel('log10 Mean TPM')\n",
    "plt.axvline(np.log10(0.7), linestyle='--', c='orange')\n",
    "plt.legend()\n",
    "plt.savefig(\"figures/peptides_mean_tpm_distrib.pdf\")\n",
    "plt.show()"
   ]
  },
  {
   "cell_type": "code",
   "execution_count": 21,
   "metadata": {},
   "outputs": [
    {
     "data": {
      "text/plain": [
       "(19238, 3)"
      ]
     },
     "execution_count": 21,
     "metadata": {},
     "output_type": "execute_result"
    }
   ],
   "source": [
    "median_filtered_orfs = tx_exp_df[tx_exp_df[\"median_tpm\"] > 0.7]\n",
    "median_filtered_orfs.shape"
   ]
  },
  {
   "cell_type": "markdown",
   "metadata": {},
   "source": [
    "# Filtered List\n",
    "We require our ORFS to pass all of our filters."
   ]
  },
  {
   "cell_type": "code",
   "execution_count": 22,
   "metadata": {},
   "outputs": [
    {
     "name": "stdout",
     "output_type": "stream",
     "text": [
      "(66933, 6)\n"
     ]
    },
    {
     "data": {
      "text/html": [
       "<div>\n",
       "<style scoped>\n",
       "    .dataframe tbody tr th:only-of-type {\n",
       "        vertical-align: middle;\n",
       "    }\n",
       "\n",
       "    .dataframe tbody tr th {\n",
       "        vertical-align: top;\n",
       "    }\n",
       "\n",
       "    .dataframe thead th {\n",
       "        text-align: right;\n",
       "    }\n",
       "</style>\n",
       "<table border=\"1\" class=\"dataframe\">\n",
       "  <thead>\n",
       "    <tr style=\"text-align: right;\">\n",
       "      <th></th>\n",
       "      <th>score</th>\n",
       "      <th>ORFlength</th>\n",
       "      <th>ORFIDinTranscript</th>\n",
       "      <th>totalNumORFinTranscript</th>\n",
       "      <th>tx</th>\n",
       "      <th>kozak_id</th>\n",
       "    </tr>\n",
       "    <tr>\n",
       "      <th>kozak_id</th>\n",
       "      <th></th>\n",
       "      <th></th>\n",
       "      <th></th>\n",
       "      <th></th>\n",
       "      <th></th>\n",
       "      <th></th>\n",
       "    </tr>\n",
       "  </thead>\n",
       "  <tbody>\n",
       "    <tr>\n",
       "      <th>gene.7.0.1-x0-30_kozak_0</th>\n",
       "      <td>10.227</td>\n",
       "      <td>153</td>\n",
       "      <td>0</td>\n",
       "      <td>2</td>\n",
       "      <td>gene.7.0.1-x0-30</td>\n",
       "      <td>gene.7.0.1-x0-30_kozak_0</td>\n",
       "    </tr>\n",
       "    <tr>\n",
       "      <th>gene.17.0.1-x2-3_kozak_0</th>\n",
       "      <td>10.227</td>\n",
       "      <td>153</td>\n",
       "      <td>0</td>\n",
       "      <td>2</td>\n",
       "      <td>gene.17.0.1-x2-3</td>\n",
       "      <td>gene.17.0.1-x2-3_kozak_0</td>\n",
       "    </tr>\n",
       "    <tr>\n",
       "      <th>gene.5.0.0-x0-3_kozak_0</th>\n",
       "      <td>10.227</td>\n",
       "      <td>153</td>\n",
       "      <td>0</td>\n",
       "      <td>2</td>\n",
       "      <td>gene.5.0.0-x0-3</td>\n",
       "      <td>gene.5.0.0-x0-3_kozak_0</td>\n",
       "    </tr>\n",
       "  </tbody>\n",
       "</table>\n",
       "</div>"
      ],
      "text/plain": [
       "                           score  ORFlength  ORFIDinTranscript  \\\n",
       "kozak_id                                                         \n",
       "gene.7.0.1-x0-30_kozak_0  10.227        153                  0   \n",
       "gene.17.0.1-x2-3_kozak_0  10.227        153                  0   \n",
       "gene.5.0.0-x0-3_kozak_0   10.227        153                  0   \n",
       "\n",
       "                          totalNumORFinTranscript                tx  \\\n",
       "kozak_id                                                              \n",
       "gene.7.0.1-x0-30_kozak_0                        2  gene.7.0.1-x0-30   \n",
       "gene.17.0.1-x2-3_kozak_0                        2  gene.17.0.1-x2-3   \n",
       "gene.5.0.0-x0-3_kozak_0                         2   gene.5.0.0-x0-3   \n",
       "\n",
       "                                          kozak_id  \n",
       "kozak_id                                            \n",
       "gene.7.0.1-x0-30_kozak_0  gene.7.0.1-x0-30_kozak_0  \n",
       "gene.17.0.1-x2-3_kozak_0  gene.17.0.1-x2-3_kozak_0  \n",
       "gene.5.0.0-x0-3_kozak_0    gene.5.0.0-x0-3_kozak_0  "
      ]
     },
     "execution_count": 22,
     "metadata": {},
     "output_type": "execute_result"
    }
   ],
   "source": [
    "match = [_id for _id in size_filtered_orfs.index if _id in top_kozak_orfs.index]\n",
    "filtered_orfs = size_filtered_orfs.loc[match]\n",
    "filtered_orfs[\"tx\"] = [_id.split(\"_\")[0] for _id in filtered_orfs.index]\n",
    "filtered_orfs[\"kozak_id\"] = filtered_orfs.index\n",
    "print(filtered_orfs.shape)\n",
    "filtered_orfs.head(3)"
   ]
  },
  {
   "cell_type": "code",
   "execution_count": 23,
   "metadata": {},
   "outputs": [
    {
     "name": "stdout",
     "output_type": "stream",
     "text": [
      "(1427, 8)\n"
     ]
    },
    {
     "data": {
      "text/html": [
       "<div>\n",
       "<style scoped>\n",
       "    .dataframe tbody tr th:only-of-type {\n",
       "        vertical-align: middle;\n",
       "    }\n",
       "\n",
       "    .dataframe tbody tr th {\n",
       "        vertical-align: top;\n",
       "    }\n",
       "\n",
       "    .dataframe thead th {\n",
       "        text-align: right;\n",
       "    }\n",
       "</style>\n",
       "<table border=\"1\" class=\"dataframe\">\n",
       "  <thead>\n",
       "    <tr style=\"text-align: right;\">\n",
       "      <th></th>\n",
       "      <th>score</th>\n",
       "      <th>ORFlength</th>\n",
       "      <th>ORFIDinTranscript</th>\n",
       "      <th>totalNumORFinTranscript</th>\n",
       "      <th>tx</th>\n",
       "      <th>kozak_id</th>\n",
       "      <th>median_tpm</th>\n",
       "      <th>mean_tpm</th>\n",
       "    </tr>\n",
       "  </thead>\n",
       "  <tbody>\n",
       "    <tr>\n",
       "      <th>0</th>\n",
       "      <td>9.611</td>\n",
       "      <td>69</td>\n",
       "      <td>0</td>\n",
       "      <td>3</td>\n",
       "      <td>gene.57.0.1-x2-14</td>\n",
       "      <td>gene.57.0.1-x2-14_kozak_0</td>\n",
       "      <td>2.326552</td>\n",
       "      <td>2.808074</td>\n",
       "    </tr>\n",
       "    <tr>\n",
       "      <th>1</th>\n",
       "      <td>10.466</td>\n",
       "      <td>342</td>\n",
       "      <td>0</td>\n",
       "      <td>1</td>\n",
       "      <td>gene.29.1159.6-x1-23</td>\n",
       "      <td>gene.29.1159.6-x1-23_kozak_0</td>\n",
       "      <td>1.971496</td>\n",
       "      <td>2.502299</td>\n",
       "    </tr>\n",
       "    <tr>\n",
       "      <th>2</th>\n",
       "      <td>10.466</td>\n",
       "      <td>165</td>\n",
       "      <td>0</td>\n",
       "      <td>3</td>\n",
       "      <td>gene.81.2.2-x0-1</td>\n",
       "      <td>gene.81.2.2-x0-1_kozak_0</td>\n",
       "      <td>2.378656</td>\n",
       "      <td>3.104456</td>\n",
       "    </tr>\n",
       "  </tbody>\n",
       "</table>\n",
       "</div>"
      ],
      "text/plain": [
       "    score  ORFlength  ORFIDinTranscript  totalNumORFinTranscript  \\\n",
       "0   9.611         69                  0                        3   \n",
       "1  10.466        342                  0                        1   \n",
       "2  10.466        165                  0                        3   \n",
       "\n",
       "                     tx                      kozak_id  median_tpm  mean_tpm  \n",
       "0     gene.57.0.1-x2-14     gene.57.0.1-x2-14_kozak_0    2.326552  2.808074  \n",
       "1  gene.29.1159.6-x1-23  gene.29.1159.6-x1-23_kozak_0    1.971496  2.502299  \n",
       "2      gene.81.2.2-x0-1      gene.81.2.2-x0-1_kozak_0    2.378656  3.104456  "
      ]
     },
     "execution_count": 23,
     "metadata": {},
     "output_type": "execute_result"
    }
   ],
   "source": [
    "filtered_orfs = pd.merge(filtered_orfs, median_filtered_orfs, on=\"tx\", how=\"inner\")\n",
    "print(filtered_orfs.shape)\n",
    "filtered_orfs.head(3)"
   ]
  },
  {
   "cell_type": "code",
   "execution_count": 24,
   "metadata": {},
   "outputs": [],
   "source": [
    "filtered_orfs_id = set(filtered_orfs[\"kozak_id\"])"
   ]
  },
  {
   "cell_type": "code",
   "execution_count": 28,
   "metadata": {},
   "outputs": [],
   "source": [
    "#Save Files\n",
    "with open(\"results/filtered_orphan_peptide_ORFs.fa\", \"w\") as out:\n",
    "    for record in SeqIO.parse(\"results/orphan_peptide_ORFs.fa\", \"fasta\"):\n",
    "        if record.id not in filtered_orfs_id:\n",
    "            continue\n",
    "        peptide = str(record.seq[4:].translate()) #This is to offset the 4 nucleotides from the Kozak sequence.\n",
    "        split_peptide = re.sub(\"(.{60})\", \"\\\\1\\n\", peptide, count=0, flags=re.DOTALL)\n",
    "        out.write('>' + record.id + '\\n' + split_peptide + '\\n')\n",
    "filtered_orfs.to_csv(\"results/filtered_orphan_peptide_ORFs_meta.csv\")"
   ]
  },
  {
   "cell_type": "code",
   "execution_count": 29,
   "metadata": {},
   "outputs": [],
   "source": [
    "klens = []\n",
    "for record in SeqIO.parse('results/filtered_orphan_peptide_ORFs.fa', \"fasta\"):\n",
    "    klens.append(len(record.seq))"
   ]
  },
  {
   "cell_type": "code",
   "execution_count": 30,
   "metadata": {},
   "outputs": [
    {
     "data": {
      "image/png": "[encoded data removed]",
      "text/plain": [
       "<Figure size 360x360 with 1 Axes>"
      ]
     },
     "metadata": {
      "needs_background": "light"
     },
     "output_type": "display_data"
    }
   ],
   "source": [
    "sns.displot(np.log10(klens), bins=40)\n",
    "plt.xlabel('log10 Peptide Length')\n",
    "plt.show()"
   ]
  },
  {
   "cell_type": "markdown",
   "metadata": {},
   "source": [
    "# Done"
   ]
  }
 ],
 "metadata": {
  "kernelspec": {
   "display_name": "Python [conda env:peptide]",
   "language": "python",
   "name": "conda-env-peptide-py"
  },
  "language_info": {
   "codemirror_mode": {
    "name": "ipython",
    "version": 3
   },
   "file_extension": ".py",
   "mimetype": "text/x-python",
   "name": "python",
   "nbconvert_exporter": "python",
   "pygments_lexer": "ipython3",
   "version": "3.7.9"
  }
 },
 "nbformat": 4,
 "nbformat_minor": 4
}
