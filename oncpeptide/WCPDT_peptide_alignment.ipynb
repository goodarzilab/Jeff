{
 "cells": [
  {
   "cell_type": "markdown",
   "metadata": {},
   "source": [
    "# WCPDT Peptide Alignment\n",
    "Here we apply the final filter for our peptides by aligning our peptide list to known proteome database for a final checkup."
   ]
  },
  {
   "cell_type": "code",
   "execution_count": 1,
   "metadata": {},
   "outputs": [],
   "source": [
    "from Bio import SeqIO\n",
    "import gzip\n",
    "import re\n",
    "import numpy as np\n",
    "import pandas as pd\n",
    "import matplotlib.pyplot as plt\n",
    "import seaborn as sns\n"
   ]
  },
  {
   "cell_type": "markdown",
   "metadata": {},
   "source": [
    "# 20mer Splits\n",
    "First we split our peptides into 20mers and use the 20mer with the highest alignment rate as the peptide's representative/overall alignment score."
   ]
  },
  {
   "cell_type": "code",
   "execution_count": 2,
   "metadata": {},
   "outputs": [],
   "source": [
    "#Split proteins into chunks of 20\n",
    "new_file = \"results/filtered_orphan_peptide_20mers.fa\"\n",
    "kmer = 20\n",
    "\n",
    "with open(new_file, \"w\") as new_fa:\n",
    "    for record in SeqIO.parse(\"results/filtered_orphan_peptide_ORFs.fa\", \"fasta\"):\n",
    "        kmer_count = 0\n",
    "        for i in np.arange(0,len(record.seq),kmer):\n",
    "            seq = str(record.seq[i:i+kmer])\n",
    "            if len(seq) < kmer: #Aidan mentioned he just discard the tail ends that are smaller than 20AA\n",
    "                continue \n",
    "            elif len(seq) >= kmer:\n",
    "                new_fa.write('>' + record.id + '_kmer_' + str(kmer_count) + '\\n')\n",
    "                new_fa.write(str(record.seq[i:i+kmer]) + '\\n')\n",
    "            kmer_count += 1  "
   ]
  },
  {
   "cell_type": "markdown",
   "metadata": {},
   "source": [
    "# Peptide Alignment to Proteome\n",
    "Our last step is to align these peptides using BLAST and eliminate peptides with high alignment rates to known proteome. To do this we used the blastp function from the BLAST+ tool."
   ]
  },
  {
   "cell_type": "code",
   "execution_count": 6,
   "metadata": {},
   "outputs": [
    {
     "name": "stderr",
     "output_type": "stream",
     "text": [
      "Warning: [blastp] The parameter -num_descriptions is ignored for output formats > 4 . Use -max_target_seqs to control output\n"
     ]
    }
   ],
   "source": [
    "%%bash\n",
    "/rumi/shams/jwang/bin/ncbi-blast-2.11.0+/bin/blastp -query results/filtered_orphan_peptide_20mers.fa \\\n",
    "-db /rumi/shams/jwang/bin/ncbi-blast-2.11.0+/bin/swissprot \\\n",
    "-task blastp-short \\\n",
    "-outfmt 10 \\\n",
    "-out results/filtered_orphan_peptide_20mer_blast.csv \\\n",
    "-num_alignments 5 \\\n",
    "-num_descriptions 5 \\\n",
    "-taxids 9606 "
   ]
  },
  {
   "cell_type": "code",
   "execution_count": 10,
   "metadata": {},
   "outputs": [
    {
     "name": "stdout",
     "output_type": "stream",
     "text": [
      "3019\n"
     ]
    },
    {
     "data": {
      "text/plain": [
       "(12824, 12)"
      ]
     },
     "execution_count": 10,
     "metadata": {},
     "output_type": "execute_result"
    }
   ],
   "source": [
    "#saccver = Subject accession.version, pident = Percentage of identical matches, \n",
    "header = ['id', 'saccver', 'pident', 'length', 'mismatch', 'gapopen', 'qstart', 'qend', 'sstart', 'send', 'evalue', 'bitscore']\n",
    "blast_results = pd.read_csv(\"results/filtered_orphan_peptide_20mer_blast.csv\", names=header)\n",
    "print(len(blast_results[\"id\"].unique()))\n",
    "blast_results.shape"
   ]
  },
  {
   "cell_type": "code",
   "execution_count": 9,
   "metadata": {},
   "outputs": [
    {
     "data": {
      "text/html": [
       "<div>\n",
       "<style scoped>\n",
       "    .dataframe tbody tr th:only-of-type {\n",
       "        vertical-align: middle;\n",
       "    }\n",
       "\n",
       "    .dataframe tbody tr th {\n",
       "        vertical-align: top;\n",
       "    }\n",
       "\n",
       "    .dataframe thead th {\n",
       "        text-align: right;\n",
       "    }\n",
       "</style>\n",
       "<table border=\"1\" class=\"dataframe\">\n",
       "  <thead>\n",
       "    <tr style=\"text-align: right;\">\n",
       "      <th></th>\n",
       "      <th>id</th>\n",
       "      <th>saccver</th>\n",
       "      <th>pident</th>\n",
       "      <th>length</th>\n",
       "      <th>mismatch</th>\n",
       "      <th>gapopen</th>\n",
       "      <th>qstart</th>\n",
       "      <th>qend</th>\n",
       "      <th>sstart</th>\n",
       "      <th>send</th>\n",
       "      <th>evalue</th>\n",
       "      <th>bitscore</th>\n",
       "    </tr>\n",
       "  </thead>\n",
       "  <tbody>\n",
       "    <tr>\n",
       "      <th>0</th>\n",
       "      <td>gene.57.0.1-x2-14_kozak_0_kmer_0</td>\n",
       "      <td>Q9H252.1</td>\n",
       "      <td>87.500</td>\n",
       "      <td>8</td>\n",
       "      <td>1</td>\n",
       "      <td>0</td>\n",
       "      <td>13</td>\n",
       "      <td>20</td>\n",
       "      <td>718</td>\n",
       "      <td>725</td>\n",
       "      <td>3.9</td>\n",
       "      <td>23.5</td>\n",
       "    </tr>\n",
       "    <tr>\n",
       "      <th>1</th>\n",
       "      <td>gene.57.0.1-x2-14_kozak_0_kmer_0</td>\n",
       "      <td>A8K2U0.3</td>\n",
       "      <td>47.059</td>\n",
       "      <td>17</td>\n",
       "      <td>3</td>\n",
       "      <td>1</td>\n",
       "      <td>3</td>\n",
       "      <td>19</td>\n",
       "      <td>1076</td>\n",
       "      <td>1086</td>\n",
       "      <td>6.8</td>\n",
       "      <td>23.1</td>\n",
       "    </tr>\n",
       "    <tr>\n",
       "      <th>2</th>\n",
       "      <td>gene.57.0.1-x2-14_kozak_0_kmer_0</td>\n",
       "      <td>Q9HCM7.4</td>\n",
       "      <td>87.500</td>\n",
       "      <td>8</td>\n",
       "      <td>1</td>\n",
       "      <td>0</td>\n",
       "      <td>13</td>\n",
       "      <td>20</td>\n",
       "      <td>871</td>\n",
       "      <td>878</td>\n",
       "      <td>7.8</td>\n",
       "      <td>22.7</td>\n",
       "    </tr>\n",
       "  </tbody>\n",
       "</table>\n",
       "</div>"
      ],
      "text/plain": [
       "                                 id   saccver  pident  length  mismatch  \\\n",
       "0  gene.57.0.1-x2-14_kozak_0_kmer_0  Q9H252.1  87.500       8         1   \n",
       "1  gene.57.0.1-x2-14_kozak_0_kmer_0  A8K2U0.3  47.059      17         3   \n",
       "2  gene.57.0.1-x2-14_kozak_0_kmer_0  Q9HCM7.4  87.500       8         1   \n",
       "\n",
       "   gapopen  qstart  qend  sstart  send  evalue  bitscore  \n",
       "0        0      13    20     718   725     3.9      23.5  \n",
       "1        1       3    19    1076  1086     6.8      23.1  \n",
       "2        0      13    20     871   878     7.8      22.7  "
      ]
     },
     "execution_count": 9,
     "metadata": {},
     "output_type": "execute_result"
    }
   ],
   "source": [
    "blast_results.head(3)"
   ]
  },
  {
   "cell_type": "code",
   "execution_count": 11,
   "metadata": {},
   "outputs": [
    {
     "name": "stdout",
     "output_type": "stream",
     "text": [
      "(3019, 1)\n"
     ]
    },
    {
     "data": {
      "text/html": [
       "<div>\n",
       "<style scoped>\n",
       "    .dataframe tbody tr th:only-of-type {\n",
       "        vertical-align: middle;\n",
       "    }\n",
       "\n",
       "    .dataframe tbody tr th {\n",
       "        vertical-align: top;\n",
       "    }\n",
       "\n",
       "    .dataframe thead th {\n",
       "        text-align: right;\n",
       "    }\n",
       "</style>\n",
       "<table border=\"1\" class=\"dataframe\">\n",
       "  <thead>\n",
       "    <tr style=\"text-align: right;\">\n",
       "      <th></th>\n",
       "      <th>bitscore</th>\n",
       "    </tr>\n",
       "    <tr>\n",
       "      <th>id</th>\n",
       "      <th></th>\n",
       "    </tr>\n",
       "  </thead>\n",
       "  <tbody>\n",
       "    <tr>\n",
       "      <th>gene.10020.301.1-x0-36_kozak_1_kmer_0</th>\n",
       "      <td>25.7</td>\n",
       "    </tr>\n",
       "    <tr>\n",
       "      <th>gene.10020.301.1-x0-36_kozak_1_kmer_1</th>\n",
       "      <td>24.0</td>\n",
       "    </tr>\n",
       "    <tr>\n",
       "      <th>gene.10020.301.1-x0-36_kozak_1_kmer_2</th>\n",
       "      <td>25.2</td>\n",
       "    </tr>\n",
       "  </tbody>\n",
       "</table>\n",
       "</div>"
      ],
      "text/plain": [
       "                                       bitscore\n",
       "id                                             \n",
       "gene.10020.301.1-x0-36_kozak_1_kmer_0      25.7\n",
       "gene.10020.301.1-x0-36_kozak_1_kmer_1      24.0\n",
       "gene.10020.301.1-x0-36_kozak_1_kmer_2      25.2"
      ]
     },
     "execution_count": 11,
     "metadata": {},
     "output_type": "execute_result"
    }
   ],
   "source": [
    "#aggregate multiple alignments into maximum chunk\n",
    "grouped_blast = blast_results.groupby('id', as_index=False).agg({'bitscore':'max'}) #Get the maximum bitscore for each group (merge multiple hits)!\n",
    "grouped_blast = grouped_blast.set_index('id')\n",
    "print(grouped_blast.shape)\n",
    "grouped_blast.head(3)"
   ]
  },
  {
   "cell_type": "code",
   "execution_count": 14,
   "metadata": {},
   "outputs": [
    {
     "name": "stdout",
     "output_type": "stream",
     "text": [
      "(1406, 2)\n"
     ]
    },
    {
     "data": {
      "text/html": [
       "<div>\n",
       "<style scoped>\n",
       "    .dataframe tbody tr th:only-of-type {\n",
       "        vertical-align: middle;\n",
       "    }\n",
       "\n",
       "    .dataframe tbody tr th {\n",
       "        vertical-align: top;\n",
       "    }\n",
       "\n",
       "    .dataframe thead th {\n",
       "        text-align: right;\n",
       "    }\n",
       "</style>\n",
       "<table border=\"1\" class=\"dataframe\">\n",
       "  <thead>\n",
       "    <tr style=\"text-align: right;\">\n",
       "      <th></th>\n",
       "      <th>orf_id</th>\n",
       "      <th>bitscore</th>\n",
       "    </tr>\n",
       "  </thead>\n",
       "  <tbody>\n",
       "    <tr>\n",
       "      <th>0</th>\n",
       "      <td>gene.10020.301.1-x0-36_kozak_1</td>\n",
       "      <td>25.7</td>\n",
       "    </tr>\n",
       "    <tr>\n",
       "      <th>1</th>\n",
       "      <td>gene.10055.109.0-x0-19_kozak_0</td>\n",
       "      <td>26.5</td>\n",
       "    </tr>\n",
       "    <tr>\n",
       "      <th>2</th>\n",
       "      <td>gene.1008.233.3-x2-32_kozak_1</td>\n",
       "      <td>29.5</td>\n",
       "    </tr>\n",
       "  </tbody>\n",
       "</table>\n",
       "</div>"
      ],
      "text/plain": [
       "                           orf_id  bitscore\n",
       "0  gene.10020.301.1-x0-36_kozak_1      25.7\n",
       "1  gene.10055.109.0-x0-19_kozak_0      26.5\n",
       "2   gene.1008.233.3-x2-32_kozak_1      29.5"
      ]
     },
     "execution_count": 14,
     "metadata": {},
     "output_type": "execute_result"
    }
   ],
   "source": [
    "#Aggregate kmers into max bitscore for each orf\n",
    "grouped_blast['orf_id'] = [x.split('_kmer')[0] for x in grouped_blast.index]\n",
    "final_blast = grouped_blast.groupby('orf_id', as_index=False).agg({'bitscore':'max'}) #Get the maximum bitscore for each group (orf)\n",
    "print(final_blast.shape)\n",
    "final_blast.head(3)"
   ]
  },
  {
   "cell_type": "code",
   "execution_count": 17,
   "metadata": {},
   "outputs": [
    {
     "data": {
      "image/png": "[encoded data removed]",
      "text/plain": [
       "<Figure size 360x360 with 1 Axes>"
      ]
     },
     "metadata": {
      "needs_background": "light"
     },
     "output_type": "display_data"
    },
    {
     "name": "stdout",
     "output_type": "stream",
     "text": [
      "0.8129445234708392\n"
     ]
    }
   ],
   "source": [
    "sns.displot(final_blast[\"bitscore\"], bins=100)\n",
    "plt.xlabel(\"Bit Score\")\n",
    "plt.axvline(35, linestyle='--', c='red')\n",
    "plt.show()\n",
    "\n",
    "print(np.sum(final_blast.bitscore < 35) / len(final_blast.bitscore))"
   ]
  },
  {
   "cell_type": "markdown",
   "metadata": {},
   "source": [
    "We want to keep peptides with low bitscore or alignments to the known proteome."
   ]
  },
  {
   "cell_type": "code",
   "execution_count": 19,
   "metadata": {},
   "outputs": [
    {
     "data": {
      "text/html": [
       "<div>\n",
       "<style scoped>\n",
       "    .dataframe tbody tr th:only-of-type {\n",
       "        vertical-align: middle;\n",
       "    }\n",
       "\n",
       "    .dataframe tbody tr th {\n",
       "        vertical-align: top;\n",
       "    }\n",
       "\n",
       "    .dataframe thead th {\n",
       "        text-align: right;\n",
       "    }\n",
       "</style>\n",
       "<table border=\"1\" class=\"dataframe\">\n",
       "  <thead>\n",
       "    <tr style=\"text-align: right;\">\n",
       "      <th></th>\n",
       "      <th>score</th>\n",
       "      <th>ORFlength</th>\n",
       "      <th>ORFIDinTranscript</th>\n",
       "      <th>totalNumORFinTranscript</th>\n",
       "      <th>tx</th>\n",
       "      <th>kozak_id</th>\n",
       "      <th>median_tpm</th>\n",
       "      <th>mean_tpm</th>\n",
       "    </tr>\n",
       "  </thead>\n",
       "  <tbody>\n",
       "    <tr>\n",
       "      <th>0</th>\n",
       "      <td>9.611</td>\n",
       "      <td>69</td>\n",
       "      <td>0</td>\n",
       "      <td>3</td>\n",
       "      <td>gene.57.0.1-x2-14</td>\n",
       "      <td>gene.57.0.1-x2-14_kozak_0</td>\n",
       "      <td>2.326552</td>\n",
       "      <td>2.808074</td>\n",
       "    </tr>\n",
       "    <tr>\n",
       "      <th>1</th>\n",
       "      <td>10.466</td>\n",
       "      <td>342</td>\n",
       "      <td>0</td>\n",
       "      <td>1</td>\n",
       "      <td>gene.29.1159.6-x1-23</td>\n",
       "      <td>gene.29.1159.6-x1-23_kozak_0</td>\n",
       "      <td>1.971496</td>\n",
       "      <td>2.502299</td>\n",
       "    </tr>\n",
       "    <tr>\n",
       "      <th>2</th>\n",
       "      <td>10.466</td>\n",
       "      <td>165</td>\n",
       "      <td>0</td>\n",
       "      <td>3</td>\n",
       "      <td>gene.81.2.2-x0-1</td>\n",
       "      <td>gene.81.2.2-x0-1_kozak_0</td>\n",
       "      <td>2.378656</td>\n",
       "      <td>3.104456</td>\n",
       "    </tr>\n",
       "  </tbody>\n",
       "</table>\n",
       "</div>"
      ],
      "text/plain": [
       "    score  ORFlength  ORFIDinTranscript  totalNumORFinTranscript  \\\n",
       "0   9.611         69                  0                        3   \n",
       "1  10.466        342                  0                        1   \n",
       "2  10.466        165                  0                        3   \n",
       "\n",
       "                     tx                      kozak_id  median_tpm  mean_tpm  \n",
       "0     gene.57.0.1-x2-14     gene.57.0.1-x2-14_kozak_0    2.326552  2.808074  \n",
       "1  gene.29.1159.6-x1-23  gene.29.1159.6-x1-23_kozak_0    1.971496  2.502299  \n",
       "2      gene.81.2.2-x0-1      gene.81.2.2-x0-1_kozak_0    2.378656  3.104456  "
      ]
     },
     "execution_count": 19,
     "metadata": {},
     "output_type": "execute_result"
    }
   ],
   "source": [
    "filtered_orfs = pd.read_csv(\"results/filtered_orphan_peptide_ORFs_meta.csv\", index_col=0)\n",
    "filtered_orfs.head(3)"
   ]
  },
  {
   "cell_type": "code",
   "execution_count": 20,
   "metadata": {},
   "outputs": [
    {
     "name": "stdout",
     "output_type": "stream",
     "text": [
      "(1406, 10)\n"
     ]
    },
    {
     "data": {
      "text/html": [
       "<div>\n",
       "<style scoped>\n",
       "    .dataframe tbody tr th:only-of-type {\n",
       "        vertical-align: middle;\n",
       "    }\n",
       "\n",
       "    .dataframe tbody tr th {\n",
       "        vertical-align: top;\n",
       "    }\n",
       "\n",
       "    .dataframe thead th {\n",
       "        text-align: right;\n",
       "    }\n",
       "</style>\n",
       "<table border=\"1\" class=\"dataframe\">\n",
       "  <thead>\n",
       "    <tr style=\"text-align: right;\">\n",
       "      <th></th>\n",
       "      <th>score</th>\n",
       "      <th>ORFlength</th>\n",
       "      <th>ORFIDinTranscript</th>\n",
       "      <th>totalNumORFinTranscript</th>\n",
       "      <th>tx</th>\n",
       "      <th>kozak_id</th>\n",
       "      <th>median_tpm</th>\n",
       "      <th>mean_tpm</th>\n",
       "      <th>orf_id</th>\n",
       "      <th>bitscore</th>\n",
       "    </tr>\n",
       "  </thead>\n",
       "  <tbody>\n",
       "    <tr>\n",
       "      <th>0</th>\n",
       "      <td>9.611</td>\n",
       "      <td>69</td>\n",
       "      <td>0</td>\n",
       "      <td>3</td>\n",
       "      <td>gene.57.0.1-x2-14</td>\n",
       "      <td>gene.57.0.1-x2-14_kozak_0</td>\n",
       "      <td>2.326552</td>\n",
       "      <td>2.808074</td>\n",
       "      <td>gene.57.0.1-x2-14_kozak_0</td>\n",
       "      <td>23.5</td>\n",
       "    </tr>\n",
       "    <tr>\n",
       "      <th>1</th>\n",
       "      <td>10.466</td>\n",
       "      <td>342</td>\n",
       "      <td>0</td>\n",
       "      <td>1</td>\n",
       "      <td>gene.29.1159.6-x1-23</td>\n",
       "      <td>gene.29.1159.6-x1-23_kozak_0</td>\n",
       "      <td>1.971496</td>\n",
       "      <td>2.502299</td>\n",
       "      <td>gene.29.1159.6-x1-23_kozak_0</td>\n",
       "      <td>46.0</td>\n",
       "    </tr>\n",
       "    <tr>\n",
       "      <th>2</th>\n",
       "      <td>10.466</td>\n",
       "      <td>165</td>\n",
       "      <td>0</td>\n",
       "      <td>3</td>\n",
       "      <td>gene.81.2.2-x0-1</td>\n",
       "      <td>gene.81.2.2-x0-1_kozak_0</td>\n",
       "      <td>2.378656</td>\n",
       "      <td>3.104456</td>\n",
       "      <td>gene.81.2.2-x0-1_kozak_0</td>\n",
       "      <td>46.0</td>\n",
       "    </tr>\n",
       "  </tbody>\n",
       "</table>\n",
       "</div>"
      ],
      "text/plain": [
       "    score  ORFlength  ORFIDinTranscript  totalNumORFinTranscript  \\\n",
       "0   9.611         69                  0                        3   \n",
       "1  10.466        342                  0                        1   \n",
       "2  10.466        165                  0                        3   \n",
       "\n",
       "                     tx                      kozak_id  median_tpm  mean_tpm  \\\n",
       "0     gene.57.0.1-x2-14     gene.57.0.1-x2-14_kozak_0    2.326552  2.808074   \n",
       "1  gene.29.1159.6-x1-23  gene.29.1159.6-x1-23_kozak_0    1.971496  2.502299   \n",
       "2      gene.81.2.2-x0-1      gene.81.2.2-x0-1_kozak_0    2.378656  3.104456   \n",
       "\n",
       "                         orf_id  bitscore  \n",
       "0     gene.57.0.1-x2-14_kozak_0      23.5  \n",
       "1  gene.29.1159.6-x1-23_kozak_0      46.0  \n",
       "2      gene.81.2.2-x0-1_kozak_0      46.0  "
      ]
     },
     "execution_count": 20,
     "metadata": {},
     "output_type": "execute_result"
    }
   ],
   "source": [
    "final_filtered_orfs = pd.merge(filtered_orfs, final_blast, how=\"inner\", left_on=\"kozak_id\", right_on=\"orf_id\")\n",
    "print(final_filtered_orfs.shape)\n",
    "final_filtered_orfs.head(3)"
   ]
  },
  {
   "cell_type": "code",
   "execution_count": 22,
   "metadata": {},
   "outputs": [
    {
     "data": {
      "text/plain": [
       "(1143, 10)"
      ]
     },
     "execution_count": 22,
     "metadata": {},
     "output_type": "execute_result"
    }
   ],
   "source": [
    "final_filtered_orfs = final_filtered_orfs[final_filtered_orfs[\"bitscore\"] <= 35]\n",
    "final_filtered_orfs.shape"
   ]
  },
  {
   "cell_type": "code",
   "execution_count": 23,
   "metadata": {},
   "outputs": [
    {
     "data": {
      "text/plain": [
       "1143"
      ]
     },
     "execution_count": 23,
     "metadata": {},
     "output_type": "execute_result"
    }
   ],
   "source": [
    "final_filtered_orfs_id = set(final_filtered_orfs[\"kozak_id\"])\n",
    "len(final_filtered_orfs_id)"
   ]
  },
  {
   "cell_type": "code",
   "execution_count": 24,
   "metadata": {},
   "outputs": [],
   "source": [
    "#Save Files\n",
    "with open(\"results/final_filtered_orphan_peptide_ORFs.fa\", \"w\") as out:\n",
    "    for record in SeqIO.parse(\"results/orphan_peptide_ORFs.fa\", \"fasta\"): #From original file with kozak sequence within\n",
    "        if record.id not in final_filtered_orfs_id:\n",
    "            continue\n",
    "        peptide = str(record.seq[4:].translate()) #This is to offset the 4 nucleotides from the Kozak sequence.\n",
    "        split_peptide = re.sub(\"(.{60})\", \"\\\\1\\n\", peptide, count=0, flags=re.DOTALL)\n",
    "        out.write('>' + record.id + '\\n' + split_peptide + '\\n')\n",
    "final_filtered_orfs.to_csv(\"results/final_filtered_orphan_peptide_ORFs_meta.csv\", index=None)"
   ]
  },
  {
   "cell_type": "markdown",
   "metadata": {},
   "source": [
    "Final list we have 1143 peptides."
   ]
  },
  {
   "cell_type": "markdown",
   "metadata": {},
   "source": [
    "# Done"
   ]
  }
 ],
 "metadata": {
  "kernelspec": {
   "display_name": "Python [conda env:peptide]",
   "language": "python",
   "name": "conda-env-peptide-py"
  },
  "language_info": {
   "codemirror_mode": {
    "name": "ipython",
    "version": 3
   },
   "file_extension": ".py",
   "mimetype": "text/x-python",
   "name": "python",
   "nbconvert_exporter": "python",
   "pygments_lexer": "ipython3",
   "version": "3.7.9"
  }
 },
 "nbformat": 4,
 "nbformat_minor": 4
}
