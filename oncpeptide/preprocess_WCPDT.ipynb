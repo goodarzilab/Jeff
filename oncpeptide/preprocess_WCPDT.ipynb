{
 "cells": [
  {
   "cell_type": "markdown",
   "metadata": {},
   "source": [
    "# Process WCPDT and TCGA Data\n",
    "Here we adapt and made some minor modifications to Aidan's peptide pipeline and apply it to the WCPDT dataset."
   ]
  },
  {
   "cell_type": "code",
   "execution_count": 1,
   "metadata": {},
   "outputs": [],
   "source": [
    "import pandas as pd\n",
    "import numpy as np\n",
    "import seaborn as sns\n",
    "import matplotlib.pyplot as plt\n",
    "import os\n",
    "import pysam\n",
    "from joblib import Parallel, delayed\n",
    "from multiprocessing import cpu_count\n",
    "import gzip"
   ]
  },
  {
   "cell_type": "markdown",
   "metadata": {},
   "source": [
    "## Basic Workflow Outline\n",
    "1. Identify transcripts with scallop, ex: /rumi/shams/aidan/peptide/scripts/run_scallop.sh\n",
    "2. Merge all identified transcripts (for each sample) into one file using gtfmerge union more info on gtf tools here \n",
    "3. Filter gtf of transcripts by RPKM with python function in notebook called filterGTFbyRPKM  (you can probs rewrite this better but as an example)\n",
    "4. Optional (?): filter out peptides found in TCGA normal sample. We should ask Hani if you need to do this.\n",
    "5. Convert gtf to fasta file using gffread , more info here.\n",
    "6. Identify ORF/Kozak sequence from fasta seq with regex. Look at the beginning of this notebook: orphan_peptides_derisi_summary.ipynb  for getKozak  function and how its used.\n",
    "7. Optional (?): Filter ORFs by alignment. So, you can also align ORFs (actually the peptides) against the proteome to filter out ORFs that are already annotated. Let me know when you get here and we can discuss.\n",
    "8. Filter ORFs for the best Kozak scores. Look at this notebook for that: orphan_peptides_derisi_summary.ipynb\n",
    "9. Filter ORFs by size. I did 20-5000 AA but look at what your distribution is.\n",
    "10. Write final list of ORFs (filtered by: kozak score, size, alignment, etc.) to fasta for De Risi Lab"
   ]
  },
  {
   "cell_type": "markdown",
   "metadata": {},
   "source": [
    "# Scallop \n",
    "Most time consuming/memory intensive step."
   ]
  },
  {
   "cell_type": "markdown",
   "metadata": {},
   "source": [
    "Run `scallop_call.sh` script. First time running it crashed for some reason. Need to rerun this whole process."
   ]
  },
  {
   "cell_type": "code",
   "execution_count": 3,
   "metadata": {},
   "outputs": [
    {
     "data": {
      "text/plain": [
       "145"
      ]
     },
     "execution_count": 3,
     "metadata": {},
     "output_type": "execute_result"
    }
   ],
   "source": [
    "len([f for f in os.scandir(\"WCPDT_data/bam/\") if f.name.endswith(\"bam\")])"
   ]
  },
  {
   "cell_type": "markdown",
   "metadata": {},
   "source": [
    "Some failed, probably due to memory allocation error (rumi ran out of RAM) for larger bam files.\n",
    "<br> Error message:\n",
    "<br> `terminate called after throwing an instance of 'std::bad_alloc'`"
   ]
  },
  {
   "cell_type": "code",
   "execution_count": 4,
   "metadata": {},
   "outputs": [
    {
     "data": {
      "text/plain": [
       "130"
      ]
     },
     "execution_count": 4,
     "metadata": {},
     "output_type": "execute_result"
    }
   ],
   "source": [
    "#Number of successful runs:\n",
    "len([f for f in os.scandir(\"WCPDT_data/scallop_out/\") if f.name.endswith(\"gtf\")])"
   ]
  },
  {
   "cell_type": "markdown",
   "metadata": {},
   "source": [
    "Actually not too bad only 15 failed, probably have Hani restart rumi and then I can run scallop again on these 15 files."
   ]
  },
  {
   "cell_type": "code",
   "execution_count": 26,
   "metadata": {},
   "outputs": [],
   "source": [
    "failed = []\n",
    "success = set([f.name.split(\".\")[0] for f in os.scandir(\"WCPDT_data/scallop_out/\") if f.name.endswith(\"gtf\")])\n",
    "for f in [f for f in os.scandir(\"WCPDT_data/bam/\") if f.name.endswith(\"bam\")]:\n",
    "    if f.name.split(\".\")[0] not in success:\n",
    "        failed.append(f.path)"
   ]
  },
  {
   "cell_type": "code",
   "execution_count": 27,
   "metadata": {},
   "outputs": [
    {
     "data": {
      "text/plain": [
       "['WCPDT_data/bam/DTB-204-BL-T-RNA_new.bam',\n",
       " 'WCPDT_data/bam/DTB-002-BL-NS-T-RNA_new.bam',\n",
       " 'WCPDT_data/bam/DTB-146-BL-T-RNA_new.bam',\n",
       " 'WCPDT_data/bam/DTB-265-BL-T-RNA_new.bam',\n",
       " 'WCPDT_data/bam/DTB-187-BL-T-RNA_new.bam',\n",
       " 'WCPDT_data/bam/DTB-261-BL-T-RNA_new.bam',\n",
       " 'WCPDT_data/bam/DTB-053-BL-NS-T-RNA_new.bam',\n",
       " 'WCPDT_data/bam/DTB-111-BL-T-RNA_new.bam',\n",
       " 'WCPDT_data/bam/DTB-109-BL-T-RNA.bam',\n",
       " 'WCPDT_data/bam/DTB-265-Pro-T-RNA_new.bam',\n",
       " 'WCPDT_data/bam/DTB-095-BL-T-RNA_new.bam',\n",
       " 'WCPDT_data/bam/DTB-083-BL-T-RNA_new.bam',\n",
       " 'WCPDT_data/bam/DTB-135-Pro-NS-T-RNA_new.bam',\n",
       " 'WCPDT_data/bam/DTB-085-BL-NS-T-RNA_new.bam',\n",
       " 'WCPDT_data/bam/DTB-101-BL-T-RNA_new.bam']"
      ]
     },
     "execution_count": 27,
     "metadata": {},
     "output_type": "execute_result"
    }
   ],
   "source": [
    "failed"
   ]
  },
  {
   "cell_type": "markdown",
   "metadata": {},
   "source": [
    "Run `scallop_recall.sh` after rebooting rumi, clearing up more memory space.\n",
    "<br>\n",
    "Run was successful, moved all the results into WCPDT_data/scallop_out"
   ]
  },
  {
   "cell_type": "markdown",
   "metadata": {},
   "source": [
    "# Merge Transcripts\n",
    "### gtfmerge\n",
    "Here we merge all the transcripts into a single gtf file. Note: the data from WCPDT are all metastatic samples."
   ]
  },
  {
   "cell_type": "code",
   "execution_count": 2,
   "metadata": {},
   "outputs": [],
   "source": [
    "with open(\"WCPDT_data/input_gtf.txt\", \"wt\") as write:\n",
    "    for f in os.scandir(\"WCPDT_data/scallop_out/\"):\n",
    "        write.write(\"/rumi/shams/jwang/People/DeRisi/\" + f.path+\"\\n\")"
   ]
  },
  {
   "cell_type": "code",
   "execution_count": 3,
   "metadata": {},
   "outputs": [],
   "source": [
    "%%bash\n",
    "/rumi/shams/jwang/bin/rnaseqtools-1.0.3/bin/./gtfmerge union input_gtf.txt WCPDT_data/merged_cancer.gtf -t 4 &> log/gtfmerge.out"
   ]
  },
  {
   "cell_type": "markdown",
   "metadata": {},
   "source": [
    "### gffcompare\n",
    "\n",
    "**First Filter**\n",
    "<br>First layer of filters we eliminate transcripts found in the gencode basic annotation gtf.\n"
   ]
  },
  {
   "cell_type": "code",
   "execution_count": 4,
   "metadata": {},
   "outputs": [],
   "source": [
    "%%bash\n",
    "gffcompare -o gencode_comp -r WCPDT_data/gencode.v28.basic.annotation.gtf \\\n",
    "WCPDT_data/merged_cancer.gtf &> log/gffcompare1.out"
   ]
  },
  {
   "cell_type": "code",
   "execution_count": 5,
   "metadata": {},
   "outputs": [],
   "source": [
    "%%bash\n",
    "/rumi/shams/jwang/bin/rnaseqtools-1.0.3/bin/./gtfcuff puniq WCPDT_data/gencode_comp.merged_cancer.gtf.tmap \\\n",
    "WCPDT_data/merged_cancer.gtf WCPDT_data/gencode.v28.basic.annotation.gtf \\\n",
    "WCPDT_data/merged_cancer_filter_gencode.gtf &> log/gtfcuff1.out"
   ]
  },
  {
   "cell_type": "markdown",
   "metadata": {},
   "source": [
    "**Second Filter**\n",
    "<br>Second layer of filters we eliminate transcripts found in the merged normal gtf that Aidan created using TCGA data (normal samples from all tissue types)\n",
    "<br> Aidan's merged normal gtf file name: `normal_merged_100925.gtf`\n",
    "<br>Ran the below code in terminal"
   ]
  },
  {
   "cell_type": "code",
   "execution_count": 6,
   "metadata": {},
   "outputs": [],
   "source": [
    "%%bash\n",
    "gffcompare -o normal_comp -r WCPDT_data/normal_merged_190925.gtf WCPDT_data/merged_cancer_filter_gencode.gtf &> log/gffcompare2.out\n"
   ]
  },
  {
   "cell_type": "code",
   "execution_count": 7,
   "metadata": {},
   "outputs": [],
   "source": [
    "%%bash\n",
    "/rumi/shams/jwang/bin/rnaseqtools-1.0.3/bin/./gtfcuff puniq WCPDT_data/normal_comp.merged_cancer_filter_gencode.gtf.tmap \\\n",
    "WCPDT_data/merged_cancer_filter_gencode.gtf WCPDT_data/normal_merged_190925.gtf WCPDT_data/merged_cancer_filtered.gtf &> log/gtfcuff2.out\n"
   ]
  },
  {
   "cell_type": "markdown",
   "metadata": {},
   "source": [
    "## Check GTF RPKM\n",
    "We may need to filter our `merged_cancer_filtered.gtf` file which has been filtered against normal transcripts(that Aidan created in gtf form) and basic gencode transcript annotations. If number of Scallop-identified transcripts are too high, we will need to prioritize by RPKM.\n"
   ]
  },
  {
   "cell_type": "code",
   "execution_count": 2,
   "metadata": {},
   "outputs": [
    {
     "name": "stdout",
     "output_type": "stream",
     "text": [
      "chr1\tscallop\ttranscript\t534803\t634924\t1000\t+\t.\tgene_id \"gene.10.225-x2-9\"; transcript_id \"gene.10.225.0-x2-9\"; RPKM \"1.3346\"; cov \"712.3420\";\n",
      "chr1\tscallop\texon\t534803\t534879\t1000\t+\t.\tgene_id \"gene.10.225-x2-9\"; transcript_id \"gene.10.225.0-x2-9\"; exon \"1\"; \n",
      "chr1\tscallop\texon\t633888\t634924\t1000\t+\t.\tgene_id \"gene.10.225-x2-9\"; transcript_id \"gene.10.225.0-x2-9\"; exon \"2\"; \n",
      "chr1\tscallop\ttranscript\t269222\t634924\t1000\t+\t.\tgene_id \"gene.10.225-x2-9\"; transcript_id \"gene.10.225.1-x2-9\"; RPKM \"0.4888\"; cov \"9.9097\";\n",
      "chr1\tscallop\texon\t269222\t269249\t1000\t+\t.\tgene_id \"gene.10.225-x2-9\"; transcript_id \"gene.10.225.1-x2-9\"; exon \"1\"; \n",
      "chr1\tscallop\texon\t534869\t534879\t1000\t+\t.\tgene_id \"gene.10.225-x2-9\"; transcript_id \"gene.10.225.1-x2-9\"; exon \"2\"; \n",
      "chr1\tscallop\texon\t633888\t634924\t1000\t+\t.\tgene_id \"gene.10.225-x2-9\"; transcript_id \"gene.10.225.1-x2-9\"; exon \"3\"; \n",
      "chr1\tscallop\ttranscript\t673402\t817605\t1000\t+\t.\tgene_id \"gene.23.377-x0-0\"; transcript_id \"gene.23.377.0-x0-0\"; RPKM \"0.2273\"; cov \"2.8051\";\n",
      "chr1\tscallop\texon\t673402\t673432\t1000\t+\t.\tgene_id \"gene.23.377-x0-0\"; transcript_id \"gene.23.377.0-x0-0\"; exon \"1\"; \n",
      "chr1\tscallop\texon\t816326\t817605\t1000\t+\t.\tgene_id \"gene.23.377-x0-0\"; transcript_id \"gene.23.377.0-x0-0\"; exon \"2\"; \n"
     ]
    }
   ],
   "source": [
    "!head WCPDT_data/merged_cancer_filtered.gtf"
   ]
  },
  {
   "cell_type": "code",
   "execution_count": 3,
   "metadata": {},
   "outputs": [
    {
     "name": "stdout",
     "output_type": "stream",
     "text": [
      "line split: ['chr1', 'scallop', 'transcript', '534803', '634924', '1000', '+', '.', 'gene_id \"gene.10.225-x2-9\"; transcript_id \"gene.10.225.0-x2-9\"; RPKM \"1.3346\"; cov \"712.3420\";\\n'] \n",
      "\n",
      "features split: ['gene_id \"gene.10.225-x2-9\"', ' transcript_id \"gene.10.225.0-x2-9\"', ' RPKM \"1.3346\"', ' cov \"712.3420\"', '\\n'] \n",
      "\n",
      "rpkm: 1.3346 \n",
      "\n"
     ]
    }
   ],
   "source": [
    "#Just to show what we are doing with the filtering process.\n",
    "with open(\"WCPDT_data/merged_cancer_filtered.gtf\", \"r\") as orig:\n",
    "    for line in orig:\n",
    "        line_split = line.split(\"\\t\")\n",
    "        if line_split[2] == \"transcript\":\n",
    "            features = line_split[8]\n",
    "            feat_split = features.split(\";\")\n",
    "            rpkm = float(feat_split[2].split('\"')[1])\n",
    "            print(f\"line split: {line_split} \\n\" )\n",
    "            print(f\"features split: {feat_split} \\n\")\n",
    "            print(f\"rpkm: {rpkm} \\n\")\n",
    "        break"
   ]
  },
  {
   "cell_type": "code",
   "execution_count": 4,
   "metadata": {},
   "outputs": [
    {
     "name": "stdout",
     "output_type": "stream",
     "text": [
      "The range of rpkms is 0.045300 -- 12888.116200\n",
      "9% of transcripts are included within the specified range: 0.500000 -- 7.000000\n",
      "Total transcript number: 943453\n"
     ]
    },
    {
     "data": {
      "text/plain": [
       "<seaborn.axisgrid.FacetGrid at 0x7f9b1f0e1ed0>"
      ]
     },
     "execution_count": 4,
     "metadata": {},
     "output_type": "execute_result"
    },
    {
     "data": {
      "image/png": "[encoded data removed]",
      "text/plain": [
       "<Figure size 360x360 with 1 Axes>"
      ]
     },
     "metadata": {
      "needs_background": "light"
     },
     "output_type": "display_data"
    }
   ],
   "source": [
    "#Get coverage of our trimmed and filtered gtf:\n",
    "rpkms = []\n",
    "covs = []\n",
    "with open(\"WCPDT_data/merged_cancer_filtered.gtf\", 'r') as gtf:\n",
    "    for line in gtf:\n",
    "        line_split = line.split('\\t')\n",
    "        if(line_split[2] == 'transcript'):\n",
    "            features = line_split[8]\n",
    "            feat_split = features.split(';')\n",
    "            rpkms.append(float(feat_split[2].split('\"')[1]))\n",
    "            covs.append(float(feat_split[3].split('\"')[1]))\n",
    "#Plot the coverage:\n",
    "lower = 0.5\n",
    "upper = 7\n",
    "\n",
    "rpkm_range = [i for i in rpkms if i <= upper and i >= lower]\n",
    "print('The range of %s is %f -- %f' % (\"rpkms\", min(rpkms), max(rpkms)))\n",
    "print('%d%% of transcripts are included within the specified range: %f -- %f' % ((len(rpkm_range)/len(rpkms))*100,lower, upper))\n",
    "print(\"Total transcript number:\", len(rpkms))  \n",
    "sns.displot(rpkm_range)"
   ]
  },
  {
   "cell_type": "code",
   "execution_count": 5,
   "metadata": {},
   "outputs": [
    {
     "name": "stdout",
     "output_type": "stream",
     "text": [
      "The range of rpkms is 0.045300 -- 12888.116200\n",
      "82% of transcripts are included within the specified range: 0.100000 -- 0.700000\n"
     ]
    },
    {
     "data": {
      "text/plain": [
       "<seaborn.axisgrid.FacetGrid at 0x7f9e25dadc10>"
      ]
     },
     "execution_count": 5,
     "metadata": {},
     "output_type": "execute_result"
    },
    {
     "data": {
      "image/png": "[encoded data removed]",
      "text/plain": [
       "<Figure size 360x360 with 1 Axes>"
      ]
     },
     "metadata": {
      "needs_background": "light"
     },
     "output_type": "display_data"
    }
   ],
   "source": [
    "lower = 0.1\n",
    "upper = 0.7\n",
    "\n",
    "rpkm_range = [i for i in rpkms if i <= upper and i >= lower]\n",
    "    \n",
    "print('The range of %s is %f -- %f' % (\"rpkms\", min(rpkms), max(rpkms)))\n",
    "print('%d%% of transcripts are included within the specified range: %f -- %f' % ((len(rpkm_range)/len(rpkms))*100,lower, upper))\n",
    "\n",
    "sns.displot(rpkm_range)"
   ]
  },
  {
   "cell_type": "markdown",
   "metadata": {},
   "source": [
    "Setting a cutoff of 2 is too high, we lose a lot of transcripts. Secondly, most of the \"transcripts\" identified are in the range of 0.1~0.7 rpkm. It seems to me that it would be okay to just use the unfiltered-by-RPKM gtf. Furthermore, total number of transcripts is only **943453**, which is definitely computationally feasible for running Salmon (for context Aidan's TCGA project on the other hand worked on the scale of 11,841,884 unfiltered. He cut it down to 573,422 using a RPKM cutoff of 2)."
   ]
  },
  {
   "cell_type": "code",
   "execution_count": 6,
   "metadata": {},
   "outputs": [
    {
     "data": {
      "text/plain": [
       "1534645"
      ]
     },
     "execution_count": 6,
     "metadata": {},
     "output_type": "execute_result"
    }
   ],
   "source": [
    "#Original pre-filtered number of transcipts.\n",
    "rpkms = []\n",
    "covs = []\n",
    "with open(\"WCPDT_data/merged_cancer.gtf\", 'r') as gtf:\n",
    "    for line in gtf:\n",
    "        line_split = line.split('\\t')\n",
    "        if(line_split[2] == 'transcript'):\n",
    "            features = line_split[8]\n",
    "            feat_split = features.split(';')\n",
    "            rpkms.append(float(feat_split[2].split('\"')[1]))\n",
    "            covs.append(float(feat_split[3].split('\"')[1]))\n",
    "len(rpkms)"
   ]
  },
  {
   "cell_type": "markdown",
   "metadata": {},
   "source": [
    "From our initial merged cancer gtf, we filtered out **591192 potential transcripts from 1534645 transcripts** using the normal gtf and the gencode annotation gtf to get a final amount of **943453**, corresponding to ~38.5% of the original transcripts filtered out."
   ]
  },
  {
   "cell_type": "markdown",
   "metadata": {},
   "source": [
    "### gffread\n",
    "Next we run gffread to convert the gtf file into fasta. Again, we will be using the merged_cancer_filtered.gtf file instead of the RPKM trimmed version."
   ]
  },
  {
   "cell_type": "markdown",
   "metadata": {},
   "source": [
    "Initial run of gffread lead to error due to missing \"chrUn\" in our genome file. Here we first filter those lines out, creating a new gtf file call `new_merged_cancer_filtered.gtf`"
   ]
  },
  {
   "cell_type": "code",
   "execution_count": 7,
   "metadata": {},
   "outputs": [
    {
     "data": {
      "text/plain": [
       "26875"
      ]
     },
     "execution_count": 7,
     "metadata": {},
     "output_type": "execute_result"
    }
   ],
   "source": [
    "num_un = 0\n",
    "with open(\"WCPDT_data/merged_cancer_filtered.gtf\", \"r\") as orig:\n",
    "    for line in orig:\n",
    "        if \"chrUn\" in line:\n",
    "            num_un += 1\n",
    "num_un"
   ]
  },
  {
   "cell_type": "code",
   "execution_count": 8,
   "metadata": {},
   "outputs": [],
   "source": [
    "with open(\"WCPDT_data/merged_cancer_filtered.gtf\", \"r\") as orig:\n",
    "    with open(\"WCPDT_data/new_merged_cancer_filtered.gtf\", \"w\") as new:\n",
    "        for line in orig:\n",
    "            if \"chrUn\" in line:\n",
    "                continue\n",
    "            else:\n",
    "                new.write(line)"
   ]
  },
  {
   "cell_type": "code",
   "execution_count": 9,
   "metadata": {},
   "outputs": [
    {
     "data": {
      "text/plain": [
       "26875"
      ]
     },
     "execution_count": 9,
     "metadata": {},
     "output_type": "execute_result"
    }
   ],
   "source": [
    "#Sanity Check\n",
    "new_num = 0\n",
    "with open(\"WCPDT_data/new_merged_cancer_filtered.gtf\", 'r') as gtf:\n",
    "    for line in gtf:\n",
    "        new_num += 1\n",
    "orig_num = 0\n",
    "with open(\"WCPDT_data/merged_cancer_filtered.gtf\", 'r') as gtf:\n",
    "    for line in gtf:\n",
    "        orig_num += 1\n",
    "orig_num - new_num"
   ]
  },
  {
   "cell_type": "code",
   "execution_count": 10,
   "metadata": {},
   "outputs": [],
   "source": [
    "%%bash\n",
    "gffread WCPDT_data/new_merged_cancer_filtered.gtf -g /rumi/shams/genomes/hg38/hg38.fa -w WCPDT_data/final_merged_cancer.transcripts.fa \\\n",
    "&> log/gffread_final.out "
   ]
  },
  {
   "cell_type": "markdown",
   "metadata": {},
   "source": [
    "# Salmon: Transcript Quantification"
   ]
  },
  {
   "cell_type": "markdown",
   "metadata": {},
   "source": [
    "### Create Salmon Index\n",
    "We are not using salmon to its fullest capacity, primarily it selective alignment mode. To do so we need to first build an index that is decoy aware. Below we follow general good practice recommended by the Salmon folks.<br>"
   ]
  },
  {
   "cell_type": "markdown",
   "metadata": {},
   "source": [
    "First we need to create a `decoy.txt file` based on the reference genome used. This file simply contains all the genome reference chromosome names."
   ]
  },
  {
   "cell_type": "code",
   "execution_count": 41,
   "metadata": {},
   "outputs": [],
   "source": [
    "%%bash\n",
    "grep \"^>\" /rumi/shams/genomes/hg38/hg38.fa | cut -d \" \" -f 1 > WCPDT_data/decoys.txt\n",
    "sed -i -e 's/>//g' WCPDT_data/decoys.txt"
   ]
  },
  {
   "cell_type": "markdown",
   "metadata": {},
   "source": [
    "Next we concatenate the transcript and genome into a final merged transcript_genome file."
   ]
  },
  {
   "cell_type": "code",
   "execution_count": 42,
   "metadata": {},
   "outputs": [],
   "source": [
    "%%bash\n",
    "cat WCPDT_data/final_merged_cancer.transcripts.fa /rumi/shams/genomes/hg38/hg38.fa  > WCPDT_data/hg38_gentrome.fa"
   ]
  },
  {
   "cell_type": "markdown",
   "metadata": {},
   "source": [
    "Ran below command in `peptide` conda env:<br>\n",
    "`salmon index -t WCPDT_data/hg38_gentrome.fa -d WCPDT_data/decoys.txt -p 20 -i WCPDT_data/final_merged_cancer_salmon_index -k 31 &> log/salmon_index.out`\n",
    "\n",
    "This process allows us to use the entire genome of the organism as the decoy sequence. This scheme provides a more comprehensive set of decoys to eliminate spurious mappings.\n",
    "\n"
   ]
  },
  {
   "cell_type": "markdown",
   "metadata": {},
   "source": [
    "## Run Salmon quant\n",
    "Use samtools fasta to stream bamfiles into salmon quant."
   ]
  },
  {
   "cell_type": "markdown",
   "metadata": {},
   "source": [
    "### WCPDT\n",
    "We run salmon quant script in `peptide` env, running 4 processes in parallel (each process using 4 threads), which will use up to 16 cores at once. Documentation for salmon 1.0.0+ versions seem to indicate that --validatemappings is the default mode."
   ]
  },
  {
   "cell_type": "markdown",
   "metadata": {},
   "source": [
    "Command: <br>\n",
    "`ls /rumi/shams/jwang/People/DeRisi/WCPDT_data/bam/*.bam | parallel -j 4 bash scripts/salmon_quant.sh {} &> log/WCPDT_salmon_quant.out`"
   ]
  },
  {
   "cell_type": "markdown",
   "metadata": {},
   "source": [
    "## Rerun Due to Server Shutdown"
   ]
  },
  {
   "cell_type": "code",
   "execution_count": 5,
   "metadata": {},
   "outputs": [
    {
     "data": {
      "text/plain": [
       "60"
      ]
     },
     "execution_count": 5,
     "metadata": {},
     "output_type": "execute_result"
    }
   ],
   "source": [
    "finished = [f.name[:-6] for f in os.scandir(\"/flash/jwang/DeRisi/salmon/\") if f.name.endswith(\"quant\") and \"fail\" not in f.name]\n",
    "len(finished)"
   ]
  },
  {
   "cell_type": "code",
   "execution_count": 8,
   "metadata": {},
   "outputs": [
    {
     "data": {
      "text/plain": [
       "145"
      ]
     },
     "execution_count": 8,
     "metadata": {},
     "output_type": "execute_result"
    }
   ],
   "source": [
    "all_bam = [f for f in os.scandir(\"/rumi/shams/jwang/People/DeRisi/WCPDT_data/bam/\") if f.name.endswith(\".bam\")]\n",
    "len(all_bam)"
   ]
  },
  {
   "cell_type": "code",
   "execution_count": 10,
   "metadata": {},
   "outputs": [],
   "source": [
    "with open(\"inputs/input_salmon.txt\", \"w\") as out:\n",
    "    for f in all_bam:\n",
    "        name = f.name.split(\".\")[0]\n",
    "        if name not in finished:\n",
    "            out.write(f.path + \"\\n\")"
   ]
  },
  {
   "cell_type": "markdown",
   "metadata": {},
   "source": [
    "Rerun Command in `peptide` env: <br>\n",
    "`cat inputs/input_salmon.txt | parallel -j 4 bash scripts/salmon_quant.sh {} &> log/WCPDT_salmon_quant_rerun.out`"
   ]
  },
  {
   "cell_type": "markdown",
   "metadata": {},
   "source": [
    "# Done"
   ]
  }
 ],
 "metadata": {
  "kernelspec": {
   "display_name": "Python [conda env:peptide]",
   "language": "python",
   "name": "conda-env-peptide-py"
  },
  "language_info": {
   "codemirror_mode": {
    "name": "ipython",
    "version": 3
   },
   "file_extension": ".py",
   "mimetype": "text/x-python",
   "name": "python",
   "nbconvert_exporter": "python",
   "pygments_lexer": "ipython3",
   "version": "3.7.9"
  }
 },
 "nbformat": 4,
 "nbformat_minor": 4
}
