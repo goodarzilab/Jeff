{
 "cells": [
  {
   "cell_type": "markdown",
   "metadata": {},
   "source": [
    "# Cancer Cell Lines Enriched Loci: DE Subtype Analysis\n",
    "The goal in this notebook is to identify smRNA loci that are enriched in specific cancer subtype cell lines and not in normal cell lines via DESeq based analysis. In this notebook we will compare each cancer subtype cell line vs normal cell line separately."
   ]
  },
  {
   "cell_type": "code",
   "execution_count": 1,
   "metadata": {},
   "outputs": [],
   "source": [
    "import pandas as pd\n",
    "import json as js\n",
    "import warnings\n",
    "import subprocess\n",
    "warnings.filterwarnings(\"ignore\")\n",
    "import rpy2.ipython\n",
    "%load_ext rpy2.ipython"
   ]
  },
  {
   "cell_type": "code",
   "execution_count": 2,
   "metadata": {
    "collapsed": true,
    "jupyter": {
     "outputs_hidden": true
    }
   },
   "outputs": [
    {
     "name": "stderr",
     "output_type": "stream",
     "text": [
      "R[write to console]: Loading required package: S4Vectors\n",
      "\n",
      "R[write to console]: Loading required package: stats4\n",
      "\n",
      "R[write to console]: Loading required package: BiocGenerics\n",
      "\n",
      "R[write to console]: Loading required package: parallel\n",
      "\n",
      "R[write to console]: \n",
      "Attaching package: ‘BiocGenerics’\n",
      "\n",
      "\n",
      "R[write to console]: The following objects are masked from ‘package:parallel’:\n",
      "\n",
      "    clusterApply, clusterApplyLB, clusterCall, clusterEvalQ,\n",
      "    clusterExport, clusterMap, parApply, parCapply, parLapply,\n",
      "    parLapplyLB, parRapply, parSapply, parSapplyLB\n",
      "\n",
      "\n",
      "R[write to console]: The following objects are masked from ‘package:stats’:\n",
      "\n",
      "    IQR, mad, sd, var, xtabs\n",
      "\n",
      "\n",
      "R[write to console]: The following objects are masked from ‘package:base’:\n",
      "\n",
      "    anyDuplicated, append, as.data.frame, basename, cbind, colMeans,\n",
      "    colnames, colSums, dirname, do.call, duplicated, eval, evalq,\n",
      "    Filter, Find, get, grep, grepl, intersect, is.unsorted, lapply,\n",
      "    lengths, Map, mapply, match, mget, order, paste, pmax, pmax.int,\n",
      "    pmin, pmin.int, Position, rank, rbind, Reduce, rowMeans, rownames,\n",
      "    rowSums, sapply, setdiff, sort, table, tapply, union, unique,\n",
      "    unsplit, which, which.max, which.min\n",
      "\n",
      "\n",
      "R[write to console]: \n",
      "Attaching package: ‘S4Vectors’\n",
      "\n",
      "\n",
      "R[write to console]: The following object is masked from ‘package:base’:\n",
      "\n",
      "    expand.grid\n",
      "\n",
      "\n",
      "R[write to console]: Loading required package: IRanges\n",
      "\n",
      "R[write to console]: Loading required package: GenomicRanges\n",
      "\n",
      "R[write to console]: Loading required package: GenomeInfoDb\n",
      "\n",
      "R[write to console]: Loading required package: SummarizedExperiment\n",
      "\n",
      "R[write to console]: Loading required package: Biobase\n",
      "\n",
      "R[write to console]: Welcome to Bioconductor\n",
      "\n",
      "    Vignettes contain introductory material; view with\n",
      "    'browseVignettes()'. To cite Bioconductor, see\n",
      "    'citation(\"Biobase\")', and for packages 'citation(\"pkgname\")'.\n",
      "\n",
      "\n",
      "R[write to console]: Loading required package: DelayedArray\n",
      "\n",
      "R[write to console]: Loading required package: matrixStats\n",
      "\n",
      "R[write to console]: \n",
      "Attaching package: ‘matrixStats’\n",
      "\n",
      "\n",
      "R[write to console]: The following objects are masked from ‘package:Biobase’:\n",
      "\n",
      "    anyMissing, rowMedians\n",
      "\n",
      "\n",
      "R[write to console]: Loading required package: BiocParallel\n",
      "\n",
      "R[write to console]: \n",
      "Attaching package: ‘DelayedArray’\n",
      "\n",
      "\n",
      "R[write to console]: The following objects are masked from ‘package:matrixStats’:\n",
      "\n",
      "    colMaxs, colMins, colRanges, rowMaxs, rowMins, rowRanges\n",
      "\n",
      "\n",
      "R[write to console]: The following objects are masked from ‘package:base’:\n",
      "\n",
      "    aperm, apply\n",
      "\n",
      "\n",
      "R[write to console]: Loading required package: ggplot2\n",
      "\n",
      "R[write to console]: Loading required package: ggrepel\n",
      "\n"
     ]
    }
   ],
   "source": [
    "%%R \n",
    "library(DESeq2)\n",
    "library(EnhancedVolcano)"
   ]
  },
  {
   "cell_type": "markdown",
   "metadata": {},
   "source": [
    "## Load Counts"
   ]
  },
  {
   "cell_type": "code",
   "execution_count": 3,
   "metadata": {},
   "outputs": [],
   "source": [
    "with open('data/counts/cell_lines_loci_counts.json', 'r') as f:\n",
    "    sample_loci = js.load(f)\n",
    "    f.close()"
   ]
  },
  {
   "cell_type": "code",
   "execution_count": 4,
   "metadata": {},
   "outputs": [],
   "source": [
    "# Filter out LM2_2_cell_S37 from consideration\n",
    "del sample_loci[\"LM2_2_cell_S37\"]"
   ]
  },
  {
   "cell_type": "markdown",
   "metadata": {},
   "source": [
    "## DESeq: Subtype vs Normal"
   ]
  },
  {
   "cell_type": "code",
   "execution_count": 5,
   "metadata": {},
   "outputs": [],
   "source": [
    "cell_lines = list(sample_loci.keys())"
   ]
  },
  {
   "cell_type": "code",
   "execution_count": 6,
   "metadata": {},
   "outputs": [],
   "source": [
    "subtype_map = {\"MDA453\":\"HER2\", \"SKBR-3\":\"HER2\", \n",
    "              \"HUMEC\":\"Normal\", \"ZR75-1\":\"Luminal\", \"HCC38\": \"TNBC\",\n",
    "              \"CN34\":\"TNBC\", \"MCF7\": \"Luminal\", \"MDA231\":\"TNBC\", \n",
    "              \"LM2\":\"Met\", \"LM1a\":\"Met\"}"
   ]
  },
  {
   "cell_type": "code",
   "execution_count": 7,
   "metadata": {},
   "outputs": [],
   "source": [
    "col_name_map = {}\n",
    "for name in cell_lines:\n",
    "    col_name_map[name] = name.split(\"_\")[-1]"
   ]
  },
  {
   "cell_type": "code",
   "execution_count": 8,
   "metadata": {},
   "outputs": [
    {
     "name": "stdout",
     "output_type": "stream",
     "text": [
      "Rscript scripts/DESeq_subtype.R -m results/DESeq_subtype/LuminalvNormal_cm.csv -d results/DESeq_subtype/LuminalvNormal_coldata.csv -c1 Luminal -c2 Normal -o results/DESeq_subtype/\n",
      "Rscript scripts/DESeq_subtype.R -m results/DESeq_subtype/MetvNormal_cm.csv -d results/DESeq_subtype/MetvNormal_coldata.csv -c1 Met -c2 Normal -o results/DESeq_subtype/\n",
      "Rscript scripts/DESeq_subtype.R -m results/DESeq_subtype/HER2vNormal_cm.csv -d results/DESeq_subtype/HER2vNormal_coldata.csv -c1 HER2 -c2 Normal -o results/DESeq_subtype/\n",
      "Rscript scripts/DESeq_subtype.R -m results/DESeq_subtype/TNBCvNormal_cm.csv -d results/DESeq_subtype/TNBCvNormal_coldata.csv -c1 TNBC -c2 Normal -o results/DESeq_subtype/\n"
     ]
    }
   ],
   "source": [
    "subtypes = set(subtype_map.values())\n",
    "normal_cell_lines = [s for s in cell_lines if \"HUMEC\" in s]\n",
    "for sub in subtypes:\n",
    "    if sub == \"Normal\":\n",
    "        continue\n",
    "    subtype_cell_lines = [s for s in cell_lines if subtype_map[s.split(\"_\")[0]] == sub]\n",
    "    deseq_cell_lines = subtype_cell_lines + normal_cell_lines\n",
    "    sample_names = [col_name_map[name] for name in deseq_cell_lines] #Reduce sample name to just sample number.\n",
    "    condition = [\"Normal\" if \"HUMEC\" in name else sub for name in deseq_cell_lines]\n",
    "    coldata = pd.DataFrame({\"condition\": condition, \n",
    "                        \"type\" : [\"single_read\"]*len(condition), \n",
    "                           \"full_name\" : deseq_cell_lines})\n",
    "    coldata.index = sample_names\n",
    "    coldata = coldata.sort_index()\n",
    "   \n",
    "    \n",
    "    #Unique loci after healthy exRNA filtering\n",
    "    unique_loci = set()\n",
    "    for cell_line in coldata[\"full_name\"]: #Create counts only using SUB samples and normal samples.\n",
    "        unique_loci.update(sample_loci[cell_line].keys())\n",
    "    \n",
    "    loci_counts = {} #Use the raw counts\n",
    "    for locus in unique_loci:\n",
    "        loci_counts[locus] = {} \n",
    "        for cell_group in coldata[\"full_name\"]:\n",
    "            loci_dict = sample_loci[cell_group]\n",
    "            if locus in loci_dict:\n",
    "                loci_counts[locus][cell_group] = loci_dict[locus]\n",
    "            else:\n",
    "                loci_counts[locus][cell_group] = 0   \n",
    "                             \n",
    "    cm = pd.DataFrame(loci_counts).T\n",
    "    cm = cm.rename(columns=col_name_map)\n",
    "    cm = cm.sort_index(axis=1)\n",
    "    cm_out = f\"results/DESeq_subtype/{sub}vNormal_cm.csv\"\n",
    "    cm.to_csv(cm_out)\n",
    "    \n",
    "    coldata_out = f\"results/DESeq_subtype/{sub}vNormal_coldata.csv\"\n",
    "    coldata.to_csv(coldata_out)\n",
    "    print(f\"Rscript scripts/DESeq_subtype.R -m {cm_out} -d {coldata_out} -c1 {sub} -c2 Normal -o results/DESeq_subtype/\")\n",
    "    subprocess.call (f\"Rscript scripts/DESeq_subtype.R -m {cm_out} -d {coldata_out} -c1 {sub} -c2 Normal -o results/DESeq_subtype/\", shell=True)  "
   ]
  },
  {
   "cell_type": "markdown",
   "metadata": {},
   "source": [
    "## Extract Significant Loci"
   ]
  },
  {
   "cell_type": "code",
   "execution_count": 9,
   "metadata": {},
   "outputs": [
    {
     "data": {
      "text/plain": [
       "408011"
      ]
     },
     "execution_count": 9,
     "metadata": {},
     "output_type": "execute_result"
    }
   ],
   "source": [
    "humec_loci = set()\n",
    "for cell_line, loci_dict in sample_loci.items():\n",
    "    if \"HUMEC\" in cell_line:\n",
    "        humec_loci.update(loci_dict.keys())\n",
    "len(humec_loci)"
   ]
  },
  {
   "cell_type": "code",
   "execution_count": 10,
   "metadata": {},
   "outputs": [],
   "source": [
    "for sub in subtypes:\n",
    "    if sub == \"Normal\":\n",
    "        continue\n",
    "    results = pd.read_csv(f\"results/DESeq_subtype/{sub}vNormal_dds_res.csv\")\n",
    "    sig_results = results[(results[\"pvalue\"] <= 0.1) & (results[\"log2FoldChange\"] >= 1)] #Select for enriched loci.\n",
    "    \n",
    "    humec_fil_sig_loci = set()\n",
    "    for locus in sig_results[\"row\"]:\n",
    "        if locus not in humec_loci: #Skip RNAs that are found in humec loci.\n",
    "            humec_fil_sig_loci.add(locus)\n",
    "            \n",
    "    with open(f\"results/DESeq_subtype/{sub}_sig_loci_deseq.bed\", \"wt\") as out:   \n",
    "        for locus in humec_fil_sig_loci:\n",
    "            splits = locus.split(\":\")\n",
    "            start = splits[1].split(\"-\")[0]\n",
    "            end = splits[1].split(\"-\")[1]\n",
    "            bed = f\"{splits[0]}\\t{start}\\t{end}\\t{locus}\\t.\\t{splits[-1]}\"\n",
    "            out.write(bed + \"\\n\")   "
   ]
  },
  {
   "cell_type": "markdown",
   "metadata": {},
   "source": [
    "# Done"
   ]
  }
 ],
 "metadata": {
  "kernelspec": {
   "display_name": "Python [conda env:smRNA]",
   "language": "python",
   "name": "conda-env-smRNA-py"
  },
  "language_info": {
   "codemirror_mode": {
    "name": "ipython",
    "version": 3
   },
   "file_extension": ".py",
   "mimetype": "text/x-python",
   "name": "python",
   "nbconvert_exporter": "python",
   "pygments_lexer": "ipython3",
   "version": "3.7.4"
  }
 },
 "nbformat": 4,
 "nbformat_minor": 4
}
