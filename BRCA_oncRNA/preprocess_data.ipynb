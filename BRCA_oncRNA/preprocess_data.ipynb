{
 "cells": [
  {
   "cell_type": "markdown",
   "metadata": {},
   "source": [
    "# Breast Cancer Cell Lines: Preprocess Data\n",
    "In this notebook we preprocess our data for downstream locus-based analysis. Data includes:\n",
    "* smRNA seq data of the breast cancer (and normal) cell lines used in our Nature Med paper (Fish, 2018)\n",
    "* smRNA seq data from TCGA: specifically all the BRCA samples and all the normal samples from all tissue types in TCGA. \n",
    "* smRNA seq data from exRNA Atlas along with other publically available datasets from non-cancerous exosomal smRNA samples"
   ]
  },
  {
   "cell_type": "code",
   "execution_count": 1,
   "metadata": {},
   "outputs": [],
   "source": [
    "import pandas as pd\n",
    "import os\n",
    "import pysam\n",
    "import re\n",
    "import pymongo\n",
    "import json as js"
   ]
  },
  {
   "cell_type": "markdown",
   "metadata": {},
   "source": [
    "## Preprocess Cell Lines Data\n",
    "Dataset involves 21 samples:\n",
    "* 3 samples from HMEC cell lines\n",
    "* 18 samples from "
   ]
  },
  {
   "cell_type": "code",
   "execution_count": 2,
   "metadata": {},
   "outputs": [
    {
     "data": {
      "text/plain": [
       "21"
      ]
     },
     "execution_count": 2,
     "metadata": {},
     "output_type": "execute_result"
    }
   ],
   "source": [
    "cell_lines = [f for f in os.scandir(\"data/IC/\") if f.name.endswith(\".srt.dd.bam\")]\n",
    "len(cell_lines)"
   ]
  },
  {
   "cell_type": "markdown",
   "metadata": {},
   "source": [
    "### Dust"
   ]
  },
  {
   "cell_type": "markdown",
   "metadata": {},
   "source": [
    "Since we are converting the bam files to bed format, we first remove the low complexity sequences in the bam files first."
   ]
  },
  {
   "cell_type": "code",
   "execution_count": 3,
   "metadata": {},
   "outputs": [],
   "source": [
    "\"\"\"Simple dust score adapted from Dust Algorithm Score: A fast and symmetric DUST implementation to mask\n",
    "low-complexity DNA sequences (2006, Morgulis et al.)\"\"\"\n",
    "def simpleDustScore(seq):\n",
    "    assert len(seq) > 2\n",
    "    if len(seq) == 3:\n",
    "        return 0\n",
    "    else:\n",
    "        triplets = {}\n",
    "        num_trip = len(seq) - 2\n",
    "        for i in range(num_trip):\n",
    "            subseq = seq[i:i+3]\n",
    "            if subseq in triplets:\n",
    "                triplets[subseq] += 1\n",
    "            else:\n",
    "                triplets[subseq] = 1\n",
    "        sum_triplet = 0\n",
    "        for triplet, count in triplets.items():\n",
    "            sum_triplet += count * (count - 1) / 2\n",
    "        return sum_triplet/(num_trip - 1)"
   ]
  },
  {
   "cell_type": "code",
   "execution_count": 4,
   "metadata": {},
   "outputs": [],
   "source": [
    "for f in cell_lines: \n",
    "    name = f.name.split(\".\")[0]\n",
    "    out = f\"data/IC/{name}.srt.dd.dust.bam\"\n",
    "    infile = pysam.AlignmentFile(f, \"rb\")\n",
    "    outfile = pysam.AlignmentFile(out, \"wb\", template=infile)\n",
    "    for read in infile.fetch():\n",
    "        if simpleDustScore(read.get_forward_sequence()) < 3 and len(read.get_forward_sequence()) >= 15:\n",
    "            outfile.write(read)\n",
    "    outfile.close()\n",
    "    infile.close()"
   ]
  },
  {
   "cell_type": "markdown",
   "metadata": {},
   "source": [
    "### BedtoBam\n",
    "Next we convert all the cell lines bam alignment files to bedfiles. "
   ]
  },
  {
   "cell_type": "code",
   "execution_count": 5,
   "metadata": {},
   "outputs": [],
   "source": [
    "%%bash\n",
    "for f in data/IC/*.srt.dd.dust.bam;\n",
    "do \n",
    "base=$(basename $f)\n",
    "out=${base/.bam/.bed}\n",
    "echo \"$bedtools bamtobed -i $f > data/IC/$out\"\n",
    "bedtools bamtobed -i $f > data/IC/$out\n",
    "done &> log/cell_lines_bamtobed.out"
   ]
  },
  {
   "cell_type": "markdown",
   "metadata": {},
   "source": [
    "### Filter Cell Lines Bed"
   ]
  },
  {
   "cell_type": "code",
   "execution_count": 6,
   "metadata": {},
   "outputs": [],
   "source": [
    "for f in os.scandir(\"data/IC\"):\n",
    "    if f.name.endswith(\".srt.dd.dust.bed\"):\n",
    "        name = f.name.split(\".\")[0]\n",
    "        out = f\"data/IC/{name}.filter.bed\"\n",
    "        with open(out, \"wt\") as out, open(f, \"rt\") as file:\n",
    "            for line in file:\n",
    "                if \"chr\" in line and \"chrUn\" not in line and \"None\" not in line:\n",
    "                    out.write(line) "
   ]
  },
  {
   "cell_type": "markdown",
   "metadata": {},
   "source": [
    "### Merge Cell Lines Loci\n",
    "Here we merge all the loci seen in the cell lines data to create a locus feature map. No threshold set for degree of overlap."
   ]
  },
  {
   "cell_type": "code",
   "execution_count": 7,
   "metadata": {},
   "outputs": [],
   "source": [
    "%%bash\n",
    "cat data/IC/*.filter.bed | sort -k1,1 -k2,2n | mergeBed -s -c 6 -o distinct -i stdin | \\\n",
    "awk '{print $1 \"\\t\" $2 \"\\t\" $3 \"\\t\" $1\":\"$2\"-\"$3\":\"$4  \"\\t.\" \"\\t\" $4  > \"data/cell_lines_smRNAs_merged_loci.bed\"}' "
   ]
  },
  {
   "cell_type": "markdown",
   "metadata": {},
   "source": [
    "### Non-cancerous exRNA Filter Feature Map\n",
    "Here we filter out all the loci that are also seen in non-cancerous samples from the exRNA Atlas and other publically available non-cancerous exosomal smRNAseq datasets. "
   ]
  },
  {
   "cell_type": "code",
   "execution_count": 8,
   "metadata": {},
   "outputs": [],
   "source": [
    "myclient=pymongo.MongoClient(port=27027)\n",
    "mydb = myclient[\"exRNA\"]\n",
    "rnacol = mydb[\"smRNA\"]"
   ]
  },
  {
   "cell_type": "code",
   "execution_count": 9,
   "metadata": {},
   "outputs": [],
   "source": [
    "cursor = rnacol.find(no_cursor_timeout=True)\n",
    "with open(\"data/healthy_exRNA.bed\", \"wt\") as out:\n",
    "    for rna in cursor:\n",
    "        ref = rna[\"ref_id\"]\n",
    "        start = rna[\"start\"]\n",
    "        end = rna[\"end\"]\n",
    "        strand = rna[\"strand\"]\n",
    "        bed = f\"{ref}\\t{start}\\t{end}\\t.\\t.\\t{strand}\"\n",
    "        if \"chr\" in bed and \"chrUn\" not in bed and \"None\" not in bed:\n",
    "            out.write(bed + \"\\n\")"
   ]
  },
  {
   "cell_type": "code",
   "execution_count": 10,
   "metadata": {},
   "outputs": [],
   "source": [
    "myclient.close()"
   ]
  },
  {
   "cell_type": "code",
   "execution_count": 11,
   "metadata": {},
   "outputs": [],
   "source": [
    "%%bash \n",
    "sortBed -i data/healthy_exRNA.bed | mergeBed -s -c 6 -o distinct -i stdin | \\\n",
    "awk '{print $1 \"\\t\" $2 \"\\t\" $3 \"\\t\" $1\":\"$2\"-\"$3\":\"$4  \"\\t.\" \"\\t\" $4  > \"data/healthy_exRNA.srt.merge.bed\"}' "
   ]
  },
  {
   "cell_type": "markdown",
   "metadata": {},
   "source": [
    "Next we filter all cell lines loci feature map using the non-cancerous exRNA loci, eliminating any loci from the cell lines that are also found in the non-cancerous exRNA dataset.\n",
    "<br>\n",
    "`-v` option for intersectBed keeps loci of the `-a` file that do not overlap with any loci in the `-b` file. We have an additional requirement here for what counts as an overlap: we require for each locus in `-a` that at least 90% must be covered by a locus in `-b` to count as an overlap: `-f 0.9`"
   ]
  },
  {
   "cell_type": "code",
   "execution_count": 12,
   "metadata": {},
   "outputs": [
    {
     "name": "stdout",
     "output_type": "stream",
     "text": [
      "intersectBed -s -f 0.9 -v -a data/cell_lines_smRNAs_merged_loci.bed -b data/healthy_exRNA.srt.merge.bed > data/cell_lines_smRNAs_filtered_loci.bed\n"
     ]
    }
   ],
   "source": [
    "%%bash\n",
    "echo \"intersectBed -s -f 0.9 -v -a data/cell_lines_smRNAs_merged_loci.bed -b data/healthy_exRNA.srt.merge.bed > data/cell_lines_smRNAs_filtered_loci.bed\"\n",
    "intersectBed -s -f 0.9 -v -a data/cell_lines_smRNAs_merged_loci.bed -b data/healthy_exRNA.srt.merge.bed > data/cell_lines_smRNAs_filtered_loci.bed"
   ]
  },
  {
   "cell_type": "code",
   "execution_count": 13,
   "metadata": {},
   "outputs": [
    {
     "name": "stdout",
     "output_type": "stream",
     "text": [
      "1731285 data/cell_lines_smRNAs_merged_loci.bed\n"
     ]
    }
   ],
   "source": [
    "%%bash\n",
    "wc -l data/cell_lines_smRNAs_merged_loci.bed"
   ]
  },
  {
   "cell_type": "code",
   "execution_count": 14,
   "metadata": {},
   "outputs": [
    {
     "name": "stdout",
     "output_type": "stream",
     "text": [
      "1297653 data/cell_lines_smRNAs_filtered_loci.bed\n"
     ]
    }
   ],
   "source": [
    "%%bash\n",
    "wc -l data/cell_lines_smRNAs_filtered_loci.bed"
   ]
  },
  {
   "cell_type": "markdown",
   "metadata": {},
   "source": [
    "For number of loci in consideration, we went from 1731285 to 1297653 after filtering out loci present in non-cancerous exosomal RNA samples. This amounts to about 75% of loci left after non-cancerous exRNA filtering."
   ]
  },
  {
   "cell_type": "markdown",
   "metadata": {},
   "source": [
    "### Create Counts\n",
    "Last preprocess step for the cell lines is to create counts for each cell line sample for each smRNA loci feature."
   ]
  },
  {
   "cell_type": "code",
   "execution_count": 15,
   "metadata": {},
   "outputs": [],
   "source": [
    "%%bash \n",
    "for f in data/IC/*.filter.bed;\n",
    "do\n",
    "out=${f/.filter.bed/.intersect.bed}\n",
    "echo \"intersectBed -s -wo -a $f -b data/cell_lines_smRNAs_merged_loci.bed > $out\"\n",
    "intersectBed -s -wo -a $f -b data/cell_lines_smRNAs_merged_loci.bed > $out\n",
    "done &> log/cell_lines_intersect.out"
   ]
  },
  {
   "cell_type": "code",
   "execution_count": 16,
   "metadata": {},
   "outputs": [],
   "source": [
    "%%bash \n",
    "for f in data/IC/*.filter.bed;\n",
    "do\n",
    "out=${f/.filter.bed/.exRNA.intersect.bed}\n",
    "echo \"intersectBed -s -wo -a $f -b data/cell_lines_smRNAs_filtered_loci.bed > $out\"\n",
    "intersectBed -s -wo -a $f -b data/cell_lines_smRNAs_filtered_loci.bed > $out\n",
    "done &> log/cell_lines_exRNA_intersect.out"
   ]
  },
  {
   "cell_type": "code",
   "execution_count": 17,
   "metadata": {},
   "outputs": [],
   "source": [
    "exRNA_filtered_loci = {}\n",
    "sample_loci = {}\n",
    "cpm_map = {}\n",
    "exRNA_filtered_cell_lines = [f for f in os.scandir(\"data/IC/\") if f.name.endswith(\".exRNA.intersect.bed\")]\n",
    "for f in exRNA_filtered_cell_lines:  \n",
    "    #Counts of exRNA filtered loci\n",
    "    ex_fil_bed = pd.read_csv(f, header=None, sep=\"\\t\")\n",
    "    sample = f.name.split(\".\")[0]\n",
    "    \n",
    "    assert len(ex_fil_bed[3].unique()) == ex_fil_bed.shape[0] #Ensures number of unique reads (query_id) matches total number of reads in bed file, so that we are not over counting\n",
    "    exRNA_filtered_loci[sample] = {}\n",
    "    for locus in ex_fil_bed[9]: #This is the locus from feature annotation\n",
    "        if locus in exRNA_filtered_loci[sample]:\n",
    "            exRNA_filtered_loci[sample][locus] += 1\n",
    "        else:\n",
    "            exRNA_filtered_loci[sample][locus] = 1    \n",
    "    \n",
    "    bed_file = pd.read_csv(f\"data/IC/{sample}.intersect.bed\", header=None, sep=\"\\t\")\n",
    "    assert len(bed_file[3].unique()) == bed_file.shape[0] #Ensures number of unique reads (query_id) matches total number of reads in bed file, so that we are not over counting\n",
    "    #cpm calculations: total reads within pre-exRNA filtered bedfile. Note reads that had \"chrUn\" or low-complexity seqeunces where filered out and not included in cpm normalization.           \n",
    "    cpm = 1000000/bed_file.shape[0]\n",
    "    cpm_map[sample] = cpm\n",
    "     \n",
    "    #Counts of loci\n",
    "    sample_loci[sample] = {}\n",
    "    for locus in bed_file[9]: #This is the locus from feature annotation\n",
    "        if locus in sample_loci[sample]:\n",
    "            sample_loci[sample][locus] += 1\n",
    "        else:\n",
    "            sample_loci[sample][locus] = 1"
   ]
  },
  {
   "cell_type": "code",
   "execution_count": 18,
   "metadata": {},
   "outputs": [],
   "source": [
    "with open('data/counts/cell_lines_loci_counts.json', 'w') as f:\n",
    "    js.dump(sample_loci, f)\n",
    "    f.close()\n",
    "    \n",
    "with open('data/counts/cell_lines_exRNA_filtered_loci_counts.json', 'w') as f:\n",
    "    js.dump(exRNA_filtered_loci, f)\n",
    "    f.close()\n",
    "    \n",
    "with open (\"data/counts/cell_lines_cpm_map.json\", \"w\") as f:\n",
    "    js.dump(cpm_map, f)\n",
    "    f.close()"
   ]
  },
  {
   "cell_type": "markdown",
   "metadata": {},
   "source": [
    "## Preprocess TCGA Data\n",
    "Since TCGA datasets are quite bit larger, we run the following pre-processing steps as scripts instead of in this notebook. All scripts can be found in the `scripts` directory <br>\n",
    "TCGA dataset involves: 679 normal samples from varying tissues and 1103 BRCA cancer samples.\n",
    "<br>"
   ]
  },
  {
   "cell_type": "markdown",
   "metadata": {},
   "source": [
    "### Dust \n",
    "Eliminate low-complexity sequences"
   ]
  },
  {
   "cell_type": "markdown",
   "metadata": {},
   "source": [
    "Command used in smRNA env: <br>\n",
    "`python3 scripts/dust_filter.py &> log/dust_filter.out`"
   ]
  },
  {
   "cell_type": "markdown",
   "metadata": {},
   "source": [
    "### Bamtobed\n",
    "Convert all the filtered bam files to bed files."
   ]
  },
  {
   "cell_type": "markdown",
   "metadata": {},
   "source": [
    "Command used in smRNA env: <br>\n",
    "`ls /rumi/shams/jwang/BRCA_oncRNA/data/TCGA/*.dust.bam | parallel -j 30 bash scripts/bamtobed.sh {} &> log/bamtobed.out`"
   ]
  },
  {
   "cell_type": "markdown",
   "metadata": {},
   "source": [
    "### Filter TCGA Data\n",
    "TCGA bed data contains certain formats that are not compatible with bedtools and are not of interest (ex: chrUn). Here we filter our TCGA data before further processing."
   ]
  },
  {
   "cell_type": "markdown",
   "metadata": {},
   "source": [
    "Command used in smRNA env: <br>\n",
    "`python3 scripts/filter_TCGA.py &> log/filter_TCGA.out`"
   ]
  },
  {
   "cell_type": "markdown",
   "metadata": {},
   "source": [
    "# Conclusion\n",
    "Finished preprocessing and creating counts for loci found in our cell lines and preprocessing TCGA data."
   ]
  }
 ],
 "metadata": {
  "kernelspec": {
   "display_name": "Python [conda env:smRNA]",
   "language": "python",
   "name": "conda-env-smRNA-py"
  },
  "language_info": {
   "codemirror_mode": {
    "name": "ipython",
    "version": 3
   },
   "file_extension": ".py",
   "mimetype": "text/x-python",
   "name": "python",
   "nbconvert_exporter": "python",
   "pygments_lexer": "ipython3",
   "version": "3.7.4"
  }
 },
 "nbformat": 4,
 "nbformat_minor": 4
}
