{
 "cells": [
  {
   "cell_type": "markdown",
   "metadata": {},
   "source": [
    "# Breast Cancer Cell Lines: Preprocess Data\n",
    "In this notebook we preprocess our data for downstream locus-based analysis. Data includes:\n",
    "* smRNA seq data of the breast cancer (and normal) cell lines used in our Nature Med paper (Fish, 2018)\n",
    "* smRNA seq data from TCGA: specifically all the BRCA samples and all the normal samples from all tissue types in TCGA. \n",
    "* smRNA seq data from exRNA Atlas along with other publically available datasets from non-cancerous exosomal smRNA samples"
   ]
  },
  {
   "cell_type": "code",
   "execution_count": 1,
   "metadata": {},
   "outputs": [],
   "source": [
    "import pandas as pd\n",
    "import numpy as np\n",
    "import os\n",
    "import pysam\n",
    "import re\n",
    "import json as js\n",
    "from scipy.signal import find_peaks, peak_widths\n",
    "import matplotlib.pyplot as plt\n",
    "import matplotlib\n",
    "matplotlib.rcParams['pdf.fonttype'] = 42\n",
    "matplotlib.rcParams['ps.fonttype'] = 42"
   ]
  },
  {
   "cell_type": "markdown",
   "metadata": {},
   "source": [
    "## Preprocess Cell Lines Data\n",
    "Dataset involves 21 samples:\n",
    "* 3 samples from HMEC cell lines\n",
    "* 18 samples from "
   ]
  },
  {
   "cell_type": "code",
   "execution_count": 2,
   "metadata": {},
   "outputs": [
    {
     "data": {
      "text/plain": [
       "21"
      ]
     },
     "execution_count": 2,
     "metadata": {},
     "output_type": "execute_result"
    }
   ],
   "source": [
    "cell_lines = [f for f in os.scandir(\"data/IC/\") if f.name.endswith(\".srt.dd.bam\")]\n",
    "len(cell_lines)"
   ]
  },
  {
   "cell_type": "markdown",
   "metadata": {},
   "source": [
    "### Dust"
   ]
  },
  {
   "cell_type": "markdown",
   "metadata": {},
   "source": [
    "Since we are converting the bam files to bed format, we first remove the low complexity sequences in the bam files first."
   ]
  },
  {
   "cell_type": "code",
   "execution_count": 3,
   "metadata": {},
   "outputs": [],
   "source": [
    "\"\"\"Simple dust score adapted from Dust Algorithm Score: A fast and symmetric DUST implementation to mask\n",
    "low-complexity DNA sequences (2006, Morgulis et al.)\"\"\"\n",
    "def simpleDustScore(seq):\n",
    "    assert len(seq) > 2\n",
    "    if len(seq) == 3:\n",
    "        return 0\n",
    "    else:\n",
    "        triplets = {}\n",
    "        num_trip = len(seq) - 2\n",
    "        for i in range(num_trip):\n",
    "            subseq = seq[i:i+3]\n",
    "            if subseq in triplets:\n",
    "                triplets[subseq] += 1\n",
    "            else:\n",
    "                triplets[subseq] = 1\n",
    "        sum_triplet = 0\n",
    "        for triplet, count in triplets.items():\n",
    "            sum_triplet += count * (count - 1) / 2\n",
    "        return sum_triplet/(num_trip - 1)"
   ]
  },
  {
   "cell_type": "code",
   "execution_count": 4,
   "metadata": {},
   "outputs": [],
   "source": [
    "for f in cell_lines: \n",
    "    name = f.name.split(\".\")[0]\n",
    "    out = f\"data/IC/{name}.srt.dd.dust.bam\"\n",
    "    infile = pysam.AlignmentFile(f, \"rb\")\n",
    "    outfile = pysam.AlignmentFile(out, \"wb\", template=infile)\n",
    "    for read in infile.fetch():\n",
    "        if simpleDustScore(read.get_forward_sequence()) < 3 and len(read.get_forward_sequence()) >= 15:\n",
    "            outfile.write(read)\n",
    "    outfile.close()\n",
    "    infile.close()"
   ]
  },
  {
   "cell_type": "markdown",
   "metadata": {},
   "source": [
    "### BedtoBam\n",
    "Next we convert all the cell lines bam alignment files to bedfiles. "
   ]
  },
  {
   "cell_type": "code",
   "execution_count": 5,
   "metadata": {},
   "outputs": [],
   "source": [
    "%%bash\n",
    "for f in data/IC/*.srt.dd.dust.bam;\n",
    "do \n",
    "base=$(basename $f)\n",
    "out=${base/.bam/.bed}\n",
    "echo \"$bedtools bamtobed -i $f > data/IC/$out\"\n",
    "bedtools bamtobed -i $f > data/IC/$out\n",
    "done &> log/cell_lines_bamtobed.out"
   ]
  },
  {
   "cell_type": "markdown",
   "metadata": {},
   "source": [
    "### Filter Cell Lines Bed"
   ]
  },
  {
   "cell_type": "code",
   "execution_count": 6,
   "metadata": {},
   "outputs": [],
   "source": [
    "for f in os.scandir(\"data/IC\"):\n",
    "    if f.name.endswith(\".srt.dd.dust.bed\"):\n",
    "        name = f.name.split(\".\")[0]\n",
    "        outfile = f\"data/IC/{name}.filter.bed\"\n",
    "        with open(outfile, \"wt\") as out, open(f, \"rt\") as file:\n",
    "            for line in file:\n",
    "                if re.match(\"chr[\\d+,X,Y]\", line) and \"None\" not in line:\n",
    "                    out.write(line) "
   ]
  },
  {
   "cell_type": "markdown",
   "metadata": {},
   "source": [
    "### Merge Cell Lines Loci\n",
    "Here we merge all the loci seen in the cell lines data to create a locus feature map. No threshold set for degree of overlap."
   ]
  },
  {
   "cell_type": "code",
   "execution_count": 7,
   "metadata": {},
   "outputs": [],
   "source": [
    "%%bash\n",
    "cat data/IC/*.filter.bed | sort -k1,1 -k2,2n | mergeBed -s -c 6 -o distinct -i stdin | \\\n",
    "awk '{print $1 \"\\t\" $2 \"\\t\" $3 \"\\t\" $1\":\"$2\"-\"$3\":\"$4  \"\\t.\" \"\\t\" $4  > \"data/cell_lines_smRNAs_merged_loci.bed\"}' "
   ]
  },
  {
   "cell_type": "markdown",
   "metadata": {},
   "source": [
    "## Split Loci By Peaks"
   ]
  },
  {
   "cell_type": "markdown",
   "metadata": {},
   "source": [
    "Since some loci are larger than 200 bp, we will need to split these loci up by coverage. <br>\n",
    "First we merge all the cell lines sample bamfiles to run `bedtools genomecov`. Based on coverage peaks we will separate the larger loci into smaller ones."
   ]
  },
  {
   "cell_type": "code",
   "execution_count": 8,
   "metadata": {},
   "outputs": [],
   "source": [
    "%%bash\n",
    "samtools merge data/IC/all_samples.bam data/IC/*srt.dd.dust.bam"
   ]
  },
  {
   "cell_type": "code",
   "execution_count": 9,
   "metadata": {},
   "outputs": [],
   "source": [
    "%%bash\n",
    "bedtools genomecov -ibam data/IC/all_samples.bam -bg -strand - > data/IC/all_samples_neg_bg.txt"
   ]
  },
  {
   "cell_type": "code",
   "execution_count": 10,
   "metadata": {},
   "outputs": [],
   "source": [
    "%%bash\n",
    "bedtools genomecov -ibam data/IC/all_samples.bam -bg -strand + > data/IC/all_samples_pos_bg.txt"
   ]
  },
  {
   "cell_type": "code",
   "execution_count": 11,
   "metadata": {},
   "outputs": [
    {
     "data": {
      "text/html": [
       "<div>\n",
       "<style scoped>\n",
       "    .dataframe tbody tr th:only-of-type {\n",
       "        vertical-align: middle;\n",
       "    }\n",
       "\n",
       "    .dataframe tbody tr th {\n",
       "        vertical-align: top;\n",
       "    }\n",
       "\n",
       "    .dataframe thead th {\n",
       "        text-align: right;\n",
       "    }\n",
       "</style>\n",
       "<table border=\"1\" class=\"dataframe\">\n",
       "  <thead>\n",
       "    <tr style=\"text-align: right;\">\n",
       "      <th></th>\n",
       "      <th>0</th>\n",
       "      <th>1</th>\n",
       "      <th>2</th>\n",
       "      <th>3</th>\n",
       "      <th>4</th>\n",
       "      <th>5</th>\n",
       "      <th>length</th>\n",
       "    </tr>\n",
       "  </thead>\n",
       "  <tbody>\n",
       "    <tr>\n",
       "      <th>224</th>\n",
       "      <td>chr1</td>\n",
       "      <td>629083</td>\n",
       "      <td>630075</td>\n",
       "      <td>chr1:629083-630075:+</td>\n",
       "      <td>.</td>\n",
       "      <td>+</td>\n",
       "      <td>992</td>\n",
       "    </tr>\n",
       "    <tr>\n",
       "      <th>225</th>\n",
       "      <td>chr1</td>\n",
       "      <td>629218</td>\n",
       "      <td>629905</td>\n",
       "      <td>chr1:629218-629905:-</td>\n",
       "      <td>.</td>\n",
       "      <td>-</td>\n",
       "      <td>687</td>\n",
       "    </tr>\n",
       "    <tr>\n",
       "      <th>228</th>\n",
       "      <td>chr1</td>\n",
       "      <td>630084</td>\n",
       "      <td>630520</td>\n",
       "      <td>chr1:630084-630520:+</td>\n",
       "      <td>.</td>\n",
       "      <td>+</td>\n",
       "      <td>436</td>\n",
       "    </tr>\n",
       "    <tr>\n",
       "      <th>231</th>\n",
       "      <td>chr1</td>\n",
       "      <td>630317</td>\n",
       "      <td>630520</td>\n",
       "      <td>chr1:630317-630520:-</td>\n",
       "      <td>.</td>\n",
       "      <td>-</td>\n",
       "      <td>203</td>\n",
       "    </tr>\n",
       "    <tr>\n",
       "      <th>237</th>\n",
       "      <td>chr1</td>\n",
       "      <td>630645</td>\n",
       "      <td>631429</td>\n",
       "      <td>chr1:630645-631429:-</td>\n",
       "      <td>.</td>\n",
       "      <td>-</td>\n",
       "      <td>784</td>\n",
       "    </tr>\n",
       "  </tbody>\n",
       "</table>\n",
       "</div>"
      ],
      "text/plain": [
       "        0       1       2                     3  4  5  length\n",
       "224  chr1  629083  630075  chr1:629083-630075:+  .  +     992\n",
       "225  chr1  629218  629905  chr1:629218-629905:-  .  -     687\n",
       "228  chr1  630084  630520  chr1:630084-630520:+  .  +     436\n",
       "231  chr1  630317  630520  chr1:630317-630520:-  .  -     203\n",
       "237  chr1  630645  631429  chr1:630645-631429:-  .  -     784"
      ]
     },
     "execution_count": 11,
     "metadata": {},
     "output_type": "execute_result"
    }
   ],
   "source": [
    "all_loci = pd.read_csv(\"data/cell_lines_smRNAs_merged_loci.bed\", header=None, sep=\"\\t\")\n",
    "all_loci[\"length\"] = all_loci[2] - all_loci[1] #Calculate length of each locus\n",
    "loci_to_split = all_loci[all_loci[\"length\"] > 200]\n",
    "loci_to_split.head()"
   ]
  },
  {
   "cell_type": "code",
   "execution_count": 12,
   "metadata": {},
   "outputs": [
    {
     "data": {
      "text/html": [
       "<div>\n",
       "<style scoped>\n",
       "    .dataframe tbody tr th:only-of-type {\n",
       "        vertical-align: middle;\n",
       "    }\n",
       "\n",
       "    .dataframe tbody tr th {\n",
       "        vertical-align: top;\n",
       "    }\n",
       "\n",
       "    .dataframe thead th {\n",
       "        text-align: right;\n",
       "    }\n",
       "</style>\n",
       "<table border=\"1\" class=\"dataframe\">\n",
       "  <thead>\n",
       "    <tr style=\"text-align: right;\">\n",
       "      <th></th>\n",
       "      <th>0</th>\n",
       "      <th>1</th>\n",
       "      <th>2</th>\n",
       "      <th>3</th>\n",
       "    </tr>\n",
       "  </thead>\n",
       "  <tbody>\n",
       "    <tr>\n",
       "      <th>0</th>\n",
       "      <td>chr1</td>\n",
       "      <td>11046</td>\n",
       "      <td>11061</td>\n",
       "      <td>1</td>\n",
       "    </tr>\n",
       "    <tr>\n",
       "      <th>1</th>\n",
       "      <td>chr1</td>\n",
       "      <td>11237</td>\n",
       "      <td>11258</td>\n",
       "      <td>1</td>\n",
       "    </tr>\n",
       "    <tr>\n",
       "      <th>2</th>\n",
       "      <td>chr1</td>\n",
       "      <td>11768</td>\n",
       "      <td>11785</td>\n",
       "      <td>1</td>\n",
       "    </tr>\n",
       "    <tr>\n",
       "      <th>3</th>\n",
       "      <td>chr1</td>\n",
       "      <td>12036</td>\n",
       "      <td>12072</td>\n",
       "      <td>1</td>\n",
       "    </tr>\n",
       "    <tr>\n",
       "      <th>4</th>\n",
       "      <td>chr1</td>\n",
       "      <td>17017</td>\n",
       "      <td>17035</td>\n",
       "      <td>1</td>\n",
       "    </tr>\n",
       "  </tbody>\n",
       "</table>\n",
       "</div>"
      ],
      "text/plain": [
       "      0      1      2  3\n",
       "0  chr1  11046  11061  1\n",
       "1  chr1  11237  11258  1\n",
       "2  chr1  11768  11785  1\n",
       "3  chr1  12036  12072  1\n",
       "4  chr1  17017  17035  1"
      ]
     },
     "execution_count": 12,
     "metadata": {},
     "output_type": "execute_result"
    }
   ],
   "source": [
    "pos_density = pd.read_csv(\"data/IC/all_samples_pos_bg.txt\", header=None, sep=\"\\t\")\n",
    "neg_density = pd.read_csv(\"data/IC/all_samples_neg_bg.txt\", header=None, sep=\"\\t\")\n",
    "pos_density.head()"
   ]
  },
  {
   "cell_type": "code",
   "execution_count": 13,
   "metadata": {},
   "outputs": [
    {
     "data": {
      "text/plain": [
       "(4400, 1011)"
      ]
     },
     "execution_count": 13,
     "metadata": {},
     "output_type": "execute_result"
    }
   ],
   "source": [
    "new_loci_list = []\n",
    "for i in range(loci_to_split.shape[0]):\n",
    "    rna = loci_to_split.iloc[i]\n",
    "    density = neg_density if rna[5] == \"-\" else pos_density\n",
    "    density = density[density[0] == rna[0]] #Match reference chr\n",
    "    density = density[(density[1] >= rna[1]) & (density[2] <= rna[2])] #Match rna locus. Since the loci area already merged, the coverage start and end positions should match seamlessly.\n",
    "    coord, coverage = [], []\n",
    "    assert density.iloc[0][1] == rna[1]\n",
    "    assert density.iloc[-1][2] == rna[2] \n",
    "    posit = density.iloc[0][1] #Start of locus\n",
    "    for i in range(density.shape[0]):\n",
    "        row = density.iloc[i]\n",
    "        start, end, count = row[1], row[2], row[3]\n",
    "        \n",
    "        #Mergebed and genomecov results have about 6 loci that are off by 1~3 bps. Here we fix continuity  \n",
    "        while posit < start:\n",
    "            coord.append(posit)\n",
    "            coverage.append(0) #Bridge gap in genomecov with 0s\n",
    "            posit += 1\n",
    "            \n",
    "        #Generating coverage by each nucletotide position.\n",
    "        while start < end:\n",
    "            coord.append(start)\n",
    "            coverage.append(count)\n",
    "            start += 1\n",
    "            posit += 1\n",
    "            \n",
    "    peaks, _ = find_peaks(np.array(coverage), height=5, rel_height=0.5, width=[15, 200], distance=20)\n",
    "    results = peak_widths(np.array(coverage), peaks, rel_height=0.5)\n",
    "    #peak_widths returns 4 arrays in order: peak widths, peak heights, peak start, peak end.\n",
    "    for new_start_index,new_end_index in zip(results[2], results[3]):\n",
    "        new_start_index, new_end_index = int(new_start_index), int(new_end_index) #These are the new indices\n",
    "        new_start = coord[new_start_index]\n",
    "        new_end = coord[new_end_index]\n",
    "        \n",
    "        if new_end - new_start + 7 < 200: #Add an additional 6 nt buffer if loci length is not too large.\n",
    "            new_start -= 3\n",
    "            new_end += 4 #1 nt more for end because bed format is end exclusive.\n",
    "        new_locus = f\"{rna[0]}:{new_start}-{new_end}:{rna[5]}\"\n",
    "        new_loci_list.append(new_locus)\n",
    "        \n",
    "len(new_loci_list), loci_to_split.shape[0]"
   ]
  },
  {
   "cell_type": "markdown",
   "metadata": {},
   "source": [
    "From the 1011 loci greater than 200 bp, we split them into 4400 loci."
   ]
  },
  {
   "cell_type": "code",
   "execution_count": 14,
   "metadata": {},
   "outputs": [
    {
     "data": {
      "text/plain": [
       "1734531"
      ]
     },
     "execution_count": 14,
     "metadata": {},
     "output_type": "execute_result"
    }
   ],
   "source": [
    "loci_list = all_loci[all_loci[\"length\"] <= 200][3].tolist()\n",
    "loci_list.extend(new_loci_list)\n",
    "len(loci_list)"
   ]
  },
  {
   "cell_type": "code",
   "execution_count": 15,
   "metadata": {},
   "outputs": [],
   "source": [
    "with open(\"data/cell_lines_smRNAs_split_loci.bed\", \"wt\") as out:   \n",
    "    for locus in loci_list:\n",
    "        splits = locus.split(\":\")\n",
    "        start = splits[1].split(\"-\")[0]\n",
    "        end = splits[1].split(\"-\")[1]\n",
    "        bed = f\"{splits[0]}\\t{start}\\t{end}\\t{locus}\\t.\\t{splits[-1]}\"\n",
    "        out.write(bed + \"\\n\")"
   ]
  },
  {
   "cell_type": "code",
   "execution_count": 16,
   "metadata": {},
   "outputs": [],
   "source": [
    "%%bash\n",
    "cat data/cell_lines_smRNAs_split_loci.bed | sort -k1,1 -k2,2n | mergeBed -s -c 6 -o distinct -i stdin | \\\n",
    "awk '{print $1 \"\\t\" $2 \"\\t\" $3 \"\\t\" $1\":\"$2\"-\"$3\":\"$4  \"\\t.\" \"\\t\" $4  > \"data/cell_lines_smRNAs_loci_map.bed\"}' "
   ]
  },
  {
   "cell_type": "code",
   "execution_count": 17,
   "metadata": {},
   "outputs": [
    {
     "data": {
      "text/plain": [
       "1734299"
      ]
     },
     "execution_count": 17,
     "metadata": {},
     "output_type": "execute_result"
    }
   ],
   "source": [
    "loci_map = pd.read_csv(\"data/cell_lines_smRNAs_loci_map.bed\", header=None, sep=\"\\t\")[3]\n",
    "len(loci_map)"
   ]
  },
  {
   "cell_type": "markdown",
   "metadata": {},
   "source": [
    "Final number of loci in our feature map is 1734299."
   ]
  },
  {
   "cell_type": "markdown",
   "metadata": {},
   "source": [
    "## exRNA Filter Feature Map\n",
    "Here we filter out all the loci that are also seen in non-cancerous samples from the exRNA Atlas and other publically available non-cancerous exosomal smRNAseq datasets. "
   ]
  },
  {
   "cell_type": "markdown",
   "metadata": {},
   "source": [
    "Command: <br>\n",
    "`ls /rumi/shams/jwang/exRNA_atlas/data/bedfiles/*.srt.filter.bed | parallel -j 30 bash scripts/intersect_exRNA_atlas_loci.sh {} &> log/intersect_exRNA_atlas_loci.out` <br>\n",
    "\n",
    "\n",
    "The main command in the script is: <br>\n",
    "`intersectBed -s -u -a data/cell_lines_smRNAs_loci_map.bed -b $1 > data/exRNA/$out` <br>\n",
    "The `-u` option reports a locus in `-a` **once** when there is at least one overlap with `-b`"
   ]
  },
  {
   "cell_type": "markdown",
   "metadata": {},
   "source": [
    "### Plot exRNA clean up threshold"
   ]
  },
  {
   "cell_type": "code",
   "execution_count": 18,
   "metadata": {},
   "outputs": [
    {
     "data": {
      "text/plain": [
       "1383"
      ]
     },
     "execution_count": 18,
     "metadata": {},
     "output_type": "execute_result"
    }
   ],
   "source": [
    "exRNA_intersect_files = [f for f in os.scandir(\"data/exRNA\") if os.stat(f).st_size != 0 and f.name.endswith(\".bed\")] #Exclude empty no hit samples.\n",
    "len(exRNA_intersect_files)"
   ]
  },
  {
   "cell_type": "code",
   "execution_count": 19,
   "metadata": {},
   "outputs": [
    {
     "data": {
      "text/plain": [
       "1143299"
      ]
     },
     "execution_count": 19,
     "metadata": {},
     "output_type": "execute_result"
    }
   ],
   "source": [
    "exRNA_loci_hits = {}\n",
    "for file in exRNA_intersect_files:\n",
    "    df = pd.read_csv(file, sep=\"\\t\", header=None)\n",
    "    for locus in df[3]:\n",
    "        if locus in exRNA_loci_hits:\n",
    "            exRNA_loci_hits[locus] += 1\n",
    "        else:\n",
    "            exRNA_loci_hits[locus] = 1\n",
    "len(exRNA_loci_hits) #Represents number of loci in our loci feature map that had at least one overlap with a sample in the exRNA atlas"
   ]
  },
  {
   "cell_type": "code",
   "execution_count": 20,
   "metadata": {},
   "outputs": [
    {
     "data": {
      "text/html": [
       "<div>\n",
       "<style scoped>\n",
       "    .dataframe tbody tr th:only-of-type {\n",
       "        vertical-align: middle;\n",
       "    }\n",
       "\n",
       "    .dataframe tbody tr th {\n",
       "        vertical-align: top;\n",
       "    }\n",
       "\n",
       "    .dataframe thead th {\n",
       "        text-align: right;\n",
       "    }\n",
       "</style>\n",
       "<table border=\"1\" class=\"dataframe\">\n",
       "  <thead>\n",
       "    <tr style=\"text-align: right;\">\n",
       "      <th></th>\n",
       "      <th>loci</th>\n",
       "      <th>counts</th>\n",
       "    </tr>\n",
       "  </thead>\n",
       "  <tbody>\n",
       "    <tr>\n",
       "      <th>0</th>\n",
       "      <td>chr1:629497-629544:+</td>\n",
       "      <td>1098</td>\n",
       "    </tr>\n",
       "    <tr>\n",
       "      <th>1</th>\n",
       "      <td>chr1:629535-629573:-</td>\n",
       "      <td>1092</td>\n",
       "    </tr>\n",
       "    <tr>\n",
       "      <th>2</th>\n",
       "      <td>chr1:629567-629614:+</td>\n",
       "      <td>1187</td>\n",
       "    </tr>\n",
       "    <tr>\n",
       "      <th>3</th>\n",
       "      <td>chr1:630746-630788:+</td>\n",
       "      <td>1027</td>\n",
       "    </tr>\n",
       "    <tr>\n",
       "      <th>4</th>\n",
       "      <td>chr1:630755-630794:-</td>\n",
       "      <td>799</td>\n",
       "    </tr>\n",
       "  </tbody>\n",
       "</table>\n",
       "</div>"
      ],
      "text/plain": [
       "                   loci  counts\n",
       "0  chr1:629497-629544:+    1098\n",
       "1  chr1:629535-629573:-    1092\n",
       "2  chr1:629567-629614:+    1187\n",
       "3  chr1:630746-630788:+    1027\n",
       "4  chr1:630755-630794:-     799"
      ]
     },
     "execution_count": 20,
     "metadata": {},
     "output_type": "execute_result"
    }
   ],
   "source": [
    "exRNA_loci_hits_df = pd.DataFrame.from_dict(exRNA_loci_hits, orient=\"index\", columns=[\"counts\"])\n",
    "exRNA_loci_hits_df = exRNA_loci_hits_df.reset_index(drop=False).rename(columns={\"index\":\"loci\"})\n",
    "exRNA_loci_hits_df.head()"
   ]
  },
  {
   "cell_type": "code",
   "execution_count": 21,
   "metadata": {},
   "outputs": [],
   "source": [
    "total_loci_num = 1734299\n",
    "exRNA_filter_results = {\"threshold\":[], \"count\":[]}\n",
    "for th in range(1, 50):\n",
    "    exRNA_filter_results[\"threshold\"].append(th)\n",
    "    exRNA_filter_results[\"count\"].append(total_loci_num - np.sum(exRNA_loci_hits_df[\"counts\"] >= th)) #Number of total loci minus number of loci eliminated (loci that intersected with or more than th samples) given a threshold TH\n",
    "exRNA_filter_results = pd.DataFrame(exRNA_filter_results)"
   ]
  },
  {
   "cell_type": "code",
   "execution_count": 22,
   "metadata": {},
   "outputs": [
    {
     "data": {
      "image/png": "[encoded data removed]",
      "text/plain": [
       "<Figure size 432x288 with 1 Axes>"
      ]
     },
     "metadata": {
      "needs_background": "light"
     },
     "output_type": "display_data"
    }
   ],
   "source": [
    "plt.plot('threshold', 'count', data=exRNA_filter_results)\n",
    "plt.xlabel(\"Threshold\")\n",
    "plt.ylabel(\"Number of exRNA Samples Overlap\")\n",
    "ax = plt.gca()\n",
    "cutoff=20\n",
    "ax.axvline(cutoff, color = \"r\", ls=\"--\", label=f\"thresh: {cutoff}\")\n",
    "plt.legend()\n",
    "plt.savefig(\"figures/exRNA_atlas_samples_filter_thresh.pdf\")"
   ]
  },
  {
   "cell_type": "markdown",
   "metadata": {},
   "source": [
    "Here we choose a cutoff of 20. If a locus is found (overlapped) in at least 20 exRNA samples, we will remove from consideration."
   ]
  },
  {
   "cell_type": "code",
   "execution_count": 23,
   "metadata": {},
   "outputs": [
    {
     "data": {
      "text/plain": [
       "165016"
      ]
     },
     "execution_count": 23,
     "metadata": {},
     "output_type": "execute_result"
    }
   ],
   "source": [
    "to_remove = set(exRNA_loci_hits_df[exRNA_loci_hits_df[\"counts\"] >= 20][\"loci\"])\n",
    "len(to_remove)"
   ]
  },
  {
   "cell_type": "code",
   "execution_count": 24,
   "metadata": {},
   "outputs": [
    {
     "data": {
      "text/plain": [
       "1569283"
      ]
     },
     "execution_count": 24,
     "metadata": {},
     "output_type": "execute_result"
    }
   ],
   "source": [
    "exRNA_filtered_loci = []\n",
    "for locus in loci_map:\n",
    "    if locus not in to_remove:\n",
    "        exRNA_filtered_loci.append(locus)\n",
    "len(exRNA_filtered_loci)"
   ]
  },
  {
   "cell_type": "markdown",
   "metadata": {},
   "source": [
    "At this exRNA cleanup step, we removed about 9.5% of our feature loci. Removing 165016 loci from 1734299."
   ]
  },
  {
   "cell_type": "code",
   "execution_count": 25,
   "metadata": {},
   "outputs": [],
   "source": [
    "with open(\"data/cell_lines_smRNAs_loci_map_exRNA_filtered.bed\", \"w\") as out: \n",
    "    for locus in exRNA_filtered_loci:\n",
    "        splits = locus.split(\":\")\n",
    "        start = splits[1].split(\"-\")[0]\n",
    "        end = splits[1].split(\"-\")[1]\n",
    "        bed = f\"{splits[0]}\\t{start}\\t{end}\\t{locus}\\t.\\t{splits[-1]}\"\n",
    "        out.write(bed + \"\\n\")"
   ]
  },
  {
   "cell_type": "markdown",
   "metadata": {},
   "source": [
    "## Create Counts\n",
    "Last preprocess step for the cell lines is to create counts for each cell line sample for each smRNA loci feature."
   ]
  },
  {
   "cell_type": "code",
   "execution_count": 26,
   "metadata": {},
   "outputs": [],
   "source": [
    "%%bash \n",
    "for f in data/IC/*.filter.bed;\n",
    "do\n",
    "out=${f/.filter.bed/.exRNA.intersect.bed}\n",
    "echo \"intersectBed -s -wo -a $f -b data/cell_lines_smRNAs_loci_map_exRNA_filtered.bed > $out\"\n",
    "intersectBed -s -wo -a $f -b data/cell_lines_smRNAs_loci_map_exRNA_filtered.bed > $out\n",
    "done &> log/cell_lines_exRNA_intersect.out"
   ]
  },
  {
   "cell_type": "code",
   "execution_count": 27,
   "metadata": {},
   "outputs": [],
   "source": [
    "%%bash \n",
    "for f in data/IC/*.filter.bed;\n",
    "do\n",
    "out=${f/.filter.bed/.intersect.bed}\n",
    "echo \"intersectBed -s -wo -a $f -b data/cell_lines_smRNAs_loci_map.bed > $out\"\n",
    "intersectBed -s -wo -a $f -b data/cell_lines_smRNAs_loci_map.bed > $out\n",
    "done &> log/cell_lines_intersect.out"
   ]
  },
  {
   "cell_type": "code",
   "execution_count": 28,
   "metadata": {},
   "outputs": [],
   "source": [
    "sample_loci = {}\n",
    "cpm_map = {}\n",
    "exRNA_filtered_cell_lines = [f for f in os.scandir(\"data/IC/\") if f.name.endswith(\".exRNA.intersect.bed\")]\n",
    "for f in exRNA_filtered_cell_lines:  \n",
    "    \n",
    "    sample = f.name.split(\".\")[0]\n",
    "    bed_file = pd.read_csv(f\"data/IC/{sample}.filter.bed\", header=None, sep=\"\\t\")\n",
    "    assert len(bed_file[3].unique()) == bed_file.shape[0] #Ensures number of unique reads (query_id) matches total number of reads in bed file, so that we are not over counting\n",
    "    #cpm calculations: total reads within pre-exRNA filtered bedfile. Note reads that had \"chrUn\" or low-complexity seqeunces where filered out and not included in cpm normalization.           \n",
    "    cpm = 1000000/bed_file.shape[0]\n",
    "    cpm_map[sample] = cpm\n",
    "    \n",
    "    #Counts of exRNA filtered loci\n",
    "    ex_fil_bed = pd.read_csv(f, header=None, sep=\"\\t\")\n",
    "    loci_features = ex_fil_bed[9] #Locus annotation as a feature.\n",
    "    loci_bp_overlaps = ex_fil_bed[12] #Number of bp overlaps between read and locus annotation.\n",
    "    read_ids = ex_fil_bed[3] #Query ID from original bamfile for each read.\n",
    "    \n",
    "    #First create read_id map\n",
    "    read_id_locus_map = {}\n",
    "    for i in range(len(read_ids)):\n",
    "        _id = read_ids.iloc[i]\n",
    "        num_bp_match = loci_bp_overlaps.iloc[i]\n",
    "        locus = loci_features.iloc[i]\n",
    "        \n",
    "        if _id in read_id_locus_map: #Indicates multiple hits/overlaps for one read.\n",
    "            if num_bp_match > read_id_locus_map[_id][\"bp\"]: #Update locus count if more number of bp matched. This is our simple binning procedure.\n",
    "                read_id_locus_map[_id] = {\"locus\":locus, \"bp\":num_bp_match}\n",
    "        else:\n",
    "            read_id_locus_map[_id] = {\"locus\":locus, \"bp\":num_bp_match}\n",
    "            \n",
    "    assert len(read_id_locus_map) == len(ex_fil_bed[3].unique()) #Ensures we do not overcount reads   \n",
    "    \n",
    "    #Counts of loci\n",
    "    sample_loci[sample] = {}\n",
    "    for _id in read_id_locus_map: \n",
    "        locus = read_id_locus_map[_id][\"locus\"] \n",
    "        if locus in sample_loci[sample]:\n",
    "            sample_loci[sample][locus] += 1\n",
    "        else:\n",
    "            sample_loci[sample][locus] = 1"
   ]
  },
  {
   "cell_type": "code",
   "execution_count": 29,
   "metadata": {},
   "outputs": [],
   "source": [
    "with open('data/counts/cell_lines_loci_counts.json', 'w') as f:\n",
    "    js.dump(sample_loci, f)\n",
    "    f.close()\n",
    "    \n",
    "with open (\"data/counts/cell_lines_cpm_map.json\", \"w\") as f:\n",
    "    js.dump(cpm_map, f)\n",
    "    f.close()"
   ]
  },
  {
   "cell_type": "markdown",
   "metadata": {},
   "source": [
    "## Preprocess TCGA Data\n",
    "Since TCGA datasets are quite bit larger, we run the following pre-processing steps as scripts instead of in this notebook. All scripts can be found in the `scripts` directory. <br>\n",
    "TCGA dataset we use in this project involves: 679 normal samples from varying tissues and 1103 BRCA cancer samples.\n",
    "<br>"
   ]
  },
  {
   "cell_type": "markdown",
   "metadata": {},
   "source": [
    "### Dust \n",
    "Eliminate low-complexity sequences"
   ]
  },
  {
   "cell_type": "markdown",
   "metadata": {},
   "source": [
    "Command used in smRNA env: <br>\n",
    "`python3 scripts/dust_filter.py &> log/dust_filter_TCGA.out`"
   ]
  },
  {
   "cell_type": "markdown",
   "metadata": {},
   "source": [
    "### Bamtobed\n",
    "Convert all the filtered bam files to bed files."
   ]
  },
  {
   "cell_type": "markdown",
   "metadata": {},
   "source": [
    "Command used in smRNA env: <br>\n",
    "`ls /rumi/shams/jwang/BRCA_oncRNA/data/TCGA/*.dust.bam | parallel -j 30 bash scripts/bamtobed.sh {} &> log/bamtobed_TCGA.out`"
   ]
  },
  {
   "cell_type": "markdown",
   "metadata": {},
   "source": [
    "### Filter TCGA Data\n",
    "TCGA bed data contains certain formats that are not compatible with bedtools and are not of interest (ex: chrUn). Here we filter our TCGA data before further processing."
   ]
  },
  {
   "cell_type": "markdown",
   "metadata": {},
   "source": [
    "Command used in smRNA env: <br>\n",
    "`python3 scripts/filter_TCGA.py &> log/filter_TCGA.out`"
   ]
  },
  {
   "cell_type": "markdown",
   "metadata": {},
   "source": [
    "# Conclusion\n",
    "Finished preprocessing and creating counts for loci found in our cell lines and preprocessing TCGA data. <br>\n",
    "Next step is identify cancer-enriched RNAs."
   ]
  }
 ],
 "metadata": {
  "kernelspec": {
   "display_name": "Python [conda env:smRNA]",
   "language": "python",
   "name": "conda-env-smRNA-py"
  },
  "language_info": {
   "codemirror_mode": {
    "name": "ipython",
    "version": 3
   },
   "file_extension": ".py",
   "mimetype": "text/x-python",
   "name": "python",
   "nbconvert_exporter": "python",
   "pygments_lexer": "ipython3",
   "version": "3.7.4"
  }
 },
 "nbformat": 4,
 "nbformat_minor": 4
}
