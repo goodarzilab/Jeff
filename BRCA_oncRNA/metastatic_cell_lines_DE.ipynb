{
 "cells": [
  {
   "cell_type": "markdown",
   "metadata": {},
   "source": [
    "# Metastatic Cell Lines DESeq Analysis"
   ]
  },
  {
   "cell_type": "code",
   "execution_count": 1,
   "metadata": {},
   "outputs": [],
   "source": [
    "import pandas as pd\n",
    "import numpy as np\n",
    "import pymongo\n",
    "import os\n",
    "import pysam\n",
    "from statsmodels.stats.multitest import fdrcorrection\n",
    "import scipy.stats as stats\n",
    "import matplotlib.pyplot as plt\n",
    "import statsmodels\n",
    "import seaborn as sns\n",
    "import random\n",
    "import re\n",
    "import json as js\n",
    "import warnings\n",
    "warnings.filterwarnings(\"ignore\")\n",
    "import rpy2.ipython\n",
    "%load_ext rpy2.ipython"
   ]
  },
  {
   "cell_type": "code",
   "execution_count": 2,
   "metadata": {},
   "outputs": [
    {
     "name": "stderr",
     "output_type": "stream",
     "text": [
      "R[write to console]: Loading required package: S4Vectors\n",
      "\n",
      "R[write to console]: Loading required package: stats4\n",
      "\n",
      "R[write to console]: Loading required package: BiocGenerics\n",
      "\n",
      "R[write to console]: Loading required package: parallel\n",
      "\n",
      "R[write to console]: \n",
      "Attaching package: ‘BiocGenerics’\n",
      "\n",
      "\n",
      "R[write to console]: The following objects are masked from ‘package:parallel’:\n",
      "\n",
      "    clusterApply, clusterApplyLB, clusterCall, clusterEvalQ,\n",
      "    clusterExport, clusterMap, parApply, parCapply, parLapply,\n",
      "    parLapplyLB, parRapply, parSapply, parSapplyLB\n",
      "\n",
      "\n",
      "R[write to console]: The following objects are masked from ‘package:stats’:\n",
      "\n",
      "    IQR, mad, sd, var, xtabs\n",
      "\n",
      "\n",
      "R[write to console]: The following objects are masked from ‘package:base’:\n",
      "\n",
      "    anyDuplicated, append, as.data.frame, basename, cbind, colMeans,\n",
      "    colnames, colSums, dirname, do.call, duplicated, eval, evalq,\n",
      "    Filter, Find, get, grep, grepl, intersect, is.unsorted, lapply,\n",
      "    lengths, Map, mapply, match, mget, order, paste, pmax, pmax.int,\n",
      "    pmin, pmin.int, Position, rank, rbind, Reduce, rowMeans, rownames,\n",
      "    rowSums, sapply, setdiff, sort, table, tapply, union, unique,\n",
      "    unsplit, which, which.max, which.min\n",
      "\n",
      "\n",
      "R[write to console]: \n",
      "Attaching package: ‘S4Vectors’\n",
      "\n",
      "\n",
      "R[write to console]: The following object is masked from ‘package:base’:\n",
      "\n",
      "    expand.grid\n",
      "\n",
      "\n",
      "R[write to console]: Loading required package: IRanges\n",
      "\n",
      "R[write to console]: Loading required package: GenomicRanges\n",
      "\n",
      "R[write to console]: Loading required package: GenomeInfoDb\n",
      "\n",
      "R[write to console]: Loading required package: SummarizedExperiment\n",
      "\n",
      "R[write to console]: Loading required package: Biobase\n",
      "\n",
      "R[write to console]: Welcome to Bioconductor\n",
      "\n",
      "    Vignettes contain introductory material; view with\n",
      "    'browseVignettes()'. To cite Bioconductor, see\n",
      "    'citation(\"Biobase\")', and for packages 'citation(\"pkgname\")'.\n",
      "\n",
      "\n",
      "R[write to console]: Loading required package: DelayedArray\n",
      "\n",
      "R[write to console]: Loading required package: matrixStats\n",
      "\n",
      "R[write to console]: \n",
      "Attaching package: ‘matrixStats’\n",
      "\n",
      "\n",
      "R[write to console]: The following objects are masked from ‘package:Biobase’:\n",
      "\n",
      "    anyMissing, rowMedians\n",
      "\n",
      "\n",
      "R[write to console]: Loading required package: BiocParallel\n",
      "\n",
      "R[write to console]: \n",
      "Attaching package: ‘DelayedArray’\n",
      "\n",
      "\n",
      "R[write to console]: The following objects are masked from ‘package:matrixStats’:\n",
      "\n",
      "    colMaxs, colMins, colRanges, rowMaxs, rowMins, rowRanges\n",
      "\n",
      "\n",
      "R[write to console]: The following objects are masked from ‘package:base’:\n",
      "\n",
      "    aperm, apply\n",
      "\n",
      "\n",
      "R[write to console]: Loading required package: ggplot2\n",
      "\n",
      "R[write to console]: Loading required package: ggrepel\n",
      "\n"
     ]
    }
   ],
   "source": [
    "%%R \n",
    "library(DESeq2)\n",
    "library(EnhancedVolcano)"
   ]
  },
  {
   "cell_type": "markdown",
   "metadata": {},
   "source": [
    "## Load Counts"
   ]
  },
  {
   "cell_type": "code",
   "execution_count": 3,
   "metadata": {},
   "outputs": [],
   "source": [
    "with open('data/counts/cell_lines_loci_counts.json', 'r') as f:\n",
    "    sample_loci = js.load(f)\n",
    "    f.close()\n",
    "# Filter out LM2_2_cell_S37 from consideration\n",
    "del sample_loci[\"LM2_2_cell_S37\"]"
   ]
  },
  {
   "cell_type": "code",
   "execution_count": 4,
   "metadata": {},
   "outputs": [],
   "source": [
    "sig_brca_sig_cl_df = pd.read_csv(\"results/thresholded_oncRNAs.bed\", header=None, sep=\"\\t\")"
   ]
  },
  {
   "cell_type": "code",
   "execution_count": 5,
   "metadata": {},
   "outputs": [
    {
     "data": {
      "text/plain": [
       "4"
      ]
     },
     "execution_count": 5,
     "metadata": {},
     "output_type": "execute_result"
    }
   ],
   "source": [
    "met_par_counts = {}\n",
    "for cell_line, loci_dict in sample_loci.items():\n",
    "#     if \"CN34\" in cell_line or \"LM1a\" in cell_line or \"LM2\" in cell_line or \"MDA231\" in cell_line:\n",
    "    if \"CN34\" in cell_line or \"LM1a\" in cell_line:\n",
    "        met_par_counts[cell_line] = loci_dict\n",
    "len(met_par_counts)"
   ]
  },
  {
   "cell_type": "code",
   "execution_count": 6,
   "metadata": {},
   "outputs": [],
   "source": [
    "sig_loci_counts = {} #Use the raw counts\n",
    "for locus in sig_brca_sig_cl_df[3]:\n",
    "    sig_loci_counts[locus] = {} \n",
    "    for cell_line, loci_dict in met_par_counts.items():\n",
    "        if locus in loci_dict:\n",
    "            sig_loci_counts[locus][cell_line] = loci_dict[locus]\n",
    "        else:\n",
    "            sig_loci_counts[locus][cell_line] = 0"
   ]
  },
  {
   "cell_type": "code",
   "execution_count": 7,
   "metadata": {},
   "outputs": [
    {
     "name": "stdout",
     "output_type": "stream",
     "text": [
      "(86, 4)\n"
     ]
    },
    {
     "data": {
      "text/html": [
       "<div>\n",
       "<style scoped>\n",
       "    .dataframe tbody tr th:only-of-type {\n",
       "        vertical-align: middle;\n",
       "    }\n",
       "\n",
       "    .dataframe tbody tr th {\n",
       "        vertical-align: top;\n",
       "    }\n",
       "\n",
       "    .dataframe thead th {\n",
       "        text-align: right;\n",
       "    }\n",
       "</style>\n",
       "<table border=\"1\" class=\"dataframe\">\n",
       "  <thead>\n",
       "    <tr style=\"text-align: right;\">\n",
       "      <th></th>\n",
       "      <th>CN34_1_cell_S27</th>\n",
       "      <th>CN34_2_cell_S38</th>\n",
       "      <th>LM1a_1_cell_S28</th>\n",
       "      <th>LM1a_2_cell_S39</th>\n",
       "    </tr>\n",
       "  </thead>\n",
       "  <tbody>\n",
       "    <tr>\n",
       "      <th>chr6:27815103-27815138:+</th>\n",
       "      <td>5</td>\n",
       "      <td>2</td>\n",
       "      <td>15</td>\n",
       "      <td>6</td>\n",
       "    </tr>\n",
       "    <tr>\n",
       "      <th>chr7:13735449-13735471:-</th>\n",
       "      <td>1</td>\n",
       "      <td>0</td>\n",
       "      <td>0</td>\n",
       "      <td>0</td>\n",
       "    </tr>\n",
       "    <tr>\n",
       "      <th>chr7:29921213-29921331:-</th>\n",
       "      <td>10</td>\n",
       "      <td>4</td>\n",
       "      <td>7</td>\n",
       "      <td>14</td>\n",
       "    </tr>\n",
       "    <tr>\n",
       "      <th>chr11:112396454-112396473:+</th>\n",
       "      <td>3</td>\n",
       "      <td>2</td>\n",
       "      <td>1</td>\n",
       "      <td>3</td>\n",
       "    </tr>\n",
       "    <tr>\n",
       "      <th>chr12:71664021-71664096:+</th>\n",
       "      <td>0</td>\n",
       "      <td>2</td>\n",
       "      <td>2</td>\n",
       "      <td>0</td>\n",
       "    </tr>\n",
       "  </tbody>\n",
       "</table>\n",
       "</div>"
      ],
      "text/plain": [
       "                             CN34_1_cell_S27  CN34_2_cell_S38  \\\n",
       "chr6:27815103-27815138:+                   5                2   \n",
       "chr7:13735449-13735471:-                   1                0   \n",
       "chr7:29921213-29921331:-                  10                4   \n",
       "chr11:112396454-112396473:+                3                2   \n",
       "chr12:71664021-71664096:+                  0                2   \n",
       "\n",
       "                             LM1a_1_cell_S28  LM1a_2_cell_S39  \n",
       "chr6:27815103-27815138:+                  15                6  \n",
       "chr7:13735449-13735471:-                   0                0  \n",
       "chr7:29921213-29921331:-                   7               14  \n",
       "chr11:112396454-112396473:+                1                3  \n",
       "chr12:71664021-71664096:+                  2                0  "
      ]
     },
     "execution_count": 7,
     "metadata": {},
     "output_type": "execute_result"
    }
   ],
   "source": [
    "met_par_cm = pd.DataFrame(sig_loci_counts).T\n",
    "met_par_cm = met_par_cm[met_par_cm.sum(axis=1) > 0]\n",
    "met_par_cm = met_par_cm.sort_index(axis=1)\n",
    "print(met_par_cm.shape)\n",
    "met_par_cm.head()"
   ]
  },
  {
   "cell_type": "code",
   "execution_count": 8,
   "metadata": {},
   "outputs": [
    {
     "data": {
      "text/html": [
       "<div>\n",
       "<style scoped>\n",
       "    .dataframe tbody tr th:only-of-type {\n",
       "        vertical-align: middle;\n",
       "    }\n",
       "\n",
       "    .dataframe tbody tr th {\n",
       "        vertical-align: top;\n",
       "    }\n",
       "\n",
       "    .dataframe thead th {\n",
       "        text-align: right;\n",
       "    }\n",
       "</style>\n",
       "<table border=\"1\" class=\"dataframe\">\n",
       "  <thead>\n",
       "    <tr style=\"text-align: right;\">\n",
       "      <th></th>\n",
       "      <th>condition</th>\n",
       "      <th>type</th>\n",
       "    </tr>\n",
       "  </thead>\n",
       "  <tbody>\n",
       "    <tr>\n",
       "      <th>CN34_1_cell_S27</th>\n",
       "      <td>Par</td>\n",
       "      <td>single_read</td>\n",
       "    </tr>\n",
       "    <tr>\n",
       "      <th>CN34_2_cell_S38</th>\n",
       "      <td>Par</td>\n",
       "      <td>single_read</td>\n",
       "    </tr>\n",
       "    <tr>\n",
       "      <th>LM1a_1_cell_S28</th>\n",
       "      <td>Met</td>\n",
       "      <td>single_read</td>\n",
       "    </tr>\n",
       "    <tr>\n",
       "      <th>LM1a_2_cell_S39</th>\n",
       "      <td>Met</td>\n",
       "      <td>single_read</td>\n",
       "    </tr>\n",
       "  </tbody>\n",
       "</table>\n",
       "</div>"
      ],
      "text/plain": [
       "                condition         type\n",
       "CN34_1_cell_S27       Par  single_read\n",
       "CN34_2_cell_S38       Par  single_read\n",
       "LM1a_1_cell_S28       Met  single_read\n",
       "LM1a_2_cell_S39       Met  single_read"
      ]
     },
     "execution_count": 8,
     "metadata": {},
     "output_type": "execute_result"
    }
   ],
   "source": [
    "coldata = pd.DataFrame({\"condition\": [\"Par\", \"Par\", \"Met\", \"Met\"], \n",
    "                        \"type\":[\"single_read\", \"single_read\", \"single_read\", \"single_read\"]})\n",
    "coldata.index=met_par_cm.columns\n",
    "coldata"
   ]
  },
  {
   "cell_type": "code",
   "execution_count": 9,
   "metadata": {},
   "outputs": [
    {
     "name": "stderr",
     "output_type": "stream",
     "text": [
      "R[write to console]: estimating size factors\n",
      "\n",
      "R[write to console]: estimating dispersions\n",
      "\n",
      "R[write to console]: gene-wise dispersion estimates\n",
      "\n",
      "R[write to console]: mean-dispersion relationship\n",
      "\n",
      "R[write to console]: -- note: fitType='parametric', but the dispersion trend was not well captured by the\n",
      "   function: y = a/x + b, and a local regression fit was automatically substituted.\n",
      "   specify fitType='local' or 'mean' to avoid this message next time.\n",
      "\n",
      "R[write to console]: final dispersion estimates\n",
      "\n",
      "R[write to console]: fitting model and testing\n",
      "\n"
     ]
    }
   ],
   "source": [
    "%%R -i coldata,met_par_cm\n",
    "dds <- DESeqDataSetFromMatrix(countData = met_par_cm, colData = coldata, design = ~ condition)\n",
    "dds <- DESeq(dds)"
   ]
  },
  {
   "cell_type": "code",
   "execution_count": 10,
   "metadata": {},
   "outputs": [],
   "source": [
    "%%R -o dds_res\n",
    "dds_res <- as.data.frame(results(dds, contrast=c(\"condition\", \"Met\", \"Par\"), tidy=TRUE))\n",
    "dds_res <- dds_res[!is.na(dds_res$padj),]"
   ]
  },
  {
   "cell_type": "code",
   "execution_count": 11,
   "metadata": {},
   "outputs": [
    {
     "data": {
      "image/png": "[encoded data removed]"
     },
     "metadata": {},
     "output_type": "display_data"
    }
   ],
   "source": [
    "%%R\n",
    "pdf('figures/CN35_metvparDE.pdf')\n",
    "p <- EnhancedVolcano(dds_res, lab = dds_res$row, x= \"log2FoldChange\", xlab=\"Ln Fold change\",\n",
    "                          y=\"pvalue\", ylab=\"-Log10 P\", title= \"Met vs Par\",\n",
    "                          titleLabSize = 12, border = \"full\", pCutoff = 0.1, FCcutoff=1,\n",
    "                          xlim = c(-8,8), ylim=c(0,3.5), drawConnectors = TRUE, \n",
    ")\n",
    "print(p)\n",
    "dev.off()\n",
    "p"
   ]
  },
  {
   "cell_type": "code",
   "execution_count": 12,
   "metadata": {},
   "outputs": [],
   "source": [
    "sig_res = dds_res[dds_res[\"pvalue\"] < 0.1]"
   ]
  },
  {
   "cell_type": "code",
   "execution_count": 13,
   "metadata": {},
   "outputs": [
    {
     "data": {
      "text/html": [
       "<div>\n",
       "<style scoped>\n",
       "    .dataframe tbody tr th:only-of-type {\n",
       "        vertical-align: middle;\n",
       "    }\n",
       "\n",
       "    .dataframe tbody tr th {\n",
       "        vertical-align: top;\n",
       "    }\n",
       "\n",
       "    .dataframe thead th {\n",
       "        text-align: right;\n",
       "    }\n",
       "</style>\n",
       "<table border=\"1\" class=\"dataframe\">\n",
       "  <thead>\n",
       "    <tr style=\"text-align: right;\">\n",
       "      <th></th>\n",
       "      <th>CN34_1_cell_S27</th>\n",
       "      <th>CN34_2_cell_S38</th>\n",
       "      <th>LM1a_1_cell_S28</th>\n",
       "      <th>LM1a_2_cell_S39</th>\n",
       "    </tr>\n",
       "  </thead>\n",
       "  <tbody>\n",
       "    <tr>\n",
       "      <th>chrX:127317121-127317153:-</th>\n",
       "      <td>0</td>\n",
       "      <td>1</td>\n",
       "      <td>25</td>\n",
       "      <td>16</td>\n",
       "    </tr>\n",
       "    <tr>\n",
       "      <th>chrX:127317160-127317210:+</th>\n",
       "      <td>0</td>\n",
       "      <td>4</td>\n",
       "      <td>17</td>\n",
       "      <td>15</td>\n",
       "    </tr>\n",
       "    <tr>\n",
       "      <th>chr20:9357008-9357103:+</th>\n",
       "      <td>1</td>\n",
       "      <td>0</td>\n",
       "      <td>17</td>\n",
       "      <td>10</td>\n",
       "    </tr>\n",
       "  </tbody>\n",
       "</table>\n",
       "</div>"
      ],
      "text/plain": [
       "                            CN34_1_cell_S27  CN34_2_cell_S38  LM1a_1_cell_S28  \\\n",
       "chrX:127317121-127317153:-                0                1               25   \n",
       "chrX:127317160-127317210:+                0                4               17   \n",
       "chr20:9357008-9357103:+                   1                0               17   \n",
       "\n",
       "                            LM1a_2_cell_S39  \n",
       "chrX:127317121-127317153:-               16  \n",
       "chrX:127317160-127317210:+               15  \n",
       "chr20:9357008-9357103:+                  10  "
      ]
     },
     "execution_count": 13,
     "metadata": {},
     "output_type": "execute_result"
    }
   ],
   "source": [
    "met_par_cm.loc[sig_res[\"row\"]]"
   ]
  },
  {
   "cell_type": "markdown",
   "metadata": {},
   "source": [
    "# Test CN34 and MDA Cell Lines\n",
    "Next we test for DE oncRNAs comparing metastatic vs parental cell lines for MDA231 and CN34, controlling for background."
   ]
  },
  {
   "cell_type": "code",
   "execution_count": 14,
   "metadata": {},
   "outputs": [
    {
     "data": {
      "text/plain": [
       "7"
      ]
     },
     "execution_count": 14,
     "metadata": {},
     "output_type": "execute_result"
    }
   ],
   "source": [
    "met_par_counts = {}\n",
    "for cell_line, loci_dict in sample_loci.items():\n",
    "    if \"CN34\" in cell_line or \"LM1a\" in cell_line or \"LM2\" in cell_line or \"MDA231\" in cell_line:\n",
    "        met_par_counts[cell_line] = loci_dict\n",
    "len(met_par_counts)"
   ]
  },
  {
   "cell_type": "code",
   "execution_count": 15,
   "metadata": {},
   "outputs": [],
   "source": [
    "sig_loci_counts = {} #Use the raw counts\n",
    "for locus in sig_brca_sig_cl_df[3]:\n",
    "    sig_loci_counts[locus] = {} \n",
    "    for cell_line, loci_dict in met_par_counts.items():\n",
    "        if locus in loci_dict:\n",
    "            sig_loci_counts[locus][cell_line] = loci_dict[locus]\n",
    "        else:\n",
    "            sig_loci_counts[locus][cell_line] = 0"
   ]
  },
  {
   "cell_type": "code",
   "execution_count": 16,
   "metadata": {},
   "outputs": [
    {
     "name": "stdout",
     "output_type": "stream",
     "text": [
      "(92, 7)\n"
     ]
    },
    {
     "data": {
      "text/html": [
       "<div>\n",
       "<style scoped>\n",
       "    .dataframe tbody tr th:only-of-type {\n",
       "        vertical-align: middle;\n",
       "    }\n",
       "\n",
       "    .dataframe tbody tr th {\n",
       "        vertical-align: top;\n",
       "    }\n",
       "\n",
       "    .dataframe thead th {\n",
       "        text-align: right;\n",
       "    }\n",
       "</style>\n",
       "<table border=\"1\" class=\"dataframe\">\n",
       "  <thead>\n",
       "    <tr style=\"text-align: right;\">\n",
       "      <th></th>\n",
       "      <th>CN34_1_cell_S27</th>\n",
       "      <th>CN34_2_cell_S38</th>\n",
       "      <th>LM1a_1_cell_S28</th>\n",
       "      <th>LM1a_2_cell_S39</th>\n",
       "      <th>LM2_1_cell_S26</th>\n",
       "      <th>MDA231_1_cell_S25</th>\n",
       "      <th>MDA231_2_cell_S36</th>\n",
       "    </tr>\n",
       "  </thead>\n",
       "  <tbody>\n",
       "    <tr>\n",
       "      <th>chr6:27815103-27815138:+</th>\n",
       "      <td>5</td>\n",
       "      <td>2</td>\n",
       "      <td>15</td>\n",
       "      <td>6</td>\n",
       "      <td>1</td>\n",
       "      <td>3</td>\n",
       "      <td>3</td>\n",
       "    </tr>\n",
       "    <tr>\n",
       "      <th>chr7:13735449-13735471:-</th>\n",
       "      <td>1</td>\n",
       "      <td>0</td>\n",
       "      <td>0</td>\n",
       "      <td>0</td>\n",
       "      <td>1</td>\n",
       "      <td>1</td>\n",
       "      <td>1</td>\n",
       "    </tr>\n",
       "    <tr>\n",
       "      <th>chr7:29921213-29921331:-</th>\n",
       "      <td>10</td>\n",
       "      <td>4</td>\n",
       "      <td>7</td>\n",
       "      <td>14</td>\n",
       "      <td>6</td>\n",
       "      <td>6</td>\n",
       "      <td>5</td>\n",
       "    </tr>\n",
       "    <tr>\n",
       "      <th>chr11:112396454-112396473:+</th>\n",
       "      <td>3</td>\n",
       "      <td>2</td>\n",
       "      <td>1</td>\n",
       "      <td>3</td>\n",
       "      <td>2</td>\n",
       "      <td>4</td>\n",
       "      <td>0</td>\n",
       "    </tr>\n",
       "    <tr>\n",
       "      <th>chr12:71664021-71664096:+</th>\n",
       "      <td>0</td>\n",
       "      <td>2</td>\n",
       "      <td>2</td>\n",
       "      <td>0</td>\n",
       "      <td>2</td>\n",
       "      <td>6</td>\n",
       "      <td>4</td>\n",
       "    </tr>\n",
       "  </tbody>\n",
       "</table>\n",
       "</div>"
      ],
      "text/plain": [
       "                             CN34_1_cell_S27  CN34_2_cell_S38  \\\n",
       "chr6:27815103-27815138:+                   5                2   \n",
       "chr7:13735449-13735471:-                   1                0   \n",
       "chr7:29921213-29921331:-                  10                4   \n",
       "chr11:112396454-112396473:+                3                2   \n",
       "chr12:71664021-71664096:+                  0                2   \n",
       "\n",
       "                             LM1a_1_cell_S28  LM1a_2_cell_S39  LM2_1_cell_S26  \\\n",
       "chr6:27815103-27815138:+                  15                6               1   \n",
       "chr7:13735449-13735471:-                   0                0               1   \n",
       "chr7:29921213-29921331:-                   7               14               6   \n",
       "chr11:112396454-112396473:+                1                3               2   \n",
       "chr12:71664021-71664096:+                  2                0               2   \n",
       "\n",
       "                             MDA231_1_cell_S25  MDA231_2_cell_S36  \n",
       "chr6:27815103-27815138:+                     3                  3  \n",
       "chr7:13735449-13735471:-                     1                  1  \n",
       "chr7:29921213-29921331:-                     6                  5  \n",
       "chr11:112396454-112396473:+                  4                  0  \n",
       "chr12:71664021-71664096:+                    6                  4  "
      ]
     },
     "execution_count": 16,
     "metadata": {},
     "output_type": "execute_result"
    }
   ],
   "source": [
    "met_par_cm = pd.DataFrame(sig_loci_counts).T\n",
    "met_par_cm = met_par_cm[met_par_cm.sum(axis=1) > 0]\n",
    "met_par_cm = met_par_cm.sort_index(axis=1)\n",
    "print(met_par_cm.shape)\n",
    "met_par_cm.head()"
   ]
  },
  {
   "cell_type": "code",
   "execution_count": 17,
   "metadata": {},
   "outputs": [
    {
     "data": {
      "text/html": [
       "<div>\n",
       "<style scoped>\n",
       "    .dataframe tbody tr th:only-of-type {\n",
       "        vertical-align: middle;\n",
       "    }\n",
       "\n",
       "    .dataframe tbody tr th {\n",
       "        vertical-align: top;\n",
       "    }\n",
       "\n",
       "    .dataframe thead th {\n",
       "        text-align: right;\n",
       "    }\n",
       "</style>\n",
       "<table border=\"1\" class=\"dataframe\">\n",
       "  <thead>\n",
       "    <tr style=\"text-align: right;\">\n",
       "      <th></th>\n",
       "      <th>condition</th>\n",
       "      <th>type</th>\n",
       "      <th>background</th>\n",
       "    </tr>\n",
       "  </thead>\n",
       "  <tbody>\n",
       "    <tr>\n",
       "      <th>CN34_1_cell_S27</th>\n",
       "      <td>Par</td>\n",
       "      <td>single_read</td>\n",
       "      <td>CN34</td>\n",
       "    </tr>\n",
       "    <tr>\n",
       "      <th>CN34_2_cell_S38</th>\n",
       "      <td>Par</td>\n",
       "      <td>single_read</td>\n",
       "      <td>CN34</td>\n",
       "    </tr>\n",
       "    <tr>\n",
       "      <th>LM1a_1_cell_S28</th>\n",
       "      <td>Met</td>\n",
       "      <td>single_read</td>\n",
       "      <td>CN34</td>\n",
       "    </tr>\n",
       "    <tr>\n",
       "      <th>LM1a_2_cell_S39</th>\n",
       "      <td>Met</td>\n",
       "      <td>single_read</td>\n",
       "      <td>CN34</td>\n",
       "    </tr>\n",
       "    <tr>\n",
       "      <th>LM2_1_cell_S26</th>\n",
       "      <td>Met</td>\n",
       "      <td>single_read</td>\n",
       "      <td>MDA231</td>\n",
       "    </tr>\n",
       "    <tr>\n",
       "      <th>MDA231_1_cell_S25</th>\n",
       "      <td>Par</td>\n",
       "      <td>single_read</td>\n",
       "      <td>MDA231</td>\n",
       "    </tr>\n",
       "    <tr>\n",
       "      <th>MDA231_2_cell_S36</th>\n",
       "      <td>Par</td>\n",
       "      <td>single_read</td>\n",
       "      <td>MDA231</td>\n",
       "    </tr>\n",
       "  </tbody>\n",
       "</table>\n",
       "</div>"
      ],
      "text/plain": [
       "                  condition         type background\n",
       "CN34_1_cell_S27         Par  single_read       CN34\n",
       "CN34_2_cell_S38         Par  single_read       CN34\n",
       "LM1a_1_cell_S28         Met  single_read       CN34\n",
       "LM1a_2_cell_S39         Met  single_read       CN34\n",
       "LM2_1_cell_S26          Met  single_read     MDA231\n",
       "MDA231_1_cell_S25       Par  single_read     MDA231\n",
       "MDA231_2_cell_S36       Par  single_read     MDA231"
      ]
     },
     "execution_count": 17,
     "metadata": {},
     "output_type": "execute_result"
    }
   ],
   "source": [
    "coldata = pd.DataFrame({\"condition\": [\"Par\", \"Par\", \"Met\", \"Met\", \"Met\", \"Par\", \"Par\"], \n",
    "                        \"type\":[\"single_read\", \"single_read\", \"single_read\", \"single_read\", \"single_read\", \"single_read\", \"single_read\"],\n",
    "                       \"background\":[\"CN34\", \"CN34\", \"CN34\", \"CN34\", \"MDA231\", \"MDA231\", \"MDA231\"]})\n",
    "coldata.index=met_par_cm.columns\n",
    "coldata"
   ]
  },
  {
   "cell_type": "code",
   "execution_count": 18,
   "metadata": {},
   "outputs": [
    {
     "name": "stderr",
     "output_type": "stream",
     "text": [
      "R[write to console]: estimating size factors\n",
      "\n",
      "R[write to console]: estimating dispersions\n",
      "\n",
      "R[write to console]: gene-wise dispersion estimates\n",
      "\n",
      "R[write to console]: mean-dispersion relationship\n",
      "\n",
      "R[write to console]: -- note: fitType='parametric', but the dispersion trend was not well captured by the\n",
      "   function: y = a/x + b, and a local regression fit was automatically substituted.\n",
      "   specify fitType='local' or 'mean' to avoid this message next time.\n",
      "\n",
      "R[write to console]: final dispersion estimates\n",
      "\n",
      "R[write to console]: fitting model and testing\n",
      "\n"
     ]
    }
   ],
   "source": [
    "%%R -i coldata,met_par_cm\n",
    "dds <- DESeqDataSetFromMatrix(countData = met_par_cm, colData = coldata, design = ~ condition + background)\n",
    "dds <- DESeq(dds)"
   ]
  },
  {
   "cell_type": "code",
   "execution_count": 19,
   "metadata": {},
   "outputs": [],
   "source": [
    "%%R -o dds_res\n",
    "dds_res <- as.data.frame(results(dds, contrast=c(\"condition\", \"Met\", \"Par\"), tidy=TRUE))\n",
    "dds_res <- dds_res[!is.na(dds_res$padj),]"
   ]
  },
  {
   "cell_type": "code",
   "execution_count": 20,
   "metadata": {},
   "outputs": [
    {
     "data": {
      "image/png": "[encoded data removed]"
     },
     "metadata": {},
     "output_type": "display_data"
    }
   ],
   "source": [
    "%%R\n",
    "pdf('figures/metvparDE.pdf')\n",
    "p <- EnhancedVolcano(dds_res, lab = dds_res$row, x= \"log2FoldChange\", xlab=\"Ln Fold change\",\n",
    "                          y=\"pvalue\", ylab=\"-Log10 P\", title= \"Met vs Par\",\n",
    "                          titleLabSize = 12, border = \"full\", pCutoff = 0.1, FCcutoff=1,\n",
    "                          xlim = c(-8,8), ylim=c(0,3.5), drawConnectors = TRUE, \n",
    ")\n",
    "print(p)\n",
    "dev.off()\n",
    "p"
   ]
  },
  {
   "cell_type": "code",
   "execution_count": 21,
   "metadata": {},
   "outputs": [],
   "source": [
    "sig_res = dds_res[dds_res[\"pvalue\"] < 0.1]"
   ]
  },
  {
   "cell_type": "code",
   "execution_count": 22,
   "metadata": {},
   "outputs": [
    {
     "data": {
      "text/html": [
       "<div>\n",
       "<style scoped>\n",
       "    .dataframe tbody tr th:only-of-type {\n",
       "        vertical-align: middle;\n",
       "    }\n",
       "\n",
       "    .dataframe tbody tr th {\n",
       "        vertical-align: top;\n",
       "    }\n",
       "\n",
       "    .dataframe thead th {\n",
       "        text-align: right;\n",
       "    }\n",
       "</style>\n",
       "<table border=\"1\" class=\"dataframe\">\n",
       "  <thead>\n",
       "    <tr style=\"text-align: right;\">\n",
       "      <th></th>\n",
       "      <th>CN34_1_cell_S27</th>\n",
       "      <th>CN34_2_cell_S38</th>\n",
       "      <th>LM1a_1_cell_S28</th>\n",
       "      <th>LM1a_2_cell_S39</th>\n",
       "      <th>LM2_1_cell_S26</th>\n",
       "      <th>MDA231_1_cell_S25</th>\n",
       "      <th>MDA231_2_cell_S36</th>\n",
       "    </tr>\n",
       "  </thead>\n",
       "  <tbody>\n",
       "    <tr>\n",
       "      <th>chrX:127317121-127317153:-</th>\n",
       "      <td>0</td>\n",
       "      <td>1</td>\n",
       "      <td>25</td>\n",
       "      <td>16</td>\n",
       "      <td>24</td>\n",
       "      <td>51</td>\n",
       "      <td>55</td>\n",
       "    </tr>\n",
       "    <tr>\n",
       "      <th>chr17:50187324-50187360:-</th>\n",
       "      <td>0</td>\n",
       "      <td>1</td>\n",
       "      <td>0</td>\n",
       "      <td>1</td>\n",
       "      <td>16</td>\n",
       "      <td>2</td>\n",
       "      <td>2</td>\n",
       "    </tr>\n",
       "    <tr>\n",
       "      <th>chr7:139299611-139299712:+</th>\n",
       "      <td>5</td>\n",
       "      <td>8</td>\n",
       "      <td>5</td>\n",
       "      <td>2</td>\n",
       "      <td>0</td>\n",
       "      <td>1</td>\n",
       "      <td>5</td>\n",
       "    </tr>\n",
       "    <tr>\n",
       "      <th>chr20:9357008-9357103:+</th>\n",
       "      <td>1</td>\n",
       "      <td>0</td>\n",
       "      <td>17</td>\n",
       "      <td>10</td>\n",
       "      <td>0</td>\n",
       "      <td>0</td>\n",
       "      <td>0</td>\n",
       "    </tr>\n",
       "  </tbody>\n",
       "</table>\n",
       "</div>"
      ],
      "text/plain": [
       "                            CN34_1_cell_S27  CN34_2_cell_S38  LM1a_1_cell_S28  \\\n",
       "chrX:127317121-127317153:-                0                1               25   \n",
       "chr17:50187324-50187360:-                 0                1                0   \n",
       "chr7:139299611-139299712:+                5                8                5   \n",
       "chr20:9357008-9357103:+                   1                0               17   \n",
       "\n",
       "                            LM1a_2_cell_S39  LM2_1_cell_S26  \\\n",
       "chrX:127317121-127317153:-               16              24   \n",
       "chr17:50187324-50187360:-                 1              16   \n",
       "chr7:139299611-139299712:+                2               0   \n",
       "chr20:9357008-9357103:+                  10               0   \n",
       "\n",
       "                            MDA231_1_cell_S25  MDA231_2_cell_S36  \n",
       "chrX:127317121-127317153:-                 51                 55  \n",
       "chr17:50187324-50187360:-                   2                  2  \n",
       "chr7:139299611-139299712:+                  1                  5  \n",
       "chr20:9357008-9357103:+                     0                  0  "
      ]
     },
     "execution_count": 22,
     "metadata": {},
     "output_type": "execute_result"
    }
   ],
   "source": [
    "met_par_cm.loc[sig_res[\"row\"]]"
   ]
  },
  {
   "cell_type": "markdown",
   "metadata": {},
   "source": [
    "# Conclusion\n",
    "Here we note a few oncRNAs that were differentially expressed when comparing metastatic and parental cell lines. "
   ]
  },
  {
   "cell_type": "code",
   "execution_count": null,
   "metadata": {},
   "outputs": [],
   "source": []
  }
 ],
 "metadata": {
  "kernelspec": {
   "display_name": "Python [conda env:smRNA]",
   "language": "python",
   "name": "conda-env-smRNA-py"
  },
  "language_info": {
   "codemirror_mode": {
    "name": "ipython",
    "version": 3
   },
   "file_extension": ".py",
   "mimetype": "text/x-python",
   "name": "python",
   "nbconvert_exporter": "python",
   "pygments_lexer": "ipython3",
   "version": "3.7.4"
  }
 },
 "nbformat": 4,
 "nbformat_minor": 4
}
