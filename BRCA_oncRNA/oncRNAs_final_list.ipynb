{
 "cells": [
  {
   "cell_type": "markdown",
   "metadata": {},
   "source": [
    "# Final List of oncRNAs\n",
    "Here we also visualized loci to break up and narrow down the loci we see."
   ]
  },
  {
   "cell_type": "code",
   "execution_count": 1,
   "metadata": {},
   "outputs": [],
   "source": [
    "import pandas as pd\n",
    "import numpy as np\n",
    "import matplotlib.pyplot as plt\n",
    "import seaborn as sns\n",
    "import random\n",
    "import json as js\n",
    "import matplotlib\n",
    "matplotlib.rcParams['pdf.fonttype'] = 42\n",
    "matplotlib.rcParams['ps.fonttype'] = 42"
   ]
  },
  {
   "cell_type": "code",
   "execution_count": 2,
   "metadata": {},
   "outputs": [
    {
     "data": {
      "text/html": [
       "<div>\n",
       "<style scoped>\n",
       "    .dataframe tbody tr th:only-of-type {\n",
       "        vertical-align: middle;\n",
       "    }\n",
       "\n",
       "    .dataframe tbody tr th {\n",
       "        vertical-align: top;\n",
       "    }\n",
       "\n",
       "    .dataframe thead th {\n",
       "        text-align: right;\n",
       "    }\n",
       "</style>\n",
       "<table border=\"1\" class=\"dataframe\">\n",
       "  <thead>\n",
       "    <tr style=\"text-align: right;\">\n",
       "      <th></th>\n",
       "      <th>0</th>\n",
       "      <th>1</th>\n",
       "      <th>2</th>\n",
       "      <th>3</th>\n",
       "      <th>4</th>\n",
       "      <th>5</th>\n",
       "      <th>length</th>\n",
       "    </tr>\n",
       "  </thead>\n",
       "  <tbody>\n",
       "    <tr>\n",
       "      <th>0</th>\n",
       "      <td>chr7</td>\n",
       "      <td>13735449</td>\n",
       "      <td>13735471</td>\n",
       "      <td>chr7:13735449-13735471:-</td>\n",
       "      <td>.</td>\n",
       "      <td>-</td>\n",
       "      <td>22</td>\n",
       "    </tr>\n",
       "    <tr>\n",
       "      <th>1</th>\n",
       "      <td>chr9</td>\n",
       "      <td>126496950</td>\n",
       "      <td>126496971</td>\n",
       "      <td>chr9:126496950-126496971:-</td>\n",
       "      <td>.</td>\n",
       "      <td>-</td>\n",
       "      <td>21</td>\n",
       "    </tr>\n",
       "    <tr>\n",
       "      <th>2</th>\n",
       "      <td>chr11</td>\n",
       "      <td>112396454</td>\n",
       "      <td>112396473</td>\n",
       "      <td>chr11:112396454-112396473:+</td>\n",
       "      <td>.</td>\n",
       "      <td>+</td>\n",
       "      <td>19</td>\n",
       "    </tr>\n",
       "    <tr>\n",
       "      <th>3</th>\n",
       "      <td>chr12</td>\n",
       "      <td>71664021</td>\n",
       "      <td>71664096</td>\n",
       "      <td>chr12:71664021-71664096:+</td>\n",
       "      <td>.</td>\n",
       "      <td>+</td>\n",
       "      <td>75</td>\n",
       "    </tr>\n",
       "    <tr>\n",
       "      <th>4</th>\n",
       "      <td>chr16</td>\n",
       "      <td>48178002</td>\n",
       "      <td>48178029</td>\n",
       "      <td>chr16:48178002-48178029:-</td>\n",
       "      <td>.</td>\n",
       "      <td>-</td>\n",
       "      <td>27</td>\n",
       "    </tr>\n",
       "    <tr>\n",
       "      <th>...</th>\n",
       "      <td>...</td>\n",
       "      <td>...</td>\n",
       "      <td>...</td>\n",
       "      <td>...</td>\n",
       "      <td>...</td>\n",
       "      <td>...</td>\n",
       "      <td>...</td>\n",
       "    </tr>\n",
       "    <tr>\n",
       "      <th>64</th>\n",
       "      <td>chr8</td>\n",
       "      <td>123042578</td>\n",
       "      <td>123042655</td>\n",
       "      <td>chr8:123042578-123042655:+</td>\n",
       "      <td>.</td>\n",
       "      <td>+</td>\n",
       "      <td>77</td>\n",
       "    </tr>\n",
       "    <tr>\n",
       "      <th>65</th>\n",
       "      <td>chr20</td>\n",
       "      <td>9357008</td>\n",
       "      <td>9357103</td>\n",
       "      <td>chr20:9357008-9357103:+</td>\n",
       "      <td>.</td>\n",
       "      <td>+</td>\n",
       "      <td>95</td>\n",
       "    </tr>\n",
       "    <tr>\n",
       "      <th>66</th>\n",
       "      <td>chrX</td>\n",
       "      <td>125095170</td>\n",
       "      <td>125095188</td>\n",
       "      <td>chrX:125095170-125095188:+</td>\n",
       "      <td>.</td>\n",
       "      <td>+</td>\n",
       "      <td>18</td>\n",
       "    </tr>\n",
       "    <tr>\n",
       "      <th>67</th>\n",
       "      <td>chr9</td>\n",
       "      <td>14613887</td>\n",
       "      <td>14613949</td>\n",
       "      <td>chr9:14613887-14613949:-</td>\n",
       "      <td>.</td>\n",
       "      <td>-</td>\n",
       "      <td>62</td>\n",
       "    </tr>\n",
       "    <tr>\n",
       "      <th>68</th>\n",
       "      <td>chr2</td>\n",
       "      <td>111153783</td>\n",
       "      <td>111153820</td>\n",
       "      <td>chr2:111153783-111153820:+</td>\n",
       "      <td>.</td>\n",
       "      <td>+</td>\n",
       "      <td>37</td>\n",
       "    </tr>\n",
       "  </tbody>\n",
       "</table>\n",
       "<p>69 rows × 7 columns</p>\n",
       "</div>"
      ],
      "text/plain": [
       "        0          1          2                            3  4  5  length\n",
       "0    chr7   13735449   13735471     chr7:13735449-13735471:-  .  -      22\n",
       "1    chr9  126496950  126496971   chr9:126496950-126496971:-  .  -      21\n",
       "2   chr11  112396454  112396473  chr11:112396454-112396473:+  .  +      19\n",
       "3   chr12   71664021   71664096    chr12:71664021-71664096:+  .  +      75\n",
       "4   chr16   48178002   48178029    chr16:48178002-48178029:-  .  -      27\n",
       "..    ...        ...        ...                          ... .. ..     ...\n",
       "64   chr8  123042578  123042655   chr8:123042578-123042655:+  .  +      77\n",
       "65  chr20    9357008    9357103      chr20:9357008-9357103:+  .  +      95\n",
       "66   chrX  125095170  125095188   chrX:125095170-125095188:+  .  +      18\n",
       "67   chr9   14613887   14613949     chr9:14613887-14613949:-  .  -      62\n",
       "68   chr2  111153783  111153820   chr2:111153783-111153820:+  .  +      37\n",
       "\n",
       "[69 rows x 7 columns]"
      ]
     },
     "execution_count": 2,
     "metadata": {},
     "output_type": "execute_result"
    }
   ],
   "source": [
    "oncRNAs = pd.read_csv(\"results/thresholded_oncRNAs.bed\", header=None, sep=\"\\t\")\n",
    "oncRNAs[\"length\"] = oncRNAs[2] - oncRNAs[1]\n",
    "oncRNAs"
   ]
  },
  {
   "cell_type": "code",
   "execution_count": 3,
   "metadata": {},
   "outputs": [
    {
     "data": {
      "text/plain": [
       "(array([17., 15.,  8.,  7.,  3.,  3.,  5.,  5.,  3.,  3.]),\n",
       " array([ 18.,  27.,  36.,  45.,  54.,  63.,  72.,  81.,  90.,  99., 108.]),\n",
       " <BarContainer object of 10 artists>)"
      ]
     },
     "execution_count": 3,
     "metadata": {},
     "output_type": "execute_result"
    },
    {
     "data": {
      "image/png": "[encoded data removed]",
      "text/plain": [
       "<Figure size 432x288 with 1 Axes>"
      ]
     },
     "metadata": {
      "needs_background": "light"
     },
     "output_type": "display_data"
    }
   ],
   "source": [
    "plt.hist(oncRNAs[\"length\"])"
   ]
  },
  {
   "cell_type": "markdown",
   "metadata": {},
   "source": [
    "# Visualization"
   ]
  },
  {
   "cell_type": "code",
   "execution_count": 4,
   "metadata": {},
   "outputs": [],
   "source": [
    "with open('data/counts/cell_lines_cpm_map.json', 'r') as f:\n",
    "    cell_lines_cpm_map = js.load(f)\n",
    "    f.close()\n",
    "with open('data/counts/cell_lines_loci_counts.json', 'r') as f:\n",
    "    sample_loci = js.load(f)\n",
    "    f.close()"
   ]
  },
  {
   "cell_type": "raw",
   "metadata": {},
   "source": [
    "oncRNAs = pd.read_csv(\"results/thresholds/15%_fdr_tcga.bed\", header=None, sep=\"\\t\")"
   ]
  },
  {
   "cell_type": "code",
   "execution_count": 5,
   "metadata": {},
   "outputs": [],
   "source": [
    "#Create df for heatmap visualization\n",
    "loci_exp = {}\n",
    "for locus in oncRNAs[3]:\n",
    "    loci_exp[locus] = {}\n",
    "    for cell_line, loci_dict in sample_loci.items():\n",
    "        if locus in loci_dict:\n",
    "            loci_exp[locus][cell_line] = loci_dict[locus] * cell_lines_cpm_map[cell_line] #Transform raw count to cpm. Note we use the cpm_map from non ex-filtered dataset to capture whole count.\n",
    "        else:\n",
    "            loci_exp[locus][cell_line] = 0"
   ]
  },
  {
   "cell_type": "code",
   "execution_count": 6,
   "metadata": {},
   "outputs": [],
   "source": [
    "loci_exp_df = pd.DataFrame.from_dict(loci_exp, orient=\"index\")"
   ]
  },
  {
   "cell_type": "code",
   "execution_count": 7,
   "metadata": {},
   "outputs": [],
   "source": [
    "subtype_map = {\"MDA453\":\"HER2+\", \"SKBR-3\":\"HER2+\", \n",
    "              \"HUMEC\":\"Normal\", \"ZR75-1\":\"Luminal\", \"HCC38\": \"TNBC\",\n",
    "              \"CN34\":\"TNBC\", \"MCF7\": \"Luminal\", \"MDA231\":\"TNBC\", \n",
    "              \"LM2\":\"Met\", \"LM1a\":\"Met\"}"
   ]
  },
  {
   "cell_type": "code",
   "execution_count": 8,
   "metadata": {},
   "outputs": [],
   "source": [
    "colData = pd.DataFrame(loci_exp_df.columns, columns=[\"Sample\"]) #Sample column contains all the samples\n",
    "colData[\"Cell Line\"] = colData[\"Sample\"].apply(lambda x: x.split(\"_\")[0]) #From sample name, get cell line information\n",
    "colData[\"Subtype\"] = colData[\"Cell Line\"].apply(lambda x: subtype_map[x]) #Base on cell line, map to subtype category\n",
    "colData = colData.sort_values(\"Cell Line\").sort_values(\"Subtype\") #First sort by cell line then by subtype\n",
    "colData = pd.concat([colData[colData[\"Subtype\"] == \"Normal\"], colData[colData[\"Subtype\"] != \"Normal\"]]).copy()\n",
    "colData = colData.set_index(\"Subtype\", drop=False)\n",
    "\n",
    "colors = sns.color_palette(\"Paired\", len(colData[\"Subtype\"].unique()))\n",
    "random.shuffle(colors)\n",
    "lut = dict(zip(list(colData[\"Subtype\"].unique()), colors))\n",
    "col_colors = colData[\"Subtype\"].map(lut)"
   ]
  },
  {
   "cell_type": "code",
   "execution_count": 9,
   "metadata": {},
   "outputs": [],
   "source": [
    "#Max norm\n",
    "loci_df = np.zeros(loci_exp_df.shape)\n",
    "for i in range(loci_exp_df.shape[0]):\n",
    "    max_per_row = np.max(loci_exp_df.iloc[i])\n",
    "    loci_df[i] = np.divide(loci_exp_df.iloc[i], max_per_row) #Max-norm"
   ]
  },
  {
   "cell_type": "code",
   "execution_count": 10,
   "metadata": {},
   "outputs": [],
   "source": [
    "loci_df = pd.DataFrame(loci_df, index=loci_exp_df.index, columns=loci_exp_df.columns)\n",
    "loci_df = loci_df[list(colData[\"Sample\"])] #Set columns to match colData order\n",
    "loci_df.columns = colData[\"Subtype\"]"
   ]
  },
  {
   "cell_type": "code",
   "execution_count": 11,
   "metadata": {},
   "outputs": [
    {
     "data": {
      "text/plain": [
       "<Figure size 1440x1440 with 0 Axes>"
      ]
     },
     "metadata": {},
     "output_type": "display_data"
    },
    {
     "data": {
      "image/png": "[encoded data removed]",
      "text/plain": [
       "<Figure size 720x720 with 5 Axes>"
      ]
     },
     "metadata": {
      "needs_background": "light"
     },
     "output_type": "display_data"
    }
   ],
   "source": [
    "plt.figure(figsize=(20,20))\n",
    "g=sns.clustermap(loci_df, col_cluster=False, col_colors=col_colors,yticklabels=False, xticklabels=colData[\"Sample\"], method=\"average\", rasterized=True)\n",
    "for label in colData[\"Subtype\"].unique():\n",
    "    g.ax_col_dendrogram.bar(0, 0, color=lut[label],\n",
    "                            label=label, linewidth=0)\n",
    "g.ax_col_dendrogram.legend(loc=\"center\", ncol=5)\n",
    "g.savefig(\"figures/cell_lines_oncRNA_loci_heatmap.pdf\")"
   ]
  },
  {
   "cell_type": "markdown",
   "metadata": {},
   "source": [
    "# Visualize"
   ]
  },
  {
   "cell_type": "code",
   "execution_count": 12,
   "metadata": {},
   "outputs": [],
   "source": [
    "pos_density = pd.read_csv(\"data/IC/all_samples_pos_bg.txt\", header=None, sep=\"\\t\")\n",
    "neg_density = pd.read_csv(\"data/IC/all_samples_neg_bg.txt\", header=None, sep=\"\\t\")"
   ]
  },
  {
   "cell_type": "code",
   "execution_count": 223,
   "metadata": {},
   "outputs": [
    {
     "name": "stdout",
     "output_type": "stream",
     "text": [
      "chr2:111153783-111153820:+\n",
      "111153783\n",
      "111153820\n"
     ]
    },
    {
     "data": {
      "image/png": "[encoded data removed]",
      "text/plain": [
       "<Figure size 432x288 with 1 Axes>"
      ]
     },
     "metadata": {
      "needs_background": "light"
     },
     "output_type": "display_data"
    }
   ],
   "source": [
    "oncRNA = oncRNAs.iloc[68]\n",
    "density = neg_density if oncRNA[5] == \"-\" else pos_density\n",
    "density = density[density[0] == oncRNA[0]] #Match reference\n",
    "density = density[(density[1] >= oncRNA[1]) & (density[2] <= oncRNA[2])] #Match oncRNA loci\n",
    "coord = []\n",
    "coverage = []\n",
    "first = density.iloc[0][1] #Start of loci\n",
    "for i in range(density.shape[0]):\n",
    "    row = density.iloc[i]\n",
    "    start = row[1]\n",
    "    end = row[2]\n",
    "    count = row[3]\n",
    "    assert first == start #Ensure continuity\n",
    "    while start < end:\n",
    "        coord.append(start)\n",
    "        coverage.append(count)\n",
    "        start += 1\n",
    "        first += 1\n",
    "    \n",
    "density_df = pd.DataFrame({\"Coord\":coord, \"Coverage\":coverage})\n",
    "plt.plot(density_df[\"Coord\"], density_df[\"Coverage\"])\n",
    "plt.title(oncRNA[3] + f\" | Length:{oncRNA[2] - oncRNA[1]}\")\n",
    "print(oncRNA[3])\n",
    "print(oncRNA[1])\n",
    "print(oncRNA[2])"
   ]
  },
  {
   "cell_type": "code",
   "execution_count": 218,
   "metadata": {},
   "outputs": [],
   "source": [
    "density = neg_density if oncRNA[5] == \"-\" else pos_density\n",
    "density = density[density[0] == oncRNA[0]] #Match reference"
   ]
  },
  {
   "cell_type": "code",
   "execution_count": 219,
   "metadata": {},
   "outputs": [
    {
     "data": {
      "text/html": [
       "<div>\n",
       "<style scoped>\n",
       "    .dataframe tbody tr th:only-of-type {\n",
       "        vertical-align: middle;\n",
       "    }\n",
       "\n",
       "    .dataframe tbody tr th {\n",
       "        vertical-align: top;\n",
       "    }\n",
       "\n",
       "    .dataframe thead th {\n",
       "        text-align: right;\n",
       "    }\n",
       "</style>\n",
       "<table border=\"1\" class=\"dataframe\">\n",
       "  <thead>\n",
       "    <tr style=\"text-align: right;\">\n",
       "      <th></th>\n",
       "      <th>0</th>\n",
       "      <th>1</th>\n",
       "      <th>2</th>\n",
       "      <th>3</th>\n",
       "    </tr>\n",
       "  </thead>\n",
       "  <tbody>\n",
       "    <tr>\n",
       "      <th>217557</th>\n",
       "      <td>chr2</td>\n",
       "      <td>111153783</td>\n",
       "      <td>111153784</td>\n",
       "      <td>1</td>\n",
       "    </tr>\n",
       "    <tr>\n",
       "      <th>217558</th>\n",
       "      <td>chr2</td>\n",
       "      <td>111153784</td>\n",
       "      <td>111153785</td>\n",
       "      <td>3</td>\n",
       "    </tr>\n",
       "    <tr>\n",
       "      <th>217559</th>\n",
       "      <td>chr2</td>\n",
       "      <td>111153785</td>\n",
       "      <td>111153786</td>\n",
       "      <td>23</td>\n",
       "    </tr>\n",
       "    <tr>\n",
       "      <th>217560</th>\n",
       "      <td>chr2</td>\n",
       "      <td>111153786</td>\n",
       "      <td>111153808</td>\n",
       "      <td>32</td>\n",
       "    </tr>\n",
       "    <tr>\n",
       "      <th>217561</th>\n",
       "      <td>chr2</td>\n",
       "      <td>111153808</td>\n",
       "      <td>111153809</td>\n",
       "      <td>31</td>\n",
       "    </tr>\n",
       "    <tr>\n",
       "      <th>217562</th>\n",
       "      <td>chr2</td>\n",
       "      <td>111153809</td>\n",
       "      <td>111153810</td>\n",
       "      <td>29</td>\n",
       "    </tr>\n",
       "    <tr>\n",
       "      <th>217563</th>\n",
       "      <td>chr2</td>\n",
       "      <td>111153810</td>\n",
       "      <td>111153811</td>\n",
       "      <td>26</td>\n",
       "    </tr>\n",
       "    <tr>\n",
       "      <th>217564</th>\n",
       "      <td>chr2</td>\n",
       "      <td>111153811</td>\n",
       "      <td>111153812</td>\n",
       "      <td>11</td>\n",
       "    </tr>\n",
       "    <tr>\n",
       "      <th>217565</th>\n",
       "      <td>chr2</td>\n",
       "      <td>111153812</td>\n",
       "      <td>111153813</td>\n",
       "      <td>6</td>\n",
       "    </tr>\n",
       "    <tr>\n",
       "      <th>217566</th>\n",
       "      <td>chr2</td>\n",
       "      <td>111153813</td>\n",
       "      <td>111153814</td>\n",
       "      <td>4</td>\n",
       "    </tr>\n",
       "  </tbody>\n",
       "</table>\n",
       "</div>"
      ],
      "text/plain": [
       "           0          1          2   3\n",
       "217557  chr2  111153783  111153784   1\n",
       "217558  chr2  111153784  111153785   3\n",
       "217559  chr2  111153785  111153786  23\n",
       "217560  chr2  111153786  111153808  32\n",
       "217561  chr2  111153808  111153809  31\n",
       "217562  chr2  111153809  111153810  29\n",
       "217563  chr2  111153810  111153811  26\n",
       "217564  chr2  111153811  111153812  11\n",
       "217565  chr2  111153812  111153813   6\n",
       "217566  chr2  111153813  111153814   4"
      ]
     },
     "execution_count": 219,
     "metadata": {},
     "output_type": "execute_result"
    }
   ],
   "source": [
    "density[density[1] >= oncRNA[1]-20].sort_values(1).head(10)"
   ]
  },
  {
   "cell_type": "code",
   "execution_count": 220,
   "metadata": {},
   "outputs": [
    {
     "data": {
      "text/html": [
       "<div>\n",
       "<style scoped>\n",
       "    .dataframe tbody tr th:only-of-type {\n",
       "        vertical-align: middle;\n",
       "    }\n",
       "\n",
       "    .dataframe tbody tr th {\n",
       "        vertical-align: top;\n",
       "    }\n",
       "\n",
       "    .dataframe thead th {\n",
       "        text-align: right;\n",
       "    }\n",
       "</style>\n",
       "<table border=\"1\" class=\"dataframe\">\n",
       "  <thead>\n",
       "    <tr style=\"text-align: right;\">\n",
       "      <th></th>\n",
       "      <th>0</th>\n",
       "      <th>1</th>\n",
       "      <th>2</th>\n",
       "      <th>3</th>\n",
       "    </tr>\n",
       "  </thead>\n",
       "  <tbody>\n",
       "    <tr>\n",
       "      <th>217557</th>\n",
       "      <td>chr2</td>\n",
       "      <td>111153783</td>\n",
       "      <td>111153784</td>\n",
       "      <td>1</td>\n",
       "    </tr>\n",
       "    <tr>\n",
       "      <th>217558</th>\n",
       "      <td>chr2</td>\n",
       "      <td>111153784</td>\n",
       "      <td>111153785</td>\n",
       "      <td>3</td>\n",
       "    </tr>\n",
       "    <tr>\n",
       "      <th>217559</th>\n",
       "      <td>chr2</td>\n",
       "      <td>111153785</td>\n",
       "      <td>111153786</td>\n",
       "      <td>23</td>\n",
       "    </tr>\n",
       "    <tr>\n",
       "      <th>217560</th>\n",
       "      <td>chr2</td>\n",
       "      <td>111153786</td>\n",
       "      <td>111153808</td>\n",
       "      <td>32</td>\n",
       "    </tr>\n",
       "    <tr>\n",
       "      <th>217561</th>\n",
       "      <td>chr2</td>\n",
       "      <td>111153808</td>\n",
       "      <td>111153809</td>\n",
       "      <td>31</td>\n",
       "    </tr>\n",
       "    <tr>\n",
       "      <th>217562</th>\n",
       "      <td>chr2</td>\n",
       "      <td>111153809</td>\n",
       "      <td>111153810</td>\n",
       "      <td>29</td>\n",
       "    </tr>\n",
       "    <tr>\n",
       "      <th>217563</th>\n",
       "      <td>chr2</td>\n",
       "      <td>111153810</td>\n",
       "      <td>111153811</td>\n",
       "      <td>26</td>\n",
       "    </tr>\n",
       "    <tr>\n",
       "      <th>217564</th>\n",
       "      <td>chr2</td>\n",
       "      <td>111153811</td>\n",
       "      <td>111153812</td>\n",
       "      <td>11</td>\n",
       "    </tr>\n",
       "    <tr>\n",
       "      <th>217565</th>\n",
       "      <td>chr2</td>\n",
       "      <td>111153812</td>\n",
       "      <td>111153813</td>\n",
       "      <td>6</td>\n",
       "    </tr>\n",
       "    <tr>\n",
       "      <th>217566</th>\n",
       "      <td>chr2</td>\n",
       "      <td>111153813</td>\n",
       "      <td>111153814</td>\n",
       "      <td>4</td>\n",
       "    </tr>\n",
       "    <tr>\n",
       "      <th>217567</th>\n",
       "      <td>chr2</td>\n",
       "      <td>111153814</td>\n",
       "      <td>111153816</td>\n",
       "      <td>2</td>\n",
       "    </tr>\n",
       "    <tr>\n",
       "      <th>217568</th>\n",
       "      <td>chr2</td>\n",
       "      <td>111153816</td>\n",
       "      <td>111153820</td>\n",
       "      <td>1</td>\n",
       "    </tr>\n",
       "    <tr>\n",
       "      <th>217569</th>\n",
       "      <td>chr2</td>\n",
       "      <td>111154538</td>\n",
       "      <td>111154539</td>\n",
       "      <td>1</td>\n",
       "    </tr>\n",
       "    <tr>\n",
       "      <th>217570</th>\n",
       "      <td>chr2</td>\n",
       "      <td>111154539</td>\n",
       "      <td>111154552</td>\n",
       "      <td>2</td>\n",
       "    </tr>\n",
       "    <tr>\n",
       "      <th>217571</th>\n",
       "      <td>chr2</td>\n",
       "      <td>111154552</td>\n",
       "      <td>111154567</td>\n",
       "      <td>9</td>\n",
       "    </tr>\n",
       "  </tbody>\n",
       "</table>\n",
       "</div>"
      ],
      "text/plain": [
       "           0          1          2   3\n",
       "217557  chr2  111153783  111153784   1\n",
       "217558  chr2  111153784  111153785   3\n",
       "217559  chr2  111153785  111153786  23\n",
       "217560  chr2  111153786  111153808  32\n",
       "217561  chr2  111153808  111153809  31\n",
       "217562  chr2  111153809  111153810  29\n",
       "217563  chr2  111153810  111153811  26\n",
       "217564  chr2  111153811  111153812  11\n",
       "217565  chr2  111153812  111153813   6\n",
       "217566  chr2  111153813  111153814   4\n",
       "217567  chr2  111153814  111153816   2\n",
       "217568  chr2  111153816  111153820   1\n",
       "217569  chr2  111154538  111154539   1\n",
       "217570  chr2  111154539  111154552   2\n",
       "217571  chr2  111154552  111154567   9"
      ]
     },
     "execution_count": 220,
     "metadata": {},
     "output_type": "execute_result"
    }
   ],
   "source": [
    "density[density[1] >= oncRNA[1]].sort_values(1).head(15)"
   ]
  },
  {
   "cell_type": "code",
   "execution_count": 319,
   "metadata": {},
   "outputs": [],
   "source": [
    "split_loci = {\"chr12:71664021-71664096:+\": [\"chr12:71664059-71664094:+\"],\n",
    "             \"chrX:127317160-127317210:+\" : [\"chrX:127317160-127317185:+\", \"chrX:127317185-127317210:+\"],\n",
    "             \"chr3:172821369-172821477:+\":[\"chr3:172821431-172821476:+\"],\n",
    "             \"chr6:52264623-52264696:-\": [\"chr6:52264623-52264653:-\"],\n",
    "             \"chr9:113514723-113514767:+\":[\"chr9:113514723-113514759:+\"],\n",
    "             \"chr1:156701076-156701120:-\":[\"chr1:156701092-156701120:-\"],\n",
    "             \"chr19:17337553-17337641:+\":[\"chr19:17337580-17337620:+\"],\n",
    "             \"chr19:39473382-39473416:+\":[\"chr19:39473388-39473416:+\"],\n",
    "             \"chr2:121727242-121727324:-\":[\"chr2:121727244-121727276:-\"],\n",
    "             \"chr2:237545697-237545743:+\":[\"chr2:237545716-237545743:+\"],\n",
    "             \"chr16:15576880-15576933:-\":[\"chr16:15576883-15576904:-\", \"chr16:15576902-15576933:-\"], \n",
    "             \"chr16:21526902-21526948:-\":[\"chr16:21526902-21526946:-\"],\n",
    "             \"chr16:28845601-28845647:+\":[\"chr16:28845603-28845643:+\"],\n",
    "             \"chr20:50752735-50752776:+\":[\"chr20:50752738-50752776:+\"],\n",
    "             \"chr3:179399575-179399631:-\":[\"chr3:179399592-179399630:-\"], \n",
    "             \"chr7:66811360-66811433:+\":[\"chr7:66811360-66811398:+\"],\n",
    "             \"chr7:30082319-30082414:+\":[\"chr7:30082359-30082400:+\"],\n",
    "             \"chr7:36389850-36389931:+\":[\"chr7:36389875-36389910:+\"],\n",
    "             \"chr7:92605706-92605776:-\":[\"chr7:92605747-92605776:-\"],\n",
    "             \"chr10:59791859-59791902:-\":[\"chr10:59791871-59791902:-\"],\n",
    "             \"chr17:68101412-68101494:-\":[\"chr17:68101451-68101490:-\"],\n",
    "             \"chr17:39716415-39716514:+\":[\"chr17:39716433-39716478:+\"],\n",
    "             \"chr4:55336774-55336832:-\":[\"chr4:55336788-55336831:-\"],\n",
    "             \"chr16:85015943-85016011:-\":[\"chr16:85015956-85015994:-\"],\n",
    "             \"chr20:36916711-36916760:-\":[\"chr20:36916726-36916760:-\"],\n",
    "             \"chr2:102716142-102716211:-\":[\"chr2:102716145-102716188:-\"],\n",
    "             \"chr20:62327667-62327746:-\":[\"chr20:62327667-62327693:-\"],\n",
    "             \"chr7:139299611-139299712:+\":[\"chr7:139299644-139299679:+\"],\n",
    "             \"chr8:103430637-103430690:+\":[\"chr8:103430644-103430682:+\"],\n",
    "             \"chr3:42224520-42224615:+\":[\"chr3:42224520-42224551:+\"],\n",
    "             \"chr1:149558545-149558588:-\":[\"chr1:149558545-149558569:-\"],\n",
    "             \"chr20:56639188-56639276:+\":[\"chr20:56639206-56639251:+\"],\n",
    "             \"chr8:123042578-123042655:+\":[\"chr8:123042582-123042615:+\"],\n",
    "             \"chr20:9357008-9357103:+\":[\"chr20:9357016-9357046:+\",\"chr20:9357046-9357077:+\", \"chr20:9357065-9357096:+\"],\n",
    "             \"chr9:14613887-14613949:-\":[\"chr9:14613907-14613937:-\"],\n",
    "             \"chr2:111153783-111153820:+\":[\"chr2:111153783-111153816:+\"]}\n"
   ]
  },
  {
   "cell_type": "code",
   "execution_count": 320,
   "metadata": {},
   "outputs": [
    {
     "data": {
      "text/plain": [
       "73"
      ]
     },
     "execution_count": 320,
     "metadata": {},
     "output_type": "execute_result"
    }
   ],
   "source": [
    "final_list = []\n",
    "for rna in oncRNAs[3]:\n",
    "    if rna in split_loci:\n",
    "        final_list.extend(split_loci[rna])\n",
    "    else:\n",
    "        final_list.append(rna)\n",
    "len(final_list)"
   ]
  },
  {
   "cell_type": "code",
   "execution_count": 321,
   "metadata": {},
   "outputs": [],
   "source": [
    "with open(\"results/final_oncRNA_list.bed\", \"w\") as out:\n",
    "    for locus in final_list:\n",
    "        splits = locus.split(\":\")\n",
    "        start = splits[1].split(\"-\")[0]\n",
    "        end = splits[1].split(\"-\")[1]\n",
    "        bed = f\"{splits[0]}\\t{start}\\t{end}\\t{locus}\\t.\\t{splits[-1]}\"\n",
    "        out.write(bed + \"\\n\")          "
   ]
  },
  {
   "cell_type": "markdown",
   "metadata": {},
   "source": [
    "# Test to Make Sure No Errors"
   ]
  },
  {
   "cell_type": "markdown",
   "metadata": {},
   "source": [
    "With `-v` we test to make sure all of the rnas in the `final_oncRNA_list.bed` file maps to one of the oncRNA annotations. If no errors nothing should be reported."
   ]
  },
  {
   "cell_type": "code",
   "execution_count": 322,
   "metadata": {},
   "outputs": [],
   "source": [
    "%%bash\n",
    "bedtools intersect -v -s -a results/final_oncRNA_list.bed -b results/thresholded_oncRNAs.bed"
   ]
  },
  {
   "cell_type": "markdown",
   "metadata": {},
   "source": [
    "Great."
   ]
  },
  {
   "cell_type": "markdown",
   "metadata": {},
   "source": [
    "Here we do the opposite. To make sure all the oncRNAs in the `15%_fdr_tcga.bed` are accounted for."
   ]
  },
  {
   "cell_type": "code",
   "execution_count": 323,
   "metadata": {},
   "outputs": [],
   "source": [
    "%%bash\n",
    "bedtools intersect -v -s -a results/thresholded_oncRNAs.bed -b results/final_oncRNA_list.bed"
   ]
  },
  {
   "cell_type": "markdown",
   "metadata": {},
   "source": [
    "Great."
   ]
  },
  {
   "cell_type": "code",
   "execution_count": 324,
   "metadata": {},
   "outputs": [],
   "source": [
    "%%bash\n",
    "bedtools intersect -wao -s -a results/thresholded_oncRNAs.bed -b results/final_oncRNA_list.bed > results/map_oncRNAs.bed"
   ]
  },
  {
   "cell_type": "markdown",
   "metadata": {},
   "source": [
    "# Final Check of Lengths"
   ]
  },
  {
   "cell_type": "code",
   "execution_count": 325,
   "metadata": {},
   "outputs": [],
   "source": [
    "lengths = []\n",
    "for rna in final_list:\n",
    "    start = int(rna.split(\":\")[1].split(\"-\")[0])\n",
    "    end = int(rna.split(\":\")[1].split(\"-\")[1])\n",
    "    lengths.append(end-start)"
   ]
  },
  {
   "cell_type": "code",
   "execution_count": 326,
   "metadata": {},
   "outputs": [
    {
     "data": {
      "text/plain": [
       "(array([ 2.,  9., 11.,  7., 17.,  5.,  6.,  7.,  3.,  6.]),\n",
       " array([18. , 20.7, 23.4, 26.1, 28.8, 31.5, 34.2, 36.9, 39.6, 42.3, 45. ]),\n",
       " <BarContainer object of 10 artists>)"
      ]
     },
     "execution_count": 326,
     "metadata": {},
     "output_type": "execute_result"
    },
    {
     "data": {
      "image/png": "[encoded data removed]",
      "text/plain": [
       "<Figure size 432x288 with 1 Axes>"
      ]
     },
     "metadata": {
      "needs_background": "light"
     },
     "output_type": "display_data"
    }
   ],
   "source": [
    "plt.hist(lengths)"
   ]
  },
  {
   "cell_type": "markdown",
   "metadata": {},
   "source": [
    "# Final Check of Loci"
   ]
  },
  {
   "cell_type": "code",
   "execution_count": 327,
   "metadata": {},
   "outputs": [
    {
     "data": {
      "text/html": [
       "<div>\n",
       "<style scoped>\n",
       "    .dataframe tbody tr th:only-of-type {\n",
       "        vertical-align: middle;\n",
       "    }\n",
       "\n",
       "    .dataframe tbody tr th {\n",
       "        vertical-align: top;\n",
       "    }\n",
       "\n",
       "    .dataframe thead th {\n",
       "        text-align: right;\n",
       "    }\n",
       "</style>\n",
       "<table border=\"1\" class=\"dataframe\">\n",
       "  <thead>\n",
       "    <tr style=\"text-align: right;\">\n",
       "      <th></th>\n",
       "      <th>0</th>\n",
       "      <th>1</th>\n",
       "      <th>2</th>\n",
       "      <th>3</th>\n",
       "      <th>4</th>\n",
       "      <th>5</th>\n",
       "      <th>6</th>\n",
       "      <th>7</th>\n",
       "      <th>8</th>\n",
       "      <th>9</th>\n",
       "      <th>10</th>\n",
       "      <th>11</th>\n",
       "      <th>12</th>\n",
       "    </tr>\n",
       "  </thead>\n",
       "  <tbody>\n",
       "    <tr>\n",
       "      <th>0</th>\n",
       "      <td>chr7</td>\n",
       "      <td>13735449</td>\n",
       "      <td>13735471</td>\n",
       "      <td>chr7:13735449-13735471:-</td>\n",
       "      <td>.</td>\n",
       "      <td>-</td>\n",
       "      <td>chr7</td>\n",
       "      <td>13735449</td>\n",
       "      <td>13735471</td>\n",
       "      <td>chr7:13735449-13735471:-</td>\n",
       "      <td>.</td>\n",
       "      <td>-</td>\n",
       "      <td>22</td>\n",
       "    </tr>\n",
       "    <tr>\n",
       "      <th>1</th>\n",
       "      <td>chr9</td>\n",
       "      <td>126496950</td>\n",
       "      <td>126496971</td>\n",
       "      <td>chr9:126496950-126496971:-</td>\n",
       "      <td>.</td>\n",
       "      <td>-</td>\n",
       "      <td>chr9</td>\n",
       "      <td>126496950</td>\n",
       "      <td>126496971</td>\n",
       "      <td>chr9:126496950-126496971:-</td>\n",
       "      <td>.</td>\n",
       "      <td>-</td>\n",
       "      <td>21</td>\n",
       "    </tr>\n",
       "    <tr>\n",
       "      <th>2</th>\n",
       "      <td>chr11</td>\n",
       "      <td>112396454</td>\n",
       "      <td>112396473</td>\n",
       "      <td>chr11:112396454-112396473:+</td>\n",
       "      <td>.</td>\n",
       "      <td>+</td>\n",
       "      <td>chr11</td>\n",
       "      <td>112396454</td>\n",
       "      <td>112396473</td>\n",
       "      <td>chr11:112396454-112396473:+</td>\n",
       "      <td>.</td>\n",
       "      <td>+</td>\n",
       "      <td>19</td>\n",
       "    </tr>\n",
       "    <tr>\n",
       "      <th>3</th>\n",
       "      <td>chr12</td>\n",
       "      <td>71664021</td>\n",
       "      <td>71664096</td>\n",
       "      <td>chr12:71664021-71664096:+</td>\n",
       "      <td>.</td>\n",
       "      <td>+</td>\n",
       "      <td>chr12</td>\n",
       "      <td>71664059</td>\n",
       "      <td>71664094</td>\n",
       "      <td>chr12:71664059-71664094:+</td>\n",
       "      <td>.</td>\n",
       "      <td>+</td>\n",
       "      <td>35</td>\n",
       "    </tr>\n",
       "    <tr>\n",
       "      <th>4</th>\n",
       "      <td>chr16</td>\n",
       "      <td>48178002</td>\n",
       "      <td>48178029</td>\n",
       "      <td>chr16:48178002-48178029:-</td>\n",
       "      <td>.</td>\n",
       "      <td>-</td>\n",
       "      <td>chr16</td>\n",
       "      <td>48178002</td>\n",
       "      <td>48178029</td>\n",
       "      <td>chr16:48178002-48178029:-</td>\n",
       "      <td>.</td>\n",
       "      <td>-</td>\n",
       "      <td>27</td>\n",
       "    </tr>\n",
       "  </tbody>\n",
       "</table>\n",
       "</div>"
      ],
      "text/plain": [
       "      0          1          2                            3  4  5      6   \\\n",
       "0   chr7   13735449   13735471     chr7:13735449-13735471:-  .  -   chr7   \n",
       "1   chr9  126496950  126496971   chr9:126496950-126496971:-  .  -   chr9   \n",
       "2  chr11  112396454  112396473  chr11:112396454-112396473:+  .  +  chr11   \n",
       "3  chr12   71664021   71664096    chr12:71664021-71664096:+  .  +  chr12   \n",
       "4  chr16   48178002   48178029    chr16:48178002-48178029:-  .  -  chr16   \n",
       "\n",
       "          7          8                            9  10 11  12  \n",
       "0   13735449   13735471     chr7:13735449-13735471:-  .  -  22  \n",
       "1  126496950  126496971   chr9:126496950-126496971:-  .  -  21  \n",
       "2  112396454  112396473  chr11:112396454-112396473:+  .  +  19  \n",
       "3   71664059   71664094    chr12:71664059-71664094:+  .  +  35  \n",
       "4   48178002   48178029    chr16:48178002-48178029:-  .  -  27  "
      ]
     },
     "execution_count": 327,
     "metadata": {},
     "output_type": "execute_result"
    }
   ],
   "source": [
    "final_check = pd.read_csv(\"results/map_oncRNAs.bed\", sep=\"\\t\", header=None)\n",
    "final_check.head()"
   ]
  },
  {
   "cell_type": "code",
   "execution_count": 404,
   "metadata": {},
   "outputs": [],
   "source": [
    "j = 0"
   ]
  },
  {
   "cell_type": "code",
   "execution_count": 405,
   "metadata": {},
   "outputs": [
    {
     "name": "stdout",
     "output_type": "stream",
     "text": [
      "0\n",
      "chr7:13735449-13735471:-\n",
      "chr7:13735449-13735471:-\n"
     ]
    },
    {
     "data": {
      "image/png": "[encoded data removed]",
      "text/plain": [
       "<Figure size 432x288 with 1 Axes>"
      ]
     },
     "metadata": {
      "needs_background": "light"
     },
     "output_type": "display_data"
    }
   ],
   "source": [
    "oncRNA = final_check.iloc[j]\n",
    "loci_start = oncRNA[7]\n",
    "loci_end = oncRNA[8]\n",
    "density = neg_density if oncRNA[5] == \"-\" else pos_density\n",
    "density = density[density[0] == oncRNA[0]]\n",
    "density = density[(density[1] >= oncRNA[1]) & (density[2] <= oncRNA[2])]\n",
    "coord = []\n",
    "coverage = []\n",
    "first = density.iloc[0][1]\n",
    "for i in range(density.shape[0]):\n",
    "    row = density.iloc[i]\n",
    "    start = row[1]\n",
    "    end = row[2]\n",
    "    count = row[3]\n",
    "    while first < start: #ensure continuity\n",
    "        coord.append(first)\n",
    "        coverage.append(0)\n",
    "        first += 1\n",
    "    while start < end:\n",
    "        coord.append(start)\n",
    "        coverage.append(count)\n",
    "        start += 1\n",
    "        first += 1\n",
    "        \n",
    "density_df = pd.DataFrame({\"Coord\":coord[loci_start-oncRNA[1]:loci_end - oncRNA[1]+1], \"Coverage\":coverage[loci_start-oncRNA[1]:loci_end - oncRNA[1]+1]})\n",
    "plt.plot(density_df[\"Coord\"], density_df[\"Coverage\"])\n",
    "new_locus = f\"{oncRNA[0]}:{loci_start}-{loci_end}:{oncRNA[5]}\"\n",
    "plt.title(new_locus + f\" | Length:{loci_end - loci_start}\")\n",
    "print(j)\n",
    "print(new_locus)\n",
    "print(oncRNA[3])\n",
    "j += 1"
   ]
  },
  {
   "cell_type": "markdown",
   "metadata": {},
   "source": [
    "## Convert to fastq sequences file"
   ]
  },
  {
   "cell_type": "code",
   "execution_count": 406,
   "metadata": {},
   "outputs": [
    {
     "name": "stdout",
     "output_type": "stream",
     "text": [
      "bedtools getfasta -fo results/final_oncRNA.fa -fi /rumi/shams/genomes/hg38/hg38.fa -bed results/final_oncRNA_list.bed -s\n"
     ]
    }
   ],
   "source": [
    "%%bash\n",
    "echo \"bedtools getfasta -fo results/final_oncRNA.fa -fi /rumi/shams/genomes/hg38/hg38.fa -bed results/final_oncRNA_list.bed -s\";\n",
    "bedtools getfasta -fo results/final_oncRNA.fa -fi /rumi/shams/genomes/hg38/hg38.fa -bed results/final_oncRNA_list.bed -s;"
   ]
  },
  {
   "cell_type": "code",
   "execution_count": 407,
   "metadata": {},
   "outputs": [],
   "source": [
    "with open('results/final_oncRNA.txt', \"w\") as out:\n",
    "    with open(\"results/final_oncRNA.fa\", \"r\") as read:\n",
    "        for line in read:\n",
    "            if \">\" not in line:\n",
    "                out.write(line)"
   ]
  },
  {
   "cell_type": "markdown",
   "metadata": {},
   "source": [
    "# Annotations\n",
    "Make sure none of these finalized oncRNAs map to a known smRNAs. Below code should return 0 results."
   ]
  },
  {
   "cell_type": "code",
   "execution_count": 408,
   "metadata": {},
   "outputs": [],
   "source": [
    "%%bash\n",
    "bedtools intersect -wo -s -a results/final_oncRNA_list.bed -b /rumi/shams/jwang/genomes/hg38/dashr.v2.smRNA.hg38.bed"
   ]
  },
  {
   "cell_type": "markdown",
   "metadata": {},
   "source": [
    "# Done"
   ]
  },
  {
   "cell_type": "code",
   "execution_count": null,
   "metadata": {},
   "outputs": [],
   "source": []
  }
 ],
 "metadata": {
  "kernelspec": {
   "display_name": "Python [conda env:smRNA]",
   "language": "python",
   "name": "conda-env-smRNA-py"
  },
  "language_info": {
   "codemirror_mode": {
    "name": "ipython",
    "version": 3
   },
   "file_extension": ".py",
   "mimetype": "text/x-python",
   "name": "python",
   "nbconvert_exporter": "python",
   "pygments_lexer": "ipython3",
   "version": "3.7.4"
  }
 },
 "nbformat": 4,
 "nbformat_minor": 4
}
