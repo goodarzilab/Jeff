{
 "cells": [
  {
   "cell_type": "markdown",
   "metadata": {},
   "source": [
    "# Final List of oncRNAs\n",
    "Here we also visualized loci to break up and narrow down the loci we see."
   ]
  },
  {
   "cell_type": "code",
   "execution_count": 1,
   "metadata": {},
   "outputs": [],
   "source": [
    "import pandas as pd\n",
    "import numpy as np\n",
    "import matplotlib.pyplot as plt\n",
    "import seaborn as sns\n",
    "import random\n",
    "import json as js\n",
    "import matplotlib\n",
    "matplotlib.rcParams['pdf.fonttype'] = 42\n",
    "matplotlib.rcParams['ps.fonttype'] = 42"
   ]
  },
  {
   "cell_type": "code",
   "execution_count": 2,
   "metadata": {},
   "outputs": [
    {
     "data": {
      "text/html": [
       "<div>\n",
       "<style scoped>\n",
       "    .dataframe tbody tr th:only-of-type {\n",
       "        vertical-align: middle;\n",
       "    }\n",
       "\n",
       "    .dataframe tbody tr th {\n",
       "        vertical-align: top;\n",
       "    }\n",
       "\n",
       "    .dataframe thead th {\n",
       "        text-align: right;\n",
       "    }\n",
       "</style>\n",
       "<table border=\"1\" class=\"dataframe\">\n",
       "  <thead>\n",
       "    <tr style=\"text-align: right;\">\n",
       "      <th></th>\n",
       "      <th>0</th>\n",
       "      <th>1</th>\n",
       "      <th>2</th>\n",
       "      <th>3</th>\n",
       "      <th>4</th>\n",
       "      <th>5</th>\n",
       "      <th>length</th>\n",
       "    </tr>\n",
       "  </thead>\n",
       "  <tbody>\n",
       "    <tr>\n",
       "      <th>0</th>\n",
       "      <td>chr6</td>\n",
       "      <td>27815103</td>\n",
       "      <td>27815138</td>\n",
       "      <td>chr6:27815103-27815138:+</td>\n",
       "      <td>.</td>\n",
       "      <td>+</td>\n",
       "      <td>35</td>\n",
       "    </tr>\n",
       "    <tr>\n",
       "      <th>1</th>\n",
       "      <td>chr7</td>\n",
       "      <td>13735449</td>\n",
       "      <td>13735471</td>\n",
       "      <td>chr7:13735449-13735471:-</td>\n",
       "      <td>.</td>\n",
       "      <td>-</td>\n",
       "      <td>22</td>\n",
       "    </tr>\n",
       "    <tr>\n",
       "      <th>2</th>\n",
       "      <td>chr7</td>\n",
       "      <td>29921213</td>\n",
       "      <td>29921331</td>\n",
       "      <td>chr7:29921213-29921331:-</td>\n",
       "      <td>.</td>\n",
       "      <td>-</td>\n",
       "      <td>118</td>\n",
       "    </tr>\n",
       "    <tr>\n",
       "      <th>3</th>\n",
       "      <td>chr9</td>\n",
       "      <td>126496950</td>\n",
       "      <td>126496971</td>\n",
       "      <td>chr9:126496950-126496971:-</td>\n",
       "      <td>.</td>\n",
       "      <td>-</td>\n",
       "      <td>21</td>\n",
       "    </tr>\n",
       "    <tr>\n",
       "      <th>4</th>\n",
       "      <td>chr11</td>\n",
       "      <td>112396454</td>\n",
       "      <td>112396473</td>\n",
       "      <td>chr11:112396454-112396473:+</td>\n",
       "      <td>.</td>\n",
       "      <td>+</td>\n",
       "      <td>19</td>\n",
       "    </tr>\n",
       "    <tr>\n",
       "      <th>...</th>\n",
       "      <td>...</td>\n",
       "      <td>...</td>\n",
       "      <td>...</td>\n",
       "      <td>...</td>\n",
       "      <td>...</td>\n",
       "      <td>...</td>\n",
       "      <td>...</td>\n",
       "    </tr>\n",
       "    <tr>\n",
       "      <th>108</th>\n",
       "      <td>chr1</td>\n",
       "      <td>84497400</td>\n",
       "      <td>84497524</td>\n",
       "      <td>chr1:84497400-84497524:+</td>\n",
       "      <td>.</td>\n",
       "      <td>+</td>\n",
       "      <td>124</td>\n",
       "    </tr>\n",
       "    <tr>\n",
       "      <th>109</th>\n",
       "      <td>chr9</td>\n",
       "      <td>14613887</td>\n",
       "      <td>14613949</td>\n",
       "      <td>chr9:14613887-14613949:-</td>\n",
       "      <td>.</td>\n",
       "      <td>-</td>\n",
       "      <td>62</td>\n",
       "    </tr>\n",
       "    <tr>\n",
       "      <th>110</th>\n",
       "      <td>chr12</td>\n",
       "      <td>11171716</td>\n",
       "      <td>11171829</td>\n",
       "      <td>chr12:11171716-11171829:+</td>\n",
       "      <td>.</td>\n",
       "      <td>+</td>\n",
       "      <td>113</td>\n",
       "    </tr>\n",
       "    <tr>\n",
       "      <th>111</th>\n",
       "      <td>chr2</td>\n",
       "      <td>111153783</td>\n",
       "      <td>111153820</td>\n",
       "      <td>chr2:111153783-111153820:+</td>\n",
       "      <td>.</td>\n",
       "      <td>+</td>\n",
       "      <td>37</td>\n",
       "    </tr>\n",
       "    <tr>\n",
       "      <th>112</th>\n",
       "      <td>chr1</td>\n",
       "      <td>226365958</td>\n",
       "      <td>226366045</td>\n",
       "      <td>chr1:226365958-226366045:-</td>\n",
       "      <td>.</td>\n",
       "      <td>-</td>\n",
       "      <td>87</td>\n",
       "    </tr>\n",
       "  </tbody>\n",
       "</table>\n",
       "<p>113 rows × 7 columns</p>\n",
       "</div>"
      ],
      "text/plain": [
       "         0          1          2                            3  4  5  length\n",
       "0     chr6   27815103   27815138     chr6:27815103-27815138:+  .  +      35\n",
       "1     chr7   13735449   13735471     chr7:13735449-13735471:-  .  -      22\n",
       "2     chr7   29921213   29921331     chr7:29921213-29921331:-  .  -     118\n",
       "3     chr9  126496950  126496971   chr9:126496950-126496971:-  .  -      21\n",
       "4    chr11  112396454  112396473  chr11:112396454-112396473:+  .  +      19\n",
       "..     ...        ...        ...                          ... .. ..     ...\n",
       "108   chr1   84497400   84497524     chr1:84497400-84497524:+  .  +     124\n",
       "109   chr9   14613887   14613949     chr9:14613887-14613949:-  .  -      62\n",
       "110  chr12   11171716   11171829    chr12:11171716-11171829:+  .  +     113\n",
       "111   chr2  111153783  111153820   chr2:111153783-111153820:+  .  +      37\n",
       "112   chr1  226365958  226366045   chr1:226365958-226366045:-  .  -      87\n",
       "\n",
       "[113 rows x 7 columns]"
      ]
     },
     "execution_count": 2,
     "metadata": {},
     "output_type": "execute_result"
    }
   ],
   "source": [
    "oncRNAs = pd.read_csv(\"results/thresholded_oncRNAs.bed\", header=None, sep=\"\\t\")\n",
    "oncRNAs[\"length\"] = oncRNAs[2] - oncRNAs[1]\n",
    "oncRNAs"
   ]
  },
  {
   "cell_type": "code",
   "execution_count": 3,
   "metadata": {},
   "outputs": [
    {
     "data": {
      "text/plain": [
       "(array([45., 20.,  8., 17., 11.,  6.,  3.,  0.,  1.,  2.]),\n",
       " array([ 18. ,  35.6,  53.2,  70.8,  88.4, 106. , 123.6, 141.2, 158.8,\n",
       "        176.4, 194. ]),\n",
       " <BarContainer object of 10 artists>)"
      ]
     },
     "execution_count": 3,
     "metadata": {},
     "output_type": "execute_result"
    },
    {
     "data": {
      "image/png": "[encoded data removed]",
      "text/plain": [
       "<Figure size 432x288 with 1 Axes>"
      ]
     },
     "metadata": {
      "needs_background": "light"
     },
     "output_type": "display_data"
    }
   ],
   "source": [
    "plt.hist(oncRNAs[\"length\"])"
   ]
  },
  {
   "cell_type": "markdown",
   "metadata": {},
   "source": [
    "# Visualization"
   ]
  },
  {
   "cell_type": "code",
   "execution_count": 12,
   "metadata": {},
   "outputs": [],
   "source": [
    "with open('data/counts/cell_lines_cpm_map.json', 'r') as f:\n",
    "    cell_lines_cpm_map = js.load(f)\n",
    "    f.close()\n",
    "with open('data/counts/cell_lines_loci_counts.json', 'r') as f:\n",
    "    sample_loci = js.load(f)\n",
    "    f.close()\n",
    "del sample_loci[\"LM2_2_cell_S37\"]"
   ]
  },
  {
   "cell_type": "raw",
   "metadata": {},
   "source": [
    "oncRNAs = pd.read_csv(\"results/thresholds/15%_fdr_tcga.bed\", header=None, sep=\"\\t\")"
   ]
  },
  {
   "cell_type": "code",
   "execution_count": 13,
   "metadata": {},
   "outputs": [],
   "source": [
    "#Create df for heatmap visualization\n",
    "loci_exp = {}\n",
    "for locus in oncRNAs[3]:\n",
    "    loci_exp[locus] = {}\n",
    "    for cell_line, loci_dict in sample_loci.items():\n",
    "        if locus in loci_dict:\n",
    "            loci_exp[locus][cell_line] = loci_dict[locus] * cell_lines_cpm_map[cell_line] #Transform raw count to cpm. Note we use the cpm_map from non ex-filtered dataset to capture whole count.\n",
    "        else:\n",
    "            loci_exp[locus][cell_line] = 0"
   ]
  },
  {
   "cell_type": "code",
   "execution_count": 14,
   "metadata": {},
   "outputs": [],
   "source": [
    "loci_exp_df = pd.DataFrame.from_dict(loci_exp, orient=\"index\")"
   ]
  },
  {
   "cell_type": "code",
   "execution_count": 15,
   "metadata": {},
   "outputs": [],
   "source": [
    "subtype_map = {\"MDA453\":\"HER2+\", \"SKBR-3\":\"HER2+\", \n",
    "              \"HUMEC\":\"Normal\", \"ZR75-1\":\"Luminal\", \"HCC38\": \"TNBC\",\n",
    "              \"CN34\":\"TNBC\", \"MCF7\": \"Luminal\", \"MDA231\":\"TNBC\", \n",
    "              \"LM2\":\"Met\", \"LM1a\":\"Met\"}"
   ]
  },
  {
   "cell_type": "code",
   "execution_count": 16,
   "metadata": {},
   "outputs": [],
   "source": [
    "colData = pd.DataFrame(loci_exp_df.columns, columns=[\"Sample\"]) #Sample column contains all the samples\n",
    "colData[\"Cell Line\"] = colData[\"Sample\"].apply(lambda x: x.split(\"_\")[0]) #From sample name, get cell line information\n",
    "colData[\"Subtype\"] = colData[\"Cell Line\"].apply(lambda x: subtype_map[x]) #Base on cell line, map to subtype category\n",
    "colData = colData.sort_values(\"Cell Line\").sort_values(\"Subtype\") #First sort by cell line then by subtype\n",
    "colData = pd.concat([colData[colData[\"Subtype\"] == \"Normal\"], colData[colData[\"Subtype\"] != \"Normal\"]]).copy()\n",
    "colData = colData.set_index(\"Subtype\", drop=False)\n",
    "\n",
    "colors = sns.color_palette(\"Paired\", len(colData[\"Subtype\"].unique()))\n",
    "random.shuffle(colors)\n",
    "lut = dict(zip(list(colData[\"Subtype\"].unique()), colors))\n",
    "col_colors = colData[\"Subtype\"].map(lut)"
   ]
  },
  {
   "cell_type": "code",
   "execution_count": 17,
   "metadata": {},
   "outputs": [],
   "source": [
    "#Max norm\n",
    "loci_df = np.zeros(loci_exp_df.shape)\n",
    "for i in range(loci_exp_df.shape[0]):\n",
    "    max_per_row = np.max(loci_exp_df.iloc[i])\n",
    "    loci_df[i] = np.divide(loci_exp_df.iloc[i], max_per_row) #Max-norm"
   ]
  },
  {
   "cell_type": "code",
   "execution_count": 18,
   "metadata": {},
   "outputs": [],
   "source": [
    "loci_df = pd.DataFrame(loci_df, index=loci_exp_df.index, columns=loci_exp_df.columns)\n",
    "loci_df = loci_df[list(colData[\"Sample\"])] #Set columns to match colData order\n",
    "loci_df.columns = colData[\"Subtype\"]"
   ]
  },
  {
   "cell_type": "code",
   "execution_count": 19,
   "metadata": {},
   "outputs": [
    {
     "data": {
      "text/plain": [
       "<Figure size 1440x1440 with 0 Axes>"
      ]
     },
     "metadata": {},
     "output_type": "display_data"
    },
    {
     "data": {
      "image/png": "[encoded data removed]",
      "text/plain": [
       "<Figure size 720x720 with 5 Axes>"
      ]
     },
     "metadata": {
      "needs_background": "light"
     },
     "output_type": "display_data"
    }
   ],
   "source": [
    "plt.figure(figsize=(20,20))\n",
    "g=sns.clustermap(loci_df, col_cluster=False, col_colors=col_colors,yticklabels=False, xticklabels=colData[\"Sample\"], method=\"average\", rasterized=True)\n",
    "for label in colData[\"Subtype\"].unique():\n",
    "    g.ax_col_dendrogram.bar(0, 0, color=lut[label],\n",
    "                            label=label, linewidth=0)\n",
    "g.ax_col_dendrogram.legend(loc=\"center\", ncol=5)\n",
    "g.savefig(\"figures/cell_lines_oncRNA_loci_heatmap.pdf\")"
   ]
  },
  {
   "cell_type": "code",
   "execution_count": 23,
   "metadata": {},
   "outputs": [
    {
     "data": {
      "text/plain": [
       "(113, 7)"
      ]
     },
     "execution_count": 23,
     "metadata": {},
     "output_type": "execute_result"
    }
   ],
   "source": [
    "oncRNAs.shape"
   ]
  },
  {
   "cell_type": "markdown",
   "metadata": {},
   "source": [
    "# Visualize"
   ]
  },
  {
   "cell_type": "code",
   "execution_count": 20,
   "metadata": {},
   "outputs": [],
   "source": [
    "pos_density = pd.read_csv(\"data/IC/all_samples_pos_bg.txt\", header=None, sep=\"\\t\")\n",
    "neg_density = pd.read_csv(\"data/IC/all_samples_neg_bg.txt\", header=None, sep=\"\\t\")"
   ]
  },
  {
   "cell_type": "code",
   "execution_count": 534,
   "metadata": {},
   "outputs": [
    {
     "name": "stdout",
     "output_type": "stream",
     "text": [
      "chr1:226365958-226366045:-\n",
      "226365958\n",
      "226366045\n"
     ]
    },
    {
     "data": {
      "image/png": "[encoded data removed]",
      "text/plain": [
       "<Figure size 432x288 with 1 Axes>"
      ]
     },
     "metadata": {
      "needs_background": "light"
     },
     "output_type": "display_data"
    }
   ],
   "source": [
    "oncRNA = oncRNAs.iloc[112]\n",
    "density = neg_density if oncRNA[5] == \"-\" else pos_density\n",
    "density = density[density[0] == oncRNA[0]] #Match reference\n",
    "density = density[(density[1] >= oncRNA[1]) & (density[2] <= oncRNA[2])] #Match oncRNA loci\n",
    "coord = []\n",
    "coverage = []\n",
    "first = density.iloc[0][1] #Start of loci\n",
    "for i in range(density.shape[0]):\n",
    "    row = density.iloc[i]\n",
    "    start = row[1]\n",
    "    end = row[2]\n",
    "    count = row[3]\n",
    "    assert first == start #Ensure continuity\n",
    "    while start < end:\n",
    "        coord.append(start)\n",
    "        coverage.append(count)\n",
    "        start += 1\n",
    "        first += 1\n",
    "    \n",
    "density_df = pd.DataFrame({\"Coord\":coord, \"Coverage\":coverage})\n",
    "plt.plot(density_df[\"Coord\"], density_df[\"Coverage\"])\n",
    "plt.title(oncRNA[3] + f\" | Length:{oncRNA[2] - oncRNA[1]}\")\n",
    "print(oncRNA[3])\n",
    "print(oncRNA[1])\n",
    "print(oncRNA[2])"
   ]
  },
  {
   "cell_type": "code",
   "execution_count": 529,
   "metadata": {},
   "outputs": [],
   "source": [
    "density = neg_density if oncRNA[5] == \"-\" else pos_density\n",
    "density = density[density[0] == oncRNA[0]] #Match reference"
   ]
  },
  {
   "cell_type": "code",
   "execution_count": 530,
   "metadata": {},
   "outputs": [
    {
     "data": {
      "text/html": [
       "<div>\n",
       "<style scoped>\n",
       "    .dataframe tbody tr th:only-of-type {\n",
       "        vertical-align: middle;\n",
       "    }\n",
       "\n",
       "    .dataframe tbody tr th {\n",
       "        vertical-align: top;\n",
       "    }\n",
       "\n",
       "    .dataframe thead th {\n",
       "        text-align: right;\n",
       "    }\n",
       "</style>\n",
       "<table border=\"1\" class=\"dataframe\">\n",
       "  <thead>\n",
       "    <tr style=\"text-align: right;\">\n",
       "      <th></th>\n",
       "      <th>0</th>\n",
       "      <th>1</th>\n",
       "      <th>2</th>\n",
       "      <th>3</th>\n",
       "    </tr>\n",
       "  </thead>\n",
       "  <tbody>\n",
       "    <tr>\n",
       "      <th>158092</th>\n",
       "      <td>chr1</td>\n",
       "      <td>226365958</td>\n",
       "      <td>226365970</td>\n",
       "      <td>2</td>\n",
       "    </tr>\n",
       "    <tr>\n",
       "      <th>158093</th>\n",
       "      <td>chr1</td>\n",
       "      <td>226365970</td>\n",
       "      <td>226365992</td>\n",
       "      <td>3</td>\n",
       "    </tr>\n",
       "    <tr>\n",
       "      <th>158094</th>\n",
       "      <td>chr1</td>\n",
       "      <td>226365992</td>\n",
       "      <td>226365993</td>\n",
       "      <td>4</td>\n",
       "    </tr>\n",
       "    <tr>\n",
       "      <th>158095</th>\n",
       "      <td>chr1</td>\n",
       "      <td>226365993</td>\n",
       "      <td>226365995</td>\n",
       "      <td>5</td>\n",
       "    </tr>\n",
       "    <tr>\n",
       "      <th>158096</th>\n",
       "      <td>chr1</td>\n",
       "      <td>226365995</td>\n",
       "      <td>226365997</td>\n",
       "      <td>6</td>\n",
       "    </tr>\n",
       "    <tr>\n",
       "      <th>158097</th>\n",
       "      <td>chr1</td>\n",
       "      <td>226365997</td>\n",
       "      <td>226365998</td>\n",
       "      <td>8</td>\n",
       "    </tr>\n",
       "    <tr>\n",
       "      <th>158098</th>\n",
       "      <td>chr1</td>\n",
       "      <td>226365998</td>\n",
       "      <td>226365999</td>\n",
       "      <td>10</td>\n",
       "    </tr>\n",
       "    <tr>\n",
       "      <th>158099</th>\n",
       "      <td>chr1</td>\n",
       "      <td>226365999</td>\n",
       "      <td>226366001</td>\n",
       "      <td>11</td>\n",
       "    </tr>\n",
       "    <tr>\n",
       "      <th>158100</th>\n",
       "      <td>chr1</td>\n",
       "      <td>226366001</td>\n",
       "      <td>226366002</td>\n",
       "      <td>12</td>\n",
       "    </tr>\n",
       "    <tr>\n",
       "      <th>158101</th>\n",
       "      <td>chr1</td>\n",
       "      <td>226366002</td>\n",
       "      <td>226366003</td>\n",
       "      <td>17</td>\n",
       "    </tr>\n",
       "    <tr>\n",
       "      <th>158102</th>\n",
       "      <td>chr1</td>\n",
       "      <td>226366003</td>\n",
       "      <td>226366004</td>\n",
       "      <td>27</td>\n",
       "    </tr>\n",
       "    <tr>\n",
       "      <th>158103</th>\n",
       "      <td>chr1</td>\n",
       "      <td>226366004</td>\n",
       "      <td>226366013</td>\n",
       "      <td>32</td>\n",
       "    </tr>\n",
       "  </tbody>\n",
       "</table>\n",
       "</div>"
      ],
      "text/plain": [
       "           0          1          2   3\n",
       "158092  chr1  226365958  226365970   2\n",
       "158093  chr1  226365970  226365992   3\n",
       "158094  chr1  226365992  226365993   4\n",
       "158095  chr1  226365993  226365995   5\n",
       "158096  chr1  226365995  226365997   6\n",
       "158097  chr1  226365997  226365998   8\n",
       "158098  chr1  226365998  226365999  10\n",
       "158099  chr1  226365999  226366001  11\n",
       "158100  chr1  226366001  226366002  12\n",
       "158101  chr1  226366002  226366003  17\n",
       "158102  chr1  226366003  226366004  27\n",
       "158103  chr1  226366004  226366013  32"
      ]
     },
     "execution_count": 530,
     "metadata": {},
     "output_type": "execute_result"
    }
   ],
   "source": [
    "density[density[1] >= oncRNA[1]].sort_values(1).head(12)"
   ]
  },
  {
   "cell_type": "code",
   "execution_count": 535,
   "metadata": {},
   "outputs": [
    {
     "data": {
      "text/plain": [
       "68"
      ]
     },
     "execution_count": 535,
     "metadata": {},
     "output_type": "execute_result"
    }
   ],
   "source": [
    "split_loci = {\"chr7:29921213-29921331:-\":[\"chr7:29921222-29921260:-\"],\n",
    "             \"chr12:71664021-71664096:+\":[\"chr12:71664059-71664094:+\"],\n",
    "             \"chrX:127317160-127317210:+\":[\"chrX:127317161-127317185:+\", \"chrX:127317185-127317210:+\"],\n",
    "             \"chr3:172821369-172821477:+\":[\"chr3:172821433-172821476:+\"],\n",
    "             \"chr6:50844053-50844173:+\":[\"chr6:50844095-50844138:+\"],\n",
    "             \"chr6:52264623-52264696:-\":[\"chr6:52264623-52264650:-\"],\n",
    "             \"chr8:143867927-143868000:-\":[\"chr8:143867944-143867977:-\"],\n",
    "             \"chr9:113514723-113514767:+\":[\"chr9:113514723-113514758:+\"],\n",
    "             \"chr10:32010001-32010080:-\":[\"chr10:32010017-32010041:-\", \"chr10:32010039-32010064:-\"],\n",
    "             \"chr10:32017171-32017214:-\":[\"chr10:32017175-32017211:-\"],\n",
    "             \"chr12:46229560-46229641:-\":[\"chr12:46229560-46229586:-\"],\n",
    "             \"chr15:41402530-41402603:+\":[\"chr15:41402563-41402593:+\"],\n",
    "             \"chr1:156701076-156701120:-\":[\"chr1:156701093-156701120:-\"],\n",
    "             \"chr17:64545314-64545505:-\":[\"chr17:64545378-64545408:-\"],\n",
    "             \"chr19:17337553-17337641:+\":[\"chr19:17337577-17337598:+\", \"chr19:17337577-17337619:+\"],\n",
    "             \"chr19:39473382-39473416:+\":[\"chr19:39473388-39473416:+\"],\n",
    "             \"chr1:156070110-156070162:+\":[\"chr1:156070135-156070162:+\"],\n",
    "             \"chr2:121727242-121727324:-\":[\"chr2:121727249-121727276:-\"],\n",
    "             \"chr2:237545697-237545743:+\":[\"chr2:237545723-237545743:+\"],\n",
    "             \"chr8:143866581-143866679:-\":[\"chr8:143866646-143866678:-\"],\n",
    "             \"chr9:126882239-126882433:+\":[\"chr9:126882358-126882393:+\"],\n",
    "             \"chr15:40874157-40874234:-\":[\"chr15:40874171-40874194:-\", \"chr15:40874194-40874223:-\"],\n",
    "             \"chr16:15576880-15576933:-\":[\"chr16:15576883-15576903:-\", \"chr16:15576902-15576930:-\"],\n",
    "             \"chr1:200407020-200407123:-\":[\"chr1:200407043-200407080:-\"],\n",
    "             \"chr16:21526902-21526948:-\":[\"chr16:21526905-21526945:-\"],\n",
    "             \"chr16:28845601-28845647:+\":[\"chr16:28845605-28845636:+\"],\n",
    "             \"chr20:50752735-50752776:+\":[\"chr20:50752738-50752775:+\"],\n",
    "             \"chrX:16712734-16712802:+\":[\"chrX:16712734-16712758:+\"],\n",
    "             \"chr1:179103603-179103641:-\":[\"chr1:179103605-179103642:-\"],\n",
    "             \"chr6:57105554-57105620:+\":[\"chr6:57105566-57105593:+\"],\n",
    "             \"chr21:38415081-38415215:+\":[\"chr21:38415082-38415107:+\", \"chr21:38415112-38415137:+\", \"chr21:38415150-38415176:+\"],\n",
    "             \"chr3:179399575-179399631:-\":[\"chr3:179399591-179399630:-\"],\n",
    "             \"chr7:66811360-66811433:+\":[\"chr7:66811364-66811396:+\"],\n",
    "             \"chr4:1980712-1980744:+\":[\"chr4:1980720-1980744:+\"],\n",
    "             \"chr7:30082319-30082414:+\":[\"chr7:30082357-30082400:+\"],\n",
    "             \"chr7:36389850-36389931:+\":[\"chr7:36389874-36389905:+\"],\n",
    "             \"chr7:92605706-92605776:-\":[\"chr7:92605747-92605776:-\"],\n",
    "             \"chr10:59791859-59791902:-\":[\"chr10:59791867-59791902:-\"],\n",
    "             \"chr17:68101412-68101494:-\":[\"chr17:68101451-68101480:-\"],\n",
    "             \"chr2:236124627-236124800:+\":[\"chr2:236124710-236124730:+\", \"chr2:236124728-236124756:+\", \"chr2:236124757-236124796:+\"],\n",
    "             \"chr17:39716415-39716514:+\":[\"chr17:39716433-39716477:+\", \"chr17:39716477-39716511:+\"],\n",
    "             \"chr4:55336774-55336832:-\":[\"chr4:55336788-55336832:-\"],\n",
    "             \"chr12:45817728-45817833:+\":[\"chr12:45817737-45817772:+\"],\n",
    "             \"chr16:85015943-85016011:-\":[\"chr16:85015947-85015986:-\", \"chr16:85015986-85016011:-\"], \n",
    "             \"chr20:36916711-36916760:-\":[\"chr20:36916723-36916760:-\"],\n",
    "             \"chr2:102716142-102716211:-\":[\"chr2:102716150-102716188:-\"],\n",
    "             \"chr5:154057151-154057189:+\":[\"chr5:154057160-154057187:+\"],\n",
    "             \"chr8:119982676-119982771:-\":[\"chr8:119982702-119982733:-\", \"chr8:119982746-119982769:-\"],\n",
    "             \"chr17:79833155-79833259:-\":[\"chr17:79833156-79833184:-\"],\n",
    "             \"chr20:62327667-62327746:-\":[\"chr20:62327667-62327693:-\"],\n",
    "             \"chr1:43164358-43164482:-\":[\"chr1:43164390-43164413:-\", \"chr1:43164424-43164450:-\", \"chr1:43164450-43164476:-\" ],\n",
    "             \"chr7:139299611-139299712:+\":[\"chr7:139299611-139299712:+\"],\n",
    "             \"chr6:149661721-149661811:-\":[\"chr6:149661726-149661760:-\"],\n",
    "              \"chr7:139299611-139299712:+\":[\"chr7:139299644-139299673:+\"],\n",
    "              \"chr8:103430637-103430690:+\":[\"chr8:103430644-103430672:+\", \"chr8:103430668-103430688:+\"],\n",
    "              \"chr11:63625994-63626105:-\":[\"chr11:63626066-63626096:-\"],\n",
    "              \"chr20:50583874-50583980:+\":[\"chr20:50583896-50583925:+\", \"chr20:50583925-50583953:+\"],\n",
    "              \"chr3:42224520-42224615:+\":[\"chr3:42224521-42224556:+\"],\n",
    "              \"chr1:149558545-149558588:-\":[\"chr1:149558545-149558569:-\"],\n",
    "              \"chr20:56639188-56639276:+\":[\"chr20:56639196-56639220:+\", \"chr20:56639222-56639260:+\"],\n",
    "              \"chr8:123042578-123042655:+\":[\"chr8:123042585-123042611:+\"],\n",
    "              \"chr17:67340363-67340436:-\":[\"chr17:67340381-67340414:-\"],\n",
    "              \"chr20:9357008-9357103:+\":[\"chr20:9357015-9357034:+\", \"chr20:9357032-9357052:+\", \"chr20:9357050-9357077:+\",  \"chr20:9357075-9357096:+\"],\n",
    "              \"chr19:10684987-10685034:+\":[\"chr19:10684999-10685031:+\"],\n",
    "              \"chr1:84497400-84497524:+\":[\"chr1:84497435-84497468:+\", \"chr1:84497468-84497495:+\"],\n",
    "              \"chr9:14613887-14613949:-\":[\"chr9:14613909-14613941:-\"],\n",
    "              \"chr12:11171716-11171829:+\":[\"chr12:11171716-11171741:+\", \"chr12:11171772-11171799:+\"],\n",
    "              \"chr2:111153783-111153820:+\":[\"chr2:111153784-111153814:+\"],\n",
    "              \"chr1:226365958-226366045:-\":[\"chr1:226365997-226366030:-\"]}\n",
    "len(split_loci)"
   ]
  },
  {
   "cell_type": "markdown",
   "metadata": {},
   "source": [
    "Refined 68 of the loci."
   ]
  },
  {
   "cell_type": "code",
   "execution_count": 536,
   "metadata": {},
   "outputs": [
    {
     "data": {
      "text/plain": [
       "135"
      ]
     },
     "execution_count": 536,
     "metadata": {},
     "output_type": "execute_result"
    }
   ],
   "source": [
    "final_list = []\n",
    "for rna in oncRNAs[3]:\n",
    "    if rna in split_loci:\n",
    "        final_list.extend(split_loci[rna])\n",
    "    else:\n",
    "        final_list.append(rna)\n",
    "len(final_list)"
   ]
  },
  {
   "cell_type": "code",
   "execution_count": 537,
   "metadata": {},
   "outputs": [],
   "source": [
    "with open(\"results/oncRNA_list.bed\", \"w\") as out:\n",
    "    for locus in final_list:\n",
    "        splits = locus.split(\":\")\n",
    "        start = splits[1].split(\"-\")[0]\n",
    "        end = splits[1].split(\"-\")[1]\n",
    "        bed = f\"{splits[0]}\\t{start}\\t{end}\\t{locus}\\t.\\t{splits[-1]}\"\n",
    "        out.write(bed + \"\\n\")          "
   ]
  },
  {
   "cell_type": "markdown",
   "metadata": {},
   "source": [
    "# Test to Make Sure No Errors"
   ]
  },
  {
   "cell_type": "markdown",
   "metadata": {},
   "source": [
    "With `-v` we test to make sure all of the rnas in the `final_oncRNA_list.bed` file maps to one of the oncRNA annotations. If no errors nothing should be reported."
   ]
  },
  {
   "cell_type": "code",
   "execution_count": 538,
   "metadata": {},
   "outputs": [],
   "source": [
    "%%bash\n",
    "bedtools intersect -v -s -a results/oncRNA_list.bed -b results/thresholded_oncRNAs.bed"
   ]
  },
  {
   "cell_type": "markdown",
   "metadata": {},
   "source": [
    "Great."
   ]
  },
  {
   "cell_type": "markdown",
   "metadata": {},
   "source": [
    "Here we do the opposite. To make sure all the oncRNAs in the `thresholded_oncRNAs.bed` file are accounted for."
   ]
  },
  {
   "cell_type": "code",
   "execution_count": 539,
   "metadata": {},
   "outputs": [],
   "source": [
    "%%bash\n",
    "bedtools intersect -v -s -a results/thresholded_oncRNAs.bed -b results/oncRNA_list.bed"
   ]
  },
  {
   "cell_type": "markdown",
   "metadata": {},
   "source": [
    "Great."
   ]
  },
  {
   "cell_type": "code",
   "execution_count": 540,
   "metadata": {},
   "outputs": [],
   "source": [
    "%%bash\n",
    "bedtools intersect -wao -s -a results/thresholded_oncRNAs.bed -b results/oncRNA_list.bed > results/map_oncRNAs.bed"
   ]
  },
  {
   "cell_type": "markdown",
   "metadata": {},
   "source": [
    "# Final Check of Lengths"
   ]
  },
  {
   "cell_type": "code",
   "execution_count": 541,
   "metadata": {},
   "outputs": [],
   "source": [
    "lengths = []\n",
    "for rna in final_list:\n",
    "    start = int(rna.split(\":\")[1].split(\"-\")[0])\n",
    "    end = int(rna.split(\":\")[1].split(\"-\")[1])\n",
    "    lengths.append(end-start)"
   ]
  },
  {
   "cell_type": "code",
   "execution_count": 542,
   "metadata": {},
   "outputs": [
    {
     "data": {
      "text/plain": [
       "(array([ 9., 15., 16., 30., 13., 20., 15.,  7.,  4.,  6.]),\n",
       " array([18. , 20.6, 23.2, 25.8, 28.4, 31. , 33.6, 36.2, 38.8, 41.4, 44. ]),\n",
       " <BarContainer object of 10 artists>)"
      ]
     },
     "execution_count": 542,
     "metadata": {},
     "output_type": "execute_result"
    },
    {
     "data": {
      "image/png": "[encoded data removed]",
      "text/plain": [
       "<Figure size 432x288 with 1 Axes>"
      ]
     },
     "metadata": {
      "needs_background": "light"
     },
     "output_type": "display_data"
    }
   ],
   "source": [
    "plt.hist(lengths)"
   ]
  },
  {
   "cell_type": "markdown",
   "metadata": {},
   "source": [
    "# Final Check of Loci"
   ]
  },
  {
   "cell_type": "code",
   "execution_count": 758,
   "metadata": {},
   "outputs": [
    {
     "name": "stdout",
     "output_type": "stream",
     "text": [
      "(135, 13)\n"
     ]
    },
    {
     "data": {
      "text/html": [
       "<div>\n",
       "<style scoped>\n",
       "    .dataframe tbody tr th:only-of-type {\n",
       "        vertical-align: middle;\n",
       "    }\n",
       "\n",
       "    .dataframe tbody tr th {\n",
       "        vertical-align: top;\n",
       "    }\n",
       "\n",
       "    .dataframe thead th {\n",
       "        text-align: right;\n",
       "    }\n",
       "</style>\n",
       "<table border=\"1\" class=\"dataframe\">\n",
       "  <thead>\n",
       "    <tr style=\"text-align: right;\">\n",
       "      <th></th>\n",
       "      <th>0</th>\n",
       "      <th>1</th>\n",
       "      <th>2</th>\n",
       "      <th>3</th>\n",
       "      <th>4</th>\n",
       "      <th>5</th>\n",
       "      <th>6</th>\n",
       "      <th>7</th>\n",
       "      <th>8</th>\n",
       "      <th>9</th>\n",
       "      <th>10</th>\n",
       "      <th>11</th>\n",
       "      <th>12</th>\n",
       "    </tr>\n",
       "  </thead>\n",
       "  <tbody>\n",
       "    <tr>\n",
       "      <th>0</th>\n",
       "      <td>chr6</td>\n",
       "      <td>27815103</td>\n",
       "      <td>27815138</td>\n",
       "      <td>chr6:27815103-27815138:+</td>\n",
       "      <td>.</td>\n",
       "      <td>+</td>\n",
       "      <td>chr6</td>\n",
       "      <td>27815103</td>\n",
       "      <td>27815138</td>\n",
       "      <td>chr6:27815103-27815138:+</td>\n",
       "      <td>.</td>\n",
       "      <td>+</td>\n",
       "      <td>35</td>\n",
       "    </tr>\n",
       "    <tr>\n",
       "      <th>1</th>\n",
       "      <td>chr7</td>\n",
       "      <td>13735449</td>\n",
       "      <td>13735471</td>\n",
       "      <td>chr7:13735449-13735471:-</td>\n",
       "      <td>.</td>\n",
       "      <td>-</td>\n",
       "      <td>chr7</td>\n",
       "      <td>13735449</td>\n",
       "      <td>13735471</td>\n",
       "      <td>chr7:13735449-13735471:-</td>\n",
       "      <td>.</td>\n",
       "      <td>-</td>\n",
       "      <td>22</td>\n",
       "    </tr>\n",
       "    <tr>\n",
       "      <th>2</th>\n",
       "      <td>chr7</td>\n",
       "      <td>29921213</td>\n",
       "      <td>29921331</td>\n",
       "      <td>chr7:29921213-29921331:-</td>\n",
       "      <td>.</td>\n",
       "      <td>-</td>\n",
       "      <td>chr7</td>\n",
       "      <td>29921222</td>\n",
       "      <td>29921260</td>\n",
       "      <td>chr7:29921222-29921260:-</td>\n",
       "      <td>.</td>\n",
       "      <td>-</td>\n",
       "      <td>38</td>\n",
       "    </tr>\n",
       "    <tr>\n",
       "      <th>3</th>\n",
       "      <td>chr9</td>\n",
       "      <td>126496950</td>\n",
       "      <td>126496971</td>\n",
       "      <td>chr9:126496950-126496971:-</td>\n",
       "      <td>.</td>\n",
       "      <td>-</td>\n",
       "      <td>chr9</td>\n",
       "      <td>126496950</td>\n",
       "      <td>126496971</td>\n",
       "      <td>chr9:126496950-126496971:-</td>\n",
       "      <td>.</td>\n",
       "      <td>-</td>\n",
       "      <td>21</td>\n",
       "    </tr>\n",
       "    <tr>\n",
       "      <th>4</th>\n",
       "      <td>chr11</td>\n",
       "      <td>112396454</td>\n",
       "      <td>112396473</td>\n",
       "      <td>chr11:112396454-112396473:+</td>\n",
       "      <td>.</td>\n",
       "      <td>+</td>\n",
       "      <td>chr11</td>\n",
       "      <td>112396454</td>\n",
       "      <td>112396473</td>\n",
       "      <td>chr11:112396454-112396473:+</td>\n",
       "      <td>.</td>\n",
       "      <td>+</td>\n",
       "      <td>19</td>\n",
       "    </tr>\n",
       "  </tbody>\n",
       "</table>\n",
       "</div>"
      ],
      "text/plain": [
       "      0          1          2                            3  4  5      6   \\\n",
       "0   chr6   27815103   27815138     chr6:27815103-27815138:+  .  +   chr6   \n",
       "1   chr7   13735449   13735471     chr7:13735449-13735471:-  .  -   chr7   \n",
       "2   chr7   29921213   29921331     chr7:29921213-29921331:-  .  -   chr7   \n",
       "3   chr9  126496950  126496971   chr9:126496950-126496971:-  .  -   chr9   \n",
       "4  chr11  112396454  112396473  chr11:112396454-112396473:+  .  +  chr11   \n",
       "\n",
       "          7          8                            9  10 11  12  \n",
       "0   27815103   27815138     chr6:27815103-27815138:+  .  +  35  \n",
       "1   13735449   13735471     chr7:13735449-13735471:-  .  -  22  \n",
       "2   29921222   29921260     chr7:29921222-29921260:-  .  -  38  \n",
       "3  126496950  126496971   chr9:126496950-126496971:-  .  -  21  \n",
       "4  112396454  112396473  chr11:112396454-112396473:+  .  +  19  "
      ]
     },
     "execution_count": 758,
     "metadata": {},
     "output_type": "execute_result"
    }
   ],
   "source": [
    "final_check = pd.read_csv(\"results/map_oncRNAs.bed\", sep=\"\\t\", header=None)\n",
    "print(final_check.shape)\n",
    "final_check.head()"
   ]
  },
  {
   "cell_type": "code",
   "execution_count": 849,
   "metadata": {},
   "outputs": [],
   "source": [
    "j = 97"
   ]
  },
  {
   "cell_type": "code",
   "execution_count": 850,
   "metadata": {},
   "outputs": [
    {
     "name": "stdout",
     "output_type": "stream",
     "text": [
      "97\n",
      "chr1:43164390-43164413:-\n",
      "chr1:43164358-43164482:-\n"
     ]
    },
    {
     "data": {
      "image/png": "[encoded data removed]",
      "text/plain": [
       "<Figure size 432x288 with 1 Axes>"
      ]
     },
     "metadata": {
      "needs_background": "light"
     },
     "output_type": "display_data"
    }
   ],
   "source": [
    "oncRNA = final_check.iloc[j]\n",
    "loci_start = oncRNA[7]\n",
    "loci_end = oncRNA[8]\n",
    "density = neg_density if oncRNA[5] == \"-\" else pos_density\n",
    "density = density[density[0] == oncRNA[0]]\n",
    "density = density[(density[1] >= oncRNA[1]) & (density[2] <= oncRNA[2])]\n",
    "coord = []\n",
    "coverage = []\n",
    "first = density.iloc[0][1]\n",
    "for i in range(density.shape[0]):\n",
    "    row = density.iloc[i]\n",
    "    start = row[1]\n",
    "    end = row[2]\n",
    "    count = row[3]\n",
    "    while first < start: #ensure continuity\n",
    "        coord.append(first)\n",
    "        coverage.append(0)\n",
    "        first += 1\n",
    "    while start < end:\n",
    "        coord.append(start)\n",
    "        coverage.append(count)\n",
    "        start += 1\n",
    "        first += 1\n",
    "        \n",
    "density_df = pd.DataFrame({\"Coord\":coord[loci_start-oncRNA[1]:loci_end - oncRNA[1]+1], \"Coverage\":coverage[loci_start-oncRNA[1]:loci_end - oncRNA[1]+1]})\n",
    "plt.plot(density_df[\"Coord\"], density_df[\"Coverage\"])\n",
    "new_locus = f\"{oncRNA[0]}:{loci_start}-{loci_end}:{oncRNA[5]}\"\n",
    "plt.title(new_locus + f\" | Length:{loci_end - loci_start}\")\n",
    "print(j)\n",
    "print(new_locus)\n",
    "print(oncRNA[3])\n",
    "j += 1"
   ]
  },
  {
   "cell_type": "code",
   "execution_count": 829,
   "metadata": {},
   "outputs": [
    {
     "data": {
      "text/html": [
       "<div>\n",
       "<style scoped>\n",
       "    .dataframe tbody tr th:only-of-type {\n",
       "        vertical-align: middle;\n",
       "    }\n",
       "\n",
       "    .dataframe tbody tr th {\n",
       "        vertical-align: top;\n",
       "    }\n",
       "\n",
       "    .dataframe thead th {\n",
       "        text-align: right;\n",
       "    }\n",
       "</style>\n",
       "<table border=\"1\" class=\"dataframe\">\n",
       "  <thead>\n",
       "    <tr style=\"text-align: right;\">\n",
       "      <th></th>\n",
       "      <th>0</th>\n",
       "      <th>1</th>\n",
       "      <th>2</th>\n",
       "      <th>3</th>\n",
       "    </tr>\n",
       "  </thead>\n",
       "  <tbody>\n",
       "    <tr>\n",
       "      <th>551516</th>\n",
       "      <td>chr6</td>\n",
       "      <td>27815078</td>\n",
       "      <td>27815079</td>\n",
       "      <td>5</td>\n",
       "    </tr>\n",
       "    <tr>\n",
       "      <th>551517</th>\n",
       "      <td>chr6</td>\n",
       "      <td>27815079</td>\n",
       "      <td>27815081</td>\n",
       "      <td>2</td>\n",
       "    </tr>\n",
       "    <tr>\n",
       "      <th>551518</th>\n",
       "      <td>chr6</td>\n",
       "      <td>27815081</td>\n",
       "      <td>27815084</td>\n",
       "      <td>1</td>\n",
       "    </tr>\n",
       "    <tr>\n",
       "      <th>551519</th>\n",
       "      <td>chr6</td>\n",
       "      <td>27815084</td>\n",
       "      <td>27815086</td>\n",
       "      <td>3</td>\n",
       "    </tr>\n",
       "    <tr>\n",
       "      <th>551520</th>\n",
       "      <td>chr6</td>\n",
       "      <td>27815086</td>\n",
       "      <td>27815092</td>\n",
       "      <td>4</td>\n",
       "    </tr>\n",
       "  </tbody>\n",
       "</table>\n",
       "</div>"
      ],
      "text/plain": [
       "           0         1         2  3\n",
       "551516  chr6  27815078  27815079  5\n",
       "551517  chr6  27815079  27815081  2\n",
       "551518  chr6  27815081  27815084  1\n",
       "551519  chr6  27815084  27815086  3\n",
       "551520  chr6  27815086  27815092  4"
      ]
     },
     "execution_count": 829,
     "metadata": {},
     "output_type": "execute_result"
    }
   ],
   "source": [
    "density = neg_density if oncRNA[5] == \"-\" else pos_density\n",
    "density = density[density[0] == oncRNA[0]] #Match reference\n",
    "density[density[1] >= oncRNA[1] - 30].sort_values(1).head(5)"
   ]
  },
  {
   "cell_type": "markdown",
   "metadata": {},
   "source": [
    "**To Remove (coverage too low <= 5):** <br>\n",
    "chr16:85015986-85016011:- <br>\n",
    "chr8:119982702-119982733:- <br>\n",
    "chr8:119982746-119982769:- <br>\n"
   ]
  },
  {
   "cell_type": "code",
   "execution_count": 851,
   "metadata": {},
   "outputs": [],
   "source": [
    "to_remove = set([\"chr16:85015986-85016011:-\", \"chr8:119982702-119982733:-\", \n",
    "                 \"chr8:119982746-119982769:-\"])"
   ]
  },
  {
   "cell_type": "code",
   "execution_count": 852,
   "metadata": {},
   "outputs": [],
   "source": [
    "with open(\"results/final_oncRNA_list.bed\", \"w\") as out:\n",
    "    for locus in final_check[9]:\n",
    "        if locus in to_remove:\n",
    "            continue\n",
    "        splits = locus.split(\":\")\n",
    "        start = splits[1].split(\"-\")[0]\n",
    "        end = splits[1].split(\"-\")[1]\n",
    "        bed = f\"{splits[0]}\\t{start}\\t{end}\\t{locus}\\t.\\t{splits[-1]}\"\n",
    "        out.write(bed + \"\\n\")          "
   ]
  },
  {
   "cell_type": "code",
   "execution_count": 853,
   "metadata": {},
   "outputs": [
    {
     "data": {
      "text/plain": [
       "132"
      ]
     },
     "execution_count": 853,
     "metadata": {},
     "output_type": "execute_result"
    }
   ],
   "source": [
    "len(pd.read_csv(\"results/final_oncRNA_list.bed\", header=None, sep=\"\\t\")[3].unique())"
   ]
  },
  {
   "cell_type": "markdown",
   "metadata": {},
   "source": [
    "At this step we removed one whole loci and one splitted locus due to low coverage by genome coverage of the samples."
   ]
  },
  {
   "cell_type": "markdown",
   "metadata": {},
   "source": [
    "## Convert to fastq sequences file"
   ]
  },
  {
   "cell_type": "code",
   "execution_count": 858,
   "metadata": {},
   "outputs": [
    {
     "name": "stdout",
     "output_type": "stream",
     "text": [
      "bedtools getfasta -fo results/final_oncRNA.fa -fi /rumi/shams/genomes/hg38/hg38.fa -bed results/final_oncRNA_list.bed -s\n"
     ]
    }
   ],
   "source": [
    "%%bash\n",
    "echo \"bedtools getfasta -fo results/final_oncRNA.fa -fi /rumi/shams/genomes/hg38/hg38.fa -bed results/final_oncRNA_list.bed -s\";\n",
    "bedtools getfasta -fo results/final_oncRNA.fa -fi /rumi/shams/genomes/hg38/hg38.fa -bed results/final_oncRNA_list.bed -s;"
   ]
  },
  {
   "cell_type": "code",
   "execution_count": 859,
   "metadata": {},
   "outputs": [],
   "source": [
    "with open('results/final_oncRNA.txt', \"w\") as out:\n",
    "    with open(\"results/final_oncRNA.fa\", \"r\") as read:\n",
    "        for line in read:\n",
    "            if \">\" not in line:\n",
    "                out.write(line)"
   ]
  },
  {
   "cell_type": "markdown",
   "metadata": {},
   "source": [
    "# Annotations\n",
    "Make sure none of these finalized oncRNAs map to a known smRNAs. Below code should return 0 results."
   ]
  },
  {
   "cell_type": "code",
   "execution_count": 860,
   "metadata": {},
   "outputs": [],
   "source": [
    "%%bash\n",
    "bedtools intersect -wo -s -a results/final_oncRNA_list.bed -b /rumi/shams/jwang/genomes/hg38/dashr.v2.smRNA.hg38.bed"
   ]
  },
  {
   "cell_type": "markdown",
   "metadata": {},
   "source": [
    "# Done"
   ]
  }
 ],
 "metadata": {
  "kernelspec": {
   "display_name": "Python [conda env:smRNA]",
   "language": "python",
   "name": "conda-env-smRNA-py"
  },
  "language_info": {
   "codemirror_mode": {
    "name": "ipython",
    "version": 3
   },
   "file_extension": ".py",
   "mimetype": "text/x-python",
   "name": "python",
   "nbconvert_exporter": "python",
   "pygments_lexer": "ipython3",
   "version": "3.7.4"
  }
 },
 "nbformat": 4,
 "nbformat_minor": 4
}
