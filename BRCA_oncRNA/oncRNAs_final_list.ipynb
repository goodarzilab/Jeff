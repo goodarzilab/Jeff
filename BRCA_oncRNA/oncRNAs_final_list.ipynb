{
 "cells": [
  {
   "cell_type": "markdown",
   "metadata": {},
   "source": [
    "# Final List of oncRNAs\n",
    "Here we also visualized loci to break up and narrow down the loci we see."
   ]
  },
  {
   "cell_type": "code",
   "execution_count": 1,
   "metadata": {},
   "outputs": [],
   "source": [
    "import pandas as pd\n",
    "import numpy as np\n",
    "import matplotlib.pyplot as plt\n",
    "import seaborn as sns\n",
    "import random\n",
    "import json as js\n",
    "import os\n",
    "import matplotlib\n",
    "matplotlib.rcParams['pdf.fonttype'] = 42\n",
    "matplotlib.rcParams['ps.fonttype'] = 42"
   ]
  },
  {
   "cell_type": "code",
   "execution_count": 2,
   "metadata": {},
   "outputs": [
    {
     "data": {
      "text/html": [
       "<div>\n",
       "<style scoped>\n",
       "    .dataframe tbody tr th:only-of-type {\n",
       "        vertical-align: middle;\n",
       "    }\n",
       "\n",
       "    .dataframe tbody tr th {\n",
       "        vertical-align: top;\n",
       "    }\n",
       "\n",
       "    .dataframe thead th {\n",
       "        text-align: right;\n",
       "    }\n",
       "</style>\n",
       "<table border=\"1\" class=\"dataframe\">\n",
       "  <thead>\n",
       "    <tr style=\"text-align: right;\">\n",
       "      <th></th>\n",
       "      <th>0</th>\n",
       "      <th>1</th>\n",
       "      <th>2</th>\n",
       "      <th>3</th>\n",
       "      <th>4</th>\n",
       "      <th>5</th>\n",
       "      <th>length</th>\n",
       "    </tr>\n",
       "  </thead>\n",
       "  <tbody>\n",
       "    <tr>\n",
       "      <th>0</th>\n",
       "      <td>chr20</td>\n",
       "      <td>50583874</td>\n",
       "      <td>50583980</td>\n",
       "      <td>chr20:50583874-50583980:+</td>\n",
       "      <td>.</td>\n",
       "      <td>+</td>\n",
       "      <td>106</td>\n",
       "    </tr>\n",
       "    <tr>\n",
       "      <th>1</th>\n",
       "      <td>chr9</td>\n",
       "      <td>126882239</td>\n",
       "      <td>126882433</td>\n",
       "      <td>chr9:126882239-126882433:+</td>\n",
       "      <td>.</td>\n",
       "      <td>+</td>\n",
       "      <td>194</td>\n",
       "    </tr>\n",
       "    <tr>\n",
       "      <th>2</th>\n",
       "      <td>chr16</td>\n",
       "      <td>15865999</td>\n",
       "      <td>15866029</td>\n",
       "      <td>chr16:15865999-15866029:-</td>\n",
       "      <td>.</td>\n",
       "      <td>-</td>\n",
       "      <td>30</td>\n",
       "    </tr>\n",
       "    <tr>\n",
       "      <th>3</th>\n",
       "      <td>chr5</td>\n",
       "      <td>149847906</td>\n",
       "      <td>149847937</td>\n",
       "      <td>chr5:149847906-149847937:+</td>\n",
       "      <td>.</td>\n",
       "      <td>+</td>\n",
       "      <td>31</td>\n",
       "    </tr>\n",
       "    <tr>\n",
       "      <th>4</th>\n",
       "      <td>chr1</td>\n",
       "      <td>232287771</td>\n",
       "      <td>232287828</td>\n",
       "      <td>chr1:232287771-232287828:+</td>\n",
       "      <td>.</td>\n",
       "      <td>+</td>\n",
       "      <td>57</td>\n",
       "    </tr>\n",
       "    <tr>\n",
       "      <th>...</th>\n",
       "      <td>...</td>\n",
       "      <td>...</td>\n",
       "      <td>...</td>\n",
       "      <td>...</td>\n",
       "      <td>...</td>\n",
       "      <td>...</td>\n",
       "      <td>...</td>\n",
       "    </tr>\n",
       "    <tr>\n",
       "      <th>126</th>\n",
       "      <td>chr17</td>\n",
       "      <td>64545314</td>\n",
       "      <td>64545505</td>\n",
       "      <td>chr17:64545314-64545505:-</td>\n",
       "      <td>.</td>\n",
       "      <td>-</td>\n",
       "      <td>191</td>\n",
       "    </tr>\n",
       "    <tr>\n",
       "      <th>127</th>\n",
       "      <td>chr10</td>\n",
       "      <td>122350881</td>\n",
       "      <td>122350903</td>\n",
       "      <td>chr10:122350881-122350903:+</td>\n",
       "      <td>.</td>\n",
       "      <td>+</td>\n",
       "      <td>22</td>\n",
       "    </tr>\n",
       "    <tr>\n",
       "      <th>128</th>\n",
       "      <td>chr1</td>\n",
       "      <td>43164358</td>\n",
       "      <td>43164482</td>\n",
       "      <td>chr1:43164358-43164482:-</td>\n",
       "      <td>.</td>\n",
       "      <td>-</td>\n",
       "      <td>124</td>\n",
       "    </tr>\n",
       "    <tr>\n",
       "      <th>129</th>\n",
       "      <td>chr2</td>\n",
       "      <td>121727242</td>\n",
       "      <td>121727324</td>\n",
       "      <td>chr2:121727242-121727324:-</td>\n",
       "      <td>.</td>\n",
       "      <td>-</td>\n",
       "      <td>82</td>\n",
       "    </tr>\n",
       "    <tr>\n",
       "      <th>130</th>\n",
       "      <td>chrX</td>\n",
       "      <td>16712734</td>\n",
       "      <td>16712802</td>\n",
       "      <td>chrX:16712734-16712802:+</td>\n",
       "      <td>.</td>\n",
       "      <td>+</td>\n",
       "      <td>68</td>\n",
       "    </tr>\n",
       "  </tbody>\n",
       "</table>\n",
       "<p>131 rows × 7 columns</p>\n",
       "</div>"
      ],
      "text/plain": [
       "         0          1          2                            3  4  5  length\n",
       "0    chr20   50583874   50583980    chr20:50583874-50583980:+  .  +     106\n",
       "1     chr9  126882239  126882433   chr9:126882239-126882433:+  .  +     194\n",
       "2    chr16   15865999   15866029    chr16:15865999-15866029:-  .  -      30\n",
       "3     chr5  149847906  149847937   chr5:149847906-149847937:+  .  +      31\n",
       "4     chr1  232287771  232287828   chr1:232287771-232287828:+  .  +      57\n",
       "..     ...        ...        ...                          ... .. ..     ...\n",
       "126  chr17   64545314   64545505    chr17:64545314-64545505:-  .  -     191\n",
       "127  chr10  122350881  122350903  chr10:122350881-122350903:+  .  +      22\n",
       "128   chr1   43164358   43164482     chr1:43164358-43164482:-  .  -     124\n",
       "129   chr2  121727242  121727324   chr2:121727242-121727324:-  .  -      82\n",
       "130   chrX   16712734   16712802     chrX:16712734-16712802:+  .  +      68\n",
       "\n",
       "[131 rows x 7 columns]"
      ]
     },
     "execution_count": 2,
     "metadata": {},
     "output_type": "execute_result"
    }
   ],
   "source": [
    "oncRNAs = pd.read_csv(\"final_list/top_oncRNAs.bed\", header=None, sep=\"\\t\")\n",
    "oncRNAs[\"length\"] = oncRNAs[2] - oncRNAs[1]\n",
    "oncRNAs"
   ]
  },
  {
   "cell_type": "code",
   "execution_count": 3,
   "metadata": {},
   "outputs": [
    {
     "data": {
      "text/plain": [
       "(array([58., 19.,  9., 19., 11.,  6.,  3.,  1.,  2.,  3.]),\n",
       " array([ 18. ,  35.6,  53.2,  70.8,  88.4, 106. , 123.6, 141.2, 158.8,\n",
       "        176.4, 194. ]),\n",
       " <BarContainer object of 10 artists>)"
      ]
     },
     "execution_count": 3,
     "metadata": {},
     "output_type": "execute_result"
    },
    {
     "data": {
      "image/png": "[encoded data removed]",
      "text/plain": [
       "<Figure size 432x288 with 1 Axes>"
      ]
     },
     "metadata": {
      "needs_background": "light"
     },
     "output_type": "display_data"
    }
   ],
   "source": [
    "plt.hist(oncRNAs[\"length\"])"
   ]
  },
  {
   "cell_type": "markdown",
   "metadata": {},
   "source": [
    "# Visualize"
   ]
  },
  {
   "cell_type": "code",
   "execution_count": 4,
   "metadata": {},
   "outputs": [],
   "source": [
    "loci_coverage_dict = {}\n",
    "for locus, start, end in zip(oncRNAs[3],oncRNAs[1], oncRNAs[2]):\n",
    "    length = end-start\n",
    "    loci_coverage_dict[locus] = [0 for i in range(length)]"
   ]
  },
  {
   "cell_type": "code",
   "execution_count": 5,
   "metadata": {},
   "outputs": [],
   "source": [
    "cancer_cell_lines = [f for f in os.scandir(\"final_list/data\") if f.name.endswith(\".onc.bed\") and \"HUMEC\" not in f.name and \"S37\" not in f.name]\n",
    "for f in cancer_cell_lines:\n",
    "    bed = pd.read_csv(f, header=None, sep=\"\\t\")\n",
    "    for i in range(bed.shape[0]):\n",
    "        row = bed.iloc[i]\n",
    "        locus = row[9]\n",
    "        if locus not in loci_coverage_dict: #Not in our priorized final list.\n",
    "            continue\n",
    "        locus_start = row[7]\n",
    "        locus_end = row[8]\n",
    "        read_start = row[1]\n",
    "        read_end = row[2]\n",
    "        #This maps to the list index for the read. Range works well with bed format as it is end exclusive.\n",
    "        for i in range(read_start, read_end): \n",
    "            pos = i - locus_start\n",
    "            if pos < 0 or pos >= locus_end - locus_start: #end exclusive\n",
    "                continue\n",
    "            loci_coverage_dict[locus][pos] += 1 "
   ]
  },
  {
   "cell_type": "code",
   "execution_count": 321,
   "metadata": {},
   "outputs": [
    {
     "data": {
      "text/plain": [
       "Text(0.5, 1.0, 'chr7:139299611-139299712:+ | Length:101')"
      ]
     },
     "execution_count": 321,
     "metadata": {},
     "output_type": "execute_result"
    },
    {
     "data": {
      "image/png": "[encoded data removed]",
      "text/plain": [
       "<Figure size 432x288 with 1 Axes>"
      ]
     },
     "metadata": {
      "needs_background": "light"
     },
     "output_type": "display_data"
    }
   ],
   "source": [
    "oncRNA = oncRNAs.iloc[93]\n",
    "locus = oncRNA[3]\n",
    "splits = locus.split(\":\")\n",
    "ref = splits[0]\n",
    "start = int(splits[1].split(\"-\")[0])\n",
    "end = int(splits[1].split(\"-\")[1])\n",
    "strand = splits[2]\n",
    "coverage = np.array(loci_coverage_dict[locus])\n",
    "coord = np.arange(start, end)\n",
    "density_df = pd.DataFrame({\"Coord\":coord, \"Coverage\":coverage})\n",
    "plt.plot(density_df[\"Coord\"], density_df[\"Coverage\"])\n",
    "plt.title(oncRNA[3] + f\" | Length:{end - start}\")"
   ]
  },
  {
   "cell_type": "code",
   "execution_count": 460,
   "metadata": {},
   "outputs": [],
   "source": [
    "split_loci = {\"chr20:50583874-50583980:+\":[\"chr20:50583926-50583951:+\", \"chr20:50583905-50583926:+\"],\n",
    "              \"chrX:16712734-16712802:+\":[\"chrX:16712734-16712758:+\"],\n",
    "              \"chr2:121727242-121727324:-\":[\"chr2:121727249-121727276:-\"],\n",
    "              \"chr1:43164358-43164482:-\":[\"chr1:43164424-43164450:-\", \"chr1:43164450-43164476:-\" ],\n",
    "              \"chr17:64545314-64545505:-\":[\"chr17:64545378-64545408:-\"],\n",
    "              \"chr8:143867927-143868000:-\":[\"chr8:143867944-143867977:-\"],\n",
    "              \"chr10:59791859-59791902:-\":[\"chr10:59791867-59791902:-\"],\n",
    "              \"chr2:236124627-236124800:+\":[\"chr2:236124710-236124730:+\", \"chr2:236124728-236124756:+\", \"chr2:236124757-236124796:+\"],\n",
    "              \"chr6:57105554-57105620:+\":[\"chr6:57105566-57105593:+\"],\n",
    "              \"chr6:52264623-52264696:-\":[\"chr6:52264623-52264650:-\"],\n",
    "              \"chr7:36389850-36389931:+\":[\"chr7:36389874-36389905:+\"],\n",
    "              \"chr10:32017171-32017214:-\":[\"chr10:32017175-32017211:-\"],\n",
    "              \"chr15:34367134-34367165:-\":[\"chr15:34367142-34367165:-\"],\n",
    "              \"chr15:40874157-40874234:-\":[\"chr15:40874171-40874194:-\", \"chr15:40874194-40874223:-\"],\n",
    "              \"chr9:113514723-113514767:+\":[\"chr9:113514723-113514758:+\"],\n",
    "              \"chr4:1980712-1980744:+\":[\"chr4:1980720-1980744:+\"],\n",
    "              \"chr8:29333427-29333464:-\":[\"chr8:29333427-29333460:-\"],\n",
    "              \"chr1:179103603-179103641:-\":[\"chr1:179103605-179103641:-\"],\n",
    "              \"chr7:139299611-139299712:+\":[\"chr7:139299644-139299673:+\"],\n",
    "              \"chr20:62327667-62327746:-\":[\"chr20:62327667-62327693:-\"],\n",
    "              \"chr1:84497400-84497524:+\":[\"chr1:84497435-84497468:+\", \"chr1:84497468-84497495:+\"],\n",
    "              \"chr20:50752735-50752776:+\":[\"chr20:50752738-50752775:+\"],\n",
    "              \"chr6:149661721-149661811:-\":[\"chr6:149661726-149661760:-\"],\n",
    "              \"chr2:102716142-102716211:-\":[\"chr2:102716150-102716188:-\"],\n",
    "              \"chr1:149558545-149558588:-\":[\"chr1:149558545-149558569:-\"],\n",
    "              \"chr7:92605706-92605776:-\":[\"chr7:92605747-92605776:-\"],\n",
    "              \"chr1:200407020-200407123:-\":[\"chr1:200407043-200407080:-\"],\n",
    "              \"chr16:21526902-21526948:-\":[\"chr16:21526905-21526945:-\"],\n",
    "              \"chrX:127317160-127317210:+\":[\"chrX:127317161-127317185:+\", \"chrX:127317185-127317210:+\"],\n",
    "              \"chr2:111153783-111153820:+\":[\"chr2:111153784-111153814:+\"],\n",
    "              \"chr16:15576866-15576966:-\":[\"chr16:15576886-15576925:-\"],\n",
    "              \"chr3:172821369-172821477:+\":[\"chr3:172821433-172821476:+\"],\n",
    "              \"chr1:156070110-156070162:+\":[\"chr1:156070135-156070162:+\"],\n",
    "              \"chr19:10684987-10685034:+\":[\"chr19:10684999-10685031:+\"],\n",
    "              \"chr7:29921213-29921331:-\":[\"chr7:29921222-29921260:-\"],\n",
    "              \"chr8:143382408-143382439:+\":[\"chr8:143382408-143382435:+\"],\n",
    "              \"chr11:63625994-63626105:-\":[\"chr11:63626066-63626096:-\"],\n",
    "              \"chr9:126882239-126882433:+\":[\"chr9:126882359-126882390:+\"],\n",
    "              \"chr1:232287771-232287828:+\":[\"chr1:232287795-232287828:+\"],\n",
    "              \"chr2:237545697-237545743:+\":[\"chr2:237545723-237545743:+\"],\n",
    "              \"chr4:55336688-55336863:-\":[\"chr4:55336787-55336827:-\"],\n",
    "              \"chr3:179399575-179399631:-\":[\"chr3:179399599-179399629:-\"],\n",
    "              \"chr5:154057151-154057189:+\":[\"chr5:154057157-154057189:+\"],\n",
    "              \"chr1:226365958-226366045:-\":[\"chr1:226366000-226366035:-\"],\n",
    "              \"chr20:56639188-56639276:+\":[\"chr20:56639228-56639252:+\"],\n",
    "              \"chr1:156701048-156701120:-\":[\"chr1:156701090-156701120:-\"],\n",
    "              \"chr12:46229560-46229641:-\":[\"chr12:46229560-46229586:-\"],\n",
    "              \"chr8:143866581-143866679:-\":[\"chr8:143866645-143866679:-\"],\n",
    "              \"chr6:50844053-50844173:+\":[\"chr6:50844100-50844135:+\"],\n",
    "              \"chr17:39716415-39716514:+\":[\"chr17:39716434-39716477:+\"],\n",
    "              \"chr15:41402530-41402603:+\":[\"chr15:41402565-41402590:+\"],\n",
    "              \"chr17:63839304-63839336:-\":[\"chr17:63839304-63839325:-\"],\n",
    "              \"chr7:38928263-38928289:-\":[\"chr7:38928263-38928284:-\"],\n",
    "              \"chr20:9357008-9357103:+\":[\"chr20:9357015-9357034:+\", \"chr20:9357032-9357052:+\", \"chr20:9357050-9357077:+\",  \"chr20:9357075-9357096:+\"],\n",
    "              \"chr12:71664021-71664096:+\":[\"chr12:71664059-71664094:+\"],\n",
    "              \"chr9:14613887-14613949:-\":[\"chr9:14613909-14613941:-\"],\n",
    "              \"chr19:39473382-39473416:+\":[\"chr19:39473388-39473416:+\"],\n",
    "              \"chr7:30082319-30082414:+\":[\"chr7:30082357-30082400:+\"],\n",
    "              \"chr3:42224520-42224615:+\":[\"chr3:42224521-42224556:+\"],\n",
    "              \"chr10:32010001-32010080:-\":[\"chr10:32010017-32010041:-\", \"chr10:32010039-32010064:-\"],\n",
    "              \"chr8:144138633-144138667:+\":[\"chr8:144138633-144138662:+\"],\n",
    "              \"chr13:76153225-76153265:-\":[\"chr13:76153228-76153248:-\"],\n",
    "              \"chr7:89027754-89027785:-\":[\"chr7:89027755-89027783:-\"],\n",
    "              \"chr7:66811360-66811433:+\":[\"chr7:66811362-66811398:+\"],\n",
    "              \"chr1:62791710-62791745:+\":[\"chr1:62791725-62791745:+\"],\n",
    "              \"chr17:67340363-67340436:-\":[\"chr17:67340381-67340414:-\"],\n",
    "              \"chr21:38415081-38415215:+\":[\"chr21:38415082-38415107:+\", \"chr21:38415112-38415137:+\", \"chr21:38415150-38415176:+\"],\n",
    "              \"chr8:103430637-103430690:+\":[\"chr8:103430644-103430672:+\", \"chr8:103430668-103430688:+\"],\n",
    "              \"chr8:132185977-132186065:-\":[\"chr8:132186006-132186050:-\"],\n",
    "              \"chr17:68101412-68101494:-\":[\"chr17:68101451-68101480:-\"],\n",
    "              \"chr8:123042578-123042655:+\":[\"chr8:123042585-123042611:+\"],\n",
    "              \"chr12:11171716-11171829:+\":[\"chr12:11171716-11171741:+\"],\n",
    "              \"chr20:36916711-36916760:-\":[\"chr20:36916723-36916760:-\"], \n",
    "             }\n"
   ]
  },
  {
   "cell_type": "code",
   "execution_count": 461,
   "metadata": {},
   "outputs": [],
   "source": [
    "to_drop = set([\"chr17:40416731-40416920:-\", \"chr6:42891043-42891075:+\", \"chr16:85015943-85016011:-\", \n",
    "               \"chr17:40395440-40395593:-\", \"chr5:140718716-140718745:-\",\"chr17:79833155-79833259:-\", \n",
    "              \"chr1:212035793-212035848:+\", \"chr12:45817728-45817833:+\", \"chr6:26033127-26033157:-\",\n",
    "              \"chr19:17337553-17337641:+\", \"chr21:46323797-46323826:-\",])\n"
   ]
  },
  {
   "cell_type": "code",
   "execution_count": 462,
   "metadata": {},
   "outputs": [
    {
     "data": {
      "text/plain": [
       "134"
      ]
     },
     "execution_count": 462,
     "metadata": {},
     "output_type": "execute_result"
    }
   ],
   "source": [
    "final_list = []\n",
    "for rna in oncRNAs[3]:\n",
    "    if rna in split_loci:\n",
    "        final_list.extend(split_loci[rna])\n",
    "    elif rna in to_drop:\n",
    "        continue\n",
    "    else:\n",
    "        final_list.append(rna)\n",
    "len(final_list)"
   ]
  },
  {
   "cell_type": "code",
   "execution_count": 463,
   "metadata": {},
   "outputs": [],
   "source": [
    "with open(\"final_list/refined_oncRNA_list.bed\", \"w\") as out:\n",
    "    for locus in final_list:\n",
    "        splits = locus.split(\":\")\n",
    "        start = splits[1].split(\"-\")[0]\n",
    "        end = splits[1].split(\"-\")[1]\n",
    "        bed = f\"{splits[0]}\\t{start}\\t{end}\\t{locus}\\t.\\t{splits[-1]}\"\n",
    "        out.write(bed + \"\\n\")          "
   ]
  },
  {
   "cell_type": "markdown",
   "metadata": {},
   "source": [
    "# Test to Make Sure No Errors"
   ]
  },
  {
   "cell_type": "markdown",
   "metadata": {},
   "source": [
    "With `-v` we test to make sure all of the rnas in the `final_oncRNA_list.bed` file maps to one of the oncRNA annotations. If no errors nothing should be reported."
   ]
  },
  {
   "cell_type": "code",
   "execution_count": 464,
   "metadata": {},
   "outputs": [],
   "source": [
    "%%bash\n",
    "bedtools intersect -v -s -a final_list/refined_oncRNA_list.bed -b final_list/comb_oncRNAs.bed"
   ]
  },
  {
   "cell_type": "markdown",
   "metadata": {},
   "source": [
    "Great."
   ]
  },
  {
   "cell_type": "code",
   "execution_count": 465,
   "metadata": {},
   "outputs": [],
   "source": [
    "%%bash\n",
    "bedtools intersect -wao -s -a final_list/refined_oncRNA_list.bed -b final_list/comb_oncRNAs.bed > final_list/map_oncRNAs.bed"
   ]
  },
  {
   "cell_type": "markdown",
   "metadata": {},
   "source": [
    "# Final Check of Lengths"
   ]
  },
  {
   "cell_type": "code",
   "execution_count": 466,
   "metadata": {},
   "outputs": [],
   "source": [
    "lengths = []\n",
    "for rna in final_list:\n",
    "    start = int(rna.split(\":\")[1].split(\"-\")[0])\n",
    "    end = int(rna.split(\":\")[1].split(\"-\")[1])\n",
    "    lengths.append(end-start)"
   ]
  },
  {
   "cell_type": "code",
   "execution_count": 467,
   "metadata": {},
   "outputs": [
    {
     "data": {
      "text/plain": [
       "(array([10., 16., 16., 26., 14., 22., 17.,  5.,  4.,  4.]),\n",
       " array([18. , 20.6, 23.2, 25.8, 28.4, 31. , 33.6, 36.2, 38.8, 41.4, 44. ]),\n",
       " <BarContainer object of 10 artists>)"
      ]
     },
     "execution_count": 467,
     "metadata": {},
     "output_type": "execute_result"
    },
    {
     "data": {
      "image/png": "[encoded data removed]",
      "text/plain": [
       "<Figure size 432x288 with 1 Axes>"
      ]
     },
     "metadata": {
      "needs_background": "light"
     },
     "output_type": "display_data"
    }
   ],
   "source": [
    "plt.hist(lengths)"
   ]
  },
  {
   "cell_type": "markdown",
   "metadata": {},
   "source": [
    "# Final Check of Loci"
   ]
  },
  {
   "cell_type": "code",
   "execution_count": 468,
   "metadata": {},
   "outputs": [
    {
     "name": "stdout",
     "output_type": "stream",
     "text": [
      "(134, 13)\n"
     ]
    },
    {
     "data": {
      "text/html": [
       "<div>\n",
       "<style scoped>\n",
       "    .dataframe tbody tr th:only-of-type {\n",
       "        vertical-align: middle;\n",
       "    }\n",
       "\n",
       "    .dataframe tbody tr th {\n",
       "        vertical-align: top;\n",
       "    }\n",
       "\n",
       "    .dataframe thead th {\n",
       "        text-align: right;\n",
       "    }\n",
       "</style>\n",
       "<table border=\"1\" class=\"dataframe\">\n",
       "  <thead>\n",
       "    <tr style=\"text-align: right;\">\n",
       "      <th></th>\n",
       "      <th>0</th>\n",
       "      <th>1</th>\n",
       "      <th>2</th>\n",
       "      <th>3</th>\n",
       "      <th>4</th>\n",
       "      <th>5</th>\n",
       "      <th>6</th>\n",
       "      <th>7</th>\n",
       "      <th>8</th>\n",
       "      <th>9</th>\n",
       "      <th>10</th>\n",
       "      <th>11</th>\n",
       "      <th>12</th>\n",
       "    </tr>\n",
       "  </thead>\n",
       "  <tbody>\n",
       "    <tr>\n",
       "      <th>0</th>\n",
       "      <td>chr20</td>\n",
       "      <td>50583926</td>\n",
       "      <td>50583951</td>\n",
       "      <td>chr20:50583926-50583951:+</td>\n",
       "      <td>.</td>\n",
       "      <td>+</td>\n",
       "      <td>chr20</td>\n",
       "      <td>50583874</td>\n",
       "      <td>50583980</td>\n",
       "      <td>chr20:50583874-50583980:+</td>\n",
       "      <td>.</td>\n",
       "      <td>+</td>\n",
       "      <td>25</td>\n",
       "    </tr>\n",
       "    <tr>\n",
       "      <th>1</th>\n",
       "      <td>chr20</td>\n",
       "      <td>50583905</td>\n",
       "      <td>50583926</td>\n",
       "      <td>chr20:50583905-50583926:+</td>\n",
       "      <td>.</td>\n",
       "      <td>+</td>\n",
       "      <td>chr20</td>\n",
       "      <td>50583874</td>\n",
       "      <td>50583980</td>\n",
       "      <td>chr20:50583874-50583980:+</td>\n",
       "      <td>.</td>\n",
       "      <td>+</td>\n",
       "      <td>21</td>\n",
       "    </tr>\n",
       "  </tbody>\n",
       "</table>\n",
       "</div>"
      ],
      "text/plain": [
       "      0         1         2                          3  4  5      6   \\\n",
       "0  chr20  50583926  50583951  chr20:50583926-50583951:+  .  +  chr20   \n",
       "1  chr20  50583905  50583926  chr20:50583905-50583926:+  .  +  chr20   \n",
       "\n",
       "         7         8                          9  10 11  12  \n",
       "0  50583874  50583980  chr20:50583874-50583980:+  .  +  25  \n",
       "1  50583874  50583980  chr20:50583874-50583980:+  .  +  21  "
      ]
     },
     "execution_count": 468,
     "metadata": {},
     "output_type": "execute_result"
    }
   ],
   "source": [
    "final_check = pd.read_csv(\"final_list/map_oncRNAs.bed\", sep=\"\\t\", header=None)\n",
    "print(final_check.shape)\n",
    "final_check.head(2)"
   ]
  },
  {
   "cell_type": "code",
   "execution_count": 344,
   "metadata": {},
   "outputs": [],
   "source": [
    "j = 0"
   ]
  },
  {
   "cell_type": "code",
   "execution_count": 470,
   "metadata": {},
   "outputs": [],
   "source": [
    "j = 96"
   ]
  },
  {
   "cell_type": "code",
   "execution_count": 505,
   "metadata": {},
   "outputs": [
    {
     "name": "stdout",
     "output_type": "stream",
     "text": [
      "130\n",
      "chr1:43164358-43164482:-\n",
      "chr1:43164424-43164450:-\n",
      "26\n"
     ]
    },
    {
     "data": {
      "image/png": "[encoded data removed]",
      "text/plain": [
       "<Figure size 432x288 with 1 Axes>"
      ]
     },
     "metadata": {
      "needs_background": "light"
     },
     "output_type": "display_data"
    }
   ],
   "source": [
    "oncRNA = final_check.iloc[j]\n",
    "new_start = oncRNA[1]\n",
    "new_end = oncRNA[2]\n",
    "\n",
    "locus = oncRNA[9]\n",
    "splits = locus.split(\":\")\n",
    "ref = splits[0]\n",
    "start = int(splits[1].split(\"-\")[0])\n",
    "end = int(splits[1].split(\"-\")[1])\n",
    "strand = splits[2]\n",
    "coverage = np.array(loci_coverage_dict[locus])[new_start-start:new_end-start]\n",
    "coord = np.arange(new_start, new_end)\n",
    "density_df = pd.DataFrame({\"Coord\":coord, \"Coverage\":coverage})\n",
    "plt.plot(density_df[\"Coord\"], density_df[\"Coverage\"])\n",
    "plt.title(oncRNA[3] + f\" | Length:{new_end - new_start}\")\n",
    "print(j)\n",
    "print(oncRNA[9])\n",
    "print(f\"{ref}:{new_start}-{new_end}:{strand}\")\n",
    "print(new_end-new_start)\n",
    "j += 1"
   ]
  },
  {
   "cell_type": "markdown",
   "metadata": {},
   "source": [
    "At this step we removed one whole loci and one splitted locus due to low coverage by genome coverage of the samples."
   ]
  },
  {
   "cell_type": "markdown",
   "metadata": {},
   "source": [
    "## Convert to fastq sequences file"
   ]
  },
  {
   "cell_type": "code",
   "execution_count": 506,
   "metadata": {},
   "outputs": [
    {
     "name": "stdout",
     "output_type": "stream",
     "text": [
      "bedtools getfasta -fo final_list/final_oncRNA.fa -fi /rumi/shams/genomes/hg38/hg38.fa -bed final_list/refined_oncRNA_list.bed -s\n"
     ]
    }
   ],
   "source": [
    "%%bash\n",
    "echo \"bedtools getfasta -fo final_list/final_oncRNA.fa -fi /rumi/shams/genomes/hg38/hg38.fa -bed final_list/refined_oncRNA_list.bed -s\";\n",
    "bedtools getfasta -fo final_list/final_oncRNA.fa -fi /rumi/shams/genomes/hg38/hg38.fa -bed final_list/refined_oncRNA_list.bed -s"
   ]
  },
  {
   "cell_type": "code",
   "execution_count": 507,
   "metadata": {},
   "outputs": [],
   "source": [
    "with open('final_list/final_oncRNA.txt', \"w\") as out:\n",
    "    with open(\"final_list/final_oncRNA.fa\", \"r\") as read:\n",
    "        for line in read:\n",
    "            if \">\" not in line:\n",
    "                out.write(line)"
   ]
  },
  {
   "cell_type": "markdown",
   "metadata": {},
   "source": [
    "# Annotations\n",
    "Make sure none of these finalized oncRNAs map to a known smRNAs. Below code should return 0 results."
   ]
  },
  {
   "cell_type": "code",
   "execution_count": 508,
   "metadata": {},
   "outputs": [],
   "source": [
    "%%bash\n",
    "bedtools intersect -wo -s -a final_list/refined_oncRNA_list.bed -b /rumi/shams/jwang/genomes/hg38/dashr.v2.smRNA.hg38.bed"
   ]
  },
  {
   "cell_type": "markdown",
   "metadata": {},
   "source": [
    "Promising ones: chr17:38604595-38604621:-\n"
   ]
  },
  {
   "cell_type": "markdown",
   "metadata": {},
   "source": [
    "# Done"
   ]
  }
 ],
 "metadata": {
  "kernelspec": {
   "display_name": "Python [conda env:smRNA]",
   "language": "python",
   "name": "conda-env-smRNA-py"
  },
  "language_info": {
   "codemirror_mode": {
    "name": "ipython",
    "version": 3
   },
   "file_extension": ".py",
   "mimetype": "text/x-python",
   "name": "python",
   "nbconvert_exporter": "python",
   "pygments_lexer": "ipython3",
   "version": "3.7.4"
  }
 },
 "nbformat": 4,
 "nbformat_minor": 4
}
