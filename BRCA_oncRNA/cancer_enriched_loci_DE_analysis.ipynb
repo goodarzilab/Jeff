{
 "cells": [
  {
   "cell_type": "markdown",
   "metadata": {},
   "source": [
    "# Cancer Cell Lines Enriched Loci: DE Analysis\n",
    "The goal in this notebook is to identify smRNA loci that are enriched in cancerous cell lines and not in normal cell lines via DESeq based analysis. In this notebook we compare all the cancer cell lines vs normal cell lines."
   ]
  },
  {
   "cell_type": "code",
   "execution_count": 1,
   "metadata": {},
   "outputs": [],
   "source": [
    "import pandas as pd\n",
    "import json as js\n",
    "import warnings\n",
    "warnings.filterwarnings(\"ignore\")\n",
    "import rpy2.ipython\n",
    "%load_ext rpy2.ipython"
   ]
  },
  {
   "cell_type": "code",
   "execution_count": 2,
   "metadata": {
    "collapsed": true,
    "jupyter": {
     "outputs_hidden": true
    }
   },
   "outputs": [
    {
     "name": "stderr",
     "output_type": "stream",
     "text": [
      "R[write to console]: Loading required package: S4Vectors\n",
      "\n",
      "R[write to console]: Loading required package: stats4\n",
      "\n",
      "R[write to console]: Loading required package: BiocGenerics\n",
      "\n",
      "R[write to console]: Loading required package: parallel\n",
      "\n",
      "R[write to console]: \n",
      "Attaching package: ‘BiocGenerics’\n",
      "\n",
      "\n",
      "R[write to console]: The following objects are masked from ‘package:parallel’:\n",
      "\n",
      "    clusterApply, clusterApplyLB, clusterCall, clusterEvalQ,\n",
      "    clusterExport, clusterMap, parApply, parCapply, parLapply,\n",
      "    parLapplyLB, parRapply, parSapply, parSapplyLB\n",
      "\n",
      "\n",
      "R[write to console]: The following objects are masked from ‘package:stats’:\n",
      "\n",
      "    IQR, mad, sd, var, xtabs\n",
      "\n",
      "\n",
      "R[write to console]: The following objects are masked from ‘package:base’:\n",
      "\n",
      "    anyDuplicated, append, as.data.frame, basename, cbind, colMeans,\n",
      "    colnames, colSums, dirname, do.call, duplicated, eval, evalq,\n",
      "    Filter, Find, get, grep, grepl, intersect, is.unsorted, lapply,\n",
      "    lengths, Map, mapply, match, mget, order, paste, pmax, pmax.int,\n",
      "    pmin, pmin.int, Position, rank, rbind, Reduce, rowMeans, rownames,\n",
      "    rowSums, sapply, setdiff, sort, table, tapply, union, unique,\n",
      "    unsplit, which, which.max, which.min\n",
      "\n",
      "\n",
      "R[write to console]: \n",
      "Attaching package: ‘S4Vectors’\n",
      "\n",
      "\n",
      "R[write to console]: The following object is masked from ‘package:base’:\n",
      "\n",
      "    expand.grid\n",
      "\n",
      "\n",
      "R[write to console]: Loading required package: IRanges\n",
      "\n",
      "R[write to console]: Loading required package: GenomicRanges\n",
      "\n",
      "R[write to console]: Loading required package: GenomeInfoDb\n",
      "\n",
      "R[write to console]: Loading required package: SummarizedExperiment\n",
      "\n",
      "R[write to console]: Loading required package: Biobase\n",
      "\n",
      "R[write to console]: Welcome to Bioconductor\n",
      "\n",
      "    Vignettes contain introductory material; view with\n",
      "    'browseVignettes()'. To cite Bioconductor, see\n",
      "    'citation(\"Biobase\")', and for packages 'citation(\"pkgname\")'.\n",
      "\n",
      "\n",
      "R[write to console]: Loading required package: DelayedArray\n",
      "\n",
      "R[write to console]: Loading required package: matrixStats\n",
      "\n",
      "R[write to console]: \n",
      "Attaching package: ‘matrixStats’\n",
      "\n",
      "\n",
      "R[write to console]: The following objects are masked from ‘package:Biobase’:\n",
      "\n",
      "    anyMissing, rowMedians\n",
      "\n",
      "\n",
      "R[write to console]: Loading required package: BiocParallel\n",
      "\n",
      "R[write to console]: \n",
      "Attaching package: ‘DelayedArray’\n",
      "\n",
      "\n",
      "R[write to console]: The following objects are masked from ‘package:matrixStats’:\n",
      "\n",
      "    colMaxs, colMins, colRanges, rowMaxs, rowMins, rowRanges\n",
      "\n",
      "\n",
      "R[write to console]: The following objects are masked from ‘package:base’:\n",
      "\n",
      "    aperm, apply\n",
      "\n",
      "\n",
      "R[write to console]: Loading required package: ggplot2\n",
      "\n",
      "R[write to console]: Loading required package: ggrepel\n",
      "\n"
     ]
    }
   ],
   "source": [
    "%%R \n",
    "library(DESeq2)\n",
    "library(EnhancedVolcano)"
   ]
  },
  {
   "cell_type": "markdown",
   "metadata": {},
   "source": [
    "## Load Counts"
   ]
  },
  {
   "cell_type": "code",
   "execution_count": 3,
   "metadata": {},
   "outputs": [],
   "source": [
    "with open('data/counts/cell_lines_loci_counts.json', 'r') as f:\n",
    "    sample_loci = js.load(f)\n",
    "    f.close()"
   ]
  },
  {
   "cell_type": "code",
   "execution_count": 4,
   "metadata": {},
   "outputs": [
    {
     "data": {
      "text/plain": [
       "1569283"
      ]
     },
     "execution_count": 4,
     "metadata": {},
     "output_type": "execute_result"
    }
   ],
   "source": [
    "#Unique loci after healthy exRNA filtering\n",
    "unique_loci = set()\n",
    "for cell_line, loci_dict in sample_loci.items():\n",
    "    unique_loci.update(loci_dict.keys())\n",
    "len(unique_loci)"
   ]
  },
  {
   "cell_type": "code",
   "execution_count": 5,
   "metadata": {},
   "outputs": [],
   "source": [
    "# Filter out LM2_2_cell_S37 from consideration\n",
    "del sample_loci[\"LM2_2_cell_S37\"]"
   ]
  },
  {
   "cell_type": "markdown",
   "metadata": {},
   "source": [
    "## DESeq Analysis\n",
    "Here we run DESeq Analysis conditioned on cancer/non-cancer"
   ]
  },
  {
   "cell_type": "code",
   "execution_count": 6,
   "metadata": {},
   "outputs": [],
   "source": [
    "cell_lines = list(sample_loci.keys())\n",
    "condition = [\"Normal\" if \"HUMEC\" in name else \"Cancer\" for name in cell_lines ]\n",
    "samples = [name.split(\"_\")[-1] for name in cell_lines] #Extract just the sample number"
   ]
  },
  {
   "cell_type": "code",
   "execution_count": 7,
   "metadata": {},
   "outputs": [
    {
     "data": {
      "text/html": [
       "<div>\n",
       "<style scoped>\n",
       "    .dataframe tbody tr th:only-of-type {\n",
       "        vertical-align: middle;\n",
       "    }\n",
       "\n",
       "    .dataframe tbody tr th {\n",
       "        vertical-align: top;\n",
       "    }\n",
       "\n",
       "    .dataframe thead th {\n",
       "        text-align: right;\n",
       "    }\n",
       "</style>\n",
       "<table border=\"1\" class=\"dataframe\">\n",
       "  <thead>\n",
       "    <tr style=\"text-align: right;\">\n",
       "      <th></th>\n",
       "      <th>condition</th>\n",
       "      <th>type</th>\n",
       "      <th>name</th>\n",
       "    </tr>\n",
       "  </thead>\n",
       "  <tbody>\n",
       "    <tr>\n",
       "      <th>S24</th>\n",
       "      <td>Normal</td>\n",
       "      <td>single_read</td>\n",
       "      <td>HUMEC_1_cell_S24</td>\n",
       "    </tr>\n",
       "    <tr>\n",
       "      <th>S25</th>\n",
       "      <td>Cancer</td>\n",
       "      <td>single_read</td>\n",
       "      <td>MDA231_1_cell_S25</td>\n",
       "    </tr>\n",
       "    <tr>\n",
       "      <th>S26</th>\n",
       "      <td>Cancer</td>\n",
       "      <td>single_read</td>\n",
       "      <td>LM2_1_cell_S26</td>\n",
       "    </tr>\n",
       "    <tr>\n",
       "      <th>S27</th>\n",
       "      <td>Cancer</td>\n",
       "      <td>single_read</td>\n",
       "      <td>CN34_1_cell_S27</td>\n",
       "    </tr>\n",
       "    <tr>\n",
       "      <th>S28</th>\n",
       "      <td>Cancer</td>\n",
       "      <td>single_read</td>\n",
       "      <td>LM1a_1_cell_S28</td>\n",
       "    </tr>\n",
       "    <tr>\n",
       "      <th>S29</th>\n",
       "      <td>Cancer</td>\n",
       "      <td>single_read</td>\n",
       "      <td>HCC38_1_cell_S29</td>\n",
       "    </tr>\n",
       "    <tr>\n",
       "      <th>S31</th>\n",
       "      <td>Cancer</td>\n",
       "      <td>single_read</td>\n",
       "      <td>MDA453_1_cell_S31</td>\n",
       "    </tr>\n",
       "    <tr>\n",
       "      <th>S32</th>\n",
       "      <td>Cancer</td>\n",
       "      <td>single_read</td>\n",
       "      <td>MCF7_1_cell_S32</td>\n",
       "    </tr>\n",
       "    <tr>\n",
       "      <th>S33</th>\n",
       "      <td>Cancer</td>\n",
       "      <td>single_read</td>\n",
       "      <td>SKBR-3_1_cell_S33</td>\n",
       "    </tr>\n",
       "    <tr>\n",
       "      <th>S34</th>\n",
       "      <td>Cancer</td>\n",
       "      <td>single_read</td>\n",
       "      <td>ZR75-1_1_cell_S34</td>\n",
       "    </tr>\n",
       "    <tr>\n",
       "      <th>S35</th>\n",
       "      <td>Normal</td>\n",
       "      <td>single_read</td>\n",
       "      <td>HUMEC_2_cell_S35</td>\n",
       "    </tr>\n",
       "    <tr>\n",
       "      <th>S36</th>\n",
       "      <td>Cancer</td>\n",
       "      <td>single_read</td>\n",
       "      <td>MDA231_2_cell_S36</td>\n",
       "    </tr>\n",
       "    <tr>\n",
       "      <th>S38</th>\n",
       "      <td>Cancer</td>\n",
       "      <td>single_read</td>\n",
       "      <td>CN34_2_cell_S38</td>\n",
       "    </tr>\n",
       "    <tr>\n",
       "      <th>S39</th>\n",
       "      <td>Cancer</td>\n",
       "      <td>single_read</td>\n",
       "      <td>LM1a_2_cell_S39</td>\n",
       "    </tr>\n",
       "    <tr>\n",
       "      <th>S40</th>\n",
       "      <td>Cancer</td>\n",
       "      <td>single_read</td>\n",
       "      <td>HCC38_2_cell_S40</td>\n",
       "    </tr>\n",
       "    <tr>\n",
       "      <th>S42</th>\n",
       "      <td>Cancer</td>\n",
       "      <td>single_read</td>\n",
       "      <td>MDA453_2_cell_S42</td>\n",
       "    </tr>\n",
       "    <tr>\n",
       "      <th>S43</th>\n",
       "      <td>Cancer</td>\n",
       "      <td>single_read</td>\n",
       "      <td>MCF7_2_cell_S43</td>\n",
       "    </tr>\n",
       "    <tr>\n",
       "      <th>S44</th>\n",
       "      <td>Cancer</td>\n",
       "      <td>single_read</td>\n",
       "      <td>SKBR-3_2_cell_S44</td>\n",
       "    </tr>\n",
       "    <tr>\n",
       "      <th>S45</th>\n",
       "      <td>Cancer</td>\n",
       "      <td>single_read</td>\n",
       "      <td>ZR75-1_2_cell_S45</td>\n",
       "    </tr>\n",
       "    <tr>\n",
       "      <th>S46</th>\n",
       "      <td>Normal</td>\n",
       "      <td>single_read</td>\n",
       "      <td>HUMEC_3_cell_S46</td>\n",
       "    </tr>\n",
       "  </tbody>\n",
       "</table>\n",
       "</div>"
      ],
      "text/plain": [
       "    condition         type               name\n",
       "S24    Normal  single_read   HUMEC_1_cell_S24\n",
       "S25    Cancer  single_read  MDA231_1_cell_S25\n",
       "S26    Cancer  single_read     LM2_1_cell_S26\n",
       "S27    Cancer  single_read    CN34_1_cell_S27\n",
       "S28    Cancer  single_read    LM1a_1_cell_S28\n",
       "S29    Cancer  single_read   HCC38_1_cell_S29\n",
       "S31    Cancer  single_read  MDA453_1_cell_S31\n",
       "S32    Cancer  single_read    MCF7_1_cell_S32\n",
       "S33    Cancer  single_read  SKBR-3_1_cell_S33\n",
       "S34    Cancer  single_read  ZR75-1_1_cell_S34\n",
       "S35    Normal  single_read   HUMEC_2_cell_S35\n",
       "S36    Cancer  single_read  MDA231_2_cell_S36\n",
       "S38    Cancer  single_read    CN34_2_cell_S38\n",
       "S39    Cancer  single_read    LM1a_2_cell_S39\n",
       "S40    Cancer  single_read   HCC38_2_cell_S40\n",
       "S42    Cancer  single_read  MDA453_2_cell_S42\n",
       "S43    Cancer  single_read    MCF7_2_cell_S43\n",
       "S44    Cancer  single_read  SKBR-3_2_cell_S44\n",
       "S45    Cancer  single_read  ZR75-1_2_cell_S45\n",
       "S46    Normal  single_read   HUMEC_3_cell_S46"
      ]
     },
     "execution_count": 7,
     "metadata": {},
     "output_type": "execute_result"
    }
   ],
   "source": [
    "coldata = pd.DataFrame({\"condition\":condition, \n",
    "                        \"type\":[\"single_read\"]*len(condition),\n",
    "                        \"name\":cell_lines})\n",
    "coldata.index=samples\n",
    "coldata = coldata.sort_index()\n",
    "coldata"
   ]
  },
  {
   "cell_type": "markdown",
   "metadata": {},
   "source": [
    "### Create Loci Count Matrix"
   ]
  },
  {
   "cell_type": "code",
   "execution_count": 8,
   "metadata": {},
   "outputs": [],
   "source": [
    "#Create \n",
    "loci_counts = {} #Use the raw counts\n",
    "for locus in unique_loci:\n",
    "    loci_counts[locus] = {} \n",
    "    for cell_line, loci_dict in sample_loci.items():\n",
    "        if locus in loci_dict:\n",
    "            loci_counts[locus][cell_line] = loci_dict[locus]\n",
    "        else:\n",
    "            loci_counts[locus][cell_line] = 0"
   ]
  },
  {
   "cell_type": "code",
   "execution_count": 9,
   "metadata": {},
   "outputs": [],
   "source": [
    "col_name_map = {}\n",
    "for name in cell_lines:\n",
    "    col_name_map[name] = name.split(\"_\")[-1]"
   ]
  },
  {
   "cell_type": "code",
   "execution_count": 10,
   "metadata": {},
   "outputs": [
    {
     "data": {
      "text/html": [
       "<div>\n",
       "<style scoped>\n",
       "    .dataframe tbody tr th:only-of-type {\n",
       "        vertical-align: middle;\n",
       "    }\n",
       "\n",
       "    .dataframe tbody tr th {\n",
       "        vertical-align: top;\n",
       "    }\n",
       "\n",
       "    .dataframe thead th {\n",
       "        text-align: right;\n",
       "    }\n",
       "</style>\n",
       "<table border=\"1\" class=\"dataframe\">\n",
       "  <thead>\n",
       "    <tr style=\"text-align: right;\">\n",
       "      <th></th>\n",
       "      <th>S24</th>\n",
       "      <th>S25</th>\n",
       "      <th>S26</th>\n",
       "      <th>S27</th>\n",
       "      <th>S28</th>\n",
       "      <th>S29</th>\n",
       "      <th>S31</th>\n",
       "      <th>S32</th>\n",
       "      <th>S33</th>\n",
       "      <th>S34</th>\n",
       "      <th>S35</th>\n",
       "      <th>S36</th>\n",
       "      <th>S38</th>\n",
       "      <th>S39</th>\n",
       "      <th>S40</th>\n",
       "      <th>S42</th>\n",
       "      <th>S43</th>\n",
       "      <th>S44</th>\n",
       "      <th>S45</th>\n",
       "      <th>S46</th>\n",
       "    </tr>\n",
       "  </thead>\n",
       "  <tbody>\n",
       "    <tr>\n",
       "      <th>chr4:766432-766472:+</th>\n",
       "      <td>0</td>\n",
       "      <td>0</td>\n",
       "      <td>0</td>\n",
       "      <td>0</td>\n",
       "      <td>1</td>\n",
       "      <td>0</td>\n",
       "      <td>0</td>\n",
       "      <td>0</td>\n",
       "      <td>0</td>\n",
       "      <td>0</td>\n",
       "      <td>0</td>\n",
       "      <td>0</td>\n",
       "      <td>0</td>\n",
       "      <td>0</td>\n",
       "      <td>0</td>\n",
       "      <td>0</td>\n",
       "      <td>0</td>\n",
       "      <td>0</td>\n",
       "      <td>0</td>\n",
       "      <td>0</td>\n",
       "    </tr>\n",
       "    <tr>\n",
       "      <th>chr19:38466252-38466267:-</th>\n",
       "      <td>0</td>\n",
       "      <td>0</td>\n",
       "      <td>0</td>\n",
       "      <td>0</td>\n",
       "      <td>0</td>\n",
       "      <td>0</td>\n",
       "      <td>0</td>\n",
       "      <td>0</td>\n",
       "      <td>0</td>\n",
       "      <td>0</td>\n",
       "      <td>0</td>\n",
       "      <td>0</td>\n",
       "      <td>0</td>\n",
       "      <td>0</td>\n",
       "      <td>0</td>\n",
       "      <td>0</td>\n",
       "      <td>0</td>\n",
       "      <td>0</td>\n",
       "      <td>0</td>\n",
       "      <td>1</td>\n",
       "    </tr>\n",
       "    <tr>\n",
       "      <th>chr7:121874258-121874276:-</th>\n",
       "      <td>0</td>\n",
       "      <td>0</td>\n",
       "      <td>0</td>\n",
       "      <td>0</td>\n",
       "      <td>0</td>\n",
       "      <td>0</td>\n",
       "      <td>0</td>\n",
       "      <td>0</td>\n",
       "      <td>0</td>\n",
       "      <td>0</td>\n",
       "      <td>1</td>\n",
       "      <td>0</td>\n",
       "      <td>0</td>\n",
       "      <td>0</td>\n",
       "      <td>0</td>\n",
       "      <td>0</td>\n",
       "      <td>0</td>\n",
       "      <td>0</td>\n",
       "      <td>0</td>\n",
       "      <td>0</td>\n",
       "    </tr>\n",
       "    <tr>\n",
       "      <th>chr17:16851724-16851741:-</th>\n",
       "      <td>0</td>\n",
       "      <td>0</td>\n",
       "      <td>0</td>\n",
       "      <td>0</td>\n",
       "      <td>0</td>\n",
       "      <td>0</td>\n",
       "      <td>0</td>\n",
       "      <td>0</td>\n",
       "      <td>1</td>\n",
       "      <td>0</td>\n",
       "      <td>0</td>\n",
       "      <td>0</td>\n",
       "      <td>0</td>\n",
       "      <td>0</td>\n",
       "      <td>0</td>\n",
       "      <td>0</td>\n",
       "      <td>0</td>\n",
       "      <td>0</td>\n",
       "      <td>0</td>\n",
       "      <td>0</td>\n",
       "    </tr>\n",
       "    <tr>\n",
       "      <th>chr6:121274403-121274418:+</th>\n",
       "      <td>0</td>\n",
       "      <td>0</td>\n",
       "      <td>0</td>\n",
       "      <td>0</td>\n",
       "      <td>0</td>\n",
       "      <td>0</td>\n",
       "      <td>0</td>\n",
       "      <td>0</td>\n",
       "      <td>0</td>\n",
       "      <td>0</td>\n",
       "      <td>0</td>\n",
       "      <td>1</td>\n",
       "      <td>0</td>\n",
       "      <td>0</td>\n",
       "      <td>0</td>\n",
       "      <td>0</td>\n",
       "      <td>0</td>\n",
       "      <td>0</td>\n",
       "      <td>0</td>\n",
       "      <td>0</td>\n",
       "    </tr>\n",
       "  </tbody>\n",
       "</table>\n",
       "</div>"
      ],
      "text/plain": [
       "                            S24  S25  S26  S27  S28  S29  S31  S32  S33  S34  \\\n",
       "chr4:766432-766472:+          0    0    0    0    1    0    0    0    0    0   \n",
       "chr19:38466252-38466267:-     0    0    0    0    0    0    0    0    0    0   \n",
       "chr7:121874258-121874276:-    0    0    0    0    0    0    0    0    0    0   \n",
       "chr17:16851724-16851741:-     0    0    0    0    0    0    0    0    1    0   \n",
       "chr6:121274403-121274418:+    0    0    0    0    0    0    0    0    0    0   \n",
       "\n",
       "                            S35  S36  S38  S39  S40  S42  S43  S44  S45  S46  \n",
       "chr4:766432-766472:+          0    0    0    0    0    0    0    0    0    0  \n",
       "chr19:38466252-38466267:-     0    0    0    0    0    0    0    0    0    1  \n",
       "chr7:121874258-121874276:-    1    0    0    0    0    0    0    0    0    0  \n",
       "chr17:16851724-16851741:-     0    0    0    0    0    0    0    0    0    0  \n",
       "chr6:121274403-121274418:+    0    1    0    0    0    0    0    0    0    0  "
      ]
     },
     "execution_count": 10,
     "metadata": {},
     "output_type": "execute_result"
    }
   ],
   "source": [
    "cm = pd.DataFrame(loci_counts).T\n",
    "cm = cm.rename(columns=col_name_map)\n",
    "cm = cm.sort_index(axis=1) #To match coldata\n",
    "cm.head()"
   ]
  },
  {
   "cell_type": "code",
   "execution_count": 11,
   "metadata": {},
   "outputs": [
    {
     "name": "stderr",
     "output_type": "stream",
     "text": [
      "R[write to console]: estimating size factors\n",
      "\n",
      "R[write to console]: estimating dispersions\n",
      "\n",
      "R[write to console]: gene-wise dispersion estimates\n",
      "\n",
      "R[write to console]: mean-dispersion relationship\n",
      "\n",
      "R[write to console]: final dispersion estimates\n",
      "\n",
      "R[write to console]: fitting model and testing\n",
      "\n",
      "R[write to console]: -- replacing outliers and refitting for 154 genes\n",
      "-- DESeq argument 'minReplicatesForReplace' = 7 \n",
      "-- original counts are preserved in counts(dds)\n",
      "\n",
      "R[write to console]: estimating dispersions\n",
      "\n",
      "R[write to console]: fitting model and testing\n",
      "\n"
     ]
    }
   ],
   "source": [
    "%%R -i coldata,cm\n",
    "dds <- DESeqDataSetFromMatrix(countData = cm, colData = coldata, design = ~ condition)\n",
    "dds <- DESeq(dds)"
   ]
  },
  {
   "cell_type": "code",
   "execution_count": 13,
   "metadata": {},
   "outputs": [],
   "source": [
    "%%R -o dds_res\n",
    "dds_res <- as.data.frame(results(dds, contrast=c(\"condition\", \"Cancer\", \"Normal\"), tidy=TRUE))\n",
    "dds_res <- dds_res[!is.na(dds_res$padj),]"
   ]
  },
  {
   "cell_type": "code",
   "execution_count": 14,
   "metadata": {},
   "outputs": [
    {
     "data": {
      "image/png": "[encoded data removed]"
     },
     "metadata": {},
     "output_type": "display_data"
    }
   ],
   "source": [
    "%%R\n",
    "pdf('figures/cancer_enriched_loci_DE.pdf')\n",
    "\n",
    "p <- EnhancedVolcano(dds_res, lab = dds_res$row, x= \"log2FoldChange\", xlab=\"Log2 Fold change\",\n",
    "                          y=\"pvalue\", ylab=\"-Log10 P\", title= \"Cancer vs Normal\",\n",
    "                          titleLabSize = 12, border = \"full\", pCutoff = 0.1, FCcutoff=1, xlim = c(-7,7),\n",
    "                          ylim=c(0,6))\n",
    "print(p)\n",
    "dev.off()\n",
    "p"
   ]
  },
  {
   "cell_type": "code",
   "execution_count": 15,
   "metadata": {},
   "outputs": [
    {
     "name": "stdout",
     "output_type": "stream",
     "text": [
      "(1636, 7)\n"
     ]
    },
    {
     "data": {
      "text/html": [
       "<div>\n",
       "<style scoped>\n",
       "    .dataframe tbody tr th:only-of-type {\n",
       "        vertical-align: middle;\n",
       "    }\n",
       "\n",
       "    .dataframe tbody tr th {\n",
       "        vertical-align: top;\n",
       "    }\n",
       "\n",
       "    .dataframe thead th {\n",
       "        text-align: right;\n",
       "    }\n",
       "</style>\n",
       "<table border=\"1\" class=\"dataframe\">\n",
       "  <thead>\n",
       "    <tr style=\"text-align: right;\">\n",
       "      <th></th>\n",
       "      <th>row</th>\n",
       "      <th>baseMean</th>\n",
       "      <th>log2FoldChange</th>\n",
       "      <th>lfcSE</th>\n",
       "      <th>stat</th>\n",
       "      <th>pvalue</th>\n",
       "      <th>padj</th>\n",
       "    </tr>\n",
       "    <tr>\n",
       "      <th>row</th>\n",
       "      <th></th>\n",
       "      <th></th>\n",
       "      <th></th>\n",
       "      <th></th>\n",
       "      <th></th>\n",
       "      <th></th>\n",
       "      <th></th>\n",
       "    </tr>\n",
       "  </thead>\n",
       "  <tbody>\n",
       "    <tr>\n",
       "      <th>chr2:120793941-120793975:+</th>\n",
       "      <td>chr2:120793941-120793975:+</td>\n",
       "      <td>7.218073</td>\n",
       "      <td>2.602324</td>\n",
       "      <td>1.563306</td>\n",
       "      <td>1.664629</td>\n",
       "      <td>0.095987</td>\n",
       "      <td>0.997586</td>\n",
       "    </tr>\n",
       "    <tr>\n",
       "      <th>chr5:133519904-133519922:+</th>\n",
       "      <td>chr5:133519904-133519922:+</td>\n",
       "      <td>1.104110</td>\n",
       "      <td>2.808618</td>\n",
       "      <td>1.577755</td>\n",
       "      <td>1.780136</td>\n",
       "      <td>0.075054</td>\n",
       "      <td>0.997586</td>\n",
       "    </tr>\n",
       "    <tr>\n",
       "      <th>chr4:15883710-15883726:+</th>\n",
       "      <td>chr4:15883710-15883726:+</td>\n",
       "      <td>0.967210</td>\n",
       "      <td>2.652188</td>\n",
       "      <td>1.575876</td>\n",
       "      <td>1.682993</td>\n",
       "      <td>0.092377</td>\n",
       "      <td>0.997586</td>\n",
       "    </tr>\n",
       "    <tr>\n",
       "      <th>chrX:55184398-55184418:+</th>\n",
       "      <td>chrX:55184398-55184418:+</td>\n",
       "      <td>1.319271</td>\n",
       "      <td>3.058652</td>\n",
       "      <td>1.448228</td>\n",
       "      <td>2.111996</td>\n",
       "      <td>0.034687</td>\n",
       "      <td>0.997586</td>\n",
       "    </tr>\n",
       "    <tr>\n",
       "      <th>chr2:108825431-108825448:-</th>\n",
       "      <td>chr2:108825431-108825448:-</td>\n",
       "      <td>1.289241</td>\n",
       "      <td>2.994811</td>\n",
       "      <td>1.420320</td>\n",
       "      <td>2.108546</td>\n",
       "      <td>0.034984</td>\n",
       "      <td>0.997586</td>\n",
       "    </tr>\n",
       "  </tbody>\n",
       "</table>\n",
       "</div>"
      ],
      "text/plain": [
       "                                                   row  baseMean  \\\n",
       "row                                                                \n",
       "chr2:120793941-120793975:+  chr2:120793941-120793975:+  7.218073   \n",
       "chr5:133519904-133519922:+  chr5:133519904-133519922:+  1.104110   \n",
       "chr4:15883710-15883726:+      chr4:15883710-15883726:+  0.967210   \n",
       "chrX:55184398-55184418:+      chrX:55184398-55184418:+  1.319271   \n",
       "chr2:108825431-108825448:-  chr2:108825431-108825448:-  1.289241   \n",
       "\n",
       "                            log2FoldChange     lfcSE      stat    pvalue  \\\n",
       "row                                                                        \n",
       "chr2:120793941-120793975:+        2.602324  1.563306  1.664629  0.095987   \n",
       "chr5:133519904-133519922:+        2.808618  1.577755  1.780136  0.075054   \n",
       "chr4:15883710-15883726:+          2.652188  1.575876  1.682993  0.092377   \n",
       "chrX:55184398-55184418:+          3.058652  1.448228  2.111996  0.034687   \n",
       "chr2:108825431-108825448:-        2.994811  1.420320  2.108546  0.034984   \n",
       "\n",
       "                                padj  \n",
       "row                                   \n",
       "chr2:120793941-120793975:+  0.997586  \n",
       "chr5:133519904-133519922:+  0.997586  \n",
       "chr4:15883710-15883726:+    0.997586  \n",
       "chrX:55184398-55184418:+    0.997586  \n",
       "chr2:108825431-108825448:-  0.997586  "
      ]
     },
     "execution_count": 15,
     "metadata": {},
     "output_type": "execute_result"
    }
   ],
   "source": [
    "sig_res = dds_res[(dds_res[\"pvalue\"] <= 0.1) & (dds_res[\"log2FoldChange\"] >= 1)]\n",
    "sig_res = sig_res.set_index(\"row\", drop=False)\n",
    "print(sig_res.shape)\n",
    "sig_res.head()"
   ]
  },
  {
   "cell_type": "markdown",
   "metadata": {},
   "source": [
    "## HUMEC Filter"
   ]
  },
  {
   "cell_type": "code",
   "execution_count": 16,
   "metadata": {},
   "outputs": [
    {
     "data": {
      "text/plain": [
       "408011"
      ]
     },
     "execution_count": 16,
     "metadata": {},
     "output_type": "execute_result"
    }
   ],
   "source": [
    "humec_loci = set()\n",
    "for cell_line, loci_dict in sample_loci.items():\n",
    "    if \"HUMEC\" in cell_line:\n",
    "        humec_loci.update(loci_dict.keys())\n",
    "len(humec_loci)"
   ]
  },
  {
   "cell_type": "code",
   "execution_count": 17,
   "metadata": {},
   "outputs": [
    {
     "data": {
      "text/plain": [
       "812"
      ]
     },
     "execution_count": 17,
     "metadata": {},
     "output_type": "execute_result"
    }
   ],
   "source": [
    "humec_fil_sig_loci = set()\n",
    "for locus in sig_res[\"row\"]:\n",
    "    if locus not in humec_loci:\n",
    "        humec_fil_sig_loci.add(locus)\n",
    "len(humec_fil_sig_loci)"
   ]
  },
  {
   "cell_type": "markdown",
   "metadata": {},
   "source": [
    "With a more laxed pvalue cutoff, we get around 812 considered significant loci to work with. Let's save these loci and merge with our Fisher results for downstream analysis."
   ]
  },
  {
   "cell_type": "markdown",
   "metadata": {},
   "source": [
    "## Save Results"
   ]
  },
  {
   "cell_type": "code",
   "execution_count": 18,
   "metadata": {},
   "outputs": [],
   "source": [
    "with open(\"results/DESeq/cell_lines_sig_loci_deseq.bed\", \"wt\") as out:   \n",
    "    for locus in humec_fil_sig_loci:\n",
    "        splits = locus.split(\":\")\n",
    "        start = splits[1].split(\"-\")[0]\n",
    "        end = splits[1].split(\"-\")[1]\n",
    "        bed = f\"{splits[0]}\\t{start}\\t{end}\\t{locus}\\t.\\t{splits[-1]}\"\n",
    "        out.write(bed + \"\\n\")"
   ]
  },
  {
   "cell_type": "code",
   "execution_count": 19,
   "metadata": {},
   "outputs": [],
   "source": [
    "dds_res.to_csv(\"results/DESeq/dds_res.csv\")"
   ]
  },
  {
   "cell_type": "markdown",
   "metadata": {},
   "source": [
    "# Done"
   ]
  }
 ],
 "metadata": {
  "kernelspec": {
   "display_name": "Python [conda env:smRNA]",
   "language": "python",
   "name": "conda-env-smRNA-py"
  },
  "language_info": {
   "codemirror_mode": {
    "name": "ipython",
    "version": 3
   },
   "file_extension": ".py",
   "mimetype": "text/x-python",
   "name": "python",
   "nbconvert_exporter": "python",
   "pygments_lexer": "ipython3",
   "version": "3.7.4"
  }
 },
 "nbformat": 4,
 "nbformat_minor": 4
}
