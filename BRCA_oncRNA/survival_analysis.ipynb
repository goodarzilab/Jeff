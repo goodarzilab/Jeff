{
 "cells": [
  {
   "cell_type": "markdown",
   "metadata": {},
   "source": [
    "# Survival Analysis\n"
   ]
  },
  {
   "cell_type": "code",
   "execution_count": 1,
   "metadata": {},
   "outputs": [],
   "source": [
    "import pandas as pd\n",
    "import numpy as np\n",
    "import matplotlib.pyplot as plt\n",
    "from lifelines import KaplanMeierFitter\n",
    "from lifelines import CoxPHFitter\n",
    "from lifelines.statistics import multivariate_logrank_test\n",
    "import json as js\n",
    "from matplotlib.offsetbox import AnchoredText\n",
    "import matplotlib\n",
    "import warnings\n",
    "import warnings\n",
    "matplotlib.rcParams['pdf.fonttype'] = 42\n",
    "matplotlib.rcParams['ps.fonttype'] = 42"
   ]
  },
  {
   "cell_type": "markdown",
   "metadata": {},
   "source": [
    "## Load Metadata"
   ]
  },
  {
   "cell_type": "code",
   "execution_count": 2,
   "metadata": {},
   "outputs": [],
   "source": [
    "clinical = pd.read_csv(\"metadata/combined_study_clinical_data.tsv\", sep=\"\\t\",\n",
    "                      usecols=[\"Patient ID\", \"Sample ID\", \"Cancer Type Detailed\", \"Progression Free Status\", \"Progress Free Survival (Months)\",\n",
    "                              \"Disease Free (Months)\", \"Disease Free Status\", \"Overall Survival Status\", \"Overall Survival (Months)\"])\n",
    "\n",
    "clinical = clinical.set_index(\"Sample ID\")\n",
    "clinical = clinical[~clinical[\"Overall Survival Status\"].isna()]\n",
    "clinical = clinical[~clinical[\"Overall Survival (Months)\"].isna()]\n",
    "clinical_sample_id = list(clinical.index)"
   ]
  },
  {
   "cell_type": "code",
   "execution_count": 3,
   "metadata": {},
   "outputs": [
    {
     "name": "stdout",
     "output_type": "stream",
     "text": [
      "(1103, 5)\n"
     ]
    },
    {
     "data": {
      "text/html": [
       "<div>\n",
       "<style scoped>\n",
       "    .dataframe tbody tr th:only-of-type {\n",
       "        vertical-align: middle;\n",
       "    }\n",
       "\n",
       "    .dataframe tbody tr th {\n",
       "        vertical-align: top;\n",
       "    }\n",
       "\n",
       "    .dataframe thead th {\n",
       "        text-align: right;\n",
       "    }\n",
       "</style>\n",
       "<table border=\"1\" class=\"dataframe\">\n",
       "  <thead>\n",
       "    <tr style=\"text-align: right;\">\n",
       "      <th></th>\n",
       "      <th>UUID</th>\n",
       "      <th>TCGAbarcode</th>\n",
       "      <th>TSS</th>\n",
       "      <th>Sample</th>\n",
       "      <th>TCGA_abb</th>\n",
       "    </tr>\n",
       "    <tr>\n",
       "      <th>TCGAbarcode</th>\n",
       "      <th></th>\n",
       "      <th></th>\n",
       "      <th></th>\n",
       "      <th></th>\n",
       "      <th></th>\n",
       "    </tr>\n",
       "  </thead>\n",
       "  <tbody>\n",
       "    <tr>\n",
       "      <th>TCGA-AO-A03L-01A-41R-A057-13</th>\n",
       "      <td>cc403178-7aa9-47ce-b80b-1019be418539</td>\n",
       "      <td>TCGA-AO-A03L-01A-41R-A057-13</td>\n",
       "      <td>breast invasive carcinoma</td>\n",
       "      <td>primary solid tumor</td>\n",
       "      <td>BRCA</td>\n",
       "    </tr>\n",
       "    <tr>\n",
       "      <th>TCGA-A2-A0CM-01A-31R-A035-13</th>\n",
       "      <td>4bfa3f47-d0f3-456a-b50b-2c277a58346c</td>\n",
       "      <td>TCGA-A2-A0CM-01A-31R-A035-13</td>\n",
       "      <td>breast invasive carcinoma</td>\n",
       "      <td>primary solid tumor</td>\n",
       "      <td>BRCA</td>\n",
       "    </tr>\n",
       "    <tr>\n",
       "      <th>TCGA-E2-A3DX-01A-21R-A214-13</th>\n",
       "      <td>b6046325-0290-46a1-842d-f60820c8dbe8</td>\n",
       "      <td>TCGA-E2-A3DX-01A-21R-A214-13</td>\n",
       "      <td>breast invasive carcinoma</td>\n",
       "      <td>primary solid tumor</td>\n",
       "      <td>BRCA</td>\n",
       "    </tr>\n",
       "  </tbody>\n",
       "</table>\n",
       "</div>"
      ],
      "text/plain": [
       "                                                              UUID  \\\n",
       "TCGAbarcode                                                          \n",
       "TCGA-AO-A03L-01A-41R-A057-13  cc403178-7aa9-47ce-b80b-1019be418539   \n",
       "TCGA-A2-A0CM-01A-31R-A035-13  4bfa3f47-d0f3-456a-b50b-2c277a58346c   \n",
       "TCGA-E2-A3DX-01A-21R-A214-13  b6046325-0290-46a1-842d-f60820c8dbe8   \n",
       "\n",
       "                                               TCGAbarcode  \\\n",
       "TCGAbarcode                                                  \n",
       "TCGA-AO-A03L-01A-41R-A057-13  TCGA-AO-A03L-01A-41R-A057-13   \n",
       "TCGA-A2-A0CM-01A-31R-A035-13  TCGA-A2-A0CM-01A-31R-A035-13   \n",
       "TCGA-E2-A3DX-01A-21R-A214-13  TCGA-E2-A3DX-01A-21R-A214-13   \n",
       "\n",
       "                                                    TSS               Sample  \\\n",
       "TCGAbarcode                                                                    \n",
       "TCGA-AO-A03L-01A-41R-A057-13  breast invasive carcinoma  primary solid tumor   \n",
       "TCGA-A2-A0CM-01A-31R-A035-13  breast invasive carcinoma  primary solid tumor   \n",
       "TCGA-E2-A3DX-01A-21R-A214-13  breast invasive carcinoma  primary solid tumor   \n",
       "\n",
       "                             TCGA_abb  \n",
       "TCGAbarcode                            \n",
       "TCGA-AO-A03L-01A-41R-A057-13     BRCA  \n",
       "TCGA-A2-A0CM-01A-31R-A035-13     BRCA  \n",
       "TCGA-E2-A3DX-01A-21R-A214-13     BRCA  "
      ]
     },
     "execution_count": 3,
     "metadata": {},
     "output_type": "execute_result"
    }
   ],
   "source": [
    "tcga_metadata = pd.read_csv(\"metadata/TCGA_metadata.csv\")\n",
    "brca_metadata = tcga_metadata[(tcga_metadata[\"TSS\"] == \"breast invasive carcinoma\") & (~tcga_metadata[\"Sample\"].str.contains(\"normal\"))]\n",
    "brca_metadata = brca_metadata.set_index(\"TCGAbarcode\", drop = False)\n",
    "print(brca_metadata.shape)\n",
    "brca_metadata.head(3)"
   ]
  },
  {
   "cell_type": "markdown",
   "metadata": {},
   "source": [
    "## Load Counts"
   ]
  },
  {
   "cell_type": "code",
   "execution_count": 4,
   "metadata": {},
   "outputs": [],
   "source": [
    "with open('data/counts/brca_sig_cell_lines_loci.json', 'r') as f:\n",
    "    brca_sample_loci = js.load(f)\n",
    "    f.close()\n",
    "with open('data/counts/brca_cpm_map.json', 'r') as f:\n",
    "    brca_cpm_map = js.load(f)\n",
    "    f.close()"
   ]
  },
  {
   "cell_type": "markdown",
   "metadata": {},
   "source": [
    "# Load significant overlaps\n"
   ]
  },
  {
   "cell_type": "code",
   "execution_count": 5,
   "metadata": {},
   "outputs": [
    {
     "data": {
      "text/plain": [
       "0         chr6:27815103-27815138:+\n",
       "1         chr7:13735449-13735471:-\n",
       "2         chr7:29921213-29921331:-\n",
       "3       chr9:126496950-126496971:-\n",
       "4      chr11:112396454-112396473:+\n",
       "                  ...             \n",
       "108       chr1:84497400-84497524:+\n",
       "109       chr9:14613887-14613949:-\n",
       "110      chr12:11171716-11171829:+\n",
       "111     chr2:111153783-111153820:+\n",
       "112     chr1:226365958-226366045:-\n",
       "Name: 3, Length: 113, dtype: object"
      ]
     },
     "execution_count": 5,
     "metadata": {},
     "output_type": "execute_result"
    }
   ],
   "source": [
    "sig_loci= pd.read_csv(\"results/thresholded_oncRNAs.bed\", header=None, sep=\"\\t\")[3]\n",
    "sig_loci"
   ]
  },
  {
   "cell_type": "markdown",
   "metadata": {},
   "source": [
    "## Create RNA Expression Matrix"
   ]
  },
  {
   "cell_type": "code",
   "execution_count": 6,
   "metadata": {},
   "outputs": [],
   "source": [
    "brca_exp_data = np.zeros((1103, 113))\n",
    "i = 0\n",
    "for sample in brca_metadata[\"TCGAbarcode\"]:\n",
    "    j = 0\n",
    "    for rna in sig_loci:\n",
    "        if rna in brca_sample_loci[sample]:\n",
    "            brca_exp_data[i,j] = brca_sample_loci[sample][rna] * brca_cpm_map[sample] #Exp data; cpm normalized.\n",
    "        j += 1\n",
    "    i += 1 "
   ]
  },
  {
   "cell_type": "code",
   "execution_count": 7,
   "metadata": {},
   "outputs": [],
   "source": [
    "brca_df = pd.DataFrame(brca_exp_data, columns=sig_loci, index=brca_metadata[\"TCGAbarcode\"])\n",
    "brca_df[\"Patient ID\"] = [_id[:15] for _id in brca_df.index]\n",
    "brca_df = brca_df.reset_index().rename(columns={\"index\":\"TCGAbarcode\"})"
   ]
  },
  {
   "cell_type": "code",
   "execution_count": 8,
   "metadata": {},
   "outputs": [],
   "source": [
    "clinical_sample_id = list(clinical.index)\n",
    "#Clinical data for cancer\n",
    "match_id = [_id for _id in clinical_sample_id if _id in brca_df[\"Patient ID\"].values]\n",
    "cancer_clinical = clinical.loc[match_id, [\"Overall Survival Status\", \"Overall Survival (Months)\"]]\n",
    "cancer_clinical[\"E\"] = cancer_clinical[\"Overall Survival Status\"].apply(lambda x: 1 if x == \"DECEASED\" else 0)\n",
    "cancer_clinical[\"T\"] = cancer_clinical[\"Overall Survival (Months)\"].apply(lambda x: x/12)\n",
    "cancer_clinical[\"T\"] = cancer_clinical[\"T\"].clip(upper=10) #Clip max 10 years"
   ]
  },
  {
   "cell_type": "code",
   "execution_count": 9,
   "metadata": {},
   "outputs": [
    {
     "name": "stdout",
     "output_type": "stream",
     "text": [
      "(1081, 119)\n"
     ]
    },
    {
     "data": {
      "text/html": [
       "<div>\n",
       "<style scoped>\n",
       "    .dataframe tbody tr th:only-of-type {\n",
       "        vertical-align: middle;\n",
       "    }\n",
       "\n",
       "    .dataframe tbody tr th {\n",
       "        vertical-align: top;\n",
       "    }\n",
       "\n",
       "    .dataframe thead th {\n",
       "        text-align: right;\n",
       "    }\n",
       "</style>\n",
       "<table border=\"1\" class=\"dataframe\">\n",
       "  <thead>\n",
       "    <tr style=\"text-align: right;\">\n",
       "      <th></th>\n",
       "      <th>TCGAbarcode</th>\n",
       "      <th>chr6:27815103-27815138:+</th>\n",
       "      <th>chr7:13735449-13735471:-</th>\n",
       "      <th>chr7:29921213-29921331:-</th>\n",
       "      <th>chr9:126496950-126496971:-</th>\n",
       "      <th>chr11:112396454-112396473:+</th>\n",
       "      <th>chr12:71664021-71664096:+</th>\n",
       "      <th>chr16:48178002-48178029:-</th>\n",
       "      <th>chr17:38604595-38604621:-</th>\n",
       "      <th>chr20:48679752-48679775:-</th>\n",
       "      <th>...</th>\n",
       "      <th>chr1:84497400-84497524:+</th>\n",
       "      <th>chr9:14613887-14613949:-</th>\n",
       "      <th>chr12:11171716-11171829:+</th>\n",
       "      <th>chr2:111153783-111153820:+</th>\n",
       "      <th>chr1:226365958-226366045:-</th>\n",
       "      <th>Patient ID</th>\n",
       "      <th>Overall Survival Status</th>\n",
       "      <th>Overall Survival (Months)</th>\n",
       "      <th>E</th>\n",
       "      <th>T</th>\n",
       "    </tr>\n",
       "  </thead>\n",
       "  <tbody>\n",
       "    <tr>\n",
       "      <th>0</th>\n",
       "      <td>TCGA-AO-A03L-01A-41R-A057-13</td>\n",
       "      <td>0.542352</td>\n",
       "      <td>0.0</td>\n",
       "      <td>0.0</td>\n",
       "      <td>0.0</td>\n",
       "      <td>0.0</td>\n",
       "      <td>0.0</td>\n",
       "      <td>0.0</td>\n",
       "      <td>3.254112</td>\n",
       "      <td>0.0</td>\n",
       "      <td>...</td>\n",
       "      <td>0.0</td>\n",
       "      <td>0.000000</td>\n",
       "      <td>0.0</td>\n",
       "      <td>0.000000</td>\n",
       "      <td>0.0</td>\n",
       "      <td>TCGA-AO-A03L-01</td>\n",
       "      <td>LIVING</td>\n",
       "      <td>80.284052</td>\n",
       "      <td>0</td>\n",
       "      <td>6.690338</td>\n",
       "    </tr>\n",
       "    <tr>\n",
       "      <th>1</th>\n",
       "      <td>TCGA-A2-A0CM-01A-31R-A035-13</td>\n",
       "      <td>0.000000</td>\n",
       "      <td>0.0</td>\n",
       "      <td>0.0</td>\n",
       "      <td>0.0</td>\n",
       "      <td>0.0</td>\n",
       "      <td>0.0</td>\n",
       "      <td>0.0</td>\n",
       "      <td>0.000000</td>\n",
       "      <td>0.0</td>\n",
       "      <td>...</td>\n",
       "      <td>0.0</td>\n",
       "      <td>0.593813</td>\n",
       "      <td>0.0</td>\n",
       "      <td>0.593813</td>\n",
       "      <td>0.0</td>\n",
       "      <td>TCGA-A2-A0CM-01</td>\n",
       "      <td>DECEASED</td>\n",
       "      <td>24.788769</td>\n",
       "      <td>1</td>\n",
       "      <td>2.065731</td>\n",
       "    </tr>\n",
       "    <tr>\n",
       "      <th>2</th>\n",
       "      <td>TCGA-E2-A3DX-01A-21R-A214-13</td>\n",
       "      <td>0.000000</td>\n",
       "      <td>0.0</td>\n",
       "      <td>0.0</td>\n",
       "      <td>0.0</td>\n",
       "      <td>0.0</td>\n",
       "      <td>0.0</td>\n",
       "      <td>0.0</td>\n",
       "      <td>0.000000</td>\n",
       "      <td>0.0</td>\n",
       "      <td>...</td>\n",
       "      <td>0.0</td>\n",
       "      <td>0.000000</td>\n",
       "      <td>0.0</td>\n",
       "      <td>0.000000</td>\n",
       "      <td>0.0</td>\n",
       "      <td>TCGA-E2-A3DX-01</td>\n",
       "      <td>LIVING</td>\n",
       "      <td>43.561166</td>\n",
       "      <td>0</td>\n",
       "      <td>3.630097</td>\n",
       "    </tr>\n",
       "  </tbody>\n",
       "</table>\n",
       "<p>3 rows × 119 columns</p>\n",
       "</div>"
      ],
      "text/plain": [
       "                    TCGAbarcode  chr6:27815103-27815138:+  \\\n",
       "0  TCGA-AO-A03L-01A-41R-A057-13                  0.542352   \n",
       "1  TCGA-A2-A0CM-01A-31R-A035-13                  0.000000   \n",
       "2  TCGA-E2-A3DX-01A-21R-A214-13                  0.000000   \n",
       "\n",
       "   chr7:13735449-13735471:-  chr7:29921213-29921331:-  \\\n",
       "0                       0.0                       0.0   \n",
       "1                       0.0                       0.0   \n",
       "2                       0.0                       0.0   \n",
       "\n",
       "   chr9:126496950-126496971:-  chr11:112396454-112396473:+  \\\n",
       "0                         0.0                          0.0   \n",
       "1                         0.0                          0.0   \n",
       "2                         0.0                          0.0   \n",
       "\n",
       "   chr12:71664021-71664096:+  chr16:48178002-48178029:-  \\\n",
       "0                        0.0                        0.0   \n",
       "1                        0.0                        0.0   \n",
       "2                        0.0                        0.0   \n",
       "\n",
       "   chr17:38604595-38604621:-  chr20:48679752-48679775:-  ...  \\\n",
       "0                   3.254112                        0.0  ...   \n",
       "1                   0.000000                        0.0  ...   \n",
       "2                   0.000000                        0.0  ...   \n",
       "\n",
       "   chr1:84497400-84497524:+  chr9:14613887-14613949:-  \\\n",
       "0                       0.0                  0.000000   \n",
       "1                       0.0                  0.593813   \n",
       "2                       0.0                  0.000000   \n",
       "\n",
       "   chr12:11171716-11171829:+  chr2:111153783-111153820:+  \\\n",
       "0                        0.0                    0.000000   \n",
       "1                        0.0                    0.593813   \n",
       "2                        0.0                    0.000000   \n",
       "\n",
       "   chr1:226365958-226366045:-       Patient ID  Overall Survival Status  \\\n",
       "0                         0.0  TCGA-AO-A03L-01                   LIVING   \n",
       "1                         0.0  TCGA-A2-A0CM-01                 DECEASED   \n",
       "2                         0.0  TCGA-E2-A3DX-01                   LIVING   \n",
       "\n",
       "   Overall Survival (Months)  E         T  \n",
       "0                  80.284052  0  6.690338  \n",
       "1                  24.788769  1  2.065731  \n",
       "2                  43.561166  0  3.630097  \n",
       "\n",
       "[3 rows x 119 columns]"
      ]
     },
     "execution_count": 9,
     "metadata": {},
     "output_type": "execute_result"
    }
   ],
   "source": [
    "brca_final = brca_df.merge(cancer_clinical, how=\"inner\", left_on=\"Patient ID\", right_index=True)\n",
    "print(brca_final.shape)\n",
    "brca_final.head(3)"
   ]
  },
  {
   "cell_type": "markdown",
   "metadata": {},
   "source": [
    "# Thresholding for Survival"
   ]
  },
  {
   "cell_type": "code",
   "execution_count": 10,
   "metadata": {},
   "outputs": [
    {
     "data": {
      "text/plain": [
       "23"
      ]
     },
     "execution_count": 10,
     "metadata": {},
     "output_type": "execute_result"
    }
   ],
   "source": [
    "warnings.filterwarnings('ignore')\n",
    "surv_sig_loci = []\n",
    "surv_sig_th = []\n",
    "for rna in sig_loci:\n",
    "    sorted_exp = np.sort(brca_final[rna])\n",
    "    initial_th_index = np.nonzero(sorted_exp)[0][0] #Start from first nonzero\n",
    "    for i in range(initial_th_index, 1031): #Range ensures we have at least 50 samples considered as high expression in stratification.\n",
    "        th = sorted_exp[i]\n",
    "        groups = []\n",
    "        for exp in brca_final[rna]:\n",
    "            if exp >= th:\n",
    "                groups.append(\"High\")\n",
    "            else:\n",
    "                groups.append(\"Low\")\n",
    "                \n",
    "        test = pd.DataFrame(brca_final[\"T\"])\n",
    "        test[\"E\"] = pd.DataFrame(brca_final[\"E\"])\n",
    "        test[rna] = groups\n",
    "        test_res = multivariate_logrank_test(test['T'], test[rna], test['E'])\n",
    "        if test_res.p_value <= 0.05:          \n",
    "            surv_sig_loci.append(rna)\n",
    "            surv_sig_th.append(th)\n",
    "            break\n",
    "len(surv_sig_loci)"
   ]
  },
  {
   "cell_type": "code",
   "execution_count": 12,
   "metadata": {},
   "outputs": [],
   "source": [
    "T = brca_final[\"T\"].copy()\n",
    "E = brca_final[\"E\"].copy()"
   ]
  },
  {
   "cell_type": "markdown",
   "metadata": {},
   "source": [
    "## RNA 1"
   ]
  },
  {
   "cell_type": "code",
   "execution_count": 13,
   "metadata": {},
   "outputs": [
    {
     "name": "stdout",
     "output_type": "stream",
     "text": [
      "154\n"
     ]
    },
    {
     "data": {
      "image/png": "[encoded data removed]",
      "text/plain": [
       "<Figure size 720x720 with 1 Axes>"
      ]
     },
     "metadata": {
      "needs_background": "light"
     },
     "output_type": "display_data"
    }
   ],
   "source": [
    "kmf = KaplanMeierFitter()\n",
    "thresh = surv_sig_th[0]\n",
    "thresh = 0.13\n",
    "\n",
    "rna = surv_sig_loci[0]\n",
    "\n",
    "i1 = brca_final[rna] >= thresh\n",
    "i2 = brca_final[rna] < thresh\n",
    "\n",
    "kmf.fit(T[i1], E[i1], label=f'High n={sum(i1)}')\n",
    "fig = plt.figure(figsize=(10,10))\n",
    "ax = kmf.plot(ci_show=False)\n",
    "kmf.fit(T[i2], E[i2], label=f'Low n={sum(i2)}')\n",
    "ax = kmf.plot(ax=ax, ci_show=False)\n",
    "plt.title(f\"BRCA oncRNA Survival Curve: {rna}\")\n",
    "plt.ylim(0,1.1)\n",
    "plt.xlim(0,10)\n",
    "\n",
    "groups = []\n",
    "for exp in brca_final[rna]:\n",
    "    if exp >= thresh:\n",
    "        groups.append(\"High\")\n",
    "    else:\n",
    "        groups.append(\"Low\")       \n",
    "test = pd.DataFrame(brca_final[\"T\"])\n",
    "test[\"E\"] = pd.DataFrame(brca_final[\"E\"])\n",
    "test[rna] = groups\n",
    "test_res = multivariate_logrank_test(test['T'], test[rna], test['E'])\n",
    "test_res.summary\n",
    "\n",
    "plt.plot([], [], ' ', label=f\"Log rank test pval={round(test_res.p_value, 4)}\")\n",
    "plt.plot([], [], ' ', label=f\"Thresh={round(thresh, 4)}\")\n",
    "plt.legend()\n",
    "print(sum(brca_final[rna] != 0))"
   ]
  },
  {
   "cell_type": "markdown",
   "metadata": {},
   "source": [
    "# RNA 2"
   ]
  },
  {
   "cell_type": "code",
   "execution_count": 14,
   "metadata": {},
   "outputs": [
    {
     "name": "stdout",
     "output_type": "stream",
     "text": [
      "269\n"
     ]
    },
    {
     "data": {
      "image/png": "[encoded data removed]",
      "text/plain": [
       "<Figure size 720x720 with 1 Axes>"
      ]
     },
     "metadata": {
      "needs_background": "light"
     },
     "output_type": "display_data"
    }
   ],
   "source": [
    "kmf = KaplanMeierFitter()\n",
    "thresh = surv_sig_th[1]\n",
    "rna = surv_sig_loci[1]\n",
    "thresh = 0.3\n",
    "\n",
    "\n",
    "i1 = brca_final[rna] >= thresh\n",
    "i2 = brca_final[rna] < thresh\n",
    "\n",
    "kmf.fit(T[i1], E[i1], label=f'High n={sum(i1)}')\n",
    "fig = plt.figure(figsize=(10,10))\n",
    "ax = kmf.plot(ci_show=False)\n",
    "kmf.fit(T[i2], E[i2], label=f'Low n={sum(i2)}')\n",
    "ax = kmf.plot(ax=ax, ci_show=False)\n",
    "plt.title(f\"BRCA oncRNA Survival Curve: {rna}\")\n",
    "plt.ylim(0,1.1)\n",
    "plt.xlim(0,10)\n",
    "\n",
    "groups = []\n",
    "for exp in brca_final[rna]:\n",
    "    if exp >= thresh:\n",
    "        groups.append(\"High\")\n",
    "    else:\n",
    "        groups.append(\"Low\")       \n",
    "test = pd.DataFrame(brca_final[\"T\"])\n",
    "test[\"E\"] = pd.DataFrame(brca_final[\"E\"])\n",
    "test[rna] = groups\n",
    "test_res = multivariate_logrank_test(test['T'], test[rna], test['E'])\n",
    "test_res.summary\n",
    "\n",
    "plt.plot([], [], ' ', label=f\"Log rank test pval={round(test_res.p_value, 4)}\")\n",
    "plt.plot([], [], ' ', label=f\"Thresh={round(thresh, 4)}\")\n",
    "plt.legend()\n",
    "print(sum(brca_final[rna] != 0))"
   ]
  },
  {
   "cell_type": "markdown",
   "metadata": {},
   "source": [
    "# RNA 3"
   ]
  },
  {
   "cell_type": "code",
   "execution_count": 15,
   "metadata": {},
   "outputs": [
    {
     "name": "stdout",
     "output_type": "stream",
     "text": [
      "278\n"
     ]
    },
    {
     "data": {
      "image/png": "[encoded data removed]",
      "text/plain": [
       "<Figure size 720x720 with 1 Axes>"
      ]
     },
     "metadata": {
      "needs_background": "light"
     },
     "output_type": "display_data"
    }
   ],
   "source": [
    "kmf = KaplanMeierFitter()\n",
    "thresh = surv_sig_th[9]\n",
    "rna = surv_sig_loci[9]\n",
    "\n",
    "i1 = brca_final[rna] >= thresh\n",
    "i2 = brca_final[rna] < thresh\n",
    "\n",
    "kmf.fit(T[i1], E[i1], label=f'High n={sum(i1)}')\n",
    "fig = plt.figure(figsize=(10,10))\n",
    "ax = kmf.plot(ci_show=False)\n",
    "kmf.fit(T[i2], E[i2], label=f'Low n={sum(i2)}')\n",
    "ax = kmf.plot(ax=ax, ci_show=False)\n",
    "plt.title(f\"BRCA oncRNA Survival Curve: {rna}\")\n",
    "plt.ylim(0,1.1)\n",
    "plt.xlim(0,10)\n",
    "\n",
    "groups = []\n",
    "for exp in brca_final[rna]:\n",
    "    if exp >= thresh:\n",
    "        groups.append(\"High\")\n",
    "    else:\n",
    "        groups.append(\"Low\")       \n",
    "test = pd.DataFrame(brca_final[\"T\"])\n",
    "test[\"E\"] = pd.DataFrame(brca_final[\"E\"])\n",
    "test[rna] = groups\n",
    "test_res = multivariate_logrank_test(test['T'], test[rna], test['E'])\n",
    "test_res.summary\n",
    "\n",
    "plt.plot([], [], ' ', label=f\"Log rank test pval={round(test_res.p_value, 4)}\")\n",
    "plt.plot([], [], ' ', label=f\"Thresh={round(thresh, 4)}\")\n",
    "plt.legend()\n",
    "print(sum(brca_final[rna] != 0))"
   ]
  },
  {
   "cell_type": "markdown",
   "metadata": {},
   "source": [
    "# RNA 4"
   ]
  },
  {
   "cell_type": "code",
   "execution_count": 21,
   "metadata": {},
   "outputs": [
    {
     "name": "stdout",
     "output_type": "stream",
     "text": [
      "278\n"
     ]
    },
    {
     "data": {
      "image/png": "[encoded data removed]",
      "text/plain": [
       "<Figure size 720x720 with 1 Axes>"
      ]
     },
     "metadata": {
      "needs_background": "light"
     },
     "output_type": "display_data"
    }
   ],
   "source": [
    "kmf = KaplanMeierFitter()\n",
    "thresh = surv_sig_th[9]\n",
    "rna = surv_sig_loci[9]\n",
    "\n",
    "i1 = brca_final[rna] >= thresh\n",
    "i2 = brca_final[rna] < thresh\n",
    "\n",
    "kmf.fit(T[i1], E[i1], label=f'High n={sum(i1)}')\n",
    "fig = plt.figure(figsize=(10,10))\n",
    "ax = kmf.plot(ci_show=False)\n",
    "kmf.fit(T[i2], E[i2], label=f'Low n={sum(i2)}')\n",
    "ax = kmf.plot(ax=ax, ci_show=False)\n",
    "plt.title(f\"BRCA oncRNA Survival Curve: {rna}\")\n",
    "plt.ylim(0,1.1)\n",
    "plt.xlim(0,10)\n",
    "\n",
    "groups = []\n",
    "for exp in brca_final[rna]:\n",
    "    if exp >= thresh:\n",
    "        groups.append(\"High\")\n",
    "    else:\n",
    "        groups.append(\"Low\")       \n",
    "test = pd.DataFrame(brca_final[\"T\"])\n",
    "test[\"E\"] = pd.DataFrame(brca_final[\"E\"])\n",
    "test[rna] = groups\n",
    "test_res = multivariate_logrank_test(test['T'], test[rna], test['E'])\n",
    "test_res.summary\n",
    "\n",
    "plt.plot([], [], ' ', label=f\"Log rank test pval={round(test_res.p_value, 4)}\")\n",
    "plt.plot([], [], ' ', label=f\"Thresh={round(thresh, 4)}\")\n",
    "plt.legend()\n",
    "print(sum(brca_final[rna] != 0))\n"
   ]
  },
  {
   "cell_type": "markdown",
   "metadata": {},
   "source": [
    "# Conclusion\n",
    "Here we see that there are oncRNAs that can are significantly associated with poor survival when used to stratify BRCA patients. None of the differentialy expressed oncRNAs identified in the metastatic cell lines were found to be associated with poorer survival."
   ]
  }
 ],
 "metadata": {
  "kernelspec": {
   "display_name": "Python [conda env:smRNA]",
   "language": "python",
   "name": "conda-env-smRNA-py"
  },
  "language_info": {
   "codemirror_mode": {
    "name": "ipython",
    "version": 3
   },
   "file_extension": ".py",
   "mimetype": "text/x-python",
   "name": "python",
   "nbconvert_exporter": "python",
   "pygments_lexer": "ipython3",
   "version": "3.7.4"
  }
 },
 "nbformat": 4,
 "nbformat_minor": 4
}
