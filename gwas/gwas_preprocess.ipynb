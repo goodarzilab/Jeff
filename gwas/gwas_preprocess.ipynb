{
 "cells": [
  {
   "cell_type": "markdown",
   "metadata": {},
   "source": [
    "# UKBiobank GWAS Preprocessing\n",
    "Here we accomplish all the preprocessing steps for our GWAS analysis. <br>\n",
    "I will be using plink to conduct our basic preprocessing steps.\n",
    "<br>\n",
    "Our genotype data was downloaded using UKBiobank's `gfetch` tool for bed and fam data. The bim files were downloaded from the web and uncompressed via terminal."
   ]
  },
  {
   "cell_type": "code",
   "execution_count": 1,
   "metadata": {},
   "outputs": [],
   "source": [
    "import pandas as pd\n",
    "import numpy as np"
   ]
  },
  {
   "cell_type": "markdown",
   "metadata": {},
   "source": [
    "# Data\n",
    "Understanding GWAS data. In our data directory we have 3 main file types separated by chromosome: `.bed`, `.bim` and `.fam` files. <br>\n",
    "\n",
    "### BED\n",
    "`.bed` file is the binary encoded PED file, where each line corresponds to a sample, which contains the family ID, individual ID, paternal ID, maternal ID, sex (1 for male, 2 for female), and phenotype in the first 6 columns. The remaining columns are the SNP data.\n",
    "<br>"
   ]
  },
  {
   "cell_type": "markdown",
   "metadata": {},
   "source": [
    "### FAM\n",
    "`.fam` file contains the same information as the first 6 columns of the `.bed` file in non-binary format. **For example**: <br>"
   ]
  },
  {
   "cell_type": "code",
   "execution_count": 2,
   "metadata": {},
   "outputs": [
    {
     "name": "stdout",
     "output_type": "stream",
     "text": [
      "1123282 1123282 0 0 1 Batch_b001\n",
      "4183264 4183264 0 0 2 Batch_b001\n",
      "4087767 4087767 0 0 2 Batch_b001\n",
      "5528041 5528041 0 0 2 Batch_b001\n",
      "5705948 5705948 0 0 2 Batch_b001\n",
      "2717517 2717517 0 0 1 Batch_b001\n",
      "1116903 1116903 0 0 2 Batch_b001\n",
      "3899174 3899174 0 0 2 Batch_b001\n",
      "2482884 2482884 0 0 1 Batch_b001\n",
      "1083504 1083504 0 0 2 Batch_b001\n"
     ]
    }
   ],
   "source": [
    "!head data/ukb22418_c1_b0_v2_s488248.fam"
   ]
  },
  {
   "cell_type": "markdown",
   "metadata": {},
   "source": [
    "### BIM\n",
    "In the `.bim` file, each line represents one SNP. The columns contain, in order, information on the corresponding chromosome, SNP identifier, genetic distance in morgans (optional), SNP position, and two alleles of the SNP in the last two columns. **For example**:"
   ]
  },
  {
   "cell_type": "code",
   "execution_count": 3,
   "metadata": {},
   "outputs": [
    {
     "name": "stdout",
     "output_type": "stream",
     "text": [
      "1\trs28659788\t0\t723307\tC\tG\n",
      "1\trs116587930\t0\t727841\tG\tA\n",
      "1\trs116720794\t0\t729632\tC\tT\n",
      "1\trs3131972\t0\t752721\tA\tG\n",
      "1\trs12184325\t0\t754105\tC\tT\n",
      "1\trs3131962\t0\t756604\tA\tG\n",
      "1\trs114525117\t0\t759036\tG\tA\n",
      "1\trs3115850\t0\t761147\tT\tC\n",
      "1\trs115991721\t0\t767096\tA\tG\n",
      "1\trs12562034\t0\t768448\tG\tA\n"
     ]
    }
   ],
   "source": [
    "!head data/ukb_snp_chr1_v2.bim"
   ]
  },
  {
   "cell_type": "code",
   "execution_count": 4,
   "metadata": {},
   "outputs": [
    {
     "data": {
      "text/html": [
       "<div>\n",
       "<style scoped>\n",
       "    .dataframe tbody tr th:only-of-type {\n",
       "        vertical-align: middle;\n",
       "    }\n",
       "\n",
       "    .dataframe tbody tr th {\n",
       "        vertical-align: top;\n",
       "    }\n",
       "\n",
       "    .dataframe thead th {\n",
       "        text-align: right;\n",
       "    }\n",
       "</style>\n",
       "<table border=\"1\" class=\"dataframe\">\n",
       "  <thead>\n",
       "    <tr style=\"text-align: right;\">\n",
       "      <th></th>\n",
       "      <th>0</th>\n",
       "      <th>1</th>\n",
       "      <th>2</th>\n",
       "      <th>3</th>\n",
       "      <th>4</th>\n",
       "      <th>5</th>\n",
       "    </tr>\n",
       "  </thead>\n",
       "  <tbody>\n",
       "    <tr>\n",
       "      <th>0</th>\n",
       "      <td>1123282</td>\n",
       "      <td>1123282</td>\n",
       "      <td>0</td>\n",
       "      <td>0</td>\n",
       "      <td>1</td>\n",
       "      <td>Batch_b001</td>\n",
       "    </tr>\n",
       "    <tr>\n",
       "      <th>1</th>\n",
       "      <td>4183264</td>\n",
       "      <td>4183264</td>\n",
       "      <td>0</td>\n",
       "      <td>0</td>\n",
       "      <td>2</td>\n",
       "      <td>Batch_b001</td>\n",
       "    </tr>\n",
       "    <tr>\n",
       "      <th>2</th>\n",
       "      <td>4087767</td>\n",
       "      <td>4087767</td>\n",
       "      <td>0</td>\n",
       "      <td>0</td>\n",
       "      <td>2</td>\n",
       "      <td>Batch_b001</td>\n",
       "    </tr>\n",
       "    <tr>\n",
       "      <th>3</th>\n",
       "      <td>5528041</td>\n",
       "      <td>5528041</td>\n",
       "      <td>0</td>\n",
       "      <td>0</td>\n",
       "      <td>2</td>\n",
       "      <td>Batch_b001</td>\n",
       "    </tr>\n",
       "    <tr>\n",
       "      <th>4</th>\n",
       "      <td>5705948</td>\n",
       "      <td>5705948</td>\n",
       "      <td>0</td>\n",
       "      <td>0</td>\n",
       "      <td>2</td>\n",
       "      <td>Batch_b001</td>\n",
       "    </tr>\n",
       "    <tr>\n",
       "      <th>...</th>\n",
       "      <td>...</td>\n",
       "      <td>...</td>\n",
       "      <td>...</td>\n",
       "      <td>...</td>\n",
       "      <td>...</td>\n",
       "      <td>...</td>\n",
       "    </tr>\n",
       "    <tr>\n",
       "      <th>488372</th>\n",
       "      <td>3790691</td>\n",
       "      <td>3790691</td>\n",
       "      <td>0</td>\n",
       "      <td>0</td>\n",
       "      <td>2</td>\n",
       "      <td>UKBiLEVEAX_b11</td>\n",
       "    </tr>\n",
       "    <tr>\n",
       "      <th>488373</th>\n",
       "      <td>4960183</td>\n",
       "      <td>4960183</td>\n",
       "      <td>0</td>\n",
       "      <td>0</td>\n",
       "      <td>2</td>\n",
       "      <td>UKBiLEVEAX_b11</td>\n",
       "    </tr>\n",
       "    <tr>\n",
       "      <th>488374</th>\n",
       "      <td>3174069</td>\n",
       "      <td>3174069</td>\n",
       "      <td>0</td>\n",
       "      <td>0</td>\n",
       "      <td>1</td>\n",
       "      <td>UKBiLEVEAX_b11</td>\n",
       "    </tr>\n",
       "    <tr>\n",
       "      <th>488375</th>\n",
       "      <td>2426240</td>\n",
       "      <td>2426240</td>\n",
       "      <td>0</td>\n",
       "      <td>0</td>\n",
       "      <td>2</td>\n",
       "      <td>UKBiLEVEAX_b11</td>\n",
       "    </tr>\n",
       "    <tr>\n",
       "      <th>488376</th>\n",
       "      <td>2897925</td>\n",
       "      <td>2897925</td>\n",
       "      <td>0</td>\n",
       "      <td>0</td>\n",
       "      <td>1</td>\n",
       "      <td>UKBiLEVEAX_b11</td>\n",
       "    </tr>\n",
       "  </tbody>\n",
       "</table>\n",
       "<p>488377 rows × 6 columns</p>\n",
       "</div>"
      ],
      "text/plain": [
       "              0        1  2  3  4               5\n",
       "0       1123282  1123282  0  0  1      Batch_b001\n",
       "1       4183264  4183264  0  0  2      Batch_b001\n",
       "2       4087767  4087767  0  0  2      Batch_b001\n",
       "3       5528041  5528041  0  0  2      Batch_b001\n",
       "4       5705948  5705948  0  0  2      Batch_b001\n",
       "...         ...      ... .. .. ..             ...\n",
       "488372  3790691  3790691  0  0  2  UKBiLEVEAX_b11\n",
       "488373  4960183  4960183  0  0  2  UKBiLEVEAX_b11\n",
       "488374  3174069  3174069  0  0  1  UKBiLEVEAX_b11\n",
       "488375  2426240  2426240  0  0  2  UKBiLEVEAX_b11\n",
       "488376  2897925  2897925  0  0  1  UKBiLEVEAX_b11\n",
       "\n",
       "[488377 rows x 6 columns]"
      ]
     },
     "execution_count": 4,
     "metadata": {},
     "output_type": "execute_result"
    }
   ],
   "source": [
    "chr1 = pd.read_csv(\"data/ukb22418_c1_b0_v2_s488248.fam\", header=None, sep=\"\\s\", engine=\"python\")\n",
    "chr1"
   ]
  },
  {
   "cell_type": "markdown",
   "metadata": {},
   "source": [
    "### Phenotype\n",
    "Last is our phenotype data. <br>\n",
    "In general phenotype data is stored in a separate `.txt` file containing 3 columns with one row per individual: <br>\n",
    "* Family ID\n",
    "* Individual ID\n",
    "* Phenotype \n",
    "\n",
    "Columns are separated by white space (\\s)"
   ]
  },
  {
   "cell_type": "code",
   "execution_count": 5,
   "metadata": {},
   "outputs": [
    {
     "data": {
      "text/html": [
       "<div>\n",
       "<style scoped>\n",
       "    .dataframe tbody tr th:only-of-type {\n",
       "        vertical-align: middle;\n",
       "    }\n",
       "\n",
       "    .dataframe tbody tr th {\n",
       "        vertical-align: top;\n",
       "    }\n",
       "\n",
       "    .dataframe thead th {\n",
       "        text-align: right;\n",
       "    }\n",
       "</style>\n",
       "<table border=\"1\" class=\"dataframe\">\n",
       "  <thead>\n",
       "    <tr style=\"text-align: right;\">\n",
       "      <th></th>\n",
       "      <th>eid</th>\n",
       "      <th>achalasia</th>\n",
       "    </tr>\n",
       "  </thead>\n",
       "  <tbody>\n",
       "    <tr>\n",
       "      <th>0</th>\n",
       "      <td>1038831</td>\n",
       "      <td>1.0</td>\n",
       "    </tr>\n",
       "    <tr>\n",
       "      <th>1</th>\n",
       "      <td>1058137</td>\n",
       "      <td>1.0</td>\n",
       "    </tr>\n",
       "    <tr>\n",
       "      <th>2</th>\n",
       "      <td>1094461</td>\n",
       "      <td>1.0</td>\n",
       "    </tr>\n",
       "    <tr>\n",
       "      <th>3</th>\n",
       "      <td>1102623</td>\n",
       "      <td>1.0</td>\n",
       "    </tr>\n",
       "    <tr>\n",
       "      <th>4</th>\n",
       "      <td>1112794</td>\n",
       "      <td>1.0</td>\n",
       "    </tr>\n",
       "    <tr>\n",
       "      <th>...</th>\n",
       "      <td>...</td>\n",
       "      <td>...</td>\n",
       "    </tr>\n",
       "    <tr>\n",
       "      <th>502489</th>\n",
       "      <td>6024904</td>\n",
       "      <td>0.0</td>\n",
       "    </tr>\n",
       "    <tr>\n",
       "      <th>502490</th>\n",
       "      <td>6024916</td>\n",
       "      <td>0.0</td>\n",
       "    </tr>\n",
       "    <tr>\n",
       "      <th>502491</th>\n",
       "      <td>6024920</td>\n",
       "      <td>0.0</td>\n",
       "    </tr>\n",
       "    <tr>\n",
       "      <th>502492</th>\n",
       "      <td>6024937</td>\n",
       "      <td>0.0</td>\n",
       "    </tr>\n",
       "    <tr>\n",
       "      <th>502493</th>\n",
       "      <td>6024943</td>\n",
       "      <td>0.0</td>\n",
       "    </tr>\n",
       "  </tbody>\n",
       "</table>\n",
       "<p>502494 rows × 2 columns</p>\n",
       "</div>"
      ],
      "text/plain": [
       "            eid  achalasia\n",
       "0       1038831        1.0\n",
       "1       1058137        1.0\n",
       "2       1094461        1.0\n",
       "3       1102623        1.0\n",
       "4       1112794        1.0\n",
       "...         ...        ...\n",
       "502489  6024904        0.0\n",
       "502490  6024916        0.0\n",
       "502491  6024920        0.0\n",
       "502492  6024937        0.0\n",
       "502493  6024943        0.0\n",
       "\n",
       "[502494 rows x 2 columns]"
      ]
     },
     "execution_count": 5,
     "metadata": {},
     "output_type": "execute_result"
    }
   ],
   "source": [
    "achalasia = pd.read_csv(\"achalasia/achalasia_binary.csv\")\n",
    "achalasia"
   ]
  },
  {
   "cell_type": "code",
   "execution_count": 9,
   "metadata": {},
   "outputs": [
    {
     "data": {
      "text/html": [
       "<div>\n",
       "<style scoped>\n",
       "    .dataframe tbody tr th:only-of-type {\n",
       "        vertical-align: middle;\n",
       "    }\n",
       "\n",
       "    .dataframe tbody tr th {\n",
       "        vertical-align: top;\n",
       "    }\n",
       "\n",
       "    .dataframe thead th {\n",
       "        text-align: right;\n",
       "    }\n",
       "</style>\n",
       "<table border=\"1\" class=\"dataframe\">\n",
       "  <thead>\n",
       "    <tr style=\"text-align: right;\">\n",
       "      <th></th>\n",
       "      <th>0</th>\n",
       "      <th>1</th>\n",
       "      <th>achalasia</th>\n",
       "    </tr>\n",
       "  </thead>\n",
       "  <tbody>\n",
       "    <tr>\n",
       "      <th>0</th>\n",
       "      <td>1123282</td>\n",
       "      <td>1123282</td>\n",
       "      <td>0.0</td>\n",
       "    </tr>\n",
       "    <tr>\n",
       "      <th>1</th>\n",
       "      <td>4183264</td>\n",
       "      <td>4183264</td>\n",
       "      <td>0.0</td>\n",
       "    </tr>\n",
       "    <tr>\n",
       "      <th>2</th>\n",
       "      <td>4087767</td>\n",
       "      <td>4087767</td>\n",
       "      <td>0.0</td>\n",
       "    </tr>\n",
       "    <tr>\n",
       "      <th>3</th>\n",
       "      <td>5528041</td>\n",
       "      <td>5528041</td>\n",
       "      <td>0.0</td>\n",
       "    </tr>\n",
       "    <tr>\n",
       "      <th>4</th>\n",
       "      <td>5705948</td>\n",
       "      <td>5705948</td>\n",
       "      <td>0.0</td>\n",
       "    </tr>\n",
       "    <tr>\n",
       "      <th>...</th>\n",
       "      <td>...</td>\n",
       "      <td>...</td>\n",
       "      <td>...</td>\n",
       "    </tr>\n",
       "    <tr>\n",
       "      <th>488243</th>\n",
       "      <td>3790691</td>\n",
       "      <td>3790691</td>\n",
       "      <td>0.0</td>\n",
       "    </tr>\n",
       "    <tr>\n",
       "      <th>488244</th>\n",
       "      <td>4960183</td>\n",
       "      <td>4960183</td>\n",
       "      <td>0.0</td>\n",
       "    </tr>\n",
       "    <tr>\n",
       "      <th>488245</th>\n",
       "      <td>3174069</td>\n",
       "      <td>3174069</td>\n",
       "      <td>0.0</td>\n",
       "    </tr>\n",
       "    <tr>\n",
       "      <th>488246</th>\n",
       "      <td>2426240</td>\n",
       "      <td>2426240</td>\n",
       "      <td>0.0</td>\n",
       "    </tr>\n",
       "    <tr>\n",
       "      <th>488247</th>\n",
       "      <td>2897925</td>\n",
       "      <td>2897925</td>\n",
       "      <td>0.0</td>\n",
       "    </tr>\n",
       "  </tbody>\n",
       "</table>\n",
       "<p>488248 rows × 3 columns</p>\n",
       "</div>"
      ],
      "text/plain": [
       "              0        1  achalasia\n",
       "0       1123282  1123282        0.0\n",
       "1       4183264  4183264        0.0\n",
       "2       4087767  4087767        0.0\n",
       "3       5528041  5528041        0.0\n",
       "4       5705948  5705948        0.0\n",
       "...         ...      ...        ...\n",
       "488243  3790691  3790691        0.0\n",
       "488244  4960183  4960183        0.0\n",
       "488245  3174069  3174069        0.0\n",
       "488246  2426240  2426240        0.0\n",
       "488247  2897925  2897925        0.0\n",
       "\n",
       "[488248 rows x 3 columns]"
      ]
     },
     "execution_count": 9,
     "metadata": {},
     "output_type": "execute_result"
    }
   ],
   "source": [
    "#Here we merge using individual ID from the bed file and eid from our achalasia file.\n",
    "ach_pheno = pd.merge(chr1[[0,1]], achalasia, how=\"inner\", left_on=1, right_on=\"eid\")\n",
    "ach_pheno = ach_pheno.drop(columns=\"eid\") #Drop the eid columnn\n",
    "ach_pheno"
   ]
  },
  {
   "cell_type": "code",
   "execution_count": 13,
   "metadata": {},
   "outputs": [
    {
     "data": {
      "text/plain": [
       "1054"
      ]
     },
     "execution_count": 13,
     "metadata": {},
     "output_type": "execute_result"
    }
   ],
   "source": [
    "np.sum(ach_pheno[\"achalasia\"] > 0)"
   ]
  },
  {
   "cell_type": "code",
   "execution_count": 4,
   "metadata": {},
   "outputs": [
    {
     "data": {
      "text/plain": [
       "0.0021587390014910454"
      ]
     },
     "execution_count": 4,
     "metadata": {},
     "output_type": "execute_result"
    }
   ],
   "source": [
    "1054/488248"
   ]
  },
  {
   "cell_type": "markdown",
   "metadata": {},
   "source": [
    "This is a potential area of concern that will need to be brought up."
   ]
  },
  {
   "cell_type": "markdown",
   "metadata": {},
   "source": [
    "# Filter SNPs"
   ]
  },
  {
   "cell_type": "markdown",
   "metadata": {},
   "source": [
    "Before running the association tests. Common filtering steps are taken to decrease the number of false positives. These include: \n",
    "* Ensuring SNPS follow Hardy-Weinberg Equilibrium (HWE). Deviations are assessed by a statistical test through PLINK with a common p-val threshold of 1E-6\n",
    "* Excluding SNPs with minor allele frequencies that are less than 0.05 or 0.01.\n",
    "* Exclude individuals wtih large number of missing genotypes and SNPs with high rate of missing genotypes across individuals. PLINK default is excluding individuals with more than 0.1 missing genotype.\n"
   ]
  },
  {
   "cell_type": "markdown",
   "metadata": {},
   "source": [
    "Options explanation:\n",
    "* `--maf` set threshold for minor allele frequencies\n",
    "* ``"
   ]
  },
  {
   "cell_type": "code",
   "execution_count": 7,
   "metadata": {},
   "outputs": [
    {
     "name": "stdout",
     "output_type": "stream",
     "text": [
      "PLINK v1.90b6.21 64-bit (19 Oct 2020)          www.cog-genomics.org/plink/1.9/\n",
      "(C) 2005-2020 Shaun Purcell, Christopher Chang   GNU General Public License v3\n",
      "Logging to data/ukb_chr1_filtered.log.\n",
      "Options in effect:\n",
      "  --bfile data/ukb22418_c1_b0_v2\n",
      "  --hwe 1e-6\n",
      "  --maf 0.01\n",
      "  --make-bed\n",
      "  --mind 0.1\n",
      "  --out data/ukb_chr1_filtered\n",
      "\n",
      "385610 MB RAM detected; reserving 192805 MB for main workspace.\n",
      "Allocated 108452 MB successfully, after larger attempt(s) failed.\n",
      "63487 variants loaded from .bim file.\n",
      "488377 people (223459 males, 264789 females, 129 ambiguous) loaded from .fam.\n",
      "Ambiguous sex IDs written to data/ukb_chr1_filtered.nosex .\n",
      "2 people removed due to missing genotype data (--mind).\n",
      "IDs written to data/ukb_chr1_filtered.irem .\n",
      "Using 1 thread (no multithreaded calculations invoked).\n",
      "Before main variant filters, 488375 founders and 0 nonfounders present.\n",
      "Calculating allele frequencies... 10111213141516171819202122232425262728293031323334353637383940414243444546474849505152535455565758596061626364656667686970717273747576777879808182838485868788899091929394959697989 done.\n",
      "Total genotyping rate in remaining samples is 0.974083.\n",
      "--hwe: 15884 variants removed due to Hardy-Weinberg exact test.\n",
      "10437 variants removed due to minor allele threshold(s)\n",
      "(--maf/--max-maf/--mac/--max-mac).\n",
      "37166 variants and 488375 people pass filters and QC.\n",
      "Note: No phenotypes present.\n",
      "--make-bed to data/ukb_chr1_filtered.bed + data/ukb_chr1_filtered.bim +\n",
      "data/ukb_chr1_filtered.fam ... 101112131415161718192021222324252627282930313233343536373839404142434445464748495051525354555657585960616263646566676869707172737475767778798081828384858687888990919293949596979899done.\n"
     ]
    },
    {
     "name": "stderr",
     "output_type": "stream",
     "text": [
      "Warning: --hwe observation counts vary by more than 10%.  Consider using\n",
      "--geno, and/or applying different p-value thresholds to distinct subsets of\n",
      "your data.\n"
     ]
    }
   ],
   "source": [
    "%%bash\n",
    "plink --bfile data/ukb22418_c1_b0_v2 --maf 0.01 --hwe 1e-6 --mind 0.1 --make-bed --out data/ukb_chr1_filtered"
   ]
  },
  {
   "cell_type": "code",
   "execution_count": null,
   "metadata": {},
   "outputs": [],
   "source": []
  }
 ],
 "metadata": {
  "kernelspec": {
   "display_name": "Python [conda env:gwas]",
   "language": "python",
   "name": "conda-env-gwas-py"
  },
  "language_info": {
   "codemirror_mode": {
    "name": "ipython",
    "version": 3
   },
   "file_extension": ".py",
   "mimetype": "text/x-python",
   "name": "python",
   "nbconvert_exporter": "python",
   "pygments_lexer": "ipython3",
   "version": "3.7.10"
  }
 },
 "nbformat": 4,
 "nbformat_minor": 4
}
